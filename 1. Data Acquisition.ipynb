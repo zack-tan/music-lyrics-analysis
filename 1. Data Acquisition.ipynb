{
 "cells": [
  {
   "cell_type": "markdown",
   "metadata": {},
   "source": [
    "# Part 1: Scraping Spotify with SpotiPy"
   ]
  },
  {
   "cell_type": "code",
   "execution_count": 3,
   "metadata": {},
   "outputs": [],
   "source": [
    "#!pip install spotipy\n",
    "# https://spotipy.readthedocs.io/en/2.19.0/\n",
    "# https://medium.com/@maxtingle/getting-started-with-spotifys-api-spotipy-197c3dc6353b"
   ]
  },
  {
   "cell_type": "code",
   "execution_count": 5,
   "metadata": {},
   "outputs": [],
   "source": [
    "import spotipy\n",
    "import pandas as pd\n",
    "from spotipy.oauth2 import SpotifyClientCredentials\n",
    "import pickle\n",
    "cid = 'a9e38e018cac4ed48862f3a17f6e4916'\n",
    "secret = '3ea96c2bba71437c98b65bcdc281840f'\n",
    "client_credentials_manager = SpotifyClientCredentials(client_id=cid, client_secret=secret)\n",
    "sp = spotipy.Spotify(client_credentials_manager = client_credentials_manager)"
   ]
  },
  {
   "cell_type": "markdown",
   "metadata": {},
   "source": [
    "## Fetching Song Information"
   ]
  },
  {
   "cell_type": "code",
   "execution_count": 6,
   "metadata": {},
   "outputs": [],
   "source": [
    "#taken from https://github.com/MaxHilsdorf/introduction_to_spotipy/blob/master/introduction_to_spotipy.ipynb\n",
    "def get_playlist_tracks(username,playlist_id):\n",
    "    results = sp.user_playlist_tracks(username,playlist_id)\n",
    "    tracks = results['items']\n",
    "    while results['next']:\n",
    "        results = sp.next(results)\n",
    "        tracks.extend(results['items'])\n",
    "    return tracks\n",
    "\n",
    "def get_playlist_tracks(playlist_id):\n",
    "    results = sp.playlist_tracks(playlist_id)\n",
    "    tracks = results['items']\n",
    "    while results['next']:\n",
    "        results = sp.next(results)\n",
    "        tracks.extend(results['items'])\n",
    "    return tracks"
   ]
  },
  {
   "cell_type": "code",
   "execution_count": 7,
   "metadata": {},
   "outputs": [],
   "source": [
    "#list of playlists to scrape\n",
    "\n",
    "playlist_ids = [ '5fWeZI5FLdUkowl4qaglPi', \n",
    "                '7s17jTD83GgeKajAMogIen',  '37i9dQZF1DX186v583rmzp', '5DZ93TH6ABgWYRgdBNJs8O',\n",
    "                '1v7PU8UDskwhdvjtW8m9vG' , '4wCUeeLxAgOcmZyH5m7A7J' , '2BpEFSiLIb7rsVPax4sRpj',\n",
    "               '2tXWfhxQF9gOLimKxW9fvm',\n",
    "                '2PBE8HLIDI4XlowI3wyqvb' # Nas's discography\n",
    "               ]"
   ]
  },
  {
   "cell_type": "code",
   "execution_count": 8,
   "metadata": {},
   "outputs": [
    {
     "name": "stdout",
     "output_type": "stream",
     "text": [
      "Hip Hop 90s 64 songs\n",
      "Hip Hop 2000 127 songs\n",
      "I Love My '90s Hip-Hop 100 songs\n",
      "HIP HOP 2022 🔥 New Rap & Trap Hits 170 songs\n",
      "biggest rap playlist ever 2571 songs\n",
      "Hip Hop 595 songs\n",
      "The Biggest Rap Playlist Ever Created 4219 songs\n",
      "🚨 Biggest Old School Hip Hop - Boom Bap 90s 3339 songs\n",
      "Nas Complete Playlist 295 songs\n"
     ]
    }
   ],
   "source": [
    "track_lists = []\n",
    "for i in playlist_ids:\n",
    "    track_list = get_playlist_tracks(i)\n",
    "    print(sp.playlist(i)['name'], str(len(track_list)) + ' songs')\n",
    "    #print(len(track_list))\n",
    "    track_lists.extend(track_list)"
   ]
  },
  {
   "cell_type": "code",
   "execution_count": 9,
   "metadata": {},
   "outputs": [],
   "source": [
    "tracks_ids = []\n",
    "for i in track_lists:\n",
    "    try:\n",
    "        tracks_ids.append(i['track']['id'])\n",
    "    except:\n",
    "        continue   \n",
    "\n",
    "tracks_ids = list(set(tracks_ids))"
   ]
  },
  {
   "cell_type": "code",
   "execution_count": 10,
   "metadata": {},
   "outputs": [
    {
     "data": {
      "text/plain": [
       "10581"
      ]
     },
     "execution_count": 10,
     "metadata": {},
     "output_type": "execute_result"
    }
   ],
   "source": [
    "len(tracks_ids)"
   ]
  },
  {
   "cell_type": "code",
   "execution_count": 11,
   "metadata": {},
   "outputs": [],
   "source": [
    "def get_complete_track_info(track_id):\n",
    "    \n",
    "    # basic info\n",
    "    r = sp.track(track_id)\n",
    "    album_id = r['album']['id']\n",
    "    artist_id = [i['id'] for i in r['artists']]\n",
    "    duration_ms = r['duration_ms']\n",
    "    explicit = r['explicit']\n",
    "    url = r['href'] \n",
    "    song_id = r['id']\n",
    "    song_name = r['name']\n",
    "    song_popularity = r['popularity']\n",
    "    song_type = r['type']\n",
    "    song_release_date = r['album']['release_date']\n",
    "    \n",
    "    \n",
    "    # track audio analysis attributes\n",
    "    af = sp.audio_features([track_id])[0]\n",
    "    track_danceability = af['danceability']\n",
    "    track_energy = af['energy']\n",
    "    track_key = af['key']\n",
    "    track_loudness = af['loudness']\n",
    "    track_mode = af['mode']\n",
    "    track_speechiness = af['speechiness']\n",
    "    track_acousticeess = af['acousticness']\n",
    "    track_instrumentalness = af['instrumentalness']\n",
    "    track_liveness = af['liveness']\n",
    "    track_valence = af['valence']\n",
    "    track_tempo = af['tempo']\n",
    "    \n",
    "    output = {\n",
    "        'track_id' : track_id,\n",
    "        'album_id' : album_id,\n",
    "        'artist_id' : artist_id,\n",
    "        'duration_ms' : duration_ms,\n",
    "        'flg_explicit' : explicit,\n",
    "        'url' : url,\n",
    "        'track_name' : song_name,\n",
    "        'track_popularity' : song_popularity,\n",
    "        'track_type' : song_type,\n",
    "        'track_danceability' : track_danceability,\n",
    "        'track_energy' : track_energy,\n",
    "        'track_key' : track_key,\n",
    "        'track_loudness' : track_loudness,\n",
    "        'track_mode' : track_mode,\n",
    "        'track_speechiness' : track_speechiness,\n",
    "        'track_acousticeess' : track_acousticeess,\n",
    "        'track_instrumentalness' : track_instrumentalness,\n",
    "        'track_liveness' : track_liveness,\n",
    "        'track_valence' : track_valence,\n",
    "        'track_tempo' : track_tempo   , \n",
    "        'track_release_date' : song_release_date\n",
    "    }\n",
    "    \n",
    "    return output\n"
   ]
  },
  {
   "cell_type": "code",
   "execution_count": 14,
   "metadata": {},
   "outputs": [
    {
     "name": "stdout",
     "output_type": "stream",
     "text": [
      "2645 5290 7935\n"
     ]
    }
   ],
   "source": [
    "partition_size = int(len(tracks_ids)/4)\n",
    "p1 = 0 + partition_size*1\n",
    "p2 = 0 + partition_size*2\n",
    "p3 = 0 + partition_size*3\n",
    "#p4 = print(0 + partition_size*4)\n",
    "print(p1,p2,p3)"
   ]
  },
  {
   "cell_type": "code",
   "execution_count": 15,
   "metadata": {},
   "outputs": [
    {
     "name": "stdout",
     "output_type": "stream",
     "text": [
      "500\n",
      "1000\n",
      "1500\n"
     ]
    }
   ],
   "source": [
    "track_info = []\n",
    "f = 0 \n",
    "for i in tracks_ids[:p1]:\n",
    "    try:\n",
    "        track_info.append(get_complete_track_info(i))\n",
    "    except:\n",
    "        continue   \n",
    "        \n",
    "    f += 1\n",
    "    if f in [500,1000,1500]:\n",
    "        print(f)\n",
    "\n",
    "    "
   ]
  },
  {
   "cell_type": "code",
   "execution_count": 16,
   "metadata": {},
   "outputs": [],
   "source": [
    "df_tracks1 = pd.DataFrame(track_info)\n",
    "df_tracks1.to_csv('df_tracks1.csv')"
   ]
  },
  {
   "cell_type": "code",
   "execution_count": 17,
   "metadata": {},
   "outputs": [
    {
     "name": "stdout",
     "output_type": "stream",
     "text": [
      "500\n",
      "1000\n",
      "1500\n",
      "2000\n"
     ]
    }
   ],
   "source": [
    "track_info = []\n",
    "f=0\n",
    "\n",
    "for i in tracks_ids[p1:p2]:\n",
    "    try:\n",
    "        track_info.append(get_complete_track_info(i))\n",
    "    except:\n",
    "        continue  \n",
    "    \n",
    "    f += 1\n",
    "    if f in [500,1000,1500,2000]:\n",
    "        print(f)\n",
    "\n",
    "\n",
    "    "
   ]
  },
  {
   "cell_type": "code",
   "execution_count": 18,
   "metadata": {},
   "outputs": [],
   "source": [
    "df_tracks2 = pd.DataFrame(track_info)\n",
    "df_tracks2.to_csv('df_tracks2.csv')"
   ]
  },
  {
   "cell_type": "code",
   "execution_count": 19,
   "metadata": {},
   "outputs": [
    {
     "name": "stdout",
     "output_type": "stream",
     "text": [
      "500\n",
      "1000\n",
      "1500\n",
      "2000\n"
     ]
    }
   ],
   "source": [
    "track_info = []\n",
    "f = 0\n",
    "\n",
    "for i in tracks_ids[p2:p3]:\n",
    "    try:\n",
    "        track_info.append(get_complete_track_info(i))\n",
    "    except:\n",
    "        continue   \n",
    "    f += 1\n",
    "    if f in [500,1000,1500,2000]:\n",
    "        print(f)\n",
    "\n",
    "    "
   ]
  },
  {
   "cell_type": "code",
   "execution_count": 20,
   "metadata": {},
   "outputs": [],
   "source": [
    "df_tracks3 = pd.DataFrame(track_info)\n",
    "df_tracks3.to_csv('df_tracks3.csv')"
   ]
  },
  {
   "cell_type": "code",
   "execution_count": 21,
   "metadata": {},
   "outputs": [
    {
     "name": "stdout",
     "output_type": "stream",
     "text": [
      "500\n",
      "1000\n",
      "1500\n",
      "2000\n"
     ]
    }
   ],
   "source": [
    "track_info = []\n",
    "f = 0\n",
    "for i in tracks_ids[p3:]:\n",
    "    try:\n",
    "        track_info.append(get_complete_track_info(i))\n",
    "    except:\n",
    "        continue   \n",
    "    f += 1\n",
    "    if f in [500,1000,1500,2000]:\n",
    "        print(f)"
   ]
  },
  {
   "cell_type": "code",
   "execution_count": 22,
   "metadata": {},
   "outputs": [],
   "source": [
    "df_tracks4 = pd.DataFrame(track_info)\n",
    "df_tracks4.to_csv('df_tracks4.csv')"
   ]
  },
  {
   "cell_type": "code",
   "execution_count": 23,
   "metadata": {},
   "outputs": [],
   "source": [
    "df_alltracks = pd.concat([df_tracks1,df_tracks2,df_tracks3,df_tracks4] )  "
   ]
  },
  {
   "cell_type": "code",
   "execution_count": 25,
   "metadata": {},
   "outputs": [],
   "source": [
    "# Save intermediate table as backup\n",
    "\n",
    "import pickle\n",
    "with open('df_alltracks.pickle', 'wb') as handle:\n",
    "    pickle.dump(df_alltracks, handle, protocol=pickle.HIGHEST_PROTOCOL)"
   ]
  },
  {
   "cell_type": "markdown",
   "metadata": {},
   "source": [
    "## Fetching Artists Information"
   ]
  },
  {
   "cell_type": "code",
   "execution_count": 10,
   "metadata": {},
   "outputs": [],
   "source": [
    "df_alltracks.artist_id = df_alltracks.artist_id.apply(lambda x: x[0])\n",
    "df_tracks = df_alltracks.copy()\n",
    "artist_ids  = df_tracks.artist_id.drop_duplicates()\n",
    "artist_ids = list(set(artist_ids))"
   ]
  },
  {
   "cell_type": "code",
   "execution_count": 28,
   "metadata": {},
   "outputs": [],
   "source": [
    "def get_complete_artist_info(artist_id):\n",
    "    \n",
    "    # basic info\n",
    "    a = sp.artist(artist_id)\n",
    "    artist_followers =  a['followers']['total']\n",
    "    artist_genres = a['genres']\n",
    "    artist_name = a['name']\n",
    "    artist_popularity = a['popularity']\n",
    "    artist_url = a['href']\n",
    "    \n",
    "    \n",
    "    output = {\n",
    "        'artist_id' : artist_id,\n",
    "        'artist_followers' : artist_followers,\n",
    "        'artist_genres' : artist_genres,\n",
    "        'artist_name' : artist_name,\n",
    "        'artist_popularity' : artist_popularity,\n",
    "        'artist_url' : artist_url\n",
    "    }\n",
    "    \n",
    "    return output"
   ]
  },
  {
   "cell_type": "code",
   "execution_count": 29,
   "metadata": {},
   "outputs": [],
   "source": [
    "artist_info = []\n",
    "for i in artist_ids:\n",
    "    artist_info.append(get_complete_artist_info(i))"
   ]
  },
  {
   "cell_type": "code",
   "execution_count": 30,
   "metadata": {},
   "outputs": [],
   "source": [
    "df_artist = pd.DataFrame(artist_info)"
   ]
  },
  {
   "cell_type": "code",
   "execution_count": 31,
   "metadata": {},
   "outputs": [],
   "source": [
    "df_artist = df_artist[['artist_id', 'artist_name',   'artist_genres' , 'artist_followers', 'artist_popularity']]"
   ]
  },
  {
   "cell_type": "code",
   "execution_count": 32,
   "metadata": {},
   "outputs": [],
   "source": [
    "df_artist.to_csv('artists.csv',index=False)"
   ]
  },
  {
   "cell_type": "markdown",
   "metadata": {},
   "source": [
    "# Part 2: Adding song lyrics to the scraped songs with Genius API"
   ]
  },
  {
   "cell_type": "code",
   "execution_count": 34,
   "metadata": {},
   "outputs": [],
   "source": [
    "#!pip install lyricsgenius\n",
    "# https://pypi.org/project/lyricsgenius/\n",
    "import lyricsgenius "
   ]
  },
  {
   "cell_type": "code",
   "execution_count": 35,
   "metadata": {},
   "outputs": [],
   "source": [
    "token = 'VNjZ4TlG0wseZD6EEJtldfsRggS9haHsS0HvRgQOrhInbtzeZj3PaWldXdC162RB'\n",
    "genius = lyricsgenius.Genius(token)"
   ]
  },
  {
   "cell_type": "code",
   "execution_count": 36,
   "metadata": {},
   "outputs": [],
   "source": [
    "genius.verbose = False # Turn off status messages\n",
    "genius.remove_section_headers = True "
   ]
  },
  {
   "cell_type": "code",
   "execution_count": 37,
   "metadata": {},
   "outputs": [],
   "source": [
    "with open('df_alltracks.pickle', 'rb') as handle:\n",
    "    df_alltracks = pickle.load(handle)\n",
    "\n",
    "artists = pd.read_csv('artists.csv')"
   ]
  },
  {
   "cell_type": "code",
   "execution_count": 39,
   "metadata": {},
   "outputs": [],
   "source": [
    "df_alltracks['track_release_year'] = pd.to_datetime(df_alltracks.track_release_date).dt.year\n",
    "#value_counts().plot(kind='barh')"
   ]
  },
  {
   "cell_type": "code",
   "execution_count": 40,
   "metadata": {},
   "outputs": [],
   "source": [
    "df_alltracks['track_release_decade'] = (df_alltracks.track_release_year.astype(str).str.slice(2,3)+'0')"
   ]
  },
  {
   "cell_type": "code",
   "execution_count": 41,
   "metadata": {},
   "outputs": [
    {
     "name": "stdout",
     "output_type": "stream",
     "text": [
      "(10580, 23)\n"
     ]
    }
   ],
   "source": [
    "df_alltracks.artist_id = df_alltracks.artist_id.apply(lambda x: x[0])\n",
    "print(df_alltracks.shape)\n",
    "df_alltracks = df_alltracks.merge(artists ,  how='left', left_on = 'artist_id', right_on = 'artist_id')\n"
   ]
  },
  {
   "cell_type": "markdown",
   "metadata": {},
   "source": [
    "**Extract in batches of 4K due to long duration of the task**"
   ]
  },
  {
   "cell_type": "code",
   "execution_count": 54,
   "metadata": {},
   "outputs": [
    {
     "name": "stdout",
     "output_type": "stream",
     "text": [
      "333\n",
      "666\n",
      "999\n",
      "1332\n",
      "1665\n",
      "1998\n",
      "2331\n",
      "2664\n",
      "2997\n",
      "3330\n",
      "3663\n",
      "3996\n"
     ]
    }
   ],
   "source": [
    "lyrics_ls = []\n",
    "\n",
    "f = 0\n",
    "for song, artist_ in zip(df_alltracks.track_name[:] ,  df_alltracks.artist_name[:]):\n",
    "    try:\n",
    "        lyrics_ls.append(genius.search_song(title = song, artist = artist_ ).lyrics )\n",
    "    except:\n",
    "        lyrics_ls.append('')\n",
    "        \n",
    "    f += 1    \n",
    "    if f in [333*i for i in range(1,15)]:\n",
    "        print(f)\n",
    "    if f == 4000:\n",
    "        break\n",
    "        \n",
    "df_4k = df_alltracks[:4000].copy()\n",
    "df_4k['lyrics'] = lyrics_ls\n",
    "df_4k.to_csv('tracks4k.csv', index=None)"
   ]
  },
  {
   "cell_type": "code",
   "execution_count": 63,
   "metadata": {},
   "outputs": [
    {
     "name": "stdout",
     "output_type": "stream",
     "text": [
      "333\n",
      "666\n",
      "999\n",
      "1332\n",
      "1665\n",
      "1998\n",
      "2331\n",
      "2664\n",
      "2997\n",
      "3330\n",
      "3663\n",
      "3996\n"
     ]
    }
   ],
   "source": [
    "lyrics_ls_2 = []\n",
    "\n",
    "f = 0\n",
    "for song, artist_ in zip(df_alltracks.track_name[4000:8000] ,  df_alltracks.artist_name[4000:8000]):\n",
    "    try:\n",
    "        lyrics_ls.append(genius.search_song(title = song, artist = artist_ ).lyrics )\n",
    "    except:\n",
    "        lyrics_ls.append('')\n",
    "        \n",
    "    f += 1    \n",
    "    if f in [333*i for i in range(1,15)]:\n",
    "        print(f)\n",
    "        \n",
    "df_4k = df_alltracks[4000:8000].copy()\n",
    "df_4k['lyrics'] = lyrics_ls[4000:8000]\n",
    "\n",
    "df_4k.to_csv('tracks4_8k.csv', index=None)"
   ]
  },
  {
   "cell_type": "code",
   "execution_count": 64,
   "metadata": {},
   "outputs": [],
   "source": [
    "df1 = pd.read_csv('tracks4k.csv')\n",
    "df2 = pd.read_csv('tracks4_8k.csv')\n",
    "df_all = pd.concat([df1,df2])#,df3,df4, df5 \n",
    "df_all = df_all[ ~ df_all.lyrics.isna() ]"
   ]
  },
  {
   "cell_type": "code",
   "execution_count": 72,
   "metadata": {},
   "outputs": [],
   "source": []
  },
  {
   "cell_type": "code",
   "execution_count": 74,
   "metadata": {},
   "outputs": [
    {
     "data": {
      "text/plain": [
       "(7213, 28)"
      ]
     },
     "execution_count": 74,
     "metadata": {},
     "output_type": "execute_result"
    }
   ],
   "source": [
    "df_all.shape"
   ]
  },
  {
   "cell_type": "code",
   "execution_count": 75,
   "metadata": {},
   "outputs": [
    {
     "data": {
      "text/plain": [
       "(7213, 28)"
      ]
     },
     "execution_count": 75,
     "metadata": {},
     "output_type": "execute_result"
    }
   ],
   "source": [
    "df_all.to_csv('7k_songs_and_lyrics.csv', index=None)\n",
    "df_all.shape"
   ]
  },
  {
   "cell_type": "markdown",
   "metadata": {},
   "source": [
    "# Part 3: Lyrics Cleaning and Preprocessing"
   ]
  },
  {
   "cell_type": "code",
   "execution_count": 44,
   "metadata": {},
   "outputs": [],
   "source": [
    "import nltk\n",
    "import pandas as pd\n",
    "from nltk.tokenize import RegexpTokenizer\n",
    "from nltk.stem import WordNetLemmatizer,SnowballStemmer\n",
    "from nltk.corpus import stopwords\n",
    "import re\n",
    "import numpy as np\n",
    "\n",
    "stopwords = stopwords.words('english') \n",
    "\n",
    "#nltk.download('words')\n",
    "#nltk.download('wordnet')\n",
    "from nltk.corpus import words\n",
    "from nltk.corpus import wordnet \n"
   ]
  },
  {
   "cell_type": "code",
   "execution_count": 50,
   "metadata": {},
   "outputs": [],
   "source": [
    "def preprocess(sentence):\n",
    "    \n",
    "    '''Multi-step text preprocessing includes: lower-casing, remove symbols, links, numbers,\n",
    "    tokenizing, stopwords removal '''\n",
    "    \n",
    "    sentence=str(sentence)\n",
    "    sentence = sentence.lower()\n",
    "\n",
    "    # Clean text\n",
    "    cleanr = re.compile('<.*?>')\n",
    "    cleantext = re.sub(cleanr, '', sentence)\n",
    "    \n",
    "    # Remove numbers\n",
    "    rem_num = re.sub('[0-9]+', '', cleantext)\n",
    "    \n",
    "    # Tokenize\n",
    "    tokenizer = RegexpTokenizer(r'\\w+')\n",
    "    tokens = tokenizer.tokenize(rem_num)  \n",
    "    filtered_words = [w for w in tokens if len(w) > 2 if not w in stopwords] #stopwords\n",
    "    return \" \".join(filtered_words)\n",
    "\n",
    "\n",
    "words = set(nltk.corpus.words.words())\n",
    "wordnet = set(nltk.corpus.wordnet.words())\n",
    "manywords = set.union(wordnet , words)\n",
    "\n",
    "def remove_foreign(t):\n",
    "    '''Remove non-English words'''\n",
    "    \n",
    "    return \" \".join(w for w in nltk.wordpunct_tokenize(t) if w.lower() in manywords or not w.isalpha())"
   ]
  },
  {
   "cell_type": "code",
   "execution_count": 31,
   "metadata": {},
   "outputs": [],
   "source": [
    "df = pd.read_csv('7k_songs_and_lyrics.csv')"
   ]
  },
  {
   "cell_type": "code",
   "execution_count": 32,
   "metadata": {},
   "outputs": [],
   "source": [
    "df['lyrics_clean'] = df.lyrics.map(lambda s:preprocess(s)) \n",
    "df['lyrics_clean'] = df.lyrics_clean.apply(remove_foreign)\n",
    "df['lyrics_clean_split'] = df[\"lyrics_clean\"].str.split()"
   ]
  },
  {
   "cell_type": "code",
   "execution_count": 51,
   "metadata": {},
   "outputs": [],
   "source": [
    "stemmer = SnowballStemmer('english')\n",
    "df['lyrics_clean_stemmed'] = df.lyrics_clean_split.apply(lambda x: [stemmer.stem(i) for i in x])"
   ]
  },
  {
   "cell_type": "code",
   "execution_count": 48,
   "metadata": {},
   "outputs": [
    {
     "data": {
      "text/plain": [
       "0    [detroit, flow, fuck, hold, really, like, soun...\n",
       "1    [pet, sound, yes, turbid, like, reclaim, freel...\n",
       "2    [substance, woke, yeah, yeah, yeah, yeah, beat...\n",
       "3    [look, many, shit, many, young, metro, trust, ...\n",
       "4    [hardcore, rap, act, hook, hardcore, rap, act,...\n",
       "5    [shine, doubt, doubt, doubt, sewer, area, feel...\n",
       "6    [old, school, underground, rap, early, scene, ...\n",
       "7    [barely, hit, ways, stop, get, deserve, call, ...\n",
       "8    [yachty, yachty, joe, feat, ray, yachty, bank,...\n",
       "9    [swim, yeah, yeah, yeah, ooh, hah, woke, yes, ...\n",
       "Name: lyrics_clean_split, dtype: object"
      ]
     },
     "execution_count": 48,
     "metadata": {},
     "output_type": "execute_result"
    }
   ],
   "source": [
    "df['lyrics_wordlen'] = df.lyrics_clean_split.apply(lambda x: len(x))"
   ]
  },
  {
   "cell_type": "code",
   "execution_count": 52,
   "metadata": {},
   "outputs": [],
   "source": [
    "# remove songs that have very low or very high lyrics_length\n",
    "q3 =np.percentile(df.lyrics_wordlen, q = 3)\n",
    "q97 = np.percentile(df.lyrics_wordlen, q = 97)\n",
    "df = df[df.lyrics_wordlen.between(q3,q97)].iloc[:]\n",
    "df = df.reset_index(drop=True)"
   ]
  },
  {
   "cell_type": "code",
   "execution_count": 53,
   "metadata": {},
   "outputs": [],
   "source": [
    "# remove songs that could be versions of existing ones, because their lyrics tend to be incorrect\n",
    "df = df[ ~ df.track_name.astype(str).str.contains('Remaster')]\n",
    "df = df[ ~ df.track_name.astype(str).str.contains('Version')].reset_index(drop=True)\n",
    "df = df[ ~ df.track_name.astype(str).str.contains('Live')].reset_index(drop=True)"
   ]
  },
  {
   "cell_type": "code",
   "execution_count": 54,
   "metadata": {},
   "outputs": [],
   "source": [
    "df.artist_genres = df.artist_genres.str.replace('[', '', regex=False)\n",
    "df.artist_genres = df.artist_genres.str.replace(']', '', regex=False)\n",
    "df.artist_genres = df.artist_genres.str.replace('\\'', '', regex=False)\n",
    "df.artist_genres = df.artist_genres.str.replace('[', '', regex=False)\n",
    "df.artist_genres = df.artist_genres.str.split(',').apply(lambda x: [e.strip() for e in x]).tolist()"
   ]
  },
  {
   "cell_type": "code",
   "execution_count": 55,
   "metadata": {},
   "outputs": [],
   "source": [
    "df.track_release_date = pd.to_datetime(df.track_release_date)\n",
    "df['track_release_year'] = df.track_release_date.dt.year\n",
    "df['track_release_decade'] = df.track_release_year.astype(str).str.slice(2,3)+'0'\n"
   ]
  },
  {
   "cell_type": "code",
   "execution_count": 56,
   "metadata": {},
   "outputs": [
    {
     "data": {
      "text/plain": [
       "<AxesSubplot:title={'center':'Decade Distribution'}>"
      ]
     },
     "execution_count": 56,
     "metadata": {},
     "output_type": "execute_result"
    },
    {
     "data": {
      "image/png": "[encoded data removed]",
      "text/plain": [
       "<Figure size 432x288 with 1 Axes>"
      ]
     },
     "metadata": {
      "needs_background": "light"
     },
     "output_type": "display_data"
    }
   ],
   "source": [
    "df['track_release_decade'].value_counts().head(10).plot(kind='barh', title='Decade Distribution')"
   ]
  },
  {
   "cell_type": "code",
   "execution_count": 57,
   "metadata": {},
   "outputs": [
    {
     "data": {
      "text/plain": [
       "<AxesSubplot:title={'center':'Popular Artists'}>"
      ]
     },
     "execution_count": 57,
     "metadata": {},
     "output_type": "execute_result"
    },
    {
     "data": {
      "image/png": "[encoded data removed]",
      "text/plain": [
       "<Figure size 432x288 with 1 Axes>"
      ]
     },
     "metadata": {
      "needs_background": "light"
     },
     "output_type": "display_data"
    }
   ],
   "source": [
    "df.artist_name.value_counts().head(10).plot(kind='barh', title = 'Popular Artists')"
   ]
  },
  {
   "cell_type": "code",
   "execution_count": 58,
   "metadata": {},
   "outputs": [],
   "source": [
    "import pickle\n",
    "\n",
    "\n",
    "with open('df_rap_7k.pickle', 'wb') as handle:\n",
    "    pickle.dump(df, handle, protocol=pickle.HIGHEST_PROTOCOL)"
   ]
  },
  {
   "cell_type": "code",
   "execution_count": null,
   "metadata": {},
   "outputs": [],
   "source": []
  }
 ],
 "metadata": {
  "kernelspec": {
   "display_name": "Python 3",
   "language": "python",
   "name": "python3"
  },
  "language_info": {
   "codemirror_mode": {
    "name": "ipython",
    "version": 3
   },
   "file_extension": ".py",
   "mimetype": "text/x-python",
   "name": "python",
   "nbconvert_exporter": "python",
   "pygments_lexer": "ipython3",
   "version": "3.7.4"
  }
 },
 "nbformat": 4,
 "nbformat_minor": 5
}
