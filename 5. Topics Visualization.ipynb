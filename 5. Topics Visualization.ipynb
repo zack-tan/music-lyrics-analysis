{
 "cells": [
  {
   "cell_type": "code",
   "execution_count": 1,
   "id": "362a1c4d",
   "metadata": {},
   "outputs": [],
   "source": [
    "import pandas as pd"
   ]
  },
  {
   "cell_type": "code",
   "execution_count": 2,
   "id": "bb39052f",
   "metadata": {},
   "outputs": [],
   "source": [
    "df =  pd.read_pickle('df_lyrics_topics.pickle')"
   ]
  },
  {
   "cell_type": "markdown",
   "id": "139053b5",
   "metadata": {},
   "source": [
    "## Genre-based topics"
   ]
  },
  {
   "cell_type": "code",
   "execution_count": 3,
   "id": "d1d84401",
   "metadata": {},
   "outputs": [],
   "source": [
    "df1 = df.iloc[:,-8:].copy()"
   ]
  },
  {
   "cell_type": "code",
   "execution_count": 4,
   "id": "6ccac660",
   "metadata": {},
   "outputs": [],
   "source": [
    "df['Artist_Nas'] = ['Nas' if i == 'Nas' else 'All Artists' for i in df.artist_name]"
   ]
  },
  {
   "cell_type": "code",
   "execution_count": 5,
   "id": "52ea4ca8",
   "metadata": {},
   "outputs": [],
   "source": [
    "df_ranked = df1.rank(axis=1, method='min', ascending=False)\n",
    "df_ranked = (df_ranked <= 2).astype(int)\n",
    "df_topics = df[['track_release_year','Artist_Nas']].join(df_ranked)"
   ]
  },
  {
   "cell_type": "code",
   "execution_count": 6,
   "id": "164a8887",
   "metadata": {},
   "outputs": [],
   "source": [
    "df_topics = df_topics.groupby(['track_release_year','Artist_Nas']).sum()"
   ]
  },
  {
   "cell_type": "code",
   "execution_count": 7,
   "id": "31a4fd53",
   "metadata": {},
   "outputs": [
    {
     "data": {
      "text/html": [
       "<div>\n",
       "<style scoped>\n",
       "    .dataframe tbody tr th:only-of-type {\n",
       "        vertical-align: middle;\n",
       "    }\n",
       "\n",
       "    .dataframe tbody tr th {\n",
       "        vertical-align: top;\n",
       "    }\n",
       "\n",
       "    .dataframe thead th {\n",
       "        text-align: right;\n",
       "    }\n",
       "</style>\n",
       "<table border=\"1\" class=\"dataframe\">\n",
       "  <thead>\n",
       "    <tr style=\"text-align: right;\">\n",
       "      <th></th>\n",
       "      <th>track_release_year</th>\n",
       "      <th>Artist_Nas</th>\n",
       "      <th>Musicality/Flow/Lyricism</th>\n",
       "      <th>Flex/Money</th>\n",
       "      <th>Romance/Feelings</th>\n",
       "      <th>Struggle/Grind/Hustle</th>\n",
       "      <th>Trap/Drug</th>\n",
       "      <th>Violence/Gangster</th>\n",
       "      <th>Party/Sexuality</th>\n",
       "      <th>Feats/Artists/Shoutouts</th>\n",
       "    </tr>\n",
       "  </thead>\n",
       "  <tbody>\n",
       "    <tr>\n",
       "      <th>0</th>\n",
       "      <td>1951</td>\n",
       "      <td>All Artists</td>\n",
       "      <td>1</td>\n",
       "      <td>0</td>\n",
       "      <td>0</td>\n",
       "      <td>1</td>\n",
       "      <td>0</td>\n",
       "      <td>0</td>\n",
       "      <td>0</td>\n",
       "      <td>0</td>\n",
       "    </tr>\n",
       "    <tr>\n",
       "      <th>1</th>\n",
       "      <td>1980</td>\n",
       "      <td>All Artists</td>\n",
       "      <td>1</td>\n",
       "      <td>0</td>\n",
       "      <td>0</td>\n",
       "      <td>0</td>\n",
       "      <td>0</td>\n",
       "      <td>0</td>\n",
       "      <td>0</td>\n",
       "      <td>1</td>\n",
       "    </tr>\n",
       "    <tr>\n",
       "      <th>2</th>\n",
       "      <td>1982</td>\n",
       "      <td>All Artists</td>\n",
       "      <td>1</td>\n",
       "      <td>0</td>\n",
       "      <td>0</td>\n",
       "      <td>0</td>\n",
       "      <td>1</td>\n",
       "      <td>0</td>\n",
       "      <td>0</td>\n",
       "      <td>0</td>\n",
       "    </tr>\n",
       "    <tr>\n",
       "      <th>3</th>\n",
       "      <td>1983</td>\n",
       "      <td>All Artists</td>\n",
       "      <td>1</td>\n",
       "      <td>0</td>\n",
       "      <td>0</td>\n",
       "      <td>1</td>\n",
       "      <td>1</td>\n",
       "      <td>0</td>\n",
       "      <td>1</td>\n",
       "      <td>0</td>\n",
       "    </tr>\n",
       "    <tr>\n",
       "      <th>4</th>\n",
       "      <td>1985</td>\n",
       "      <td>All Artists</td>\n",
       "      <td>0</td>\n",
       "      <td>0</td>\n",
       "      <td>0</td>\n",
       "      <td>1</td>\n",
       "      <td>0</td>\n",
       "      <td>0</td>\n",
       "      <td>0</td>\n",
       "      <td>1</td>\n",
       "    </tr>\n",
       "    <tr>\n",
       "      <th>5</th>\n",
       "      <td>1986</td>\n",
       "      <td>All Artists</td>\n",
       "      <td>2</td>\n",
       "      <td>1</td>\n",
       "      <td>1</td>\n",
       "      <td>1</td>\n",
       "      <td>1</td>\n",
       "      <td>1</td>\n",
       "      <td>1</td>\n",
       "      <td>2</td>\n",
       "    </tr>\n",
       "    <tr>\n",
       "      <th>6</th>\n",
       "      <td>1987</td>\n",
       "      <td>All Artists</td>\n",
       "      <td>0</td>\n",
       "      <td>1</td>\n",
       "      <td>0</td>\n",
       "      <td>3</td>\n",
       "      <td>1</td>\n",
       "      <td>0</td>\n",
       "      <td>3</td>\n",
       "      <td>0</td>\n",
       "    </tr>\n",
       "    <tr>\n",
       "      <th>7</th>\n",
       "      <td>1988</td>\n",
       "      <td>All Artists</td>\n",
       "      <td>4</td>\n",
       "      <td>3</td>\n",
       "      <td>4</td>\n",
       "      <td>12</td>\n",
       "      <td>5</td>\n",
       "      <td>2</td>\n",
       "      <td>3</td>\n",
       "      <td>5</td>\n",
       "    </tr>\n",
       "    <tr>\n",
       "      <th>8</th>\n",
       "      <td>1989</td>\n",
       "      <td>All Artists</td>\n",
       "      <td>2</td>\n",
       "      <td>1</td>\n",
       "      <td>0</td>\n",
       "      <td>8</td>\n",
       "      <td>3</td>\n",
       "      <td>0</td>\n",
       "      <td>3</td>\n",
       "      <td>1</td>\n",
       "    </tr>\n",
       "    <tr>\n",
       "      <th>9</th>\n",
       "      <td>1990</td>\n",
       "      <td>All Artists</td>\n",
       "      <td>6</td>\n",
       "      <td>5</td>\n",
       "      <td>6</td>\n",
       "      <td>16</td>\n",
       "      <td>4</td>\n",
       "      <td>5</td>\n",
       "      <td>4</td>\n",
       "      <td>6</td>\n",
       "    </tr>\n",
       "    <tr>\n",
       "      <th>10</th>\n",
       "      <td>1991</td>\n",
       "      <td>All Artists</td>\n",
       "      <td>18</td>\n",
       "      <td>13</td>\n",
       "      <td>16</td>\n",
       "      <td>56</td>\n",
       "      <td>13</td>\n",
       "      <td>14</td>\n",
       "      <td>16</td>\n",
       "      <td>32</td>\n",
       "    </tr>\n",
       "    <tr>\n",
       "      <th>11</th>\n",
       "      <td>1992</td>\n",
       "      <td>All Artists</td>\n",
       "      <td>12</td>\n",
       "      <td>17</td>\n",
       "      <td>20</td>\n",
       "      <td>77</td>\n",
       "      <td>9</td>\n",
       "      <td>10</td>\n",
       "      <td>20</td>\n",
       "      <td>29</td>\n",
       "    </tr>\n",
       "    <tr>\n",
       "      <th>12</th>\n",
       "      <td>1993</td>\n",
       "      <td>All Artists</td>\n",
       "      <td>25</td>\n",
       "      <td>22</td>\n",
       "      <td>47</td>\n",
       "      <td>117</td>\n",
       "      <td>20</td>\n",
       "      <td>31</td>\n",
       "      <td>22</td>\n",
       "      <td>24</td>\n",
       "    </tr>\n",
       "    <tr>\n",
       "      <th>13</th>\n",
       "      <td>1994</td>\n",
       "      <td>All Artists</td>\n",
       "      <td>27</td>\n",
       "      <td>18</td>\n",
       "      <td>56</td>\n",
       "      <td>134</td>\n",
       "      <td>23</td>\n",
       "      <td>22</td>\n",
       "      <td>34</td>\n",
       "      <td>48</td>\n",
       "    </tr>\n",
       "    <tr>\n",
       "      <th>14</th>\n",
       "      <td>1995</td>\n",
       "      <td>All Artists</td>\n",
       "      <td>18</td>\n",
       "      <td>14</td>\n",
       "      <td>56</td>\n",
       "      <td>134</td>\n",
       "      <td>15</td>\n",
       "      <td>27</td>\n",
       "      <td>28</td>\n",
       "      <td>40</td>\n",
       "    </tr>\n",
       "    <tr>\n",
       "      <th>15</th>\n",
       "      <td>1996</td>\n",
       "      <td>All Artists</td>\n",
       "      <td>25</td>\n",
       "      <td>15</td>\n",
       "      <td>60</td>\n",
       "      <td>133</td>\n",
       "      <td>25</td>\n",
       "      <td>25</td>\n",
       "      <td>33</td>\n",
       "      <td>34</td>\n",
       "    </tr>\n",
       "    <tr>\n",
       "      <th>16</th>\n",
       "      <td>1997</td>\n",
       "      <td>All Artists</td>\n",
       "      <td>19</td>\n",
       "      <td>9</td>\n",
       "      <td>23</td>\n",
       "      <td>80</td>\n",
       "      <td>13</td>\n",
       "      <td>15</td>\n",
       "      <td>19</td>\n",
       "      <td>22</td>\n",
       "    </tr>\n",
       "    <tr>\n",
       "      <th>17</th>\n",
       "      <td>1998</td>\n",
       "      <td>All Artists</td>\n",
       "      <td>28</td>\n",
       "      <td>26</td>\n",
       "      <td>54</td>\n",
       "      <td>140</td>\n",
       "      <td>32</td>\n",
       "      <td>38</td>\n",
       "      <td>47</td>\n",
       "      <td>51</td>\n",
       "    </tr>\n",
       "    <tr>\n",
       "      <th>18</th>\n",
       "      <td>1999</td>\n",
       "      <td>All Artists</td>\n",
       "      <td>6</td>\n",
       "      <td>6</td>\n",
       "      <td>17</td>\n",
       "      <td>41</td>\n",
       "      <td>11</td>\n",
       "      <td>10</td>\n",
       "      <td>9</td>\n",
       "      <td>12</td>\n",
       "    </tr>\n",
       "    <tr>\n",
       "      <th>19</th>\n",
       "      <td>1999</td>\n",
       "      <td>Nas</td>\n",
       "      <td>3</td>\n",
       "      <td>1</td>\n",
       "      <td>4</td>\n",
       "      <td>17</td>\n",
       "      <td>5</td>\n",
       "      <td>6</td>\n",
       "      <td>8</td>\n",
       "      <td>12</td>\n",
       "    </tr>\n",
       "    <tr>\n",
       "      <th>20</th>\n",
       "      <td>2000</td>\n",
       "      <td>All Artists</td>\n",
       "      <td>8</td>\n",
       "      <td>3</td>\n",
       "      <td>16</td>\n",
       "      <td>26</td>\n",
       "      <td>3</td>\n",
       "      <td>6</td>\n",
       "      <td>10</td>\n",
       "      <td>12</td>\n",
       "    </tr>\n",
       "    <tr>\n",
       "      <th>21</th>\n",
       "      <td>2001</td>\n",
       "      <td>All Artists</td>\n",
       "      <td>9</td>\n",
       "      <td>11</td>\n",
       "      <td>8</td>\n",
       "      <td>34</td>\n",
       "      <td>8</td>\n",
       "      <td>8</td>\n",
       "      <td>16</td>\n",
       "      <td>14</td>\n",
       "    </tr>\n",
       "    <tr>\n",
       "      <th>22</th>\n",
       "      <td>2001</td>\n",
       "      <td>Nas</td>\n",
       "      <td>0</td>\n",
       "      <td>1</td>\n",
       "      <td>2</td>\n",
       "      <td>9</td>\n",
       "      <td>0</td>\n",
       "      <td>2</td>\n",
       "      <td>1</td>\n",
       "      <td>3</td>\n",
       "    </tr>\n",
       "    <tr>\n",
       "      <th>23</th>\n",
       "      <td>2002</td>\n",
       "      <td>All Artists</td>\n",
       "      <td>9</td>\n",
       "      <td>5</td>\n",
       "      <td>9</td>\n",
       "      <td>23</td>\n",
       "      <td>10</td>\n",
       "      <td>3</td>\n",
       "      <td>4</td>\n",
       "      <td>13</td>\n",
       "    </tr>\n",
       "    <tr>\n",
       "      <th>24</th>\n",
       "      <td>2002</td>\n",
       "      <td>Nas</td>\n",
       "      <td>3</td>\n",
       "      <td>1</td>\n",
       "      <td>0</td>\n",
       "      <td>15</td>\n",
       "      <td>5</td>\n",
       "      <td>0</td>\n",
       "      <td>10</td>\n",
       "      <td>8</td>\n",
       "    </tr>\n",
       "    <tr>\n",
       "      <th>25</th>\n",
       "      <td>2003</td>\n",
       "      <td>All Artists</td>\n",
       "      <td>11</td>\n",
       "      <td>10</td>\n",
       "      <td>19</td>\n",
       "      <td>36</td>\n",
       "      <td>9</td>\n",
       "      <td>17</td>\n",
       "      <td>11</td>\n",
       "      <td>21</td>\n",
       "    </tr>\n",
       "    <tr>\n",
       "      <th>26</th>\n",
       "      <td>2003</td>\n",
       "      <td>Nas</td>\n",
       "      <td>0</td>\n",
       "      <td>1</td>\n",
       "      <td>3</td>\n",
       "      <td>3</td>\n",
       "      <td>2</td>\n",
       "      <td>2</td>\n",
       "      <td>1</td>\n",
       "      <td>2</td>\n",
       "    </tr>\n",
       "    <tr>\n",
       "      <th>27</th>\n",
       "      <td>2004</td>\n",
       "      <td>All Artists</td>\n",
       "      <td>12</td>\n",
       "      <td>8</td>\n",
       "      <td>11</td>\n",
       "      <td>35</td>\n",
       "      <td>9</td>\n",
       "      <td>15</td>\n",
       "      <td>19</td>\n",
       "      <td>19</td>\n",
       "    </tr>\n",
       "    <tr>\n",
       "      <th>28</th>\n",
       "      <td>2004</td>\n",
       "      <td>Nas</td>\n",
       "      <td>3</td>\n",
       "      <td>0</td>\n",
       "      <td>1</td>\n",
       "      <td>14</td>\n",
       "      <td>4</td>\n",
       "      <td>2</td>\n",
       "      <td>2</td>\n",
       "      <td>10</td>\n",
       "    </tr>\n",
       "    <tr>\n",
       "      <th>29</th>\n",
       "      <td>2005</td>\n",
       "      <td>All Artists</td>\n",
       "      <td>19</td>\n",
       "      <td>5</td>\n",
       "      <td>9</td>\n",
       "      <td>20</td>\n",
       "      <td>6</td>\n",
       "      <td>7</td>\n",
       "      <td>6</td>\n",
       "      <td>14</td>\n",
       "    </tr>\n",
       "    <tr>\n",
       "      <th>30</th>\n",
       "      <td>2006</td>\n",
       "      <td>All Artists</td>\n",
       "      <td>6</td>\n",
       "      <td>2</td>\n",
       "      <td>9</td>\n",
       "      <td>10</td>\n",
       "      <td>4</td>\n",
       "      <td>3</td>\n",
       "      <td>5</td>\n",
       "      <td>5</td>\n",
       "    </tr>\n",
       "    <tr>\n",
       "      <th>31</th>\n",
       "      <td>2007</td>\n",
       "      <td>All Artists</td>\n",
       "      <td>12</td>\n",
       "      <td>1</td>\n",
       "      <td>10</td>\n",
       "      <td>25</td>\n",
       "      <td>4</td>\n",
       "      <td>4</td>\n",
       "      <td>6</td>\n",
       "      <td>12</td>\n",
       "    </tr>\n",
       "    <tr>\n",
       "      <th>32</th>\n",
       "      <td>2007</td>\n",
       "      <td>Nas</td>\n",
       "      <td>1</td>\n",
       "      <td>0</td>\n",
       "      <td>3</td>\n",
       "      <td>13</td>\n",
       "      <td>4</td>\n",
       "      <td>2</td>\n",
       "      <td>5</td>\n",
       "      <td>6</td>\n",
       "    </tr>\n",
       "    <tr>\n",
       "      <th>33</th>\n",
       "      <td>2008</td>\n",
       "      <td>All Artists</td>\n",
       "      <td>10</td>\n",
       "      <td>5</td>\n",
       "      <td>7</td>\n",
       "      <td>22</td>\n",
       "      <td>3</td>\n",
       "      <td>8</td>\n",
       "      <td>9</td>\n",
       "      <td>14</td>\n",
       "    </tr>\n",
       "    <tr>\n",
       "      <th>34</th>\n",
       "      <td>2008</td>\n",
       "      <td>Nas</td>\n",
       "      <td>0</td>\n",
       "      <td>2</td>\n",
       "      <td>1</td>\n",
       "      <td>11</td>\n",
       "      <td>2</td>\n",
       "      <td>1</td>\n",
       "      <td>6</td>\n",
       "      <td>5</td>\n",
       "    </tr>\n",
       "    <tr>\n",
       "      <th>35</th>\n",
       "      <td>2009</td>\n",
       "      <td>All Artists</td>\n",
       "      <td>13</td>\n",
       "      <td>10</td>\n",
       "      <td>15</td>\n",
       "      <td>33</td>\n",
       "      <td>13</td>\n",
       "      <td>13</td>\n",
       "      <td>15</td>\n",
       "      <td>20</td>\n",
       "    </tr>\n",
       "    <tr>\n",
       "      <th>36</th>\n",
       "      <td>2010</td>\n",
       "      <td>All Artists</td>\n",
       "      <td>15</td>\n",
       "      <td>3</td>\n",
       "      <td>7</td>\n",
       "      <td>20</td>\n",
       "      <td>9</td>\n",
       "      <td>7</td>\n",
       "      <td>16</td>\n",
       "      <td>31</td>\n",
       "    </tr>\n",
       "    <tr>\n",
       "      <th>37</th>\n",
       "      <td>2011</td>\n",
       "      <td>All Artists</td>\n",
       "      <td>17</td>\n",
       "      <td>5</td>\n",
       "      <td>6</td>\n",
       "      <td>17</td>\n",
       "      <td>7</td>\n",
       "      <td>14</td>\n",
       "      <td>18</td>\n",
       "      <td>24</td>\n",
       "    </tr>\n",
       "    <tr>\n",
       "      <th>38</th>\n",
       "      <td>2012</td>\n",
       "      <td>All Artists</td>\n",
       "      <td>27</td>\n",
       "      <td>10</td>\n",
       "      <td>19</td>\n",
       "      <td>24</td>\n",
       "      <td>12</td>\n",
       "      <td>31</td>\n",
       "      <td>22</td>\n",
       "      <td>21</td>\n",
       "    </tr>\n",
       "    <tr>\n",
       "      <th>39</th>\n",
       "      <td>2012</td>\n",
       "      <td>Nas</td>\n",
       "      <td>2</td>\n",
       "      <td>0</td>\n",
       "      <td>2</td>\n",
       "      <td>13</td>\n",
       "      <td>6</td>\n",
       "      <td>0</td>\n",
       "      <td>5</td>\n",
       "      <td>8</td>\n",
       "    </tr>\n",
       "    <tr>\n",
       "      <th>40</th>\n",
       "      <td>2013</td>\n",
       "      <td>All Artists</td>\n",
       "      <td>35</td>\n",
       "      <td>11</td>\n",
       "      <td>37</td>\n",
       "      <td>48</td>\n",
       "      <td>21</td>\n",
       "      <td>70</td>\n",
       "      <td>58</td>\n",
       "      <td>48</td>\n",
       "    </tr>\n",
       "    <tr>\n",
       "      <th>41</th>\n",
       "      <td>2014</td>\n",
       "      <td>All Artists</td>\n",
       "      <td>35</td>\n",
       "      <td>23</td>\n",
       "      <td>33</td>\n",
       "      <td>54</td>\n",
       "      <td>22</td>\n",
       "      <td>73</td>\n",
       "      <td>57</td>\n",
       "      <td>51</td>\n",
       "    </tr>\n",
       "    <tr>\n",
       "      <th>42</th>\n",
       "      <td>2014</td>\n",
       "      <td>Nas</td>\n",
       "      <td>2</td>\n",
       "      <td>2</td>\n",
       "      <td>5</td>\n",
       "      <td>10</td>\n",
       "      <td>3</td>\n",
       "      <td>3</td>\n",
       "      <td>4</td>\n",
       "      <td>3</td>\n",
       "    </tr>\n",
       "    <tr>\n",
       "      <th>43</th>\n",
       "      <td>2015</td>\n",
       "      <td>All Artists</td>\n",
       "      <td>81</td>\n",
       "      <td>54</td>\n",
       "      <td>76</td>\n",
       "      <td>80</td>\n",
       "      <td>43</td>\n",
       "      <td>135</td>\n",
       "      <td>110</td>\n",
       "      <td>117</td>\n",
       "    </tr>\n",
       "    <tr>\n",
       "      <th>44</th>\n",
       "      <td>2016</td>\n",
       "      <td>All Artists</td>\n",
       "      <td>111</td>\n",
       "      <td>104</td>\n",
       "      <td>93</td>\n",
       "      <td>106</td>\n",
       "      <td>61</td>\n",
       "      <td>180</td>\n",
       "      <td>126</td>\n",
       "      <td>153</td>\n",
       "    </tr>\n",
       "    <tr>\n",
       "      <th>45</th>\n",
       "      <td>2017</td>\n",
       "      <td>All Artists</td>\n",
       "      <td>113</td>\n",
       "      <td>147</td>\n",
       "      <td>96</td>\n",
       "      <td>85</td>\n",
       "      <td>52</td>\n",
       "      <td>198</td>\n",
       "      <td>129</td>\n",
       "      <td>162</td>\n",
       "    </tr>\n",
       "    <tr>\n",
       "      <th>46</th>\n",
       "      <td>2018</td>\n",
       "      <td>All Artists</td>\n",
       "      <td>121</td>\n",
       "      <td>152</td>\n",
       "      <td>110</td>\n",
       "      <td>108</td>\n",
       "      <td>55</td>\n",
       "      <td>198</td>\n",
       "      <td>132</td>\n",
       "      <td>186</td>\n",
       "    </tr>\n",
       "    <tr>\n",
       "      <th>47</th>\n",
       "      <td>2018</td>\n",
       "      <td>Nas</td>\n",
       "      <td>1</td>\n",
       "      <td>0</td>\n",
       "      <td>1</td>\n",
       "      <td>3</td>\n",
       "      <td>2</td>\n",
       "      <td>1</td>\n",
       "      <td>1</td>\n",
       "      <td>5</td>\n",
       "    </tr>\n",
       "    <tr>\n",
       "      <th>48</th>\n",
       "      <td>2019</td>\n",
       "      <td>All Artists</td>\n",
       "      <td>112</td>\n",
       "      <td>162</td>\n",
       "      <td>98</td>\n",
       "      <td>89</td>\n",
       "      <td>42</td>\n",
       "      <td>210</td>\n",
       "      <td>110</td>\n",
       "      <td>185</td>\n",
       "    </tr>\n",
       "    <tr>\n",
       "      <th>49</th>\n",
       "      <td>2019</td>\n",
       "      <td>Nas</td>\n",
       "      <td>1</td>\n",
       "      <td>1</td>\n",
       "      <td>2</td>\n",
       "      <td>7</td>\n",
       "      <td>5</td>\n",
       "      <td>1</td>\n",
       "      <td>4</td>\n",
       "      <td>9</td>\n",
       "    </tr>\n",
       "    <tr>\n",
       "      <th>50</th>\n",
       "      <td>2020</td>\n",
       "      <td>All Artists</td>\n",
       "      <td>183</td>\n",
       "      <td>311</td>\n",
       "      <td>182</td>\n",
       "      <td>141</td>\n",
       "      <td>69</td>\n",
       "      <td>431</td>\n",
       "      <td>202</td>\n",
       "      <td>379</td>\n",
       "    </tr>\n",
       "    <tr>\n",
       "      <th>51</th>\n",
       "      <td>2020</td>\n",
       "      <td>Nas</td>\n",
       "      <td>0</td>\n",
       "      <td>0</td>\n",
       "      <td>0</td>\n",
       "      <td>4</td>\n",
       "      <td>2</td>\n",
       "      <td>2</td>\n",
       "      <td>2</td>\n",
       "      <td>2</td>\n",
       "    </tr>\n",
       "    <tr>\n",
       "      <th>52</th>\n",
       "      <td>2021</td>\n",
       "      <td>All Artists</td>\n",
       "      <td>180</td>\n",
       "      <td>193</td>\n",
       "      <td>153</td>\n",
       "      <td>136</td>\n",
       "      <td>72</td>\n",
       "      <td>280</td>\n",
       "      <td>182</td>\n",
       "      <td>292</td>\n",
       "    </tr>\n",
       "    <tr>\n",
       "      <th>53</th>\n",
       "      <td>2021</td>\n",
       "      <td>Nas</td>\n",
       "      <td>1</td>\n",
       "      <td>1</td>\n",
       "      <td>5</td>\n",
       "      <td>14</td>\n",
       "      <td>1</td>\n",
       "      <td>4</td>\n",
       "      <td>6</td>\n",
       "      <td>10</td>\n",
       "    </tr>\n",
       "    <tr>\n",
       "      <th>54</th>\n",
       "      <td>2022</td>\n",
       "      <td>All Artists</td>\n",
       "      <td>7</td>\n",
       "      <td>9</td>\n",
       "      <td>7</td>\n",
       "      <td>6</td>\n",
       "      <td>5</td>\n",
       "      <td>14</td>\n",
       "      <td>10</td>\n",
       "      <td>14</td>\n",
       "    </tr>\n",
       "  </tbody>\n",
       "</table>\n",
       "</div>"
      ],
      "text/plain": [
       "    track_release_year   Artist_Nas  Musicality/Flow/Lyricism  Flex/Money  \\\n",
       "0                 1951  All Artists                         1           0   \n",
       "1                 1980  All Artists                         1           0   \n",
       "2                 1982  All Artists                         1           0   \n",
       "3                 1983  All Artists                         1           0   \n",
       "4                 1985  All Artists                         0           0   \n",
       "5                 1986  All Artists                         2           1   \n",
       "6                 1987  All Artists                         0           1   \n",
       "7                 1988  All Artists                         4           3   \n",
       "8                 1989  All Artists                         2           1   \n",
       "9                 1990  All Artists                         6           5   \n",
       "10                1991  All Artists                        18          13   \n",
       "11                1992  All Artists                        12          17   \n",
       "12                1993  All Artists                        25          22   \n",
       "13                1994  All Artists                        27          18   \n",
       "14                1995  All Artists                        18          14   \n",
       "15                1996  All Artists                        25          15   \n",
       "16                1997  All Artists                        19           9   \n",
       "17                1998  All Artists                        28          26   \n",
       "18                1999  All Artists                         6           6   \n",
       "19                1999          Nas                         3           1   \n",
       "20                2000  All Artists                         8           3   \n",
       "21                2001  All Artists                         9          11   \n",
       "22                2001          Nas                         0           1   \n",
       "23                2002  All Artists                         9           5   \n",
       "24                2002          Nas                         3           1   \n",
       "25                2003  All Artists                        11          10   \n",
       "26                2003          Nas                         0           1   \n",
       "27                2004  All Artists                        12           8   \n",
       "28                2004          Nas                         3           0   \n",
       "29                2005  All Artists                        19           5   \n",
       "30                2006  All Artists                         6           2   \n",
       "31                2007  All Artists                        12           1   \n",
       "32                2007          Nas                         1           0   \n",
       "33                2008  All Artists                        10           5   \n",
       "34                2008          Nas                         0           2   \n",
       "35                2009  All Artists                        13          10   \n",
       "36                2010  All Artists                        15           3   \n",
       "37                2011  All Artists                        17           5   \n",
       "38                2012  All Artists                        27          10   \n",
       "39                2012          Nas                         2           0   \n",
       "40                2013  All Artists                        35          11   \n",
       "41                2014  All Artists                        35          23   \n",
       "42                2014          Nas                         2           2   \n",
       "43                2015  All Artists                        81          54   \n",
       "44                2016  All Artists                       111         104   \n",
       "45                2017  All Artists                       113         147   \n",
       "46                2018  All Artists                       121         152   \n",
       "47                2018          Nas                         1           0   \n",
       "48                2019  All Artists                       112         162   \n",
       "49                2019          Nas                         1           1   \n",
       "50                2020  All Artists                       183         311   \n",
       "51                2020          Nas                         0           0   \n",
       "52                2021  All Artists                       180         193   \n",
       "53                2021          Nas                         1           1   \n",
       "54                2022  All Artists                         7           9   \n",
       "\n",
       "    Romance/Feelings  Struggle/Grind/Hustle  Trap/Drug  Violence/Gangster  \\\n",
       "0                  0                      1          0                  0   \n",
       "1                  0                      0          0                  0   \n",
       "2                  0                      0          1                  0   \n",
       "3                  0                      1          1                  0   \n",
       "4                  0                      1          0                  0   \n",
       "5                  1                      1          1                  1   \n",
       "6                  0                      3          1                  0   \n",
       "7                  4                     12          5                  2   \n",
       "8                  0                      8          3                  0   \n",
       "9                  6                     16          4                  5   \n",
       "10                16                     56         13                 14   \n",
       "11                20                     77          9                 10   \n",
       "12                47                    117         20                 31   \n",
       "13                56                    134         23                 22   \n",
       "14                56                    134         15                 27   \n",
       "15                60                    133         25                 25   \n",
       "16                23                     80         13                 15   \n",
       "17                54                    140         32                 38   \n",
       "18                17                     41         11                 10   \n",
       "19                 4                     17          5                  6   \n",
       "20                16                     26          3                  6   \n",
       "21                 8                     34          8                  8   \n",
       "22                 2                      9          0                  2   \n",
       "23                 9                     23         10                  3   \n",
       "24                 0                     15          5                  0   \n",
       "25                19                     36          9                 17   \n",
       "26                 3                      3          2                  2   \n",
       "27                11                     35          9                 15   \n",
       "28                 1                     14          4                  2   \n",
       "29                 9                     20          6                  7   \n",
       "30                 9                     10          4                  3   \n",
       "31                10                     25          4                  4   \n",
       "32                 3                     13          4                  2   \n",
       "33                 7                     22          3                  8   \n",
       "34                 1                     11          2                  1   \n",
       "35                15                     33         13                 13   \n",
       "36                 7                     20          9                  7   \n",
       "37                 6                     17          7                 14   \n",
       "38                19                     24         12                 31   \n",
       "39                 2                     13          6                  0   \n",
       "40                37                     48         21                 70   \n",
       "41                33                     54         22                 73   \n",
       "42                 5                     10          3                  3   \n",
       "43                76                     80         43                135   \n",
       "44                93                    106         61                180   \n",
       "45                96                     85         52                198   \n",
       "46               110                    108         55                198   \n",
       "47                 1                      3          2                  1   \n",
       "48                98                     89         42                210   \n",
       "49                 2                      7          5                  1   \n",
       "50               182                    141         69                431   \n",
       "51                 0                      4          2                  2   \n",
       "52               153                    136         72                280   \n",
       "53                 5                     14          1                  4   \n",
       "54                 7                      6          5                 14   \n",
       "\n",
       "    Party/Sexuality  Feats/Artists/Shoutouts  \n",
       "0                 0                        0  \n",
       "1                 0                        1  \n",
       "2                 0                        0  \n",
       "3                 1                        0  \n",
       "4                 0                        1  \n",
       "5                 1                        2  \n",
       "6                 3                        0  \n",
       "7                 3                        5  \n",
       "8                 3                        1  \n",
       "9                 4                        6  \n",
       "10               16                       32  \n",
       "11               20                       29  \n",
       "12               22                       24  \n",
       "13               34                       48  \n",
       "14               28                       40  \n",
       "15               33                       34  \n",
       "16               19                       22  \n",
       "17               47                       51  \n",
       "18                9                       12  \n",
       "19                8                       12  \n",
       "20               10                       12  \n",
       "21               16                       14  \n",
       "22                1                        3  \n",
       "23                4                       13  \n",
       "24               10                        8  \n",
       "25               11                       21  \n",
       "26                1                        2  \n",
       "27               19                       19  \n",
       "28                2                       10  \n",
       "29                6                       14  \n",
       "30                5                        5  \n",
       "31                6                       12  \n",
       "32                5                        6  \n",
       "33                9                       14  \n",
       "34                6                        5  \n",
       "35               15                       20  \n",
       "36               16                       31  \n",
       "37               18                       24  \n",
       "38               22                       21  \n",
       "39                5                        8  \n",
       "40               58                       48  \n",
       "41               57                       51  \n",
       "42                4                        3  \n",
       "43              110                      117  \n",
       "44              126                      153  \n",
       "45              129                      162  \n",
       "46              132                      186  \n",
       "47                1                        5  \n",
       "48              110                      185  \n",
       "49                4                        9  \n",
       "50              202                      379  \n",
       "51                2                        2  \n",
       "52              182                      292  \n",
       "53                6                       10  \n",
       "54               10                       14  "
      ]
     },
     "execution_count": 7,
     "metadata": {},
     "output_type": "execute_result"
    }
   ],
   "source": [
    "df_topics = df_topics.reset_index()\n",
    "df_topics"
   ]
  },
  {
   "cell_type": "code",
   "execution_count": 8,
   "id": "30ea748b",
   "metadata": {},
   "outputs": [],
   "source": [
    "df_topics =  df_topics.iloc[:,:2].join(df_topics.iloc[:,2:].div(df_topics.iloc[:,2:].sum(axis=1), axis=0))"
   ]
  },
  {
   "cell_type": "code",
   "execution_count": 9,
   "id": "79904d09",
   "metadata": {},
   "outputs": [],
   "source": [
    "df_topics = df_topics[df_topics.track_release_year > 1989]"
   ]
  },
  {
   "cell_type": "code",
   "execution_count": 10,
   "id": "4030985f",
   "metadata": {},
   "outputs": [],
   "source": [
    "df_topics_all = df_topics[df_topics.Artist_Nas != 'Nas']\n",
    "df_topics_nas = df_topics[df_topics.Artist_Nas == 'Nas']"
   ]
  },
  {
   "cell_type": "code",
   "execution_count": 11,
   "id": "f4cfed88",
   "metadata": {},
   "outputs": [],
   "source": [
    "df_topics_smoothed_all = df_topics_all.rolling(window=5).mean().dropna()"
   ]
  },
  {
   "cell_type": "code",
   "execution_count": 12,
   "id": "3b7e3de4",
   "metadata": {},
   "outputs": [],
   "source": [
    "topics = df_topics_smoothed_all.columns[-8:].to_list()"
   ]
  },
  {
   "cell_type": "code",
   "execution_count": 14,
   "id": "e27315df",
   "metadata": {},
   "outputs": [
    {
     "data": {
      "application/vnd.plotly.v1+json": {
       "config": {
        "plotlyServerURL": "https://plot.ly"
       },
       "data": [
        {
         "hoverinfo": "text+name",
         "line": {
          "shape": "spline"
         },
         "name": "Flex/Money",
         "text": [
          "tweak line smoothness<br>with 'smoothing' in line object"
         ],
         "type": "scatter",
         "x": [
          1992,
          1993,
          1994,
          1995,
          1996,
          1997,
          1998,
          1999,
          2000,
          2001,
          2002,
          2003,
          2004,
          2005,
          2006,
          2007,
          2008,
          2009,
          2010,
          2011,
          2012,
          2013,
          2014,
          2015,
          2016,
          2017,
          2018,
          2019,
          2020
         ],
         "y": [
          0.07559374966660898,
          0.06479671537559879,
          0.05876140237399365,
          0.05023562917811736,
          0.04844991489240308,
          0.04921944922547332,
          0.047928571428571425,
          0.05972751322751322,
          0.06388540796435534,
          0.06631078109868369,
          0.06809649538439796,
          0.07258154521828501,
          0.061302083938823734,
          0.05084689190468433,
          0.048742031590868796,
          0.051393546742383944,
          0.045321195321195315,
          0.045489545489545494,
          0.054835035557927125,
          0.04872183981058503,
          0.046788715463667585,
          0.05675040128742237,
          0.06976094930867703,
          0.08765165674125867,
          0.10956957507298437,
          0.12849404141124382,
          0.14574813828272376,
          0.1494191912172636,
          0.14448029101359766
         ]
        },
        {
         "hoverinfo": "text+name",
         "line": {
          "shape": "spline"
         },
         "name": "Romance/Feelings",
         "text": [
          "tweak line smoothness<br>with 'smoothing' in line object"
         ],
         "type": "scatter",
         "x": [
          1992,
          1993,
          1994,
          1995,
          1996,
          1997,
          1998,
          1999,
          2000,
          2001,
          2002,
          2003,
          2004,
          2005,
          2006,
          2007,
          2008,
          2009,
          2010,
          2011,
          2012,
          2013,
          2014,
          2015,
          2016,
          2017,
          2018,
          2019,
          2020
         ],
         "y": [
          0.12313171490665917,
          0.13378973158877222,
          0.15009791778459888,
          0.15247936108356797,
          0.1479214190256259,
          0.14733933536343174,
          0.1516996336996337,
          0.1322287342287342,
          0.13291294475505,
          0.13530961524873542,
          0.12213997239159258,
          0.104974966854494,
          0.1310692429487701,
          0.13441205944948137,
          0.12400256844297541,
          0.12954234117024815,
          0.12157507157507157,
          0.09177709177709178,
          0.08764163101512498,
          0.09225388867616313,
          0.08849213319026972,
          0.09736825068707687,
          0.10617148647104072,
          0.10283185503286438,
          0.10098651030823069,
          0.10146543751129582,
          0.09880443924330654,
          0.09945460847726384,
          0.09934711809482437
         ]
        },
        {
         "hoverinfo": "text+name",
         "line": {
          "shape": "spline"
         },
         "name": "Struggle/Grind/Hustle",
         "text": [
          "tweak line smoothness<br>with 'smoothing' in line object"
         ],
         "type": "scatter",
         "x": [
          1992,
          1993,
          1994,
          1995,
          1996,
          1997,
          1998,
          1999,
          2000,
          2001,
          2002,
          2003,
          2004,
          2005,
          2006,
          2007,
          2008,
          2009,
          2010,
          2011,
          2012,
          2013,
          2014,
          2015,
          2016,
          2017,
          2018,
          2019,
          2020
         ],
         "y": [
          0.35384842829733404,
          0.37303285832513755,
          0.3861115100105308,
          0.38673006671156174,
          0.37806373304522806,
          0.3772448695882431,
          0.3584267399267399,
          0.34538970288970294,
          0.3259160186791766,
          0.3123396696550664,
          0.29381288394078064,
          0.2784197499429955,
          0.2609113324345779,
          0.2679525842126719,
          0.27063149733934616,
          0.26594399733934615,
          0.25646940646940647,
          0.24249634249634253,
          0.2038444375793773,
          0.17670247385204776,
          0.15773695661066844,
          0.14368842532075782,
          0.13490501664441554,
          0.12330096295511661,
          0.11437165332303723,
          0.10099590072314671,
          0.09286513997075156,
          0.0884466370580855,
          0.0878016947634487
         ]
        },
        {
         "hoverinfo": "text+name",
         "line": {
          "shape": "spline"
         },
         "name": "Trap/Drug",
         "text": [
          "tweak line smoothness<br>with 'smoothing' in line object"
         ],
         "type": "scatter",
         "x": [
          1992,
          1993,
          1994,
          1995,
          1996,
          1997,
          1998,
          1999,
          2000,
          2001,
          2002,
          2003,
          2004,
          2005,
          2006,
          2007,
          2008,
          2009,
          2010,
          2011,
          2012,
          2013,
          2014,
          2015,
          2016,
          2017,
          2018,
          2019,
          2020
         ],
         "y": [
          0.06496390278056799,
          0.05861543197426585,
          0.058294404686946424,
          0.0620160541714825,
          0.0644136565690849,
          0.07134933139150007,
          0.06945604395604396,
          0.06998514448514448,
          0.08330093395882869,
          0.08134915439510883,
          0.07576879725225169,
          0.08257942848148757,
          0.08594643184849093,
          0.07044145318561754,
          0.0647009250570297,
          0.0703353947539994,
          0.07304857304857304,
          0.06782971782971783,
          0.07147673834420823,
          0.07658930870068101,
          0.06953601716463087,
          0.06522567233704465,
          0.06532480787515235,
          0.06145760791441327,
          0.05901054530819398,
          0.05470020048060777,
          0.04961469002192774,
          0.04623001087569579,
          0.04952826840002256
         ]
        },
        {
         "hoverinfo": "text+name",
         "line": {
          "shape": "spline"
         },
         "name": "Violence/Gangster",
         "text": [
          "tweak line smoothness<br>with 'smoothing' in line object"
         ],
         "type": "scatter",
         "x": [
          1992,
          1993,
          1994,
          1995,
          1996,
          1997,
          1998,
          1999,
          2000,
          2001,
          2002,
          2003,
          2004,
          2005,
          2006,
          2007,
          2008,
          2009,
          2010,
          2011,
          2012,
          2013,
          2014,
          2015,
          2016,
          2017,
          2018,
          2019,
          2020
         ],
         "y": [
          0.07755495092240319,
          0.07458924193259782,
          0.07314461913966042,
          0.07783534078914496,
          0.0759747014285056,
          0.08167714815305176,
          0.07969780219780219,
          0.08022690272690272,
          0.073121639569008,
          0.08022554312813543,
          0.08580590027099258,
          0.08779925575272014,
          0.08662080457426898,
          0.08953687854297451,
          0.08467656472743681,
          0.08093603442440651,
          0.07761992761992761,
          0.08990948990948991,
          0.11644807668904053,
          0.1386181830054883,
          0.16087523629702435,
          0.18670537678233728,
          0.19932334807268542,
          0.2022998160627721,
          0.19690502482672412,
          0.19661766850488505,
          0.2032407926646176,
          0.20233130405049407,
          0.2008943273589349
         ]
        },
        {
         "hoverinfo": "text+name",
         "line": {
          "shape": "spline"
         },
         "name": "Feats/Artists/Shoutouts",
         "text": [
          "tweak line smoothness<br>with 'smoothing' in line object"
         ],
         "type": "scatter",
         "x": [
          1992,
          1993,
          1994,
          1995,
          1996,
          1997,
          1998,
          1999,
          2000,
          2001,
          2002,
          2003,
          2004,
          2005,
          2006,
          2007,
          2008,
          2009,
          2010,
          2011,
          2012,
          2013,
          2014,
          2015,
          2016,
          2017,
          2018,
          2019,
          2020
         ],
         "y": [
          0.13103263907418336,
          0.13205210153942898,
          0.11552561678822511,
          0.10762870957173028,
          0.11656352475654545,
          0.1114727591685423,
          0.11594780219780221,
          0.12244515669515668,
          0.13465568301094616,
          0.14147973582380496,
          0.1497386643952335,
          0.1537253753586887,
          0.1505267221600355,
          0.14874862827667845,
          0.1533027805920248,
          0.1539183108950551,
          0.1787675787675788,
          0.2004847504847505,
          0.19335352287159516,
          0.18672437965708608,
          0.18573169418164198,
          0.16194497642940703,
          0.15026284461879552,
          0.15795552981988503,
          0.16371548572452882,
          0.1711114901032918,
          0.17742757600133333,
          0.18391257519545734,
          0.1898075740639796
         ]
        }
       ],
       "layout": {
        "template": {
         "data": {
          "bar": [
           {
            "error_x": {
             "color": "#2a3f5f"
            },
            "error_y": {
             "color": "#2a3f5f"
            },
            "marker": {
             "line": {
              "color": "#E5ECF6",
              "width": 0.5
             },
             "pattern": {
              "fillmode": "overlay",
              "size": 10,
              "solidity": 0.2
             }
            },
            "type": "bar"
           }
          ],
          "barpolar": [
           {
            "marker": {
             "line": {
              "color": "#E5ECF6",
              "width": 0.5
             },
             "pattern": {
              "fillmode": "overlay",
              "size": 10,
              "solidity": 0.2
             }
            },
            "type": "barpolar"
           }
          ],
          "carpet": [
           {
            "aaxis": {
             "endlinecolor": "#2a3f5f",
             "gridcolor": "white",
             "linecolor": "white",
             "minorgridcolor": "white",
             "startlinecolor": "#2a3f5f"
            },
            "baxis": {
             "endlinecolor": "#2a3f5f",
             "gridcolor": "white",
             "linecolor": "white",
             "minorgridcolor": "white",
             "startlinecolor": "#2a3f5f"
            },
            "type": "carpet"
           }
          ],
          "choropleth": [
           {
            "colorbar": {
             "outlinewidth": 0,
             "ticks": ""
            },
            "type": "choropleth"
           }
          ],
          "contour": [
           {
            "colorbar": {
             "outlinewidth": 0,
             "ticks": ""
            },
            "colorscale": [
             [
              0,
              "#0d0887"
             ],
             [
              0.1111111111111111,
              "#46039f"
             ],
             [
              0.2222222222222222,
              "#7201a8"
             ],
             [
              0.3333333333333333,
              "#9c179e"
             ],
             [
              0.4444444444444444,
              "#bd3786"
             ],
             [
              0.5555555555555556,
              "#d8576b"
             ],
             [
              0.6666666666666666,
              "#ed7953"
             ],
             [
              0.7777777777777778,
              "#fb9f3a"
             ],
             [
              0.8888888888888888,
              "#fdca26"
             ],
             [
              1,
              "#f0f921"
             ]
            ],
            "type": "contour"
           }
          ],
          "contourcarpet": [
           {
            "colorbar": {
             "outlinewidth": 0,
             "ticks": ""
            },
            "type": "contourcarpet"
           }
          ],
          "heatmap": [
           {
            "colorbar": {
             "outlinewidth": 0,
             "ticks": ""
            },
            "colorscale": [
             [
              0,
              "#0d0887"
             ],
             [
              0.1111111111111111,
              "#46039f"
             ],
             [
              0.2222222222222222,
              "#7201a8"
             ],
             [
              0.3333333333333333,
              "#9c179e"
             ],
             [
              0.4444444444444444,
              "#bd3786"
             ],
             [
              0.5555555555555556,
              "#d8576b"
             ],
             [
              0.6666666666666666,
              "#ed7953"
             ],
             [
              0.7777777777777778,
              "#fb9f3a"
             ],
             [
              0.8888888888888888,
              "#fdca26"
             ],
             [
              1,
              "#f0f921"
             ]
            ],
            "type": "heatmap"
           }
          ],
          "heatmapgl": [
           {
            "colorbar": {
             "outlinewidth": 0,
             "ticks": ""
            },
            "colorscale": [
             [
              0,
              "#0d0887"
             ],
             [
              0.1111111111111111,
              "#46039f"
             ],
             [
              0.2222222222222222,
              "#7201a8"
             ],
             [
              0.3333333333333333,
              "#9c179e"
             ],
             [
              0.4444444444444444,
              "#bd3786"
             ],
             [
              0.5555555555555556,
              "#d8576b"
             ],
             [
              0.6666666666666666,
              "#ed7953"
             ],
             [
              0.7777777777777778,
              "#fb9f3a"
             ],
             [
              0.8888888888888888,
              "#fdca26"
             ],
             [
              1,
              "#f0f921"
             ]
            ],
            "type": "heatmapgl"
           }
          ],
          "histogram": [
           {
            "marker": {
             "pattern": {
              "fillmode": "overlay",
              "size": 10,
              "solidity": 0.2
             }
            },
            "type": "histogram"
           }
          ],
          "histogram2d": [
           {
            "colorbar": {
             "outlinewidth": 0,
             "ticks": ""
            },
            "colorscale": [
             [
              0,
              "#0d0887"
             ],
             [
              0.1111111111111111,
              "#46039f"
             ],
             [
              0.2222222222222222,
              "#7201a8"
             ],
             [
              0.3333333333333333,
              "#9c179e"
             ],
             [
              0.4444444444444444,
              "#bd3786"
             ],
             [
              0.5555555555555556,
              "#d8576b"
             ],
             [
              0.6666666666666666,
              "#ed7953"
             ],
             [
              0.7777777777777778,
              "#fb9f3a"
             ],
             [
              0.8888888888888888,
              "#fdca26"
             ],
             [
              1,
              "#f0f921"
             ]
            ],
            "type": "histogram2d"
           }
          ],
          "histogram2dcontour": [
           {
            "colorbar": {
             "outlinewidth": 0,
             "ticks": ""
            },
            "colorscale": [
             [
              0,
              "#0d0887"
             ],
             [
              0.1111111111111111,
              "#46039f"
             ],
             [
              0.2222222222222222,
              "#7201a8"
             ],
             [
              0.3333333333333333,
              "#9c179e"
             ],
             [
              0.4444444444444444,
              "#bd3786"
             ],
             [
              0.5555555555555556,
              "#d8576b"
             ],
             [
              0.6666666666666666,
              "#ed7953"
             ],
             [
              0.7777777777777778,
              "#fb9f3a"
             ],
             [
              0.8888888888888888,
              "#fdca26"
             ],
             [
              1,
              "#f0f921"
             ]
            ],
            "type": "histogram2dcontour"
           }
          ],
          "mesh3d": [
           {
            "colorbar": {
             "outlinewidth": 0,
             "ticks": ""
            },
            "type": "mesh3d"
           }
          ],
          "parcoords": [
           {
            "line": {
             "colorbar": {
              "outlinewidth": 0,
              "ticks": ""
             }
            },
            "type": "parcoords"
           }
          ],
          "pie": [
           {
            "automargin": true,
            "type": "pie"
           }
          ],
          "scatter": [
           {
            "marker": {
             "colorbar": {
              "outlinewidth": 0,
              "ticks": ""
             }
            },
            "type": "scatter"
           }
          ],
          "scatter3d": [
           {
            "line": {
             "colorbar": {
              "outlinewidth": 0,
              "ticks": ""
             }
            },
            "marker": {
             "colorbar": {
              "outlinewidth": 0,
              "ticks": ""
             }
            },
            "type": "scatter3d"
           }
          ],
          "scattercarpet": [
           {
            "marker": {
             "colorbar": {
              "outlinewidth": 0,
              "ticks": ""
             }
            },
            "type": "scattercarpet"
           }
          ],
          "scattergeo": [
           {
            "marker": {
             "colorbar": {
              "outlinewidth": 0,
              "ticks": ""
             }
            },
            "type": "scattergeo"
           }
          ],
          "scattergl": [
           {
            "marker": {
             "colorbar": {
              "outlinewidth": 0,
              "ticks": ""
             }
            },
            "type": "scattergl"
           }
          ],
          "scattermapbox": [
           {
            "marker": {
             "colorbar": {
              "outlinewidth": 0,
              "ticks": ""
             }
            },
            "type": "scattermapbox"
           }
          ],
          "scatterpolar": [
           {
            "marker": {
             "colorbar": {
              "outlinewidth": 0,
              "ticks": ""
             }
            },
            "type": "scatterpolar"
           }
          ],
          "scatterpolargl": [
           {
            "marker": {
             "colorbar": {
              "outlinewidth": 0,
              "ticks": ""
             }
            },
            "type": "scatterpolargl"
           }
          ],
          "scatterternary": [
           {
            "marker": {
             "colorbar": {
              "outlinewidth": 0,
              "ticks": ""
             }
            },
            "type": "scatterternary"
           }
          ],
          "surface": [
           {
            "colorbar": {
             "outlinewidth": 0,
             "ticks": ""
            },
            "colorscale": [
             [
              0,
              "#0d0887"
             ],
             [
              0.1111111111111111,
              "#46039f"
             ],
             [
              0.2222222222222222,
              "#7201a8"
             ],
             [
              0.3333333333333333,
              "#9c179e"
             ],
             [
              0.4444444444444444,
              "#bd3786"
             ],
             [
              0.5555555555555556,
              "#d8576b"
             ],
             [
              0.6666666666666666,
              "#ed7953"
             ],
             [
              0.7777777777777778,
              "#fb9f3a"
             ],
             [
              0.8888888888888888,
              "#fdca26"
             ],
             [
              1,
              "#f0f921"
             ]
            ],
            "type": "surface"
           }
          ],
          "table": [
           {
            "cells": {
             "fill": {
              "color": "#EBF0F8"
             },
             "line": {
              "color": "white"
             }
            },
            "header": {
             "fill": {
              "color": "#C8D4E3"
             },
             "line": {
              "color": "white"
             }
            },
            "type": "table"
           }
          ]
         },
         "layout": {
          "annotationdefaults": {
           "arrowcolor": "#2a3f5f",
           "arrowhead": 0,
           "arrowwidth": 1
          },
          "autotypenumbers": "strict",
          "coloraxis": {
           "colorbar": {
            "outlinewidth": 0,
            "ticks": ""
           }
          },
          "colorscale": {
           "diverging": [
            [
             0,
             "#8e0152"
            ],
            [
             0.1,
             "#c51b7d"
            ],
            [
             0.2,
             "#de77ae"
            ],
            [
             0.3,
             "#f1b6da"
            ],
            [
             0.4,
             "#fde0ef"
            ],
            [
             0.5,
             "#f7f7f7"
            ],
            [
             0.6,
             "#e6f5d0"
            ],
            [
             0.7,
             "#b8e186"
            ],
            [
             0.8,
             "#7fbc41"
            ],
            [
             0.9,
             "#4d9221"
            ],
            [
             1,
             "#276419"
            ]
           ],
           "sequential": [
            [
             0,
             "#0d0887"
            ],
            [
             0.1111111111111111,
             "#46039f"
            ],
            [
             0.2222222222222222,
             "#7201a8"
            ],
            [
             0.3333333333333333,
             "#9c179e"
            ],
            [
             0.4444444444444444,
             "#bd3786"
            ],
            [
             0.5555555555555556,
             "#d8576b"
            ],
            [
             0.6666666666666666,
             "#ed7953"
            ],
            [
             0.7777777777777778,
             "#fb9f3a"
            ],
            [
             0.8888888888888888,
             "#fdca26"
            ],
            [
             1,
             "#f0f921"
            ]
           ],
           "sequentialminus": [
            [
             0,
             "#0d0887"
            ],
            [
             0.1111111111111111,
             "#46039f"
            ],
            [
             0.2222222222222222,
             "#7201a8"
            ],
            [
             0.3333333333333333,
             "#9c179e"
            ],
            [
             0.4444444444444444,
             "#bd3786"
            ],
            [
             0.5555555555555556,
             "#d8576b"
            ],
            [
             0.6666666666666666,
             "#ed7953"
            ],
            [
             0.7777777777777778,
             "#fb9f3a"
            ],
            [
             0.8888888888888888,
             "#fdca26"
            ],
            [
             1,
             "#f0f921"
            ]
           ]
          },
          "colorway": [
           "#636efa",
           "#EF553B",
           "#00cc96",
           "#ab63fa",
           "#FFA15A",
           "#19d3f3",
           "#FF6692",
           "#B6E880",
           "#FF97FF",
           "#FECB52"
          ],
          "font": {
           "color": "#2a3f5f"
          },
          "geo": {
           "bgcolor": "white",
           "lakecolor": "white",
           "landcolor": "#E5ECF6",
           "showlakes": true,
           "showland": true,
           "subunitcolor": "white"
          },
          "hoverlabel": {
           "align": "left"
          },
          "hovermode": "closest",
          "mapbox": {
           "style": "light"
          },
          "paper_bgcolor": "white",
          "plot_bgcolor": "#E5ECF6",
          "polar": {
           "angularaxis": {
            "gridcolor": "white",
            "linecolor": "white",
            "ticks": ""
           },
           "bgcolor": "#E5ECF6",
           "radialaxis": {
            "gridcolor": "white",
            "linecolor": "white",
            "ticks": ""
           }
          },
          "scene": {
           "xaxis": {
            "backgroundcolor": "#E5ECF6",
            "gridcolor": "white",
            "gridwidth": 2,
            "linecolor": "white",
            "showbackground": true,
            "ticks": "",
            "zerolinecolor": "white"
           },
           "yaxis": {
            "backgroundcolor": "#E5ECF6",
            "gridcolor": "white",
            "gridwidth": 2,
            "linecolor": "white",
            "showbackground": true,
            "ticks": "",
            "zerolinecolor": "white"
           },
           "zaxis": {
            "backgroundcolor": "#E5ECF6",
            "gridcolor": "white",
            "gridwidth": 2,
            "linecolor": "white",
            "showbackground": true,
            "ticks": "",
            "zerolinecolor": "white"
           }
          },
          "shapedefaults": {
           "line": {
            "color": "#2a3f5f"
           }
          },
          "ternary": {
           "aaxis": {
            "gridcolor": "white",
            "linecolor": "white",
            "ticks": ""
           },
           "baxis": {
            "gridcolor": "white",
            "linecolor": "white",
            "ticks": ""
           },
           "bgcolor": "#E5ECF6",
           "caxis": {
            "gridcolor": "white",
            "linecolor": "white",
            "ticks": ""
           }
          },
          "title": {
           "x": 0.05
          },
          "xaxis": {
           "automargin": true,
           "gridcolor": "white",
           "linecolor": "white",
           "ticks": "",
           "title": {
            "standoff": 15
           },
           "zerolinecolor": "white",
           "zerolinewidth": 2
          },
          "yaxis": {
           "automargin": true,
           "gridcolor": "white",
           "linecolor": "white",
           "ticks": "",
           "title": {
            "standoff": 15
           },
           "zerolinecolor": "white",
           "zerolinewidth": 2
          }
         }
        },
        "title": {
         "text": "Topics Prevalence through the years (Rap)"
        },
        "xaxis": {
         "title": {
          "text": "Year"
         }
        },
        "yaxis": {
         "range": [
          0,
          0.5
         ],
         "title": {
          "text": "Relative Freq."
         }
        }
       }
      },
      "text/html": [
       "<div>                            <div id=\"65d3c7c8-12cb-4f4f-a28a-2ed92f2fdcae\" class=\"plotly-graph-div\" style=\"height:525px; width:100%;\"></div>            <script type=\"text/javascript\">                require([\"plotly\"], function(Plotly) {                    window.PLOTLYENV=window.PLOTLYENV || {};                                    if (document.getElementById(\"65d3c7c8-12cb-4f4f-a28a-2ed92f2fdcae\")) {                    Plotly.newPlot(                        \"65d3c7c8-12cb-4f4f-a28a-2ed92f2fdcae\",                        [{\"hoverinfo\":\"text+name\",\"line\":{\"shape\":\"spline\"},\"name\":\"Flex/Money\",\"text\":[\"tweak line smoothness<br>with 'smoothing' in line object\"],\"x\":[1992.0,1993.0,1994.0,1995.0,1996.0,1997.0,1998.0,1999.0,2000.0,2001.0,2002.0,2003.0,2004.0,2005.0,2006.0,2007.0,2008.0,2009.0,2010.0,2011.0,2012.0,2013.0,2014.0,2015.0,2016.0,2017.0,2018.0,2019.0,2020.0],\"y\":[0.07559374966660898,0.06479671537559879,0.05876140237399365,0.05023562917811736,0.04844991489240308,0.04921944922547332,0.047928571428571425,0.05972751322751322,0.06388540796435534,0.06631078109868369,0.06809649538439796,0.07258154521828501,0.061302083938823734,0.05084689190468433,0.048742031590868796,0.051393546742383944,0.045321195321195315,0.045489545489545494,0.054835035557927125,0.04872183981058503,0.046788715463667585,0.05675040128742237,0.06976094930867703,0.08765165674125867,0.10956957507298437,0.12849404141124382,0.14574813828272376,0.1494191912172636,0.14448029101359766],\"type\":\"scatter\"},{\"hoverinfo\":\"text+name\",\"line\":{\"shape\":\"spline\"},\"name\":\"Romance/Feelings\",\"text\":[\"tweak line smoothness<br>with 'smoothing' in line object\"],\"x\":[1992.0,1993.0,1994.0,1995.0,1996.0,1997.0,1998.0,1999.0,2000.0,2001.0,2002.0,2003.0,2004.0,2005.0,2006.0,2007.0,2008.0,2009.0,2010.0,2011.0,2012.0,2013.0,2014.0,2015.0,2016.0,2017.0,2018.0,2019.0,2020.0],\"y\":[0.12313171490665917,0.13378973158877222,0.15009791778459888,0.15247936108356797,0.1479214190256259,0.14733933536343174,0.1516996336996337,0.1322287342287342,0.13291294475505,0.13530961524873542,0.12213997239159258,0.104974966854494,0.1310692429487701,0.13441205944948137,0.12400256844297541,0.12954234117024815,0.12157507157507157,0.09177709177709178,0.08764163101512498,0.09225388867616313,0.08849213319026972,0.09736825068707687,0.10617148647104072,0.10283185503286438,0.10098651030823069,0.10146543751129582,0.09880443924330654,0.09945460847726384,0.09934711809482437],\"type\":\"scatter\"},{\"hoverinfo\":\"text+name\",\"line\":{\"shape\":\"spline\"},\"name\":\"Struggle/Grind/Hustle\",\"text\":[\"tweak line smoothness<br>with 'smoothing' in line object\"],\"x\":[1992.0,1993.0,1994.0,1995.0,1996.0,1997.0,1998.0,1999.0,2000.0,2001.0,2002.0,2003.0,2004.0,2005.0,2006.0,2007.0,2008.0,2009.0,2010.0,2011.0,2012.0,2013.0,2014.0,2015.0,2016.0,2017.0,2018.0,2019.0,2020.0],\"y\":[0.35384842829733404,0.37303285832513755,0.3861115100105308,0.38673006671156174,0.37806373304522806,0.3772448695882431,0.3584267399267399,0.34538970288970294,0.3259160186791766,0.3123396696550664,0.29381288394078064,0.2784197499429955,0.2609113324345779,0.2679525842126719,0.27063149733934616,0.26594399733934615,0.25646940646940647,0.24249634249634253,0.2038444375793773,0.17670247385204776,0.15773695661066844,0.14368842532075782,0.13490501664441554,0.12330096295511661,0.11437165332303723,0.10099590072314671,0.09286513997075156,0.0884466370580855,0.0878016947634487],\"type\":\"scatter\"},{\"hoverinfo\":\"text+name\",\"line\":{\"shape\":\"spline\"},\"name\":\"Trap/Drug\",\"text\":[\"tweak line smoothness<br>with 'smoothing' in line object\"],\"x\":[1992.0,1993.0,1994.0,1995.0,1996.0,1997.0,1998.0,1999.0,2000.0,2001.0,2002.0,2003.0,2004.0,2005.0,2006.0,2007.0,2008.0,2009.0,2010.0,2011.0,2012.0,2013.0,2014.0,2015.0,2016.0,2017.0,2018.0,2019.0,2020.0],\"y\":[0.06496390278056799,0.05861543197426585,0.058294404686946424,0.0620160541714825,0.0644136565690849,0.07134933139150007,0.06945604395604396,0.06998514448514448,0.08330093395882869,0.08134915439510883,0.07576879725225169,0.08257942848148757,0.08594643184849093,0.07044145318561754,0.0647009250570297,0.0703353947539994,0.07304857304857304,0.06782971782971783,0.07147673834420823,0.07658930870068101,0.06953601716463087,0.06522567233704465,0.06532480787515235,0.06145760791441327,0.05901054530819398,0.05470020048060777,0.04961469002192774,0.04623001087569579,0.04952826840002256],\"type\":\"scatter\"},{\"hoverinfo\":\"text+name\",\"line\":{\"shape\":\"spline\"},\"name\":\"Violence/Gangster\",\"text\":[\"tweak line smoothness<br>with 'smoothing' in line object\"],\"x\":[1992.0,1993.0,1994.0,1995.0,1996.0,1997.0,1998.0,1999.0,2000.0,2001.0,2002.0,2003.0,2004.0,2005.0,2006.0,2007.0,2008.0,2009.0,2010.0,2011.0,2012.0,2013.0,2014.0,2015.0,2016.0,2017.0,2018.0,2019.0,2020.0],\"y\":[0.07755495092240319,0.07458924193259782,0.07314461913966042,0.07783534078914496,0.0759747014285056,0.08167714815305176,0.07969780219780219,0.08022690272690272,0.073121639569008,0.08022554312813543,0.08580590027099258,0.08779925575272014,0.08662080457426898,0.08953687854297451,0.08467656472743681,0.08093603442440651,0.07761992761992761,0.08990948990948991,0.11644807668904053,0.1386181830054883,0.16087523629702435,0.18670537678233728,0.19932334807268542,0.2022998160627721,0.19690502482672412,0.19661766850488505,0.2032407926646176,0.20233130405049407,0.2008943273589349],\"type\":\"scatter\"},{\"hoverinfo\":\"text+name\",\"line\":{\"shape\":\"spline\"},\"name\":\"Feats/Artists/Shoutouts\",\"text\":[\"tweak line smoothness<br>with 'smoothing' in line object\"],\"x\":[1992.0,1993.0,1994.0,1995.0,1996.0,1997.0,1998.0,1999.0,2000.0,2001.0,2002.0,2003.0,2004.0,2005.0,2006.0,2007.0,2008.0,2009.0,2010.0,2011.0,2012.0,2013.0,2014.0,2015.0,2016.0,2017.0,2018.0,2019.0,2020.0],\"y\":[0.13103263907418336,0.13205210153942898,0.11552561678822511,0.10762870957173028,0.11656352475654545,0.1114727591685423,0.11594780219780221,0.12244515669515668,0.13465568301094616,0.14147973582380496,0.1497386643952335,0.1537253753586887,0.1505267221600355,0.14874862827667845,0.1533027805920248,0.1539183108950551,0.1787675787675788,0.2004847504847505,0.19335352287159516,0.18672437965708608,0.18573169418164198,0.16194497642940703,0.15026284461879552,0.15795552981988503,0.16371548572452882,0.1711114901032918,0.17742757600133333,0.18391257519545734,0.1898075740639796],\"type\":\"scatter\"}],                        {\"template\":{\"data\":{\"bar\":[{\"error_x\":{\"color\":\"#2a3f5f\"},\"error_y\":{\"color\":\"#2a3f5f\"},\"marker\":{\"line\":{\"color\":\"#E5ECF6\",\"width\":0.5},\"pattern\":{\"fillmode\":\"overlay\",\"size\":10,\"solidity\":0.2}},\"type\":\"bar\"}],\"barpolar\":[{\"marker\":{\"line\":{\"color\":\"#E5ECF6\",\"width\":0.5},\"pattern\":{\"fillmode\":\"overlay\",\"size\":10,\"solidity\":0.2}},\"type\":\"barpolar\"}],\"carpet\":[{\"aaxis\":{\"endlinecolor\":\"#2a3f5f\",\"gridcolor\":\"white\",\"linecolor\":\"white\",\"minorgridcolor\":\"white\",\"startlinecolor\":\"#2a3f5f\"},\"baxis\":{\"endlinecolor\":\"#2a3f5f\",\"gridcolor\":\"white\",\"linecolor\":\"white\",\"minorgridcolor\":\"white\",\"startlinecolor\":\"#2a3f5f\"},\"type\":\"carpet\"}],\"choropleth\":[{\"colorbar\":{\"outlinewidth\":0,\"ticks\":\"\"},\"type\":\"choropleth\"}],\"contour\":[{\"colorbar\":{\"outlinewidth\":0,\"ticks\":\"\"},\"colorscale\":[[0.0,\"#0d0887\"],[0.1111111111111111,\"#46039f\"],[0.2222222222222222,\"#7201a8\"],[0.3333333333333333,\"#9c179e\"],[0.4444444444444444,\"#bd3786\"],[0.5555555555555556,\"#d8576b\"],[0.6666666666666666,\"#ed7953\"],[0.7777777777777778,\"#fb9f3a\"],[0.8888888888888888,\"#fdca26\"],[1.0,\"#f0f921\"]],\"type\":\"contour\"}],\"contourcarpet\":[{\"colorbar\":{\"outlinewidth\":0,\"ticks\":\"\"},\"type\":\"contourcarpet\"}],\"heatmap\":[{\"colorbar\":{\"outlinewidth\":0,\"ticks\":\"\"},\"colorscale\":[[0.0,\"#0d0887\"],[0.1111111111111111,\"#46039f\"],[0.2222222222222222,\"#7201a8\"],[0.3333333333333333,\"#9c179e\"],[0.4444444444444444,\"#bd3786\"],[0.5555555555555556,\"#d8576b\"],[0.6666666666666666,\"#ed7953\"],[0.7777777777777778,\"#fb9f3a\"],[0.8888888888888888,\"#fdca26\"],[1.0,\"#f0f921\"]],\"type\":\"heatmap\"}],\"heatmapgl\":[{\"colorbar\":{\"outlinewidth\":0,\"ticks\":\"\"},\"colorscale\":[[0.0,\"#0d0887\"],[0.1111111111111111,\"#46039f\"],[0.2222222222222222,\"#7201a8\"],[0.3333333333333333,\"#9c179e\"],[0.4444444444444444,\"#bd3786\"],[0.5555555555555556,\"#d8576b\"],[0.6666666666666666,\"#ed7953\"],[0.7777777777777778,\"#fb9f3a\"],[0.8888888888888888,\"#fdca26\"],[1.0,\"#f0f921\"]],\"type\":\"heatmapgl\"}],\"histogram\":[{\"marker\":{\"pattern\":{\"fillmode\":\"overlay\",\"size\":10,\"solidity\":0.2}},\"type\":\"histogram\"}],\"histogram2d\":[{\"colorbar\":{\"outlinewidth\":0,\"ticks\":\"\"},\"colorscale\":[[0.0,\"#0d0887\"],[0.1111111111111111,\"#46039f\"],[0.2222222222222222,\"#7201a8\"],[0.3333333333333333,\"#9c179e\"],[0.4444444444444444,\"#bd3786\"],[0.5555555555555556,\"#d8576b\"],[0.6666666666666666,\"#ed7953\"],[0.7777777777777778,\"#fb9f3a\"],[0.8888888888888888,\"#fdca26\"],[1.0,\"#f0f921\"]],\"type\":\"histogram2d\"}],\"histogram2dcontour\":[{\"colorbar\":{\"outlinewidth\":0,\"ticks\":\"\"},\"colorscale\":[[0.0,\"#0d0887\"],[0.1111111111111111,\"#46039f\"],[0.2222222222222222,\"#7201a8\"],[0.3333333333333333,\"#9c179e\"],[0.4444444444444444,\"#bd3786\"],[0.5555555555555556,\"#d8576b\"],[0.6666666666666666,\"#ed7953\"],[0.7777777777777778,\"#fb9f3a\"],[0.8888888888888888,\"#fdca26\"],[1.0,\"#f0f921\"]],\"type\":\"histogram2dcontour\"}],\"mesh3d\":[{\"colorbar\":{\"outlinewidth\":0,\"ticks\":\"\"},\"type\":\"mesh3d\"}],\"parcoords\":[{\"line\":{\"colorbar\":{\"outlinewidth\":0,\"ticks\":\"\"}},\"type\":\"parcoords\"}],\"pie\":[{\"automargin\":true,\"type\":\"pie\"}],\"scatter\":[{\"marker\":{\"colorbar\":{\"outlinewidth\":0,\"ticks\":\"\"}},\"type\":\"scatter\"}],\"scatter3d\":[{\"line\":{\"colorbar\":{\"outlinewidth\":0,\"ticks\":\"\"}},\"marker\":{\"colorbar\":{\"outlinewidth\":0,\"ticks\":\"\"}},\"type\":\"scatter3d\"}],\"scattercarpet\":[{\"marker\":{\"colorbar\":{\"outlinewidth\":0,\"ticks\":\"\"}},\"type\":\"scattercarpet\"}],\"scattergeo\":[{\"marker\":{\"colorbar\":{\"outlinewidth\":0,\"ticks\":\"\"}},\"type\":\"scattergeo\"}],\"scattergl\":[{\"marker\":{\"colorbar\":{\"outlinewidth\":0,\"ticks\":\"\"}},\"type\":\"scattergl\"}],\"scattermapbox\":[{\"marker\":{\"colorbar\":{\"outlinewidth\":0,\"ticks\":\"\"}},\"type\":\"scattermapbox\"}],\"scatterpolar\":[{\"marker\":{\"colorbar\":{\"outlinewidth\":0,\"ticks\":\"\"}},\"type\":\"scatterpolar\"}],\"scatterpolargl\":[{\"marker\":{\"colorbar\":{\"outlinewidth\":0,\"ticks\":\"\"}},\"type\":\"scatterpolargl\"}],\"scatterternary\":[{\"marker\":{\"colorbar\":{\"outlinewidth\":0,\"ticks\":\"\"}},\"type\":\"scatterternary\"}],\"surface\":[{\"colorbar\":{\"outlinewidth\":0,\"ticks\":\"\"},\"colorscale\":[[0.0,\"#0d0887\"],[0.1111111111111111,\"#46039f\"],[0.2222222222222222,\"#7201a8\"],[0.3333333333333333,\"#9c179e\"],[0.4444444444444444,\"#bd3786\"],[0.5555555555555556,\"#d8576b\"],[0.6666666666666666,\"#ed7953\"],[0.7777777777777778,\"#fb9f3a\"],[0.8888888888888888,\"#fdca26\"],[1.0,\"#f0f921\"]],\"type\":\"surface\"}],\"table\":[{\"cells\":{\"fill\":{\"color\":\"#EBF0F8\"},\"line\":{\"color\":\"white\"}},\"header\":{\"fill\":{\"color\":\"#C8D4E3\"},\"line\":{\"color\":\"white\"}},\"type\":\"table\"}]},\"layout\":{\"annotationdefaults\":{\"arrowcolor\":\"#2a3f5f\",\"arrowhead\":0,\"arrowwidth\":1},\"autotypenumbers\":\"strict\",\"coloraxis\":{\"colorbar\":{\"outlinewidth\":0,\"ticks\":\"\"}},\"colorscale\":{\"diverging\":[[0,\"#8e0152\"],[0.1,\"#c51b7d\"],[0.2,\"#de77ae\"],[0.3,\"#f1b6da\"],[0.4,\"#fde0ef\"],[0.5,\"#f7f7f7\"],[0.6,\"#e6f5d0\"],[0.7,\"#b8e186\"],[0.8,\"#7fbc41\"],[0.9,\"#4d9221\"],[1,\"#276419\"]],\"sequential\":[[0.0,\"#0d0887\"],[0.1111111111111111,\"#46039f\"],[0.2222222222222222,\"#7201a8\"],[0.3333333333333333,\"#9c179e\"],[0.4444444444444444,\"#bd3786\"],[0.5555555555555556,\"#d8576b\"],[0.6666666666666666,\"#ed7953\"],[0.7777777777777778,\"#fb9f3a\"],[0.8888888888888888,\"#fdca26\"],[1.0,\"#f0f921\"]],\"sequentialminus\":[[0.0,\"#0d0887\"],[0.1111111111111111,\"#46039f\"],[0.2222222222222222,\"#7201a8\"],[0.3333333333333333,\"#9c179e\"],[0.4444444444444444,\"#bd3786\"],[0.5555555555555556,\"#d8576b\"],[0.6666666666666666,\"#ed7953\"],[0.7777777777777778,\"#fb9f3a\"],[0.8888888888888888,\"#fdca26\"],[1.0,\"#f0f921\"]]},\"colorway\":[\"#636efa\",\"#EF553B\",\"#00cc96\",\"#ab63fa\",\"#FFA15A\",\"#19d3f3\",\"#FF6692\",\"#B6E880\",\"#FF97FF\",\"#FECB52\"],\"font\":{\"color\":\"#2a3f5f\"},\"geo\":{\"bgcolor\":\"white\",\"lakecolor\":\"white\",\"landcolor\":\"#E5ECF6\",\"showlakes\":true,\"showland\":true,\"subunitcolor\":\"white\"},\"hoverlabel\":{\"align\":\"left\"},\"hovermode\":\"closest\",\"mapbox\":{\"style\":\"light\"},\"paper_bgcolor\":\"white\",\"plot_bgcolor\":\"#E5ECF6\",\"polar\":{\"angularaxis\":{\"gridcolor\":\"white\",\"linecolor\":\"white\",\"ticks\":\"\"},\"bgcolor\":\"#E5ECF6\",\"radialaxis\":{\"gridcolor\":\"white\",\"linecolor\":\"white\",\"ticks\":\"\"}},\"scene\":{\"xaxis\":{\"backgroundcolor\":\"#E5ECF6\",\"gridcolor\":\"white\",\"gridwidth\":2,\"linecolor\":\"white\",\"showbackground\":true,\"ticks\":\"\",\"zerolinecolor\":\"white\"},\"yaxis\":{\"backgroundcolor\":\"#E5ECF6\",\"gridcolor\":\"white\",\"gridwidth\":2,\"linecolor\":\"white\",\"showbackground\":true,\"ticks\":\"\",\"zerolinecolor\":\"white\"},\"zaxis\":{\"backgroundcolor\":\"#E5ECF6\",\"gridcolor\":\"white\",\"gridwidth\":2,\"linecolor\":\"white\",\"showbackground\":true,\"ticks\":\"\",\"zerolinecolor\":\"white\"}},\"shapedefaults\":{\"line\":{\"color\":\"#2a3f5f\"}},\"ternary\":{\"aaxis\":{\"gridcolor\":\"white\",\"linecolor\":\"white\",\"ticks\":\"\"},\"baxis\":{\"gridcolor\":\"white\",\"linecolor\":\"white\",\"ticks\":\"\"},\"bgcolor\":\"#E5ECF6\",\"caxis\":{\"gridcolor\":\"white\",\"linecolor\":\"white\",\"ticks\":\"\"}},\"title\":{\"x\":0.05},\"xaxis\":{\"automargin\":true,\"gridcolor\":\"white\",\"linecolor\":\"white\",\"ticks\":\"\",\"title\":{\"standoff\":15},\"zerolinecolor\":\"white\",\"zerolinewidth\":2},\"yaxis\":{\"automargin\":true,\"gridcolor\":\"white\",\"linecolor\":\"white\",\"ticks\":\"\",\"title\":{\"standoff\":15},\"zerolinecolor\":\"white\",\"zerolinewidth\":2}}},\"yaxis\":{\"range\":[0,0.5],\"title\":{\"text\":\"Relative Freq.\"}},\"title\":{\"text\":\"Topics Prevalence through the years (Rap)\"},\"xaxis\":{\"title\":{\"text\":\"Year\"}}},                        {\"responsive\": true}                    ).then(function(){\n",
       "                            \n",
       "var gd = document.getElementById('65d3c7c8-12cb-4f4f-a28a-2ed92f2fdcae');\n",
       "var x = new MutationObserver(function (mutations, observer) {{\n",
       "        var display = window.getComputedStyle(gd).display;\n",
       "        if (!display || display === 'none') {{\n",
       "            console.log([gd, 'removed!']);\n",
       "            Plotly.purge(gd);\n",
       "            observer.disconnect();\n",
       "        }}\n",
       "}});\n",
       "\n",
       "// Listen for the removal of the full notebook cells\n",
       "var notebookContainer = gd.closest('#notebook-container');\n",
       "if (notebookContainer) {{\n",
       "    x.observe(notebookContainer, {childList: true});\n",
       "}}\n",
       "\n",
       "// Listen for the clearing of the current output cell\n",
       "var outputEl = gd.closest('.output');\n",
       "if (outputEl) {{\n",
       "    x.observe(outputEl, {childList: true});\n",
       "}}\n",
       "\n",
       "                        })                };                });            </script>        </div>"
      ]
     },
     "metadata": {},
     "output_type": "display_data"
    }
   ],
   "source": [
    "import plotly.graph_objects as go\n",
    "import numpy as np\n",
    "\n",
    "fig = go.Figure()\n",
    "fig.update_layout(yaxis_range=[0,0.5])\n",
    "\n",
    "for t in topics:\n",
    "    if t in ['Musicality/Flow/Lyricism','Party/Sexuality','Flex']:\n",
    "        continue\n",
    "    fig.add_trace(go.Scatter(x=df_topics_smoothed_all.track_release_year, y=df_topics_smoothed_all[t], name=t,\n",
    "                    text=[\"tweak line smoothness<br>with 'smoothing' in line object\"],\n",
    "                    hoverinfo='text+name',\n",
    "                    line_shape='spline'))\n",
    "    \n",
    "fig.update_layout(\n",
    "    title=\"Topics Prevalence through the years (Rap)\",\n",
    "    xaxis_title=\"Year\",\n",
    "    yaxis_title=\"Relative Freq.\")\n",
    "fig.show()"
   ]
  },
  {
   "cell_type": "code",
   "execution_count": 15,
   "id": "09bf82c3",
   "metadata": {},
   "outputs": [
    {
     "data": {
      "application/vnd.plotly.v1+json": {
       "config": {
        "plotlyServerURL": "https://plot.ly"
       },
       "data": [
        {
         "hoverinfo": "text+name",
         "line": {
          "shape": "spline"
         },
         "name": "Flex/Money",
         "text": [
          "tweak line smoothness<br>with 'smoothing' in line object"
         ],
         "type": "scatter",
         "x": [
          2001.8,
          2003.4,
          2004.8,
          2006.8,
          2009,
          2011.8,
          2014.2,
          2016.6,
          2018.4
         ],
         "y": [
          0.03373015873015873,
          0.030158730158730156,
          0.03333333333333333,
          0.02857142857142857,
          0.026785714285714284,
          0.026785714285714284,
          0.03345238095238095,
          0.019166666666666665,
          0.023928571428571428
         ]
        },
        {
         "hoverinfo": "text+name",
         "line": {
          "shape": "spline"
         },
         "name": "Romance/Feelings",
         "text": [
          "tweak line smoothness<br>with 'smoothing' in line object"
         ],
         "type": "scatter",
         "x": [
          2001.8,
          2003.4,
          2004.8,
          2006.8,
          2009,
          2011.8,
          2014.2,
          2016.6,
          2018.4
         ],
         "y": [
          0.08492063492063492,
          0.08828197945845004,
          0.07320261437908497,
          0.08431372549019608,
          0.07270658263305321,
          0.08143674136321195,
          0.07712301587301587,
          0.06998015873015873,
          0.08267857142857142
         ]
        },
        {
         "hoverinfo": "text+name",
         "line": {
          "shape": "spline"
         },
         "name": "Struggle/Grind/Hustle",
         "text": [
          "tweak line smoothness<br>with 'smoothing' in line object"
         ],
         "type": "scatter",
         "x": [
          2001.8,
          2003.4,
          2004.8,
          2006.8,
          2009,
          2011.8,
          2014.2,
          2016.6,
          2018.4
         ],
         "y": [
          0.35277777777777775,
          0.3685340802987862,
          0.34710550887021474,
          0.34789915966386553,
          0.36754201680672266,
          0.3326213818860878,
          0.3028174603174604,
          0.29091269841269846,
          0.28535714285714286
         ]
        },
        {
         "hoverinfo": "text+name",
         "line": {
          "shape": "spline"
         },
         "name": "Trap/Drug",
         "text": [
          "tweak line smoothness<br>with 'smoothing' in line object"
         ],
         "type": "scatter",
         "x": [
          2001.8,
          2003.4,
          2004.8,
          2006.8,
          2009,
          2011.8,
          2014.2,
          2016.6,
          2018.4
         ],
         "y": [
          0.09246031746031745,
          0.09813258636788047,
          0.11241830065359477,
          0.12194211017740428,
          0.11212068160597573,
          0.11846988795518207,
          0.1282738095238095,
          0.14732142857142855,
          0.11875
         ]
        },
        {
         "hoverinfo": "text+name",
         "line": {
          "shape": "spline"
         },
         "name": "Violence/Gangster",
         "text": [
          "tweak line smoothness<br>with 'smoothing' in line object"
         ],
         "type": "scatter",
         "x": [
          2001.8,
          2003.4,
          2004.8,
          2006.8,
          2009,
          2011.8,
          2014.2,
          2016.6,
          2018.4
         ],
         "y": [
          0.08333333333333333,
          0.07366946778711483,
          0.05859010270774976,
          0.05859010270774976,
          0.048768674136321195,
          0.051943277310924366,
          0.04684523809523809,
          0.07303571428571429,
          0.09208333333333332
         ]
        },
        {
         "hoverinfo": "text+name",
         "line": {
          "shape": "spline"
         },
         "name": "Feats/Artists/Shoutouts",
         "text": [
          "tweak line smoothness<br>with 'smoothing' in line object"
         ],
         "type": "scatter",
         "x": [
          2001.8,
          2003.4,
          2004.8,
          2006.8,
          2009,
          2011.8,
          2014.2,
          2016.6,
          2018.4
         ],
         "y": [
          0.19841269841269843,
          0.19084967320261437,
          0.19323062558356677,
          0.19957983193277312,
          0.18975840336134456,
          0.2056314192343604,
          0.2303373015873016,
          0.22795634920634922,
          0.23113095238095238
         ]
        }
       ],
       "layout": {
        "template": {
         "data": {
          "bar": [
           {
            "error_x": {
             "color": "#2a3f5f"
            },
            "error_y": {
             "color": "#2a3f5f"
            },
            "marker": {
             "line": {
              "color": "#E5ECF6",
              "width": 0.5
             },
             "pattern": {
              "fillmode": "overlay",
              "size": 10,
              "solidity": 0.2
             }
            },
            "type": "bar"
           }
          ],
          "barpolar": [
           {
            "marker": {
             "line": {
              "color": "#E5ECF6",
              "width": 0.5
             },
             "pattern": {
              "fillmode": "overlay",
              "size": 10,
              "solidity": 0.2
             }
            },
            "type": "barpolar"
           }
          ],
          "carpet": [
           {
            "aaxis": {
             "endlinecolor": "#2a3f5f",
             "gridcolor": "white",
             "linecolor": "white",
             "minorgridcolor": "white",
             "startlinecolor": "#2a3f5f"
            },
            "baxis": {
             "endlinecolor": "#2a3f5f",
             "gridcolor": "white",
             "linecolor": "white",
             "minorgridcolor": "white",
             "startlinecolor": "#2a3f5f"
            },
            "type": "carpet"
           }
          ],
          "choropleth": [
           {
            "colorbar": {
             "outlinewidth": 0,
             "ticks": ""
            },
            "type": "choropleth"
           }
          ],
          "contour": [
           {
            "colorbar": {
             "outlinewidth": 0,
             "ticks": ""
            },
            "colorscale": [
             [
              0,
              "#0d0887"
             ],
             [
              0.1111111111111111,
              "#46039f"
             ],
             [
              0.2222222222222222,
              "#7201a8"
             ],
             [
              0.3333333333333333,
              "#9c179e"
             ],
             [
              0.4444444444444444,
              "#bd3786"
             ],
             [
              0.5555555555555556,
              "#d8576b"
             ],
             [
              0.6666666666666666,
              "#ed7953"
             ],
             [
              0.7777777777777778,
              "#fb9f3a"
             ],
             [
              0.8888888888888888,
              "#fdca26"
             ],
             [
              1,
              "#f0f921"
             ]
            ],
            "type": "contour"
           }
          ],
          "contourcarpet": [
           {
            "colorbar": {
             "outlinewidth": 0,
             "ticks": ""
            },
            "type": "contourcarpet"
           }
          ],
          "heatmap": [
           {
            "colorbar": {
             "outlinewidth": 0,
             "ticks": ""
            },
            "colorscale": [
             [
              0,
              "#0d0887"
             ],
             [
              0.1111111111111111,
              "#46039f"
             ],
             [
              0.2222222222222222,
              "#7201a8"
             ],
             [
              0.3333333333333333,
              "#9c179e"
             ],
             [
              0.4444444444444444,
              "#bd3786"
             ],
             [
              0.5555555555555556,
              "#d8576b"
             ],
             [
              0.6666666666666666,
              "#ed7953"
             ],
             [
              0.7777777777777778,
              "#fb9f3a"
             ],
             [
              0.8888888888888888,
              "#fdca26"
             ],
             [
              1,
              "#f0f921"
             ]
            ],
            "type": "heatmap"
           }
          ],
          "heatmapgl": [
           {
            "colorbar": {
             "outlinewidth": 0,
             "ticks": ""
            },
            "colorscale": [
             [
              0,
              "#0d0887"
             ],
             [
              0.1111111111111111,
              "#46039f"
             ],
             [
              0.2222222222222222,
              "#7201a8"
             ],
             [
              0.3333333333333333,
              "#9c179e"
             ],
             [
              0.4444444444444444,
              "#bd3786"
             ],
             [
              0.5555555555555556,
              "#d8576b"
             ],
             [
              0.6666666666666666,
              "#ed7953"
             ],
             [
              0.7777777777777778,
              "#fb9f3a"
             ],
             [
              0.8888888888888888,
              "#fdca26"
             ],
             [
              1,
              "#f0f921"
             ]
            ],
            "type": "heatmapgl"
           }
          ],
          "histogram": [
           {
            "marker": {
             "pattern": {
              "fillmode": "overlay",
              "size": 10,
              "solidity": 0.2
             }
            },
            "type": "histogram"
           }
          ],
          "histogram2d": [
           {
            "colorbar": {
             "outlinewidth": 0,
             "ticks": ""
            },
            "colorscale": [
             [
              0,
              "#0d0887"
             ],
             [
              0.1111111111111111,
              "#46039f"
             ],
             [
              0.2222222222222222,
              "#7201a8"
             ],
             [
              0.3333333333333333,
              "#9c179e"
             ],
             [
              0.4444444444444444,
              "#bd3786"
             ],
             [
              0.5555555555555556,
              "#d8576b"
             ],
             [
              0.6666666666666666,
              "#ed7953"
             ],
             [
              0.7777777777777778,
              "#fb9f3a"
             ],
             [
              0.8888888888888888,
              "#fdca26"
             ],
             [
              1,
              "#f0f921"
             ]
            ],
            "type": "histogram2d"
           }
          ],
          "histogram2dcontour": [
           {
            "colorbar": {
             "outlinewidth": 0,
             "ticks": ""
            },
            "colorscale": [
             [
              0,
              "#0d0887"
             ],
             [
              0.1111111111111111,
              "#46039f"
             ],
             [
              0.2222222222222222,
              "#7201a8"
             ],
             [
              0.3333333333333333,
              "#9c179e"
             ],
             [
              0.4444444444444444,
              "#bd3786"
             ],
             [
              0.5555555555555556,
              "#d8576b"
             ],
             [
              0.6666666666666666,
              "#ed7953"
             ],
             [
              0.7777777777777778,
              "#fb9f3a"
             ],
             [
              0.8888888888888888,
              "#fdca26"
             ],
             [
              1,
              "#f0f921"
             ]
            ],
            "type": "histogram2dcontour"
           }
          ],
          "mesh3d": [
           {
            "colorbar": {
             "outlinewidth": 0,
             "ticks": ""
            },
            "type": "mesh3d"
           }
          ],
          "parcoords": [
           {
            "line": {
             "colorbar": {
              "outlinewidth": 0,
              "ticks": ""
             }
            },
            "type": "parcoords"
           }
          ],
          "pie": [
           {
            "automargin": true,
            "type": "pie"
           }
          ],
          "scatter": [
           {
            "marker": {
             "colorbar": {
              "outlinewidth": 0,
              "ticks": ""
             }
            },
            "type": "scatter"
           }
          ],
          "scatter3d": [
           {
            "line": {
             "colorbar": {
              "outlinewidth": 0,
              "ticks": ""
             }
            },
            "marker": {
             "colorbar": {
              "outlinewidth": 0,
              "ticks": ""
             }
            },
            "type": "scatter3d"
           }
          ],
          "scattercarpet": [
           {
            "marker": {
             "colorbar": {
              "outlinewidth": 0,
              "ticks": ""
             }
            },
            "type": "scattercarpet"
           }
          ],
          "scattergeo": [
           {
            "marker": {
             "colorbar": {
              "outlinewidth": 0,
              "ticks": ""
             }
            },
            "type": "scattergeo"
           }
          ],
          "scattergl": [
           {
            "marker": {
             "colorbar": {
              "outlinewidth": 0,
              "ticks": ""
             }
            },
            "type": "scattergl"
           }
          ],
          "scattermapbox": [
           {
            "marker": {
             "colorbar": {
              "outlinewidth": 0,
              "ticks": ""
             }
            },
            "type": "scattermapbox"
           }
          ],
          "scatterpolar": [
           {
            "marker": {
             "colorbar": {
              "outlinewidth": 0,
              "ticks": ""
             }
            },
            "type": "scatterpolar"
           }
          ],
          "scatterpolargl": [
           {
            "marker": {
             "colorbar": {
              "outlinewidth": 0,
              "ticks": ""
             }
            },
            "type": "scatterpolargl"
           }
          ],
          "scatterternary": [
           {
            "marker": {
             "colorbar": {
              "outlinewidth": 0,
              "ticks": ""
             }
            },
            "type": "scatterternary"
           }
          ],
          "surface": [
           {
            "colorbar": {
             "outlinewidth": 0,
             "ticks": ""
            },
            "colorscale": [
             [
              0,
              "#0d0887"
             ],
             [
              0.1111111111111111,
              "#46039f"
             ],
             [
              0.2222222222222222,
              "#7201a8"
             ],
             [
              0.3333333333333333,
              "#9c179e"
             ],
             [
              0.4444444444444444,
              "#bd3786"
             ],
             [
              0.5555555555555556,
              "#d8576b"
             ],
             [
              0.6666666666666666,
              "#ed7953"
             ],
             [
              0.7777777777777778,
              "#fb9f3a"
             ],
             [
              0.8888888888888888,
              "#fdca26"
             ],
             [
              1,
              "#f0f921"
             ]
            ],
            "type": "surface"
           }
          ],
          "table": [
           {
            "cells": {
             "fill": {
              "color": "#EBF0F8"
             },
             "line": {
              "color": "white"
             }
            },
            "header": {
             "fill": {
              "color": "#C8D4E3"
             },
             "line": {
              "color": "white"
             }
            },
            "type": "table"
           }
          ]
         },
         "layout": {
          "annotationdefaults": {
           "arrowcolor": "#2a3f5f",
           "arrowhead": 0,
           "arrowwidth": 1
          },
          "autotypenumbers": "strict",
          "coloraxis": {
           "colorbar": {
            "outlinewidth": 0,
            "ticks": ""
           }
          },
          "colorscale": {
           "diverging": [
            [
             0,
             "#8e0152"
            ],
            [
             0.1,
             "#c51b7d"
            ],
            [
             0.2,
             "#de77ae"
            ],
            [
             0.3,
             "#f1b6da"
            ],
            [
             0.4,
             "#fde0ef"
            ],
            [
             0.5,
             "#f7f7f7"
            ],
            [
             0.6,
             "#e6f5d0"
            ],
            [
             0.7,
             "#b8e186"
            ],
            [
             0.8,
             "#7fbc41"
            ],
            [
             0.9,
             "#4d9221"
            ],
            [
             1,
             "#276419"
            ]
           ],
           "sequential": [
            [
             0,
             "#0d0887"
            ],
            [
             0.1111111111111111,
             "#46039f"
            ],
            [
             0.2222222222222222,
             "#7201a8"
            ],
            [
             0.3333333333333333,
             "#9c179e"
            ],
            [
             0.4444444444444444,
             "#bd3786"
            ],
            [
             0.5555555555555556,
             "#d8576b"
            ],
            [
             0.6666666666666666,
             "#ed7953"
            ],
            [
             0.7777777777777778,
             "#fb9f3a"
            ],
            [
             0.8888888888888888,
             "#fdca26"
            ],
            [
             1,
             "#f0f921"
            ]
           ],
           "sequentialminus": [
            [
             0,
             "#0d0887"
            ],
            [
             0.1111111111111111,
             "#46039f"
            ],
            [
             0.2222222222222222,
             "#7201a8"
            ],
            [
             0.3333333333333333,
             "#9c179e"
            ],
            [
             0.4444444444444444,
             "#bd3786"
            ],
            [
             0.5555555555555556,
             "#d8576b"
            ],
            [
             0.6666666666666666,
             "#ed7953"
            ],
            [
             0.7777777777777778,
             "#fb9f3a"
            ],
            [
             0.8888888888888888,
             "#fdca26"
            ],
            [
             1,
             "#f0f921"
            ]
           ]
          },
          "colorway": [
           "#636efa",
           "#EF553B",
           "#00cc96",
           "#ab63fa",
           "#FFA15A",
           "#19d3f3",
           "#FF6692",
           "#B6E880",
           "#FF97FF",
           "#FECB52"
          ],
          "font": {
           "color": "#2a3f5f"
          },
          "geo": {
           "bgcolor": "white",
           "lakecolor": "white",
           "landcolor": "#E5ECF6",
           "showlakes": true,
           "showland": true,
           "subunitcolor": "white"
          },
          "hoverlabel": {
           "align": "left"
          },
          "hovermode": "closest",
          "mapbox": {
           "style": "light"
          },
          "paper_bgcolor": "white",
          "plot_bgcolor": "#E5ECF6",
          "polar": {
           "angularaxis": {
            "gridcolor": "white",
            "linecolor": "white",
            "ticks": ""
           },
           "bgcolor": "#E5ECF6",
           "radialaxis": {
            "gridcolor": "white",
            "linecolor": "white",
            "ticks": ""
           }
          },
          "scene": {
           "xaxis": {
            "backgroundcolor": "#E5ECF6",
            "gridcolor": "white",
            "gridwidth": 2,
            "linecolor": "white",
            "showbackground": true,
            "ticks": "",
            "zerolinecolor": "white"
           },
           "yaxis": {
            "backgroundcolor": "#E5ECF6",
            "gridcolor": "white",
            "gridwidth": 2,
            "linecolor": "white",
            "showbackground": true,
            "ticks": "",
            "zerolinecolor": "white"
           },
           "zaxis": {
            "backgroundcolor": "#E5ECF6",
            "gridcolor": "white",
            "gridwidth": 2,
            "linecolor": "white",
            "showbackground": true,
            "ticks": "",
            "zerolinecolor": "white"
           }
          },
          "shapedefaults": {
           "line": {
            "color": "#2a3f5f"
           }
          },
          "ternary": {
           "aaxis": {
            "gridcolor": "white",
            "linecolor": "white",
            "ticks": ""
           },
           "baxis": {
            "gridcolor": "white",
            "linecolor": "white",
            "ticks": ""
           },
           "bgcolor": "#E5ECF6",
           "caxis": {
            "gridcolor": "white",
            "linecolor": "white",
            "ticks": ""
           }
          },
          "title": {
           "x": 0.05
          },
          "xaxis": {
           "automargin": true,
           "gridcolor": "white",
           "linecolor": "white",
           "ticks": "",
           "title": {
            "standoff": 15
           },
           "zerolinecolor": "white",
           "zerolinewidth": 2
          },
          "yaxis": {
           "automargin": true,
           "gridcolor": "white",
           "linecolor": "white",
           "ticks": "",
           "title": {
            "standoff": 15
           },
           "zerolinecolor": "white",
           "zerolinewidth": 2
          }
         }
        },
        "title": {
         "text": "Topics Prevalence through the years (Nas)"
        },
        "xaxis": {
         "title": {
          "text": "Year"
         }
        },
        "yaxis": {
         "range": [
          0,
          0.5
         ],
         "title": {
          "text": "Relative Freq."
         }
        }
       }
      },
      "text/html": [
       "<div>                            <div id=\"615fd18e-e30c-4cbc-9e10-c44ee934ad50\" class=\"plotly-graph-div\" style=\"height:525px; width:100%;\"></div>            <script type=\"text/javascript\">                require([\"plotly\"], function(Plotly) {                    window.PLOTLYENV=window.PLOTLYENV || {};                                    if (document.getElementById(\"615fd18e-e30c-4cbc-9e10-c44ee934ad50\")) {                    Plotly.newPlot(                        \"615fd18e-e30c-4cbc-9e10-c44ee934ad50\",                        [{\"hoverinfo\":\"text+name\",\"line\":{\"shape\":\"spline\"},\"name\":\"Flex/Money\",\"text\":[\"tweak line smoothness<br>with 'smoothing' in line object\"],\"x\":[2001.8,2003.4,2004.8,2006.8,2009.0,2011.8,2014.2,2016.6,2018.4],\"y\":[0.03373015873015873,0.030158730158730156,0.03333333333333333,0.02857142857142857,0.026785714285714284,0.026785714285714284,0.03345238095238095,0.019166666666666665,0.023928571428571428],\"type\":\"scatter\"},{\"hoverinfo\":\"text+name\",\"line\":{\"shape\":\"spline\"},\"name\":\"Romance/Feelings\",\"text\":[\"tweak line smoothness<br>with 'smoothing' in line object\"],\"x\":[2001.8,2003.4,2004.8,2006.8,2009.0,2011.8,2014.2,2016.6,2018.4],\"y\":[0.08492063492063492,0.08828197945845004,0.07320261437908497,0.08431372549019608,0.07270658263305321,0.08143674136321195,0.07712301587301587,0.06998015873015873,0.08267857142857142],\"type\":\"scatter\"},{\"hoverinfo\":\"text+name\",\"line\":{\"shape\":\"spline\"},\"name\":\"Struggle/Grind/Hustle\",\"text\":[\"tweak line smoothness<br>with 'smoothing' in line object\"],\"x\":[2001.8,2003.4,2004.8,2006.8,2009.0,2011.8,2014.2,2016.6,2018.4],\"y\":[0.35277777777777775,0.3685340802987862,0.34710550887021474,0.34789915966386553,0.36754201680672266,0.3326213818860878,0.3028174603174604,0.29091269841269846,0.28535714285714286],\"type\":\"scatter\"},{\"hoverinfo\":\"text+name\",\"line\":{\"shape\":\"spline\"},\"name\":\"Trap/Drug\",\"text\":[\"tweak line smoothness<br>with 'smoothing' in line object\"],\"x\":[2001.8,2003.4,2004.8,2006.8,2009.0,2011.8,2014.2,2016.6,2018.4],\"y\":[0.09246031746031745,0.09813258636788047,0.11241830065359477,0.12194211017740428,0.11212068160597573,0.11846988795518207,0.1282738095238095,0.14732142857142855,0.11875],\"type\":\"scatter\"},{\"hoverinfo\":\"text+name\",\"line\":{\"shape\":\"spline\"},\"name\":\"Violence/Gangster\",\"text\":[\"tweak line smoothness<br>with 'smoothing' in line object\"],\"x\":[2001.8,2003.4,2004.8,2006.8,2009.0,2011.8,2014.2,2016.6,2018.4],\"y\":[0.08333333333333333,0.07366946778711483,0.05859010270774976,0.05859010270774976,0.048768674136321195,0.051943277310924366,0.04684523809523809,0.07303571428571429,0.09208333333333332],\"type\":\"scatter\"},{\"hoverinfo\":\"text+name\",\"line\":{\"shape\":\"spline\"},\"name\":\"Feats/Artists/Shoutouts\",\"text\":[\"tweak line smoothness<br>with 'smoothing' in line object\"],\"x\":[2001.8,2003.4,2004.8,2006.8,2009.0,2011.8,2014.2,2016.6,2018.4],\"y\":[0.19841269841269843,0.19084967320261437,0.19323062558356677,0.19957983193277312,0.18975840336134456,0.2056314192343604,0.2303373015873016,0.22795634920634922,0.23113095238095238],\"type\":\"scatter\"}],                        {\"template\":{\"data\":{\"bar\":[{\"error_x\":{\"color\":\"#2a3f5f\"},\"error_y\":{\"color\":\"#2a3f5f\"},\"marker\":{\"line\":{\"color\":\"#E5ECF6\",\"width\":0.5},\"pattern\":{\"fillmode\":\"overlay\",\"size\":10,\"solidity\":0.2}},\"type\":\"bar\"}],\"barpolar\":[{\"marker\":{\"line\":{\"color\":\"#E5ECF6\",\"width\":0.5},\"pattern\":{\"fillmode\":\"overlay\",\"size\":10,\"solidity\":0.2}},\"type\":\"barpolar\"}],\"carpet\":[{\"aaxis\":{\"endlinecolor\":\"#2a3f5f\",\"gridcolor\":\"white\",\"linecolor\":\"white\",\"minorgridcolor\":\"white\",\"startlinecolor\":\"#2a3f5f\"},\"baxis\":{\"endlinecolor\":\"#2a3f5f\",\"gridcolor\":\"white\",\"linecolor\":\"white\",\"minorgridcolor\":\"white\",\"startlinecolor\":\"#2a3f5f\"},\"type\":\"carpet\"}],\"choropleth\":[{\"colorbar\":{\"outlinewidth\":0,\"ticks\":\"\"},\"type\":\"choropleth\"}],\"contour\":[{\"colorbar\":{\"outlinewidth\":0,\"ticks\":\"\"},\"colorscale\":[[0.0,\"#0d0887\"],[0.1111111111111111,\"#46039f\"],[0.2222222222222222,\"#7201a8\"],[0.3333333333333333,\"#9c179e\"],[0.4444444444444444,\"#bd3786\"],[0.5555555555555556,\"#d8576b\"],[0.6666666666666666,\"#ed7953\"],[0.7777777777777778,\"#fb9f3a\"],[0.8888888888888888,\"#fdca26\"],[1.0,\"#f0f921\"]],\"type\":\"contour\"}],\"contourcarpet\":[{\"colorbar\":{\"outlinewidth\":0,\"ticks\":\"\"},\"type\":\"contourcarpet\"}],\"heatmap\":[{\"colorbar\":{\"outlinewidth\":0,\"ticks\":\"\"},\"colorscale\":[[0.0,\"#0d0887\"],[0.1111111111111111,\"#46039f\"],[0.2222222222222222,\"#7201a8\"],[0.3333333333333333,\"#9c179e\"],[0.4444444444444444,\"#bd3786\"],[0.5555555555555556,\"#d8576b\"],[0.6666666666666666,\"#ed7953\"],[0.7777777777777778,\"#fb9f3a\"],[0.8888888888888888,\"#fdca26\"],[1.0,\"#f0f921\"]],\"type\":\"heatmap\"}],\"heatmapgl\":[{\"colorbar\":{\"outlinewidth\":0,\"ticks\":\"\"},\"colorscale\":[[0.0,\"#0d0887\"],[0.1111111111111111,\"#46039f\"],[0.2222222222222222,\"#7201a8\"],[0.3333333333333333,\"#9c179e\"],[0.4444444444444444,\"#bd3786\"],[0.5555555555555556,\"#d8576b\"],[0.6666666666666666,\"#ed7953\"],[0.7777777777777778,\"#fb9f3a\"],[0.8888888888888888,\"#fdca26\"],[1.0,\"#f0f921\"]],\"type\":\"heatmapgl\"}],\"histogram\":[{\"marker\":{\"pattern\":{\"fillmode\":\"overlay\",\"size\":10,\"solidity\":0.2}},\"type\":\"histogram\"}],\"histogram2d\":[{\"colorbar\":{\"outlinewidth\":0,\"ticks\":\"\"},\"colorscale\":[[0.0,\"#0d0887\"],[0.1111111111111111,\"#46039f\"],[0.2222222222222222,\"#7201a8\"],[0.3333333333333333,\"#9c179e\"],[0.4444444444444444,\"#bd3786\"],[0.5555555555555556,\"#d8576b\"],[0.6666666666666666,\"#ed7953\"],[0.7777777777777778,\"#fb9f3a\"],[0.8888888888888888,\"#fdca26\"],[1.0,\"#f0f921\"]],\"type\":\"histogram2d\"}],\"histogram2dcontour\":[{\"colorbar\":{\"outlinewidth\":0,\"ticks\":\"\"},\"colorscale\":[[0.0,\"#0d0887\"],[0.1111111111111111,\"#46039f\"],[0.2222222222222222,\"#7201a8\"],[0.3333333333333333,\"#9c179e\"],[0.4444444444444444,\"#bd3786\"],[0.5555555555555556,\"#d8576b\"],[0.6666666666666666,\"#ed7953\"],[0.7777777777777778,\"#fb9f3a\"],[0.8888888888888888,\"#fdca26\"],[1.0,\"#f0f921\"]],\"type\":\"histogram2dcontour\"}],\"mesh3d\":[{\"colorbar\":{\"outlinewidth\":0,\"ticks\":\"\"},\"type\":\"mesh3d\"}],\"parcoords\":[{\"line\":{\"colorbar\":{\"outlinewidth\":0,\"ticks\":\"\"}},\"type\":\"parcoords\"}],\"pie\":[{\"automargin\":true,\"type\":\"pie\"}],\"scatter\":[{\"marker\":{\"colorbar\":{\"outlinewidth\":0,\"ticks\":\"\"}},\"type\":\"scatter\"}],\"scatter3d\":[{\"line\":{\"colorbar\":{\"outlinewidth\":0,\"ticks\":\"\"}},\"marker\":{\"colorbar\":{\"outlinewidth\":0,\"ticks\":\"\"}},\"type\":\"scatter3d\"}],\"scattercarpet\":[{\"marker\":{\"colorbar\":{\"outlinewidth\":0,\"ticks\":\"\"}},\"type\":\"scattercarpet\"}],\"scattergeo\":[{\"marker\":{\"colorbar\":{\"outlinewidth\":0,\"ticks\":\"\"}},\"type\":\"scattergeo\"}],\"scattergl\":[{\"marker\":{\"colorbar\":{\"outlinewidth\":0,\"ticks\":\"\"}},\"type\":\"scattergl\"}],\"scattermapbox\":[{\"marker\":{\"colorbar\":{\"outlinewidth\":0,\"ticks\":\"\"}},\"type\":\"scattermapbox\"}],\"scatterpolar\":[{\"marker\":{\"colorbar\":{\"outlinewidth\":0,\"ticks\":\"\"}},\"type\":\"scatterpolar\"}],\"scatterpolargl\":[{\"marker\":{\"colorbar\":{\"outlinewidth\":0,\"ticks\":\"\"}},\"type\":\"scatterpolargl\"}],\"scatterternary\":[{\"marker\":{\"colorbar\":{\"outlinewidth\":0,\"ticks\":\"\"}},\"type\":\"scatterternary\"}],\"surface\":[{\"colorbar\":{\"outlinewidth\":0,\"ticks\":\"\"},\"colorscale\":[[0.0,\"#0d0887\"],[0.1111111111111111,\"#46039f\"],[0.2222222222222222,\"#7201a8\"],[0.3333333333333333,\"#9c179e\"],[0.4444444444444444,\"#bd3786\"],[0.5555555555555556,\"#d8576b\"],[0.6666666666666666,\"#ed7953\"],[0.7777777777777778,\"#fb9f3a\"],[0.8888888888888888,\"#fdca26\"],[1.0,\"#f0f921\"]],\"type\":\"surface\"}],\"table\":[{\"cells\":{\"fill\":{\"color\":\"#EBF0F8\"},\"line\":{\"color\":\"white\"}},\"header\":{\"fill\":{\"color\":\"#C8D4E3\"},\"line\":{\"color\":\"white\"}},\"type\":\"table\"}]},\"layout\":{\"annotationdefaults\":{\"arrowcolor\":\"#2a3f5f\",\"arrowhead\":0,\"arrowwidth\":1},\"autotypenumbers\":\"strict\",\"coloraxis\":{\"colorbar\":{\"outlinewidth\":0,\"ticks\":\"\"}},\"colorscale\":{\"diverging\":[[0,\"#8e0152\"],[0.1,\"#c51b7d\"],[0.2,\"#de77ae\"],[0.3,\"#f1b6da\"],[0.4,\"#fde0ef\"],[0.5,\"#f7f7f7\"],[0.6,\"#e6f5d0\"],[0.7,\"#b8e186\"],[0.8,\"#7fbc41\"],[0.9,\"#4d9221\"],[1,\"#276419\"]],\"sequential\":[[0.0,\"#0d0887\"],[0.1111111111111111,\"#46039f\"],[0.2222222222222222,\"#7201a8\"],[0.3333333333333333,\"#9c179e\"],[0.4444444444444444,\"#bd3786\"],[0.5555555555555556,\"#d8576b\"],[0.6666666666666666,\"#ed7953\"],[0.7777777777777778,\"#fb9f3a\"],[0.8888888888888888,\"#fdca26\"],[1.0,\"#f0f921\"]],\"sequentialminus\":[[0.0,\"#0d0887\"],[0.1111111111111111,\"#46039f\"],[0.2222222222222222,\"#7201a8\"],[0.3333333333333333,\"#9c179e\"],[0.4444444444444444,\"#bd3786\"],[0.5555555555555556,\"#d8576b\"],[0.6666666666666666,\"#ed7953\"],[0.7777777777777778,\"#fb9f3a\"],[0.8888888888888888,\"#fdca26\"],[1.0,\"#f0f921\"]]},\"colorway\":[\"#636efa\",\"#EF553B\",\"#00cc96\",\"#ab63fa\",\"#FFA15A\",\"#19d3f3\",\"#FF6692\",\"#B6E880\",\"#FF97FF\",\"#FECB52\"],\"font\":{\"color\":\"#2a3f5f\"},\"geo\":{\"bgcolor\":\"white\",\"lakecolor\":\"white\",\"landcolor\":\"#E5ECF6\",\"showlakes\":true,\"showland\":true,\"subunitcolor\":\"white\"},\"hoverlabel\":{\"align\":\"left\"},\"hovermode\":\"closest\",\"mapbox\":{\"style\":\"light\"},\"paper_bgcolor\":\"white\",\"plot_bgcolor\":\"#E5ECF6\",\"polar\":{\"angularaxis\":{\"gridcolor\":\"white\",\"linecolor\":\"white\",\"ticks\":\"\"},\"bgcolor\":\"#E5ECF6\",\"radialaxis\":{\"gridcolor\":\"white\",\"linecolor\":\"white\",\"ticks\":\"\"}},\"scene\":{\"xaxis\":{\"backgroundcolor\":\"#E5ECF6\",\"gridcolor\":\"white\",\"gridwidth\":2,\"linecolor\":\"white\",\"showbackground\":true,\"ticks\":\"\",\"zerolinecolor\":\"white\"},\"yaxis\":{\"backgroundcolor\":\"#E5ECF6\",\"gridcolor\":\"white\",\"gridwidth\":2,\"linecolor\":\"white\",\"showbackground\":true,\"ticks\":\"\",\"zerolinecolor\":\"white\"},\"zaxis\":{\"backgroundcolor\":\"#E5ECF6\",\"gridcolor\":\"white\",\"gridwidth\":2,\"linecolor\":\"white\",\"showbackground\":true,\"ticks\":\"\",\"zerolinecolor\":\"white\"}},\"shapedefaults\":{\"line\":{\"color\":\"#2a3f5f\"}},\"ternary\":{\"aaxis\":{\"gridcolor\":\"white\",\"linecolor\":\"white\",\"ticks\":\"\"},\"baxis\":{\"gridcolor\":\"white\",\"linecolor\":\"white\",\"ticks\":\"\"},\"bgcolor\":\"#E5ECF6\",\"caxis\":{\"gridcolor\":\"white\",\"linecolor\":\"white\",\"ticks\":\"\"}},\"title\":{\"x\":0.05},\"xaxis\":{\"automargin\":true,\"gridcolor\":\"white\",\"linecolor\":\"white\",\"ticks\":\"\",\"title\":{\"standoff\":15},\"zerolinecolor\":\"white\",\"zerolinewidth\":2},\"yaxis\":{\"automargin\":true,\"gridcolor\":\"white\",\"linecolor\":\"white\",\"ticks\":\"\",\"title\":{\"standoff\":15},\"zerolinecolor\":\"white\",\"zerolinewidth\":2}}},\"yaxis\":{\"range\":[0,0.5],\"title\":{\"text\":\"Relative Freq.\"}},\"title\":{\"text\":\"Topics Prevalence through the years (Nas)\"},\"xaxis\":{\"title\":{\"text\":\"Year\"}}},                        {\"responsive\": true}                    ).then(function(){\n",
       "                            \n",
       "var gd = document.getElementById('615fd18e-e30c-4cbc-9e10-c44ee934ad50');\n",
       "var x = new MutationObserver(function (mutations, observer) {{\n",
       "        var display = window.getComputedStyle(gd).display;\n",
       "        if (!display || display === 'none') {{\n",
       "            console.log([gd, 'removed!']);\n",
       "            Plotly.purge(gd);\n",
       "            observer.disconnect();\n",
       "        }}\n",
       "}});\n",
       "\n",
       "// Listen for the removal of the full notebook cells\n",
       "var notebookContainer = gd.closest('#notebook-container');\n",
       "if (notebookContainer) {{\n",
       "    x.observe(notebookContainer, {childList: true});\n",
       "}}\n",
       "\n",
       "// Listen for the clearing of the current output cell\n",
       "var outputEl = gd.closest('.output');\n",
       "if (outputEl) {{\n",
       "    x.observe(outputEl, {childList: true});\n",
       "}}\n",
       "\n",
       "                        })                };                });            </script>        </div>"
      ]
     },
     "metadata": {},
     "output_type": "display_data"
    }
   ],
   "source": [
    "df_topics_smoothed_nas = df_topics_nas.rolling(window=5).mean().dropna()\n",
    "\n",
    "import plotly.graph_objects as go\n",
    "import numpy as np\n",
    "\n",
    "fig = go.Figure()\n",
    "fig.update_layout(yaxis_range=[0,0.5])\n",
    "\n",
    "for t in topics:\n",
    "    if t in ['Musicality/Flow/Lyricism','Party/Sexuality','Flex']:\n",
    "        continue\n",
    "    fig.add_trace(go.Scatter(x=df_topics_smoothed_nas.track_release_year, y=df_topics_smoothed_nas[t], name=t,\n",
    "                    text=[\"tweak line smoothness<br>with 'smoothing' in line object\"],\n",
    "                    hoverinfo='text+name',\n",
    "                    line_shape='spline'))\n",
    "    \n",
    "fig.update_layout(\n",
    "    title=\"Topics Prevalence through the years (Nas)\",\n",
    "    xaxis_title=\"Year\",\n",
    "    yaxis_title=\"Relative Freq.\")\n",
    "fig.show()"
   ]
  },
  {
   "cell_type": "code",
   "execution_count": 16,
   "id": "7791237e",
   "metadata": {},
   "outputs": [],
   "source": [
    "df_topics2 = df[['artist_name']].join(df_ranked)"
   ]
  },
  {
   "cell_type": "code",
   "execution_count": 17,
   "id": "3ccd663c",
   "metadata": {},
   "outputs": [],
   "source": [
    "df_topics2['count'] = 1"
   ]
  },
  {
   "cell_type": "code",
   "execution_count": 18,
   "id": "a4143ee7",
   "metadata": {},
   "outputs": [],
   "source": [
    "df_topics2=df_topics2.groupby('artist_name').sum().reset_index()"
   ]
  },
  {
   "cell_type": "code",
   "execution_count": 19,
   "id": "eb4c79c9",
   "metadata": {},
   "outputs": [],
   "source": [
    "df_topics2 = df_topics2.nlargest(10, 'count')"
   ]
  },
  {
   "cell_type": "code",
   "execution_count": 20,
   "id": "d6a387d3",
   "metadata": {},
   "outputs": [
    {
     "data": {
      "text/plain": [
       "<AxesSubplot:ylabel='artist_name'>"
      ]
     },
     "execution_count": 20,
     "metadata": {},
     "output_type": "execute_result"
    },
    {
     "data": {
      "image/png": "[encoded data removed]",
      "text/plain": [
       "<Figure size 720x360 with 1 Axes>"
      ]
     },
     "metadata": {
      "needs_background": "light"
     },
     "output_type": "display_data"
    }
   ],
   "source": [
    "df_topics2.set_index('artist_name').iloc[:,:-1].plot(kind='barh', stacked=True,figsize=(10,5))"
   ]
  },
  {
   "cell_type": "code",
   "execution_count": 21,
   "id": "dc759de5",
   "metadata": {},
   "outputs": [
    {
     "data": {
      "image/png": "[encoded data removed]",
      "text/plain": [
       "<Figure size 720x360 with 1 Axes>"
      ]
     },
     "metadata": {
      "needs_background": "light"
     },
     "output_type": "display_data"
    }
   ],
   "source": [
    "\n",
    "pd.concat([df_topics2.iloc[:,0],\n",
    "df_topics2.iloc[:,1:-1].div(df_topics2.iloc[:,1:-1].sum(axis=1), axis=0) ],\n",
    "          axis=1 ).set_index('artist_name').plot(kind='barh', title='Share of Topics for 10 Popular Artists', stacked=True,figsize=(10,5), ).legend(loc='center left',bbox_to_anchor=(1.0, 0.5));"
   ]
  },
  {
   "cell_type": "code",
   "execution_count": 22,
   "id": "02986f1f",
   "metadata": {},
   "outputs": [],
   "source": [
    "# For NAS"
   ]
  },
  {
   "cell_type": "code",
   "execution_count": 23,
   "id": "4c3fadc7",
   "metadata": {},
   "outputs": [],
   "source": [
    "df =  pd.read_pickle('df_nas_topics.pickle')"
   ]
  },
  {
   "cell_type": "code",
   "execution_count": 24,
   "id": "b6b8afd3",
   "metadata": {},
   "outputs": [],
   "source": [
    "df1 = df.iloc[:,-6:].copy()"
   ]
  },
  {
   "cell_type": "code",
   "execution_count": 25,
   "id": "87ab39b0",
   "metadata": {},
   "outputs": [
    {
     "data": {
      "text/html": [
       "<div>\n",
       "<style scoped>\n",
       "    .dataframe tbody tr th:only-of-type {\n",
       "        vertical-align: middle;\n",
       "    }\n",
       "\n",
       "    .dataframe tbody tr th {\n",
       "        vertical-align: top;\n",
       "    }\n",
       "\n",
       "    .dataframe thead th {\n",
       "        text-align: right;\n",
       "    }\n",
       "</style>\n",
       "<table border=\"1\" class=\"dataframe\">\n",
       "  <thead>\n",
       "    <tr style=\"text-align: right;\">\n",
       "      <th></th>\n",
       "      <th>Violence/Gangster</th>\n",
       "      <th>Self-Evolution/Struggle</th>\n",
       "      <th>Politics/Revolution</th>\n",
       "      <th>Misc</th>\n",
       "      <th>Money</th>\n",
       "      <th>Religion/Spirituality</th>\n",
       "    </tr>\n",
       "  </thead>\n",
       "  <tbody>\n",
       "    <tr>\n",
       "      <th>0</th>\n",
       "      <td>0.000025</td>\n",
       "      <td>0.000025</td>\n",
       "      <td>0.000025</td>\n",
       "      <td>0.000025</td>\n",
       "      <td>0.999877</td>\n",
       "      <td>0.000025</td>\n",
       "    </tr>\n",
       "    <tr>\n",
       "      <th>1</th>\n",
       "      <td>0.000036</td>\n",
       "      <td>0.000036</td>\n",
       "      <td>0.000036</td>\n",
       "      <td>0.999818</td>\n",
       "      <td>0.000036</td>\n",
       "      <td>0.000036</td>\n",
       "    </tr>\n",
       "    <tr>\n",
       "      <th>2</th>\n",
       "      <td>0.000068</td>\n",
       "      <td>0.262133</td>\n",
       "      <td>0.000068</td>\n",
       "      <td>0.737593</td>\n",
       "      <td>0.000068</td>\n",
       "      <td>0.000068</td>\n",
       "    </tr>\n",
       "    <tr>\n",
       "      <th>4</th>\n",
       "      <td>0.000075</td>\n",
       "      <td>0.999624</td>\n",
       "      <td>0.000075</td>\n",
       "      <td>0.000075</td>\n",
       "      <td>0.000075</td>\n",
       "      <td>0.000075</td>\n",
       "    </tr>\n",
       "    <tr>\n",
       "      <th>5</th>\n",
       "      <td>0.000033</td>\n",
       "      <td>0.999836</td>\n",
       "      <td>0.000033</td>\n",
       "      <td>0.000033</td>\n",
       "      <td>0.000033</td>\n",
       "      <td>0.000033</td>\n",
       "    </tr>\n",
       "    <tr>\n",
       "      <th>...</th>\n",
       "      <td>...</td>\n",
       "      <td>...</td>\n",
       "      <td>...</td>\n",
       "      <td>...</td>\n",
       "      <td>...</td>\n",
       "      <td>...</td>\n",
       "    </tr>\n",
       "    <tr>\n",
       "      <th>192</th>\n",
       "      <td>0.000041</td>\n",
       "      <td>0.287811</td>\n",
       "      <td>0.000041</td>\n",
       "      <td>0.634054</td>\n",
       "      <td>0.078013</td>\n",
       "      <td>0.000041</td>\n",
       "    </tr>\n",
       "    <tr>\n",
       "      <th>193</th>\n",
       "      <td>0.000042</td>\n",
       "      <td>0.999792</td>\n",
       "      <td>0.000042</td>\n",
       "      <td>0.000042</td>\n",
       "      <td>0.000042</td>\n",
       "      <td>0.000042</td>\n",
       "    </tr>\n",
       "    <tr>\n",
       "      <th>194</th>\n",
       "      <td>0.999792</td>\n",
       "      <td>0.000042</td>\n",
       "      <td>0.000042</td>\n",
       "      <td>0.000042</td>\n",
       "      <td>0.000042</td>\n",
       "      <td>0.000042</td>\n",
       "    </tr>\n",
       "    <tr>\n",
       "      <th>195</th>\n",
       "      <td>0.000023</td>\n",
       "      <td>0.000023</td>\n",
       "      <td>0.000023</td>\n",
       "      <td>0.999885</td>\n",
       "      <td>0.000023</td>\n",
       "      <td>0.000023</td>\n",
       "    </tr>\n",
       "    <tr>\n",
       "      <th>1279</th>\n",
       "      <td>0.000027</td>\n",
       "      <td>0.000027</td>\n",
       "      <td>0.000027</td>\n",
       "      <td>0.000027</td>\n",
       "      <td>0.999865</td>\n",
       "      <td>0.000027</td>\n",
       "    </tr>\n",
       "  </tbody>\n",
       "</table>\n",
       "<p>188 rows × 6 columns</p>\n",
       "</div>"
      ],
      "text/plain": [
       "      Violence/Gangster  Self-Evolution/Struggle  Politics/Revolution  \\\n",
       "0              0.000025                 0.000025             0.000025   \n",
       "1              0.000036                 0.000036             0.000036   \n",
       "2              0.000068                 0.262133             0.000068   \n",
       "4              0.000075                 0.999624             0.000075   \n",
       "5              0.000033                 0.999836             0.000033   \n",
       "...                 ...                      ...                  ...   \n",
       "192            0.000041                 0.287811             0.000041   \n",
       "193            0.000042                 0.999792             0.000042   \n",
       "194            0.999792                 0.000042             0.000042   \n",
       "195            0.000023                 0.000023             0.000023   \n",
       "1279           0.000027                 0.000027             0.000027   \n",
       "\n",
       "          Misc     Money  Religion/Spirituality  \n",
       "0     0.000025  0.999877               0.000025  \n",
       "1     0.999818  0.000036               0.000036  \n",
       "2     0.737593  0.000068               0.000068  \n",
       "4     0.000075  0.000075               0.000075  \n",
       "5     0.000033  0.000033               0.000033  \n",
       "...        ...       ...                    ...  \n",
       "192   0.634054  0.078013               0.000041  \n",
       "193   0.000042  0.000042               0.000042  \n",
       "194   0.000042  0.000042               0.000042  \n",
       "195   0.999885  0.000023               0.000023  \n",
       "1279  0.000027  0.999865               0.000027  \n",
       "\n",
       "[188 rows x 6 columns]"
      ]
     },
     "execution_count": 25,
     "metadata": {},
     "output_type": "execute_result"
    }
   ],
   "source": [
    "df1"
   ]
  },
  {
   "cell_type": "code",
   "execution_count": 26,
   "id": "30d8e35f",
   "metadata": {},
   "outputs": [],
   "source": [
    "df_ranked = df1.rank(axis=1, method='min', ascending=False)\n",
    "df_ranked = (df_ranked <= 2).astype(int)\n",
    "df_topics = df[['track_release_year']].join(df_ranked)"
   ]
  },
  {
   "cell_type": "code",
   "execution_count": 27,
   "id": "7e1ce4eb",
   "metadata": {},
   "outputs": [
    {
     "data": {
      "text/html": [
       "<div>\n",
       "<style scoped>\n",
       "    .dataframe tbody tr th:only-of-type {\n",
       "        vertical-align: middle;\n",
       "    }\n",
       "\n",
       "    .dataframe tbody tr th {\n",
       "        vertical-align: top;\n",
       "    }\n",
       "\n",
       "    .dataframe thead th {\n",
       "        text-align: right;\n",
       "    }\n",
       "</style>\n",
       "<table border=\"1\" class=\"dataframe\">\n",
       "  <thead>\n",
       "    <tr style=\"text-align: right;\">\n",
       "      <th></th>\n",
       "      <th>track_release_year</th>\n",
       "      <th>Violence/Gangster</th>\n",
       "      <th>Self-Evolution/Struggle</th>\n",
       "      <th>Politics/Revolution</th>\n",
       "      <th>Misc</th>\n",
       "      <th>Money</th>\n",
       "      <th>Religion/Spirituality</th>\n",
       "    </tr>\n",
       "  </thead>\n",
       "  <tbody>\n",
       "    <tr>\n",
       "      <th>0</th>\n",
       "      <td>2001</td>\n",
       "      <td>1</td>\n",
       "      <td>1</td>\n",
       "      <td>1</td>\n",
       "      <td>1</td>\n",
       "      <td>1</td>\n",
       "      <td>1</td>\n",
       "    </tr>\n",
       "    <tr>\n",
       "      <th>1</th>\n",
       "      <td>2007</td>\n",
       "      <td>1</td>\n",
       "      <td>1</td>\n",
       "      <td>1</td>\n",
       "      <td>1</td>\n",
       "      <td>1</td>\n",
       "      <td>1</td>\n",
       "    </tr>\n",
       "    <tr>\n",
       "      <th>2</th>\n",
       "      <td>2004</td>\n",
       "      <td>0</td>\n",
       "      <td>1</td>\n",
       "      <td>0</td>\n",
       "      <td>1</td>\n",
       "      <td>0</td>\n",
       "      <td>0</td>\n",
       "    </tr>\n",
       "    <tr>\n",
       "      <th>4</th>\n",
       "      <td>2018</td>\n",
       "      <td>1</td>\n",
       "      <td>1</td>\n",
       "      <td>1</td>\n",
       "      <td>1</td>\n",
       "      <td>1</td>\n",
       "      <td>1</td>\n",
       "    </tr>\n",
       "    <tr>\n",
       "      <th>5</th>\n",
       "      <td>1999</td>\n",
       "      <td>1</td>\n",
       "      <td>1</td>\n",
       "      <td>1</td>\n",
       "      <td>1</td>\n",
       "      <td>1</td>\n",
       "      <td>1</td>\n",
       "    </tr>\n",
       "    <tr>\n",
       "      <th>...</th>\n",
       "      <td>...</td>\n",
       "      <td>...</td>\n",
       "      <td>...</td>\n",
       "      <td>...</td>\n",
       "      <td>...</td>\n",
       "      <td>...</td>\n",
       "      <td>...</td>\n",
       "    </tr>\n",
       "    <tr>\n",
       "      <th>192</th>\n",
       "      <td>2002</td>\n",
       "      <td>0</td>\n",
       "      <td>1</td>\n",
       "      <td>0</td>\n",
       "      <td>1</td>\n",
       "      <td>0</td>\n",
       "      <td>0</td>\n",
       "    </tr>\n",
       "    <tr>\n",
       "      <th>193</th>\n",
       "      <td>2004</td>\n",
       "      <td>1</td>\n",
       "      <td>1</td>\n",
       "      <td>1</td>\n",
       "      <td>1</td>\n",
       "      <td>1</td>\n",
       "      <td>1</td>\n",
       "    </tr>\n",
       "    <tr>\n",
       "      <th>194</th>\n",
       "      <td>2020</td>\n",
       "      <td>1</td>\n",
       "      <td>1</td>\n",
       "      <td>1</td>\n",
       "      <td>1</td>\n",
       "      <td>1</td>\n",
       "      <td>1</td>\n",
       "    </tr>\n",
       "    <tr>\n",
       "      <th>195</th>\n",
       "      <td>2012</td>\n",
       "      <td>1</td>\n",
       "      <td>1</td>\n",
       "      <td>1</td>\n",
       "      <td>1</td>\n",
       "      <td>1</td>\n",
       "      <td>1</td>\n",
       "    </tr>\n",
       "    <tr>\n",
       "      <th>1279</th>\n",
       "      <td>2007</td>\n",
       "      <td>1</td>\n",
       "      <td>1</td>\n",
       "      <td>1</td>\n",
       "      <td>1</td>\n",
       "      <td>1</td>\n",
       "      <td>1</td>\n",
       "    </tr>\n",
       "  </tbody>\n",
       "</table>\n",
       "<p>188 rows × 7 columns</p>\n",
       "</div>"
      ],
      "text/plain": [
       "      track_release_year  Violence/Gangster  Self-Evolution/Struggle  \\\n",
       "0                   2001                  1                        1   \n",
       "1                   2007                  1                        1   \n",
       "2                   2004                  0                        1   \n",
       "4                   2018                  1                        1   \n",
       "5                   1999                  1                        1   \n",
       "...                  ...                ...                      ...   \n",
       "192                 2002                  0                        1   \n",
       "193                 2004                  1                        1   \n",
       "194                 2020                  1                        1   \n",
       "195                 2012                  1                        1   \n",
       "1279                2007                  1                        1   \n",
       "\n",
       "      Politics/Revolution  Misc  Money  Religion/Spirituality  \n",
       "0                       1     1      1                      1  \n",
       "1                       1     1      1                      1  \n",
       "2                       0     1      0                      0  \n",
       "4                       1     1      1                      1  \n",
       "5                       1     1      1                      1  \n",
       "...                   ...   ...    ...                    ...  \n",
       "192                     0     1      0                      0  \n",
       "193                     1     1      1                      1  \n",
       "194                     1     1      1                      1  \n",
       "195                     1     1      1                      1  \n",
       "1279                    1     1      1                      1  \n",
       "\n",
       "[188 rows x 7 columns]"
      ]
     },
     "execution_count": 27,
     "metadata": {},
     "output_type": "execute_result"
    }
   ],
   "source": [
    "df_topics"
   ]
  },
  {
   "cell_type": "code",
   "execution_count": 28,
   "id": "6512f953",
   "metadata": {},
   "outputs": [],
   "source": [
    "df_topics = df_topics.groupby('track_release_year').sum()"
   ]
  },
  {
   "cell_type": "code",
   "execution_count": 29,
   "id": "43a3962b",
   "metadata": {},
   "outputs": [
    {
     "data": {
      "text/html": [
       "<div>\n",
       "<style scoped>\n",
       "    .dataframe tbody tr th:only-of-type {\n",
       "        vertical-align: middle;\n",
       "    }\n",
       "\n",
       "    .dataframe tbody tr th {\n",
       "        vertical-align: top;\n",
       "    }\n",
       "\n",
       "    .dataframe thead th {\n",
       "        text-align: right;\n",
       "    }\n",
       "</style>\n",
       "<table border=\"1\" class=\"dataframe\">\n",
       "  <thead>\n",
       "    <tr style=\"text-align: right;\">\n",
       "      <th></th>\n",
       "      <th>Violence/Gangster</th>\n",
       "      <th>Self-Evolution/Struggle</th>\n",
       "      <th>Politics/Revolution</th>\n",
       "      <th>Misc</th>\n",
       "      <th>Money</th>\n",
       "      <th>Religion/Spirituality</th>\n",
       "    </tr>\n",
       "    <tr>\n",
       "      <th>track_release_year</th>\n",
       "      <th></th>\n",
       "      <th></th>\n",
       "      <th></th>\n",
       "      <th></th>\n",
       "      <th></th>\n",
       "      <th></th>\n",
       "    </tr>\n",
       "  </thead>\n",
       "  <tbody>\n",
       "    <tr>\n",
       "      <th>1999</th>\n",
       "      <td>20</td>\n",
       "      <td>22</td>\n",
       "      <td>21</td>\n",
       "      <td>20</td>\n",
       "      <td>22</td>\n",
       "      <td>21</td>\n",
       "    </tr>\n",
       "    <tr>\n",
       "      <th>2001</th>\n",
       "      <td>6</td>\n",
       "      <td>7</td>\n",
       "      <td>8</td>\n",
       "      <td>7</td>\n",
       "      <td>8</td>\n",
       "      <td>6</td>\n",
       "    </tr>\n",
       "    <tr>\n",
       "      <th>2002</th>\n",
       "      <td>16</td>\n",
       "      <td>19</td>\n",
       "      <td>17</td>\n",
       "      <td>17</td>\n",
       "      <td>19</td>\n",
       "      <td>18</td>\n",
       "    </tr>\n",
       "    <tr>\n",
       "      <th>2003</th>\n",
       "      <td>7</td>\n",
       "      <td>7</td>\n",
       "      <td>7</td>\n",
       "      <td>7</td>\n",
       "      <td>7</td>\n",
       "      <td>7</td>\n",
       "    </tr>\n",
       "    <tr>\n",
       "      <th>2004</th>\n",
       "      <td>14</td>\n",
       "      <td>16</td>\n",
       "      <td>15</td>\n",
       "      <td>16</td>\n",
       "      <td>16</td>\n",
       "      <td>15</td>\n",
       "    </tr>\n",
       "    <tr>\n",
       "      <th>2007</th>\n",
       "      <td>13</td>\n",
       "      <td>15</td>\n",
       "      <td>16</td>\n",
       "      <td>15</td>\n",
       "      <td>14</td>\n",
       "      <td>13</td>\n",
       "    </tr>\n",
       "    <tr>\n",
       "      <th>2008</th>\n",
       "      <td>12</td>\n",
       "      <td>13</td>\n",
       "      <td>13</td>\n",
       "      <td>12</td>\n",
       "      <td>11</td>\n",
       "      <td>11</td>\n",
       "    </tr>\n",
       "    <tr>\n",
       "      <th>2012</th>\n",
       "      <td>15</td>\n",
       "      <td>16</td>\n",
       "      <td>16</td>\n",
       "      <td>16</td>\n",
       "      <td>15</td>\n",
       "      <td>14</td>\n",
       "    </tr>\n",
       "    <tr>\n",
       "      <th>2014</th>\n",
       "      <td>7</td>\n",
       "      <td>7</td>\n",
       "      <td>9</td>\n",
       "      <td>9</td>\n",
       "      <td>9</td>\n",
       "      <td>7</td>\n",
       "    </tr>\n",
       "    <tr>\n",
       "      <th>2018</th>\n",
       "      <td>7</td>\n",
       "      <td>7</td>\n",
       "      <td>7</td>\n",
       "      <td>7</td>\n",
       "      <td>7</td>\n",
       "      <td>7</td>\n",
       "    </tr>\n",
       "    <tr>\n",
       "      <th>2019</th>\n",
       "      <td>14</td>\n",
       "      <td>15</td>\n",
       "      <td>14</td>\n",
       "      <td>15</td>\n",
       "      <td>14</td>\n",
       "      <td>14</td>\n",
       "    </tr>\n",
       "    <tr>\n",
       "      <th>2020</th>\n",
       "      <td>4</td>\n",
       "      <td>5</td>\n",
       "      <td>4</td>\n",
       "      <td>6</td>\n",
       "      <td>5</td>\n",
       "      <td>4</td>\n",
       "    </tr>\n",
       "    <tr>\n",
       "      <th>2021</th>\n",
       "      <td>20</td>\n",
       "      <td>19</td>\n",
       "      <td>21</td>\n",
       "      <td>20</td>\n",
       "      <td>19</td>\n",
       "      <td>19</td>\n",
       "    </tr>\n",
       "  </tbody>\n",
       "</table>\n",
       "</div>"
      ],
      "text/plain": [
       "                    Violence/Gangster  Self-Evolution/Struggle  \\\n",
       "track_release_year                                               \n",
       "1999                               20                       22   \n",
       "2001                                6                        7   \n",
       "2002                               16                       19   \n",
       "2003                                7                        7   \n",
       "2004                               14                       16   \n",
       "2007                               13                       15   \n",
       "2008                               12                       13   \n",
       "2012                               15                       16   \n",
       "2014                                7                        7   \n",
       "2018                                7                        7   \n",
       "2019                               14                       15   \n",
       "2020                                4                        5   \n",
       "2021                               20                       19   \n",
       "\n",
       "                    Politics/Revolution  Misc  Money  Religion/Spirituality  \n",
       "track_release_year                                                           \n",
       "1999                                 21    20     22                     21  \n",
       "2001                                  8     7      8                      6  \n",
       "2002                                 17    17     19                     18  \n",
       "2003                                  7     7      7                      7  \n",
       "2004                                 15    16     16                     15  \n",
       "2007                                 16    15     14                     13  \n",
       "2008                                 13    12     11                     11  \n",
       "2012                                 16    16     15                     14  \n",
       "2014                                  9     9      9                      7  \n",
       "2018                                  7     7      7                      7  \n",
       "2019                                 14    15     14                     14  \n",
       "2020                                  4     6      5                      4  \n",
       "2021                                 21    20     19                     19  "
      ]
     },
     "execution_count": 29,
     "metadata": {},
     "output_type": "execute_result"
    }
   ],
   "source": [
    "df_topics"
   ]
  },
  {
   "cell_type": "code",
   "execution_count": 30,
   "id": "a8a02f5c",
   "metadata": {},
   "outputs": [],
   "source": [
    "df_topics = df_topics.div(df_topics.sum(axis=1), axis=0)"
   ]
  },
  {
   "cell_type": "code",
   "execution_count": 31,
   "id": "fd6e213e",
   "metadata": {},
   "outputs": [
    {
     "data": {
      "text/html": [
       "<div>\n",
       "<style scoped>\n",
       "    .dataframe tbody tr th:only-of-type {\n",
       "        vertical-align: middle;\n",
       "    }\n",
       "\n",
       "    .dataframe tbody tr th {\n",
       "        vertical-align: top;\n",
       "    }\n",
       "\n",
       "    .dataframe thead th {\n",
       "        text-align: right;\n",
       "    }\n",
       "</style>\n",
       "<table border=\"1\" class=\"dataframe\">\n",
       "  <thead>\n",
       "    <tr style=\"text-align: right;\">\n",
       "      <th></th>\n",
       "      <th>Violence/Gangster</th>\n",
       "      <th>Self-Evolution/Struggle</th>\n",
       "      <th>Politics/Revolution</th>\n",
       "      <th>Misc</th>\n",
       "      <th>Money</th>\n",
       "      <th>Religion/Spirituality</th>\n",
       "    </tr>\n",
       "    <tr>\n",
       "      <th>track_release_year</th>\n",
       "      <th></th>\n",
       "      <th></th>\n",
       "      <th></th>\n",
       "      <th></th>\n",
       "      <th></th>\n",
       "      <th></th>\n",
       "    </tr>\n",
       "  </thead>\n",
       "  <tbody>\n",
       "    <tr>\n",
       "      <th>1999</th>\n",
       "      <td>0.158730</td>\n",
       "      <td>0.174603</td>\n",
       "      <td>0.166667</td>\n",
       "      <td>0.158730</td>\n",
       "      <td>0.174603</td>\n",
       "      <td>0.166667</td>\n",
       "    </tr>\n",
       "    <tr>\n",
       "      <th>2001</th>\n",
       "      <td>0.142857</td>\n",
       "      <td>0.166667</td>\n",
       "      <td>0.190476</td>\n",
       "      <td>0.166667</td>\n",
       "      <td>0.190476</td>\n",
       "      <td>0.142857</td>\n",
       "    </tr>\n",
       "    <tr>\n",
       "      <th>2002</th>\n",
       "      <td>0.150943</td>\n",
       "      <td>0.179245</td>\n",
       "      <td>0.160377</td>\n",
       "      <td>0.160377</td>\n",
       "      <td>0.179245</td>\n",
       "      <td>0.169811</td>\n",
       "    </tr>\n",
       "    <tr>\n",
       "      <th>2003</th>\n",
       "      <td>0.166667</td>\n",
       "      <td>0.166667</td>\n",
       "      <td>0.166667</td>\n",
       "      <td>0.166667</td>\n",
       "      <td>0.166667</td>\n",
       "      <td>0.166667</td>\n",
       "    </tr>\n",
       "    <tr>\n",
       "      <th>2004</th>\n",
       "      <td>0.152174</td>\n",
       "      <td>0.173913</td>\n",
       "      <td>0.163043</td>\n",
       "      <td>0.173913</td>\n",
       "      <td>0.173913</td>\n",
       "      <td>0.163043</td>\n",
       "    </tr>\n",
       "    <tr>\n",
       "      <th>2007</th>\n",
       "      <td>0.151163</td>\n",
       "      <td>0.174419</td>\n",
       "      <td>0.186047</td>\n",
       "      <td>0.174419</td>\n",
       "      <td>0.162791</td>\n",
       "      <td>0.151163</td>\n",
       "    </tr>\n",
       "    <tr>\n",
       "      <th>2008</th>\n",
       "      <td>0.166667</td>\n",
       "      <td>0.180556</td>\n",
       "      <td>0.180556</td>\n",
       "      <td>0.166667</td>\n",
       "      <td>0.152778</td>\n",
       "      <td>0.152778</td>\n",
       "    </tr>\n",
       "    <tr>\n",
       "      <th>2012</th>\n",
       "      <td>0.163043</td>\n",
       "      <td>0.173913</td>\n",
       "      <td>0.173913</td>\n",
       "      <td>0.173913</td>\n",
       "      <td>0.163043</td>\n",
       "      <td>0.152174</td>\n",
       "    </tr>\n",
       "    <tr>\n",
       "      <th>2014</th>\n",
       "      <td>0.145833</td>\n",
       "      <td>0.145833</td>\n",
       "      <td>0.187500</td>\n",
       "      <td>0.187500</td>\n",
       "      <td>0.187500</td>\n",
       "      <td>0.145833</td>\n",
       "    </tr>\n",
       "    <tr>\n",
       "      <th>2018</th>\n",
       "      <td>0.166667</td>\n",
       "      <td>0.166667</td>\n",
       "      <td>0.166667</td>\n",
       "      <td>0.166667</td>\n",
       "      <td>0.166667</td>\n",
       "      <td>0.166667</td>\n",
       "    </tr>\n",
       "    <tr>\n",
       "      <th>2019</th>\n",
       "      <td>0.162791</td>\n",
       "      <td>0.174419</td>\n",
       "      <td>0.162791</td>\n",
       "      <td>0.174419</td>\n",
       "      <td>0.162791</td>\n",
       "      <td>0.162791</td>\n",
       "    </tr>\n",
       "    <tr>\n",
       "      <th>2020</th>\n",
       "      <td>0.142857</td>\n",
       "      <td>0.178571</td>\n",
       "      <td>0.142857</td>\n",
       "      <td>0.214286</td>\n",
       "      <td>0.178571</td>\n",
       "      <td>0.142857</td>\n",
       "    </tr>\n",
       "    <tr>\n",
       "      <th>2021</th>\n",
       "      <td>0.169492</td>\n",
       "      <td>0.161017</td>\n",
       "      <td>0.177966</td>\n",
       "      <td>0.169492</td>\n",
       "      <td>0.161017</td>\n",
       "      <td>0.161017</td>\n",
       "    </tr>\n",
       "  </tbody>\n",
       "</table>\n",
       "</div>"
      ],
      "text/plain": [
       "                    Violence/Gangster  Self-Evolution/Struggle  \\\n",
       "track_release_year                                               \n",
       "1999                         0.158730                 0.174603   \n",
       "2001                         0.142857                 0.166667   \n",
       "2002                         0.150943                 0.179245   \n",
       "2003                         0.166667                 0.166667   \n",
       "2004                         0.152174                 0.173913   \n",
       "2007                         0.151163                 0.174419   \n",
       "2008                         0.166667                 0.180556   \n",
       "2012                         0.163043                 0.173913   \n",
       "2014                         0.145833                 0.145833   \n",
       "2018                         0.166667                 0.166667   \n",
       "2019                         0.162791                 0.174419   \n",
       "2020                         0.142857                 0.178571   \n",
       "2021                         0.169492                 0.161017   \n",
       "\n",
       "                    Politics/Revolution      Misc     Money  \\\n",
       "track_release_year                                            \n",
       "1999                           0.166667  0.158730  0.174603   \n",
       "2001                           0.190476  0.166667  0.190476   \n",
       "2002                           0.160377  0.160377  0.179245   \n",
       "2003                           0.166667  0.166667  0.166667   \n",
       "2004                           0.163043  0.173913  0.173913   \n",
       "2007                           0.186047  0.174419  0.162791   \n",
       "2008                           0.180556  0.166667  0.152778   \n",
       "2012                           0.173913  0.173913  0.163043   \n",
       "2014                           0.187500  0.187500  0.187500   \n",
       "2018                           0.166667  0.166667  0.166667   \n",
       "2019                           0.162791  0.174419  0.162791   \n",
       "2020                           0.142857  0.214286  0.178571   \n",
       "2021                           0.177966  0.169492  0.161017   \n",
       "\n",
       "                    Religion/Spirituality  \n",
       "track_release_year                         \n",
       "1999                             0.166667  \n",
       "2001                             0.142857  \n",
       "2002                             0.169811  \n",
       "2003                             0.166667  \n",
       "2004                             0.163043  \n",
       "2007                             0.151163  \n",
       "2008                             0.152778  \n",
       "2012                             0.152174  \n",
       "2014                             0.145833  \n",
       "2018                             0.166667  \n",
       "2019                             0.162791  \n",
       "2020                             0.142857  \n",
       "2021                             0.161017  "
      ]
     },
     "execution_count": 31,
     "metadata": {},
     "output_type": "execute_result"
    }
   ],
   "source": [
    "df_topics"
   ]
  },
  {
   "cell_type": "code",
   "execution_count": 32,
   "id": "1f35bb55",
   "metadata": {},
   "outputs": [
    {
     "data": {
      "text/html": [
       "<div>\n",
       "<style scoped>\n",
       "    .dataframe tbody tr th:only-of-type {\n",
       "        vertical-align: middle;\n",
       "    }\n",
       "\n",
       "    .dataframe tbody tr th {\n",
       "        vertical-align: top;\n",
       "    }\n",
       "\n",
       "    .dataframe thead th {\n",
       "        text-align: right;\n",
       "    }\n",
       "</style>\n",
       "<table border=\"1\" class=\"dataframe\">\n",
       "  <thead>\n",
       "    <tr style=\"text-align: right;\">\n",
       "      <th></th>\n",
       "      <th>Violence/Gangster</th>\n",
       "      <th>Self-Evolution/Struggle</th>\n",
       "      <th>Politics/Revolution</th>\n",
       "      <th>Misc</th>\n",
       "      <th>Money</th>\n",
       "      <th>Religion/Spirituality</th>\n",
       "    </tr>\n",
       "    <tr>\n",
       "      <th>track_release_year</th>\n",
       "      <th></th>\n",
       "      <th></th>\n",
       "      <th></th>\n",
       "      <th></th>\n",
       "      <th></th>\n",
       "      <th></th>\n",
       "    </tr>\n",
       "  </thead>\n",
       "  <tbody>\n",
       "    <tr>\n",
       "      <th>1999</th>\n",
       "      <td>0.158730</td>\n",
       "      <td>0.174603</td>\n",
       "      <td>0.166667</td>\n",
       "      <td>0.158730</td>\n",
       "      <td>0.174603</td>\n",
       "      <td>0.166667</td>\n",
       "    </tr>\n",
       "    <tr>\n",
       "      <th>2001</th>\n",
       "      <td>0.142857</td>\n",
       "      <td>0.166667</td>\n",
       "      <td>0.190476</td>\n",
       "      <td>0.166667</td>\n",
       "      <td>0.190476</td>\n",
       "      <td>0.142857</td>\n",
       "    </tr>\n",
       "    <tr>\n",
       "      <th>2002</th>\n",
       "      <td>0.150943</td>\n",
       "      <td>0.179245</td>\n",
       "      <td>0.160377</td>\n",
       "      <td>0.160377</td>\n",
       "      <td>0.179245</td>\n",
       "      <td>0.169811</td>\n",
       "    </tr>\n",
       "    <tr>\n",
       "      <th>2003</th>\n",
       "      <td>0.166667</td>\n",
       "      <td>0.166667</td>\n",
       "      <td>0.166667</td>\n",
       "      <td>0.166667</td>\n",
       "      <td>0.166667</td>\n",
       "      <td>0.166667</td>\n",
       "    </tr>\n",
       "    <tr>\n",
       "      <th>2004</th>\n",
       "      <td>0.152174</td>\n",
       "      <td>0.173913</td>\n",
       "      <td>0.163043</td>\n",
       "      <td>0.173913</td>\n",
       "      <td>0.173913</td>\n",
       "      <td>0.163043</td>\n",
       "    </tr>\n",
       "    <tr>\n",
       "      <th>2007</th>\n",
       "      <td>0.151163</td>\n",
       "      <td>0.174419</td>\n",
       "      <td>0.186047</td>\n",
       "      <td>0.174419</td>\n",
       "      <td>0.162791</td>\n",
       "      <td>0.151163</td>\n",
       "    </tr>\n",
       "    <tr>\n",
       "      <th>2008</th>\n",
       "      <td>0.166667</td>\n",
       "      <td>0.180556</td>\n",
       "      <td>0.180556</td>\n",
       "      <td>0.166667</td>\n",
       "      <td>0.152778</td>\n",
       "      <td>0.152778</td>\n",
       "    </tr>\n",
       "    <tr>\n",
       "      <th>2012</th>\n",
       "      <td>0.163043</td>\n",
       "      <td>0.173913</td>\n",
       "      <td>0.173913</td>\n",
       "      <td>0.173913</td>\n",
       "      <td>0.163043</td>\n",
       "      <td>0.152174</td>\n",
       "    </tr>\n",
       "    <tr>\n",
       "      <th>2014</th>\n",
       "      <td>0.145833</td>\n",
       "      <td>0.145833</td>\n",
       "      <td>0.187500</td>\n",
       "      <td>0.187500</td>\n",
       "      <td>0.187500</td>\n",
       "      <td>0.145833</td>\n",
       "    </tr>\n",
       "    <tr>\n",
       "      <th>2018</th>\n",
       "      <td>0.166667</td>\n",
       "      <td>0.166667</td>\n",
       "      <td>0.166667</td>\n",
       "      <td>0.166667</td>\n",
       "      <td>0.166667</td>\n",
       "      <td>0.166667</td>\n",
       "    </tr>\n",
       "    <tr>\n",
       "      <th>2019</th>\n",
       "      <td>0.162791</td>\n",
       "      <td>0.174419</td>\n",
       "      <td>0.162791</td>\n",
       "      <td>0.174419</td>\n",
       "      <td>0.162791</td>\n",
       "      <td>0.162791</td>\n",
       "    </tr>\n",
       "    <tr>\n",
       "      <th>2020</th>\n",
       "      <td>0.142857</td>\n",
       "      <td>0.178571</td>\n",
       "      <td>0.142857</td>\n",
       "      <td>0.214286</td>\n",
       "      <td>0.178571</td>\n",
       "      <td>0.142857</td>\n",
       "    </tr>\n",
       "    <tr>\n",
       "      <th>2021</th>\n",
       "      <td>0.169492</td>\n",
       "      <td>0.161017</td>\n",
       "      <td>0.177966</td>\n",
       "      <td>0.169492</td>\n",
       "      <td>0.161017</td>\n",
       "      <td>0.161017</td>\n",
       "    </tr>\n",
       "  </tbody>\n",
       "</table>\n",
       "</div>"
      ],
      "text/plain": [
       "                    Violence/Gangster  Self-Evolution/Struggle  \\\n",
       "track_release_year                                               \n",
       "1999                         0.158730                 0.174603   \n",
       "2001                         0.142857                 0.166667   \n",
       "2002                         0.150943                 0.179245   \n",
       "2003                         0.166667                 0.166667   \n",
       "2004                         0.152174                 0.173913   \n",
       "2007                         0.151163                 0.174419   \n",
       "2008                         0.166667                 0.180556   \n",
       "2012                         0.163043                 0.173913   \n",
       "2014                         0.145833                 0.145833   \n",
       "2018                         0.166667                 0.166667   \n",
       "2019                         0.162791                 0.174419   \n",
       "2020                         0.142857                 0.178571   \n",
       "2021                         0.169492                 0.161017   \n",
       "\n",
       "                    Politics/Revolution      Misc     Money  \\\n",
       "track_release_year                                            \n",
       "1999                           0.166667  0.158730  0.174603   \n",
       "2001                           0.190476  0.166667  0.190476   \n",
       "2002                           0.160377  0.160377  0.179245   \n",
       "2003                           0.166667  0.166667  0.166667   \n",
       "2004                           0.163043  0.173913  0.173913   \n",
       "2007                           0.186047  0.174419  0.162791   \n",
       "2008                           0.180556  0.166667  0.152778   \n",
       "2012                           0.173913  0.173913  0.163043   \n",
       "2014                           0.187500  0.187500  0.187500   \n",
       "2018                           0.166667  0.166667  0.166667   \n",
       "2019                           0.162791  0.174419  0.162791   \n",
       "2020                           0.142857  0.214286  0.178571   \n",
       "2021                           0.177966  0.169492  0.161017   \n",
       "\n",
       "                    Religion/Spirituality  \n",
       "track_release_year                         \n",
       "1999                             0.166667  \n",
       "2001                             0.142857  \n",
       "2002                             0.169811  \n",
       "2003                             0.166667  \n",
       "2004                             0.163043  \n",
       "2007                             0.151163  \n",
       "2008                             0.152778  \n",
       "2012                             0.152174  \n",
       "2014                             0.145833  \n",
       "2018                             0.166667  \n",
       "2019                             0.162791  \n",
       "2020                             0.142857  \n",
       "2021                             0.161017  "
      ]
     },
     "execution_count": 32,
     "metadata": {},
     "output_type": "execute_result"
    }
   ],
   "source": [
    "df_topics"
   ]
  },
  {
   "cell_type": "code",
   "execution_count": 33,
   "id": "3217aa47",
   "metadata": {},
   "outputs": [],
   "source": [
    "df_topics = df_topics[df_topics.index > 1989].reset_index()"
   ]
  },
  {
   "cell_type": "code",
   "execution_count": 34,
   "id": "0ee05990",
   "metadata": {},
   "outputs": [
    {
     "data": {
      "text/html": [
       "<div>\n",
       "<style scoped>\n",
       "    .dataframe tbody tr th:only-of-type {\n",
       "        vertical-align: middle;\n",
       "    }\n",
       "\n",
       "    .dataframe tbody tr th {\n",
       "        vertical-align: top;\n",
       "    }\n",
       "\n",
       "    .dataframe thead th {\n",
       "        text-align: right;\n",
       "    }\n",
       "</style>\n",
       "<table border=\"1\" class=\"dataframe\">\n",
       "  <thead>\n",
       "    <tr style=\"text-align: right;\">\n",
       "      <th></th>\n",
       "      <th>track_release_year</th>\n",
       "      <th>Violence/Gangster</th>\n",
       "      <th>Self-Evolution/Struggle</th>\n",
       "      <th>Politics/Revolution</th>\n",
       "      <th>Misc</th>\n",
       "      <th>Money</th>\n",
       "      <th>Religion/Spirituality</th>\n",
       "    </tr>\n",
       "  </thead>\n",
       "  <tbody>\n",
       "    <tr>\n",
       "      <th>0</th>\n",
       "      <td>1999</td>\n",
       "      <td>0.158730</td>\n",
       "      <td>0.174603</td>\n",
       "      <td>0.166667</td>\n",
       "      <td>0.158730</td>\n",
       "      <td>0.174603</td>\n",
       "      <td>0.166667</td>\n",
       "    </tr>\n",
       "    <tr>\n",
       "      <th>1</th>\n",
       "      <td>2001</td>\n",
       "      <td>0.142857</td>\n",
       "      <td>0.166667</td>\n",
       "      <td>0.190476</td>\n",
       "      <td>0.166667</td>\n",
       "      <td>0.190476</td>\n",
       "      <td>0.142857</td>\n",
       "    </tr>\n",
       "    <tr>\n",
       "      <th>2</th>\n",
       "      <td>2002</td>\n",
       "      <td>0.150943</td>\n",
       "      <td>0.179245</td>\n",
       "      <td>0.160377</td>\n",
       "      <td>0.160377</td>\n",
       "      <td>0.179245</td>\n",
       "      <td>0.169811</td>\n",
       "    </tr>\n",
       "    <tr>\n",
       "      <th>3</th>\n",
       "      <td>2003</td>\n",
       "      <td>0.166667</td>\n",
       "      <td>0.166667</td>\n",
       "      <td>0.166667</td>\n",
       "      <td>0.166667</td>\n",
       "      <td>0.166667</td>\n",
       "      <td>0.166667</td>\n",
       "    </tr>\n",
       "    <tr>\n",
       "      <th>4</th>\n",
       "      <td>2004</td>\n",
       "      <td>0.152174</td>\n",
       "      <td>0.173913</td>\n",
       "      <td>0.163043</td>\n",
       "      <td>0.173913</td>\n",
       "      <td>0.173913</td>\n",
       "      <td>0.163043</td>\n",
       "    </tr>\n",
       "    <tr>\n",
       "      <th>5</th>\n",
       "      <td>2007</td>\n",
       "      <td>0.151163</td>\n",
       "      <td>0.174419</td>\n",
       "      <td>0.186047</td>\n",
       "      <td>0.174419</td>\n",
       "      <td>0.162791</td>\n",
       "      <td>0.151163</td>\n",
       "    </tr>\n",
       "    <tr>\n",
       "      <th>6</th>\n",
       "      <td>2008</td>\n",
       "      <td>0.166667</td>\n",
       "      <td>0.180556</td>\n",
       "      <td>0.180556</td>\n",
       "      <td>0.166667</td>\n",
       "      <td>0.152778</td>\n",
       "      <td>0.152778</td>\n",
       "    </tr>\n",
       "    <tr>\n",
       "      <th>7</th>\n",
       "      <td>2012</td>\n",
       "      <td>0.163043</td>\n",
       "      <td>0.173913</td>\n",
       "      <td>0.173913</td>\n",
       "      <td>0.173913</td>\n",
       "      <td>0.163043</td>\n",
       "      <td>0.152174</td>\n",
       "    </tr>\n",
       "    <tr>\n",
       "      <th>8</th>\n",
       "      <td>2014</td>\n",
       "      <td>0.145833</td>\n",
       "      <td>0.145833</td>\n",
       "      <td>0.187500</td>\n",
       "      <td>0.187500</td>\n",
       "      <td>0.187500</td>\n",
       "      <td>0.145833</td>\n",
       "    </tr>\n",
       "    <tr>\n",
       "      <th>9</th>\n",
       "      <td>2018</td>\n",
       "      <td>0.166667</td>\n",
       "      <td>0.166667</td>\n",
       "      <td>0.166667</td>\n",
       "      <td>0.166667</td>\n",
       "      <td>0.166667</td>\n",
       "      <td>0.166667</td>\n",
       "    </tr>\n",
       "    <tr>\n",
       "      <th>10</th>\n",
       "      <td>2019</td>\n",
       "      <td>0.162791</td>\n",
       "      <td>0.174419</td>\n",
       "      <td>0.162791</td>\n",
       "      <td>0.174419</td>\n",
       "      <td>0.162791</td>\n",
       "      <td>0.162791</td>\n",
       "    </tr>\n",
       "    <tr>\n",
       "      <th>11</th>\n",
       "      <td>2020</td>\n",
       "      <td>0.142857</td>\n",
       "      <td>0.178571</td>\n",
       "      <td>0.142857</td>\n",
       "      <td>0.214286</td>\n",
       "      <td>0.178571</td>\n",
       "      <td>0.142857</td>\n",
       "    </tr>\n",
       "    <tr>\n",
       "      <th>12</th>\n",
       "      <td>2021</td>\n",
       "      <td>0.169492</td>\n",
       "      <td>0.161017</td>\n",
       "      <td>0.177966</td>\n",
       "      <td>0.169492</td>\n",
       "      <td>0.161017</td>\n",
       "      <td>0.161017</td>\n",
       "    </tr>\n",
       "  </tbody>\n",
       "</table>\n",
       "</div>"
      ],
      "text/plain": [
       "    track_release_year  Violence/Gangster  Self-Evolution/Struggle  \\\n",
       "0                 1999           0.158730                 0.174603   \n",
       "1                 2001           0.142857                 0.166667   \n",
       "2                 2002           0.150943                 0.179245   \n",
       "3                 2003           0.166667                 0.166667   \n",
       "4                 2004           0.152174                 0.173913   \n",
       "5                 2007           0.151163                 0.174419   \n",
       "6                 2008           0.166667                 0.180556   \n",
       "7                 2012           0.163043                 0.173913   \n",
       "8                 2014           0.145833                 0.145833   \n",
       "9                 2018           0.166667                 0.166667   \n",
       "10                2019           0.162791                 0.174419   \n",
       "11                2020           0.142857                 0.178571   \n",
       "12                2021           0.169492                 0.161017   \n",
       "\n",
       "    Politics/Revolution      Misc     Money  Religion/Spirituality  \n",
       "0              0.166667  0.158730  0.174603               0.166667  \n",
       "1              0.190476  0.166667  0.190476               0.142857  \n",
       "2              0.160377  0.160377  0.179245               0.169811  \n",
       "3              0.166667  0.166667  0.166667               0.166667  \n",
       "4              0.163043  0.173913  0.173913               0.163043  \n",
       "5              0.186047  0.174419  0.162791               0.151163  \n",
       "6              0.180556  0.166667  0.152778               0.152778  \n",
       "7              0.173913  0.173913  0.163043               0.152174  \n",
       "8              0.187500  0.187500  0.187500               0.145833  \n",
       "9              0.166667  0.166667  0.166667               0.166667  \n",
       "10             0.162791  0.174419  0.162791               0.162791  \n",
       "11             0.142857  0.214286  0.178571               0.142857  \n",
       "12             0.177966  0.169492  0.161017               0.161017  "
      ]
     },
     "execution_count": 34,
     "metadata": {},
     "output_type": "execute_result"
    }
   ],
   "source": [
    "df_topics"
   ]
  },
  {
   "cell_type": "code",
   "execution_count": 35,
   "id": "9670adba",
   "metadata": {},
   "outputs": [
    {
     "data": {
      "text/html": [
       "<div>\n",
       "<style scoped>\n",
       "    .dataframe tbody tr th:only-of-type {\n",
       "        vertical-align: middle;\n",
       "    }\n",
       "\n",
       "    .dataframe tbody tr th {\n",
       "        vertical-align: top;\n",
       "    }\n",
       "\n",
       "    .dataframe thead th {\n",
       "        text-align: right;\n",
       "    }\n",
       "</style>\n",
       "<table border=\"1\" class=\"dataframe\">\n",
       "  <thead>\n",
       "    <tr style=\"text-align: right;\">\n",
       "      <th></th>\n",
       "      <th>track_release_year</th>\n",
       "      <th>Violence/Gangster</th>\n",
       "      <th>Self-Evolution/Struggle</th>\n",
       "      <th>Politics/Revolution</th>\n",
       "      <th>Misc</th>\n",
       "      <th>Money</th>\n",
       "      <th>Religion/Spirituality</th>\n",
       "    </tr>\n",
       "  </thead>\n",
       "  <tbody>\n",
       "    <tr>\n",
       "      <th>2</th>\n",
       "      <td>2000.666667</td>\n",
       "      <td>0.150844</td>\n",
       "      <td>0.173505</td>\n",
       "      <td>0.172507</td>\n",
       "      <td>0.161925</td>\n",
       "      <td>0.181442</td>\n",
       "      <td>0.159778</td>\n",
       "    </tr>\n",
       "    <tr>\n",
       "      <th>3</th>\n",
       "      <td>2002.000000</td>\n",
       "      <td>0.153489</td>\n",
       "      <td>0.170860</td>\n",
       "      <td>0.172507</td>\n",
       "      <td>0.164570</td>\n",
       "      <td>0.178796</td>\n",
       "      <td>0.159778</td>\n",
       "    </tr>\n",
       "    <tr>\n",
       "      <th>4</th>\n",
       "      <td>2003.000000</td>\n",
       "      <td>0.156595</td>\n",
       "      <td>0.173275</td>\n",
       "      <td>0.163363</td>\n",
       "      <td>0.166986</td>\n",
       "      <td>0.173275</td>\n",
       "      <td>0.166507</td>\n",
       "    </tr>\n",
       "    <tr>\n",
       "      <th>5</th>\n",
       "      <td>2004.666667</td>\n",
       "      <td>0.156668</td>\n",
       "      <td>0.171666</td>\n",
       "      <td>0.171919</td>\n",
       "      <td>0.171666</td>\n",
       "      <td>0.167790</td>\n",
       "      <td>0.160291</td>\n",
       "    </tr>\n",
       "    <tr>\n",
       "      <th>6</th>\n",
       "      <td>2006.333333</td>\n",
       "      <td>0.156668</td>\n",
       "      <td>0.176296</td>\n",
       "      <td>0.176549</td>\n",
       "      <td>0.171666</td>\n",
       "      <td>0.163161</td>\n",
       "      <td>0.155661</td>\n",
       "    </tr>\n",
       "    <tr>\n",
       "      <th>7</th>\n",
       "      <td>2009.000000</td>\n",
       "      <td>0.160291</td>\n",
       "      <td>0.176296</td>\n",
       "      <td>0.180172</td>\n",
       "      <td>0.171666</td>\n",
       "      <td>0.159537</td>\n",
       "      <td>0.152038</td>\n",
       "    </tr>\n",
       "    <tr>\n",
       "      <th>8</th>\n",
       "      <td>2011.333333</td>\n",
       "      <td>0.158514</td>\n",
       "      <td>0.166767</td>\n",
       "      <td>0.180656</td>\n",
       "      <td>0.176027</td>\n",
       "      <td>0.167774</td>\n",
       "      <td>0.150262</td>\n",
       "    </tr>\n",
       "    <tr>\n",
       "      <th>9</th>\n",
       "      <td>2014.666667</td>\n",
       "      <td>0.158514</td>\n",
       "      <td>0.162138</td>\n",
       "      <td>0.176027</td>\n",
       "      <td>0.176027</td>\n",
       "      <td>0.172403</td>\n",
       "      <td>0.154891</td>\n",
       "    </tr>\n",
       "    <tr>\n",
       "      <th>10</th>\n",
       "      <td>2017.000000</td>\n",
       "      <td>0.158430</td>\n",
       "      <td>0.162306</td>\n",
       "      <td>0.172319</td>\n",
       "      <td>0.176195</td>\n",
       "      <td>0.172319</td>\n",
       "      <td>0.158430</td>\n",
       "    </tr>\n",
       "    <tr>\n",
       "      <th>11</th>\n",
       "      <td>2019.000000</td>\n",
       "      <td>0.157438</td>\n",
       "      <td>0.173219</td>\n",
       "      <td>0.157438</td>\n",
       "      <td>0.185124</td>\n",
       "      <td>0.169343</td>\n",
       "      <td>0.157438</td>\n",
       "    </tr>\n",
       "    <tr>\n",
       "      <th>12</th>\n",
       "      <td>2020.000000</td>\n",
       "      <td>0.158380</td>\n",
       "      <td>0.171336</td>\n",
       "      <td>0.161205</td>\n",
       "      <td>0.186065</td>\n",
       "      <td>0.167460</td>\n",
       "      <td>0.155555</td>\n",
       "    </tr>\n",
       "  </tbody>\n",
       "</table>\n",
       "</div>"
      ],
      "text/plain": [
       "    track_release_year  Violence/Gangster  Self-Evolution/Struggle  \\\n",
       "2          2000.666667           0.150844                 0.173505   \n",
       "3          2002.000000           0.153489                 0.170860   \n",
       "4          2003.000000           0.156595                 0.173275   \n",
       "5          2004.666667           0.156668                 0.171666   \n",
       "6          2006.333333           0.156668                 0.176296   \n",
       "7          2009.000000           0.160291                 0.176296   \n",
       "8          2011.333333           0.158514                 0.166767   \n",
       "9          2014.666667           0.158514                 0.162138   \n",
       "10         2017.000000           0.158430                 0.162306   \n",
       "11         2019.000000           0.157438                 0.173219   \n",
       "12         2020.000000           0.158380                 0.171336   \n",
       "\n",
       "    Politics/Revolution      Misc     Money  Religion/Spirituality  \n",
       "2              0.172507  0.161925  0.181442               0.159778  \n",
       "3              0.172507  0.164570  0.178796               0.159778  \n",
       "4              0.163363  0.166986  0.173275               0.166507  \n",
       "5              0.171919  0.171666  0.167790               0.160291  \n",
       "6              0.176549  0.171666  0.163161               0.155661  \n",
       "7              0.180172  0.171666  0.159537               0.152038  \n",
       "8              0.180656  0.176027  0.167774               0.150262  \n",
       "9              0.176027  0.176027  0.172403               0.154891  \n",
       "10             0.172319  0.176195  0.172319               0.158430  \n",
       "11             0.157438  0.185124  0.169343               0.157438  \n",
       "12             0.161205  0.186065  0.167460               0.155555  "
      ]
     },
     "execution_count": 35,
     "metadata": {},
     "output_type": "execute_result"
    }
   ],
   "source": [
    "df_topics.rolling(window=3).mean().dropna()"
   ]
  },
  {
   "cell_type": "code",
   "execution_count": 36,
   "id": "54791035",
   "metadata": {},
   "outputs": [],
   "source": [
    "df_topics_smoothed = df_topics.iloc[:,1:].rolling(window=3).mean().dropna()"
   ]
  },
  {
   "cell_type": "code",
   "execution_count": 37,
   "id": "3d495857",
   "metadata": {},
   "outputs": [
    {
     "data": {
      "text/html": [
       "<div>\n",
       "<style scoped>\n",
       "    .dataframe tbody tr th:only-of-type {\n",
       "        vertical-align: middle;\n",
       "    }\n",
       "\n",
       "    .dataframe tbody tr th {\n",
       "        vertical-align: top;\n",
       "    }\n",
       "\n",
       "    .dataframe thead th {\n",
       "        text-align: right;\n",
       "    }\n",
       "</style>\n",
       "<table border=\"1\" class=\"dataframe\">\n",
       "  <thead>\n",
       "    <tr style=\"text-align: right;\">\n",
       "      <th></th>\n",
       "      <th>Violence/Gangster</th>\n",
       "      <th>Self-Evolution/Struggle</th>\n",
       "      <th>Politics/Revolution</th>\n",
       "      <th>Misc</th>\n",
       "      <th>Money</th>\n",
       "      <th>Religion/Spirituality</th>\n",
       "    </tr>\n",
       "  </thead>\n",
       "  <tbody>\n",
       "    <tr>\n",
       "      <th>2</th>\n",
       "      <td>0.150844</td>\n",
       "      <td>0.173505</td>\n",
       "      <td>0.172507</td>\n",
       "      <td>0.161925</td>\n",
       "      <td>0.181442</td>\n",
       "      <td>0.159778</td>\n",
       "    </tr>\n",
       "    <tr>\n",
       "      <th>3</th>\n",
       "      <td>0.153489</td>\n",
       "      <td>0.170860</td>\n",
       "      <td>0.172507</td>\n",
       "      <td>0.164570</td>\n",
       "      <td>0.178796</td>\n",
       "      <td>0.159778</td>\n",
       "    </tr>\n",
       "    <tr>\n",
       "      <th>4</th>\n",
       "      <td>0.156595</td>\n",
       "      <td>0.173275</td>\n",
       "      <td>0.163363</td>\n",
       "      <td>0.166986</td>\n",
       "      <td>0.173275</td>\n",
       "      <td>0.166507</td>\n",
       "    </tr>\n",
       "    <tr>\n",
       "      <th>5</th>\n",
       "      <td>0.156668</td>\n",
       "      <td>0.171666</td>\n",
       "      <td>0.171919</td>\n",
       "      <td>0.171666</td>\n",
       "      <td>0.167790</td>\n",
       "      <td>0.160291</td>\n",
       "    </tr>\n",
       "    <tr>\n",
       "      <th>6</th>\n",
       "      <td>0.156668</td>\n",
       "      <td>0.176296</td>\n",
       "      <td>0.176549</td>\n",
       "      <td>0.171666</td>\n",
       "      <td>0.163161</td>\n",
       "      <td>0.155661</td>\n",
       "    </tr>\n",
       "    <tr>\n",
       "      <th>7</th>\n",
       "      <td>0.160291</td>\n",
       "      <td>0.176296</td>\n",
       "      <td>0.180172</td>\n",
       "      <td>0.171666</td>\n",
       "      <td>0.159537</td>\n",
       "      <td>0.152038</td>\n",
       "    </tr>\n",
       "    <tr>\n",
       "      <th>8</th>\n",
       "      <td>0.158514</td>\n",
       "      <td>0.166767</td>\n",
       "      <td>0.180656</td>\n",
       "      <td>0.176027</td>\n",
       "      <td>0.167774</td>\n",
       "      <td>0.150262</td>\n",
       "    </tr>\n",
       "    <tr>\n",
       "      <th>9</th>\n",
       "      <td>0.158514</td>\n",
       "      <td>0.162138</td>\n",
       "      <td>0.176027</td>\n",
       "      <td>0.176027</td>\n",
       "      <td>0.172403</td>\n",
       "      <td>0.154891</td>\n",
       "    </tr>\n",
       "    <tr>\n",
       "      <th>10</th>\n",
       "      <td>0.158430</td>\n",
       "      <td>0.162306</td>\n",
       "      <td>0.172319</td>\n",
       "      <td>0.176195</td>\n",
       "      <td>0.172319</td>\n",
       "      <td>0.158430</td>\n",
       "    </tr>\n",
       "    <tr>\n",
       "      <th>11</th>\n",
       "      <td>0.157438</td>\n",
       "      <td>0.173219</td>\n",
       "      <td>0.157438</td>\n",
       "      <td>0.185124</td>\n",
       "      <td>0.169343</td>\n",
       "      <td>0.157438</td>\n",
       "    </tr>\n",
       "    <tr>\n",
       "      <th>12</th>\n",
       "      <td>0.158380</td>\n",
       "      <td>0.171336</td>\n",
       "      <td>0.161205</td>\n",
       "      <td>0.186065</td>\n",
       "      <td>0.167460</td>\n",
       "      <td>0.155555</td>\n",
       "    </tr>\n",
       "  </tbody>\n",
       "</table>\n",
       "</div>"
      ],
      "text/plain": [
       "    Violence/Gangster  Self-Evolution/Struggle  Politics/Revolution      Misc  \\\n",
       "2            0.150844                 0.173505             0.172507  0.161925   \n",
       "3            0.153489                 0.170860             0.172507  0.164570   \n",
       "4            0.156595                 0.173275             0.163363  0.166986   \n",
       "5            0.156668                 0.171666             0.171919  0.171666   \n",
       "6            0.156668                 0.176296             0.176549  0.171666   \n",
       "7            0.160291                 0.176296             0.180172  0.171666   \n",
       "8            0.158514                 0.166767             0.180656  0.176027   \n",
       "9            0.158514                 0.162138             0.176027  0.176027   \n",
       "10           0.158430                 0.162306             0.172319  0.176195   \n",
       "11           0.157438                 0.173219             0.157438  0.185124   \n",
       "12           0.158380                 0.171336             0.161205  0.186065   \n",
       "\n",
       "       Money  Religion/Spirituality  \n",
       "2   0.181442               0.159778  \n",
       "3   0.178796               0.159778  \n",
       "4   0.173275               0.166507  \n",
       "5   0.167790               0.160291  \n",
       "6   0.163161               0.155661  \n",
       "7   0.159537               0.152038  \n",
       "8   0.167774               0.150262  \n",
       "9   0.172403               0.154891  \n",
       "10  0.172319               0.158430  \n",
       "11  0.169343               0.157438  \n",
       "12  0.167460               0.155555  "
      ]
     },
     "execution_count": 37,
     "metadata": {},
     "output_type": "execute_result"
    }
   ],
   "source": [
    "df_topics_smoothed"
   ]
  },
  {
   "cell_type": "code",
   "execution_count": 38,
   "id": "03c89f27",
   "metadata": {},
   "outputs": [],
   "source": [
    "topics = df_topics_smoothed.columns.values"
   ]
  },
  {
   "cell_type": "code",
   "execution_count": 39,
   "id": "309d252d",
   "metadata": {},
   "outputs": [
    {
     "data": {
      "application/vnd.plotly.v1+json": {
       "config": {
        "plotlyServerURL": "https://plot.ly"
       },
       "data": [
        {
         "hoverinfo": "text+name",
         "line": {
          "shape": "spline"
         },
         "name": "Violence/Gangster",
         "text": [
          "tweak line smoothness<br>with 'smoothing' in line object"
         ],
         "type": "scatter",
         "x": [
          1999,
          2001,
          2002,
          2003,
          2004,
          2007,
          2008,
          2012,
          2014,
          2018,
          2019,
          2020,
          2021
         ],
         "y": [
          0.15084356593790557,
          0.1534890685834082,
          0.15659465864552,
          0.15666779013593976,
          0.1566677901359398,
          0.16029097854173688,
          0.1585144927536232,
          0.15851449275362317,
          0.15843023255813957,
          0.15743816906607602,
          0.15837978865176341
         ]
        },
        {
         "hoverinfo": "text+name",
         "line": {
          "shape": "spline"
         },
         "name": "Self-Evolution/Struggle",
         "text": [
          "tweak line smoothness<br>with 'smoothing' in line object"
         ],
         "type": "scatter",
         "x": [
          1999,
          2001,
          2002,
          2003,
          2004,
          2007,
          2008,
          2012,
          2014,
          2018,
          2019,
          2020,
          2021
         ],
         "y": [
          0.1735050414295697,
          0.1708595387840671,
          0.17327499772126517,
          0.17166610493203013,
          0.17629573456165973,
          0.17629573456165973,
          0.16676731078904994,
          0.1621376811594203,
          0.16230620155038758,
          0.173218899963086,
          0.17133566079171125
         ]
        },
        {
         "hoverinfo": "text+name",
         "line": {
          "shape": "spline"
         },
         "name": "Politics/Revolution",
         "text": [
          "tweak line smoothness<br>with 'smoothing' in line object"
         ],
         "type": "scatter",
         "x": [
          1999,
          2001,
          2002,
          2003,
          2004,
          2007,
          2008,
          2012,
          2014,
          2018,
          2019,
          2020,
          2021
         ],
         "y": [
          0.17250673854447438,
          0.1725067385444744,
          0.16336250113936743,
          0.17191888551848108,
          0.17654851514811068,
          0.1801717035539078,
          0.18065619967793878,
          0.17602657004830916,
          0.17231912144702843,
          0.15743816906607602,
          0.1612046474088256
         ]
        },
        {
         "hoverinfo": "text+name",
         "line": {
          "shape": "spline"
         },
         "name": "Money",
         "text": [
          "tweak line smoothness<br>with 'smoothing' in line object"
         ],
         "type": "scatter",
         "x": [
          1999,
          2001,
          2002,
          2003,
          2004,
          2007,
          2008,
          2012,
          2014,
          2018,
          2019,
          2020,
          2021
         ],
         "y": [
          0.18144154936607768,
          0.178796046720575,
          0.17327499772126517,
          0.16779013593978206,
          0.16316050631015241,
          0.15953731790435532,
          0.16777375201288244,
          0.1724033816425121,
          0.17231912144702843,
          0.16934293097083794,
          0.16745969179946318
         ]
        },
        {
         "hoverinfo": "text+name",
         "line": {
          "shape": "spline"
         },
         "name": "Religion/Spirituality",
         "text": [
          "tweak line smoothness<br>with 'smoothing' in line object"
         ],
         "type": "scatter",
         "x": [
          1999,
          2001,
          2002,
          2003,
          2004,
          2007,
          2008,
          2012,
          2014,
          2018,
          2019,
          2020,
          2021
         ],
         "y": [
          0.15977837675950882,
          0.15977837675950882,
          0.16650715522741774,
          0.16029097854173688,
          0.15566134891210726,
          0.15203816050631014,
          0.1502616747181965,
          0.15489130434782608,
          0.15843023255813957,
          0.15743816906607602,
          0.1555549298947013
         ]
        }
       ],
       "layout": {
        "template": {
         "data": {
          "bar": [
           {
            "error_x": {
             "color": "#2a3f5f"
            },
            "error_y": {
             "color": "#2a3f5f"
            },
            "marker": {
             "line": {
              "color": "#E5ECF6",
              "width": 0.5
             },
             "pattern": {
              "fillmode": "overlay",
              "size": 10,
              "solidity": 0.2
             }
            },
            "type": "bar"
           }
          ],
          "barpolar": [
           {
            "marker": {
             "line": {
              "color": "#E5ECF6",
              "width": 0.5
             },
             "pattern": {
              "fillmode": "overlay",
              "size": 10,
              "solidity": 0.2
             }
            },
            "type": "barpolar"
           }
          ],
          "carpet": [
           {
            "aaxis": {
             "endlinecolor": "#2a3f5f",
             "gridcolor": "white",
             "linecolor": "white",
             "minorgridcolor": "white",
             "startlinecolor": "#2a3f5f"
            },
            "baxis": {
             "endlinecolor": "#2a3f5f",
             "gridcolor": "white",
             "linecolor": "white",
             "minorgridcolor": "white",
             "startlinecolor": "#2a3f5f"
            },
            "type": "carpet"
           }
          ],
          "choropleth": [
           {
            "colorbar": {
             "outlinewidth": 0,
             "ticks": ""
            },
            "type": "choropleth"
           }
          ],
          "contour": [
           {
            "colorbar": {
             "outlinewidth": 0,
             "ticks": ""
            },
            "colorscale": [
             [
              0,
              "#0d0887"
             ],
             [
              0.1111111111111111,
              "#46039f"
             ],
             [
              0.2222222222222222,
              "#7201a8"
             ],
             [
              0.3333333333333333,
              "#9c179e"
             ],
             [
              0.4444444444444444,
              "#bd3786"
             ],
             [
              0.5555555555555556,
              "#d8576b"
             ],
             [
              0.6666666666666666,
              "#ed7953"
             ],
             [
              0.7777777777777778,
              "#fb9f3a"
             ],
             [
              0.8888888888888888,
              "#fdca26"
             ],
             [
              1,
              "#f0f921"
             ]
            ],
            "type": "contour"
           }
          ],
          "contourcarpet": [
           {
            "colorbar": {
             "outlinewidth": 0,
             "ticks": ""
            },
            "type": "contourcarpet"
           }
          ],
          "heatmap": [
           {
            "colorbar": {
             "outlinewidth": 0,
             "ticks": ""
            },
            "colorscale": [
             [
              0,
              "#0d0887"
             ],
             [
              0.1111111111111111,
              "#46039f"
             ],
             [
              0.2222222222222222,
              "#7201a8"
             ],
             [
              0.3333333333333333,
              "#9c179e"
             ],
             [
              0.4444444444444444,
              "#bd3786"
             ],
             [
              0.5555555555555556,
              "#d8576b"
             ],
             [
              0.6666666666666666,
              "#ed7953"
             ],
             [
              0.7777777777777778,
              "#fb9f3a"
             ],
             [
              0.8888888888888888,
              "#fdca26"
             ],
             [
              1,
              "#f0f921"
             ]
            ],
            "type": "heatmap"
           }
          ],
          "heatmapgl": [
           {
            "colorbar": {
             "outlinewidth": 0,
             "ticks": ""
            },
            "colorscale": [
             [
              0,
              "#0d0887"
             ],
             [
              0.1111111111111111,
              "#46039f"
             ],
             [
              0.2222222222222222,
              "#7201a8"
             ],
             [
              0.3333333333333333,
              "#9c179e"
             ],
             [
              0.4444444444444444,
              "#bd3786"
             ],
             [
              0.5555555555555556,
              "#d8576b"
             ],
             [
              0.6666666666666666,
              "#ed7953"
             ],
             [
              0.7777777777777778,
              "#fb9f3a"
             ],
             [
              0.8888888888888888,
              "#fdca26"
             ],
             [
              1,
              "#f0f921"
             ]
            ],
            "type": "heatmapgl"
           }
          ],
          "histogram": [
           {
            "marker": {
             "pattern": {
              "fillmode": "overlay",
              "size": 10,
              "solidity": 0.2
             }
            },
            "type": "histogram"
           }
          ],
          "histogram2d": [
           {
            "colorbar": {
             "outlinewidth": 0,
             "ticks": ""
            },
            "colorscale": [
             [
              0,
              "#0d0887"
             ],
             [
              0.1111111111111111,
              "#46039f"
             ],
             [
              0.2222222222222222,
              "#7201a8"
             ],
             [
              0.3333333333333333,
              "#9c179e"
             ],
             [
              0.4444444444444444,
              "#bd3786"
             ],
             [
              0.5555555555555556,
              "#d8576b"
             ],
             [
              0.6666666666666666,
              "#ed7953"
             ],
             [
              0.7777777777777778,
              "#fb9f3a"
             ],
             [
              0.8888888888888888,
              "#fdca26"
             ],
             [
              1,
              "#f0f921"
             ]
            ],
            "type": "histogram2d"
           }
          ],
          "histogram2dcontour": [
           {
            "colorbar": {
             "outlinewidth": 0,
             "ticks": ""
            },
            "colorscale": [
             [
              0,
              "#0d0887"
             ],
             [
              0.1111111111111111,
              "#46039f"
             ],
             [
              0.2222222222222222,
              "#7201a8"
             ],
             [
              0.3333333333333333,
              "#9c179e"
             ],
             [
              0.4444444444444444,
              "#bd3786"
             ],
             [
              0.5555555555555556,
              "#d8576b"
             ],
             [
              0.6666666666666666,
              "#ed7953"
             ],
             [
              0.7777777777777778,
              "#fb9f3a"
             ],
             [
              0.8888888888888888,
              "#fdca26"
             ],
             [
              1,
              "#f0f921"
             ]
            ],
            "type": "histogram2dcontour"
           }
          ],
          "mesh3d": [
           {
            "colorbar": {
             "outlinewidth": 0,
             "ticks": ""
            },
            "type": "mesh3d"
           }
          ],
          "parcoords": [
           {
            "line": {
             "colorbar": {
              "outlinewidth": 0,
              "ticks": ""
             }
            },
            "type": "parcoords"
           }
          ],
          "pie": [
           {
            "automargin": true,
            "type": "pie"
           }
          ],
          "scatter": [
           {
            "marker": {
             "colorbar": {
              "outlinewidth": 0,
              "ticks": ""
             }
            },
            "type": "scatter"
           }
          ],
          "scatter3d": [
           {
            "line": {
             "colorbar": {
              "outlinewidth": 0,
              "ticks": ""
             }
            },
            "marker": {
             "colorbar": {
              "outlinewidth": 0,
              "ticks": ""
             }
            },
            "type": "scatter3d"
           }
          ],
          "scattercarpet": [
           {
            "marker": {
             "colorbar": {
              "outlinewidth": 0,
              "ticks": ""
             }
            },
            "type": "scattercarpet"
           }
          ],
          "scattergeo": [
           {
            "marker": {
             "colorbar": {
              "outlinewidth": 0,
              "ticks": ""
             }
            },
            "type": "scattergeo"
           }
          ],
          "scattergl": [
           {
            "marker": {
             "colorbar": {
              "outlinewidth": 0,
              "ticks": ""
             }
            },
            "type": "scattergl"
           }
          ],
          "scattermapbox": [
           {
            "marker": {
             "colorbar": {
              "outlinewidth": 0,
              "ticks": ""
             }
            },
            "type": "scattermapbox"
           }
          ],
          "scatterpolar": [
           {
            "marker": {
             "colorbar": {
              "outlinewidth": 0,
              "ticks": ""
             }
            },
            "type": "scatterpolar"
           }
          ],
          "scatterpolargl": [
           {
            "marker": {
             "colorbar": {
              "outlinewidth": 0,
              "ticks": ""
             }
            },
            "type": "scatterpolargl"
           }
          ],
          "scatterternary": [
           {
            "marker": {
             "colorbar": {
              "outlinewidth": 0,
              "ticks": ""
             }
            },
            "type": "scatterternary"
           }
          ],
          "surface": [
           {
            "colorbar": {
             "outlinewidth": 0,
             "ticks": ""
            },
            "colorscale": [
             [
              0,
              "#0d0887"
             ],
             [
              0.1111111111111111,
              "#46039f"
             ],
             [
              0.2222222222222222,
              "#7201a8"
             ],
             [
              0.3333333333333333,
              "#9c179e"
             ],
             [
              0.4444444444444444,
              "#bd3786"
             ],
             [
              0.5555555555555556,
              "#d8576b"
             ],
             [
              0.6666666666666666,
              "#ed7953"
             ],
             [
              0.7777777777777778,
              "#fb9f3a"
             ],
             [
              0.8888888888888888,
              "#fdca26"
             ],
             [
              1,
              "#f0f921"
             ]
            ],
            "type": "surface"
           }
          ],
          "table": [
           {
            "cells": {
             "fill": {
              "color": "#EBF0F8"
             },
             "line": {
              "color": "white"
             }
            },
            "header": {
             "fill": {
              "color": "#C8D4E3"
             },
             "line": {
              "color": "white"
             }
            },
            "type": "table"
           }
          ]
         },
         "layout": {
          "annotationdefaults": {
           "arrowcolor": "#2a3f5f",
           "arrowhead": 0,
           "arrowwidth": 1
          },
          "autotypenumbers": "strict",
          "coloraxis": {
           "colorbar": {
            "outlinewidth": 0,
            "ticks": ""
           }
          },
          "colorscale": {
           "diverging": [
            [
             0,
             "#8e0152"
            ],
            [
             0.1,
             "#c51b7d"
            ],
            [
             0.2,
             "#de77ae"
            ],
            [
             0.3,
             "#f1b6da"
            ],
            [
             0.4,
             "#fde0ef"
            ],
            [
             0.5,
             "#f7f7f7"
            ],
            [
             0.6,
             "#e6f5d0"
            ],
            [
             0.7,
             "#b8e186"
            ],
            [
             0.8,
             "#7fbc41"
            ],
            [
             0.9,
             "#4d9221"
            ],
            [
             1,
             "#276419"
            ]
           ],
           "sequential": [
            [
             0,
             "#0d0887"
            ],
            [
             0.1111111111111111,
             "#46039f"
            ],
            [
             0.2222222222222222,
             "#7201a8"
            ],
            [
             0.3333333333333333,
             "#9c179e"
            ],
            [
             0.4444444444444444,
             "#bd3786"
            ],
            [
             0.5555555555555556,
             "#d8576b"
            ],
            [
             0.6666666666666666,
             "#ed7953"
            ],
            [
             0.7777777777777778,
             "#fb9f3a"
            ],
            [
             0.8888888888888888,
             "#fdca26"
            ],
            [
             1,
             "#f0f921"
            ]
           ],
           "sequentialminus": [
            [
             0,
             "#0d0887"
            ],
            [
             0.1111111111111111,
             "#46039f"
            ],
            [
             0.2222222222222222,
             "#7201a8"
            ],
            [
             0.3333333333333333,
             "#9c179e"
            ],
            [
             0.4444444444444444,
             "#bd3786"
            ],
            [
             0.5555555555555556,
             "#d8576b"
            ],
            [
             0.6666666666666666,
             "#ed7953"
            ],
            [
             0.7777777777777778,
             "#fb9f3a"
            ],
            [
             0.8888888888888888,
             "#fdca26"
            ],
            [
             1,
             "#f0f921"
            ]
           ]
          },
          "colorway": [
           "#636efa",
           "#EF553B",
           "#00cc96",
           "#ab63fa",
           "#FFA15A",
           "#19d3f3",
           "#FF6692",
           "#B6E880",
           "#FF97FF",
           "#FECB52"
          ],
          "font": {
           "color": "#2a3f5f"
          },
          "geo": {
           "bgcolor": "white",
           "lakecolor": "white",
           "landcolor": "#E5ECF6",
           "showlakes": true,
           "showland": true,
           "subunitcolor": "white"
          },
          "hoverlabel": {
           "align": "left"
          },
          "hovermode": "closest",
          "mapbox": {
           "style": "light"
          },
          "paper_bgcolor": "white",
          "plot_bgcolor": "#E5ECF6",
          "polar": {
           "angularaxis": {
            "gridcolor": "white",
            "linecolor": "white",
            "ticks": ""
           },
           "bgcolor": "#E5ECF6",
           "radialaxis": {
            "gridcolor": "white",
            "linecolor": "white",
            "ticks": ""
           }
          },
          "scene": {
           "xaxis": {
            "backgroundcolor": "#E5ECF6",
            "gridcolor": "white",
            "gridwidth": 2,
            "linecolor": "white",
            "showbackground": true,
            "ticks": "",
            "zerolinecolor": "white"
           },
           "yaxis": {
            "backgroundcolor": "#E5ECF6",
            "gridcolor": "white",
            "gridwidth": 2,
            "linecolor": "white",
            "showbackground": true,
            "ticks": "",
            "zerolinecolor": "white"
           },
           "zaxis": {
            "backgroundcolor": "#E5ECF6",
            "gridcolor": "white",
            "gridwidth": 2,
            "linecolor": "white",
            "showbackground": true,
            "ticks": "",
            "zerolinecolor": "white"
           }
          },
          "shapedefaults": {
           "line": {
            "color": "#2a3f5f"
           }
          },
          "ternary": {
           "aaxis": {
            "gridcolor": "white",
            "linecolor": "white",
            "ticks": ""
           },
           "baxis": {
            "gridcolor": "white",
            "linecolor": "white",
            "ticks": ""
           },
           "bgcolor": "#E5ECF6",
           "caxis": {
            "gridcolor": "white",
            "linecolor": "white",
            "ticks": ""
           }
          },
          "title": {
           "x": 0.05
          },
          "xaxis": {
           "automargin": true,
           "gridcolor": "white",
           "linecolor": "white",
           "ticks": "",
           "title": {
            "standoff": 15
           },
           "zerolinecolor": "white",
           "zerolinewidth": 2
          },
          "yaxis": {
           "automargin": true,
           "gridcolor": "white",
           "linecolor": "white",
           "ticks": "",
           "title": {
            "standoff": 15
           },
           "zerolinecolor": "white",
           "zerolinewidth": 2
          }
         }
        },
        "title": {
         "text": "Topics Prevalence through the years (Nas)"
        },
        "xaxis": {
         "title": {
          "text": "Year"
         }
        },
        "yaxis": {
         "range": [
          0.1,
          0.2
         ],
         "title": {
          "text": "Relative Freq."
         }
        }
       }
      },
      "text/html": [
       "<div>                            <div id=\"da83d734-5258-45f1-b9af-f55861687953\" class=\"plotly-graph-div\" style=\"height:525px; width:100%;\"></div>            <script type=\"text/javascript\">                require([\"plotly\"], function(Plotly) {                    window.PLOTLYENV=window.PLOTLYENV || {};                                    if (document.getElementById(\"da83d734-5258-45f1-b9af-f55861687953\")) {                    Plotly.newPlot(                        \"da83d734-5258-45f1-b9af-f55861687953\",                        [{\"hoverinfo\":\"text+name\",\"line\":{\"shape\":\"spline\"},\"name\":\"Violence/Gangster\",\"text\":[\"tweak line smoothness<br>with 'smoothing' in line object\"],\"x\":[1999,2001,2002,2003,2004,2007,2008,2012,2014,2018,2019,2020,2021],\"y\":[0.15084356593790557,0.1534890685834082,0.15659465864552,0.15666779013593976,0.1566677901359398,0.16029097854173688,0.1585144927536232,0.15851449275362317,0.15843023255813957,0.15743816906607602,0.15837978865176341],\"type\":\"scatter\"},{\"hoverinfo\":\"text+name\",\"line\":{\"shape\":\"spline\"},\"name\":\"Self-Evolution/Struggle\",\"text\":[\"tweak line smoothness<br>with 'smoothing' in line object\"],\"x\":[1999,2001,2002,2003,2004,2007,2008,2012,2014,2018,2019,2020,2021],\"y\":[0.1735050414295697,0.1708595387840671,0.17327499772126517,0.17166610493203013,0.17629573456165973,0.17629573456165973,0.16676731078904994,0.1621376811594203,0.16230620155038758,0.173218899963086,0.17133566079171125],\"type\":\"scatter\"},{\"hoverinfo\":\"text+name\",\"line\":{\"shape\":\"spline\"},\"name\":\"Politics/Revolution\",\"text\":[\"tweak line smoothness<br>with 'smoothing' in line object\"],\"x\":[1999,2001,2002,2003,2004,2007,2008,2012,2014,2018,2019,2020,2021],\"y\":[0.17250673854447438,0.1725067385444744,0.16336250113936743,0.17191888551848108,0.17654851514811068,0.1801717035539078,0.18065619967793878,0.17602657004830916,0.17231912144702843,0.15743816906607602,0.1612046474088256],\"type\":\"scatter\"},{\"hoverinfo\":\"text+name\",\"line\":{\"shape\":\"spline\"},\"name\":\"Money\",\"text\":[\"tweak line smoothness<br>with 'smoothing' in line object\"],\"x\":[1999,2001,2002,2003,2004,2007,2008,2012,2014,2018,2019,2020,2021],\"y\":[0.18144154936607768,0.178796046720575,0.17327499772126517,0.16779013593978206,0.16316050631015241,0.15953731790435532,0.16777375201288244,0.1724033816425121,0.17231912144702843,0.16934293097083794,0.16745969179946318],\"type\":\"scatter\"},{\"hoverinfo\":\"text+name\",\"line\":{\"shape\":\"spline\"},\"name\":\"Religion/Spirituality\",\"text\":[\"tweak line smoothness<br>with 'smoothing' in line object\"],\"x\":[1999,2001,2002,2003,2004,2007,2008,2012,2014,2018,2019,2020,2021],\"y\":[0.15977837675950882,0.15977837675950882,0.16650715522741774,0.16029097854173688,0.15566134891210726,0.15203816050631014,0.1502616747181965,0.15489130434782608,0.15843023255813957,0.15743816906607602,0.1555549298947013],\"type\":\"scatter\"}],                        {\"template\":{\"data\":{\"bar\":[{\"error_x\":{\"color\":\"#2a3f5f\"},\"error_y\":{\"color\":\"#2a3f5f\"},\"marker\":{\"line\":{\"color\":\"#E5ECF6\",\"width\":0.5},\"pattern\":{\"fillmode\":\"overlay\",\"size\":10,\"solidity\":0.2}},\"type\":\"bar\"}],\"barpolar\":[{\"marker\":{\"line\":{\"color\":\"#E5ECF6\",\"width\":0.5},\"pattern\":{\"fillmode\":\"overlay\",\"size\":10,\"solidity\":0.2}},\"type\":\"barpolar\"}],\"carpet\":[{\"aaxis\":{\"endlinecolor\":\"#2a3f5f\",\"gridcolor\":\"white\",\"linecolor\":\"white\",\"minorgridcolor\":\"white\",\"startlinecolor\":\"#2a3f5f\"},\"baxis\":{\"endlinecolor\":\"#2a3f5f\",\"gridcolor\":\"white\",\"linecolor\":\"white\",\"minorgridcolor\":\"white\",\"startlinecolor\":\"#2a3f5f\"},\"type\":\"carpet\"}],\"choropleth\":[{\"colorbar\":{\"outlinewidth\":0,\"ticks\":\"\"},\"type\":\"choropleth\"}],\"contour\":[{\"colorbar\":{\"outlinewidth\":0,\"ticks\":\"\"},\"colorscale\":[[0.0,\"#0d0887\"],[0.1111111111111111,\"#46039f\"],[0.2222222222222222,\"#7201a8\"],[0.3333333333333333,\"#9c179e\"],[0.4444444444444444,\"#bd3786\"],[0.5555555555555556,\"#d8576b\"],[0.6666666666666666,\"#ed7953\"],[0.7777777777777778,\"#fb9f3a\"],[0.8888888888888888,\"#fdca26\"],[1.0,\"#f0f921\"]],\"type\":\"contour\"}],\"contourcarpet\":[{\"colorbar\":{\"outlinewidth\":0,\"ticks\":\"\"},\"type\":\"contourcarpet\"}],\"heatmap\":[{\"colorbar\":{\"outlinewidth\":0,\"ticks\":\"\"},\"colorscale\":[[0.0,\"#0d0887\"],[0.1111111111111111,\"#46039f\"],[0.2222222222222222,\"#7201a8\"],[0.3333333333333333,\"#9c179e\"],[0.4444444444444444,\"#bd3786\"],[0.5555555555555556,\"#d8576b\"],[0.6666666666666666,\"#ed7953\"],[0.7777777777777778,\"#fb9f3a\"],[0.8888888888888888,\"#fdca26\"],[1.0,\"#f0f921\"]],\"type\":\"heatmap\"}],\"heatmapgl\":[{\"colorbar\":{\"outlinewidth\":0,\"ticks\":\"\"},\"colorscale\":[[0.0,\"#0d0887\"],[0.1111111111111111,\"#46039f\"],[0.2222222222222222,\"#7201a8\"],[0.3333333333333333,\"#9c179e\"],[0.4444444444444444,\"#bd3786\"],[0.5555555555555556,\"#d8576b\"],[0.6666666666666666,\"#ed7953\"],[0.7777777777777778,\"#fb9f3a\"],[0.8888888888888888,\"#fdca26\"],[1.0,\"#f0f921\"]],\"type\":\"heatmapgl\"}],\"histogram\":[{\"marker\":{\"pattern\":{\"fillmode\":\"overlay\",\"size\":10,\"solidity\":0.2}},\"type\":\"histogram\"}],\"histogram2d\":[{\"colorbar\":{\"outlinewidth\":0,\"ticks\":\"\"},\"colorscale\":[[0.0,\"#0d0887\"],[0.1111111111111111,\"#46039f\"],[0.2222222222222222,\"#7201a8\"],[0.3333333333333333,\"#9c179e\"],[0.4444444444444444,\"#bd3786\"],[0.5555555555555556,\"#d8576b\"],[0.6666666666666666,\"#ed7953\"],[0.7777777777777778,\"#fb9f3a\"],[0.8888888888888888,\"#fdca26\"],[1.0,\"#f0f921\"]],\"type\":\"histogram2d\"}],\"histogram2dcontour\":[{\"colorbar\":{\"outlinewidth\":0,\"ticks\":\"\"},\"colorscale\":[[0.0,\"#0d0887\"],[0.1111111111111111,\"#46039f\"],[0.2222222222222222,\"#7201a8\"],[0.3333333333333333,\"#9c179e\"],[0.4444444444444444,\"#bd3786\"],[0.5555555555555556,\"#d8576b\"],[0.6666666666666666,\"#ed7953\"],[0.7777777777777778,\"#fb9f3a\"],[0.8888888888888888,\"#fdca26\"],[1.0,\"#f0f921\"]],\"type\":\"histogram2dcontour\"}],\"mesh3d\":[{\"colorbar\":{\"outlinewidth\":0,\"ticks\":\"\"},\"type\":\"mesh3d\"}],\"parcoords\":[{\"line\":{\"colorbar\":{\"outlinewidth\":0,\"ticks\":\"\"}},\"type\":\"parcoords\"}],\"pie\":[{\"automargin\":true,\"type\":\"pie\"}],\"scatter\":[{\"marker\":{\"colorbar\":{\"outlinewidth\":0,\"ticks\":\"\"}},\"type\":\"scatter\"}],\"scatter3d\":[{\"line\":{\"colorbar\":{\"outlinewidth\":0,\"ticks\":\"\"}},\"marker\":{\"colorbar\":{\"outlinewidth\":0,\"ticks\":\"\"}},\"type\":\"scatter3d\"}],\"scattercarpet\":[{\"marker\":{\"colorbar\":{\"outlinewidth\":0,\"ticks\":\"\"}},\"type\":\"scattercarpet\"}],\"scattergeo\":[{\"marker\":{\"colorbar\":{\"outlinewidth\":0,\"ticks\":\"\"}},\"type\":\"scattergeo\"}],\"scattergl\":[{\"marker\":{\"colorbar\":{\"outlinewidth\":0,\"ticks\":\"\"}},\"type\":\"scattergl\"}],\"scattermapbox\":[{\"marker\":{\"colorbar\":{\"outlinewidth\":0,\"ticks\":\"\"}},\"type\":\"scattermapbox\"}],\"scatterpolar\":[{\"marker\":{\"colorbar\":{\"outlinewidth\":0,\"ticks\":\"\"}},\"type\":\"scatterpolar\"}],\"scatterpolargl\":[{\"marker\":{\"colorbar\":{\"outlinewidth\":0,\"ticks\":\"\"}},\"type\":\"scatterpolargl\"}],\"scatterternary\":[{\"marker\":{\"colorbar\":{\"outlinewidth\":0,\"ticks\":\"\"}},\"type\":\"scatterternary\"}],\"surface\":[{\"colorbar\":{\"outlinewidth\":0,\"ticks\":\"\"},\"colorscale\":[[0.0,\"#0d0887\"],[0.1111111111111111,\"#46039f\"],[0.2222222222222222,\"#7201a8\"],[0.3333333333333333,\"#9c179e\"],[0.4444444444444444,\"#bd3786\"],[0.5555555555555556,\"#d8576b\"],[0.6666666666666666,\"#ed7953\"],[0.7777777777777778,\"#fb9f3a\"],[0.8888888888888888,\"#fdca26\"],[1.0,\"#f0f921\"]],\"type\":\"surface\"}],\"table\":[{\"cells\":{\"fill\":{\"color\":\"#EBF0F8\"},\"line\":{\"color\":\"white\"}},\"header\":{\"fill\":{\"color\":\"#C8D4E3\"},\"line\":{\"color\":\"white\"}},\"type\":\"table\"}]},\"layout\":{\"annotationdefaults\":{\"arrowcolor\":\"#2a3f5f\",\"arrowhead\":0,\"arrowwidth\":1},\"autotypenumbers\":\"strict\",\"coloraxis\":{\"colorbar\":{\"outlinewidth\":0,\"ticks\":\"\"}},\"colorscale\":{\"diverging\":[[0,\"#8e0152\"],[0.1,\"#c51b7d\"],[0.2,\"#de77ae\"],[0.3,\"#f1b6da\"],[0.4,\"#fde0ef\"],[0.5,\"#f7f7f7\"],[0.6,\"#e6f5d0\"],[0.7,\"#b8e186\"],[0.8,\"#7fbc41\"],[0.9,\"#4d9221\"],[1,\"#276419\"]],\"sequential\":[[0.0,\"#0d0887\"],[0.1111111111111111,\"#46039f\"],[0.2222222222222222,\"#7201a8\"],[0.3333333333333333,\"#9c179e\"],[0.4444444444444444,\"#bd3786\"],[0.5555555555555556,\"#d8576b\"],[0.6666666666666666,\"#ed7953\"],[0.7777777777777778,\"#fb9f3a\"],[0.8888888888888888,\"#fdca26\"],[1.0,\"#f0f921\"]],\"sequentialminus\":[[0.0,\"#0d0887\"],[0.1111111111111111,\"#46039f\"],[0.2222222222222222,\"#7201a8\"],[0.3333333333333333,\"#9c179e\"],[0.4444444444444444,\"#bd3786\"],[0.5555555555555556,\"#d8576b\"],[0.6666666666666666,\"#ed7953\"],[0.7777777777777778,\"#fb9f3a\"],[0.8888888888888888,\"#fdca26\"],[1.0,\"#f0f921\"]]},\"colorway\":[\"#636efa\",\"#EF553B\",\"#00cc96\",\"#ab63fa\",\"#FFA15A\",\"#19d3f3\",\"#FF6692\",\"#B6E880\",\"#FF97FF\",\"#FECB52\"],\"font\":{\"color\":\"#2a3f5f\"},\"geo\":{\"bgcolor\":\"white\",\"lakecolor\":\"white\",\"landcolor\":\"#E5ECF6\",\"showlakes\":true,\"showland\":true,\"subunitcolor\":\"white\"},\"hoverlabel\":{\"align\":\"left\"},\"hovermode\":\"closest\",\"mapbox\":{\"style\":\"light\"},\"paper_bgcolor\":\"white\",\"plot_bgcolor\":\"#E5ECF6\",\"polar\":{\"angularaxis\":{\"gridcolor\":\"white\",\"linecolor\":\"white\",\"ticks\":\"\"},\"bgcolor\":\"#E5ECF6\",\"radialaxis\":{\"gridcolor\":\"white\",\"linecolor\":\"white\",\"ticks\":\"\"}},\"scene\":{\"xaxis\":{\"backgroundcolor\":\"#E5ECF6\",\"gridcolor\":\"white\",\"gridwidth\":2,\"linecolor\":\"white\",\"showbackground\":true,\"ticks\":\"\",\"zerolinecolor\":\"white\"},\"yaxis\":{\"backgroundcolor\":\"#E5ECF6\",\"gridcolor\":\"white\",\"gridwidth\":2,\"linecolor\":\"white\",\"showbackground\":true,\"ticks\":\"\",\"zerolinecolor\":\"white\"},\"zaxis\":{\"backgroundcolor\":\"#E5ECF6\",\"gridcolor\":\"white\",\"gridwidth\":2,\"linecolor\":\"white\",\"showbackground\":true,\"ticks\":\"\",\"zerolinecolor\":\"white\"}},\"shapedefaults\":{\"line\":{\"color\":\"#2a3f5f\"}},\"ternary\":{\"aaxis\":{\"gridcolor\":\"white\",\"linecolor\":\"white\",\"ticks\":\"\"},\"baxis\":{\"gridcolor\":\"white\",\"linecolor\":\"white\",\"ticks\":\"\"},\"bgcolor\":\"#E5ECF6\",\"caxis\":{\"gridcolor\":\"white\",\"linecolor\":\"white\",\"ticks\":\"\"}},\"title\":{\"x\":0.05},\"xaxis\":{\"automargin\":true,\"gridcolor\":\"white\",\"linecolor\":\"white\",\"ticks\":\"\",\"title\":{\"standoff\":15},\"zerolinecolor\":\"white\",\"zerolinewidth\":2},\"yaxis\":{\"automargin\":true,\"gridcolor\":\"white\",\"linecolor\":\"white\",\"ticks\":\"\",\"title\":{\"standoff\":15},\"zerolinecolor\":\"white\",\"zerolinewidth\":2}}},\"yaxis\":{\"range\":[0.1,0.2],\"title\":{\"text\":\"Relative Freq.\"}},\"title\":{\"text\":\"Topics Prevalence through the years (Nas)\"},\"xaxis\":{\"title\":{\"text\":\"Year\"}}},                        {\"responsive\": true}                    ).then(function(){\n",
       "                            \n",
       "var gd = document.getElementById('da83d734-5258-45f1-b9af-f55861687953');\n",
       "var x = new MutationObserver(function (mutations, observer) {{\n",
       "        var display = window.getComputedStyle(gd).display;\n",
       "        if (!display || display === 'none') {{\n",
       "            console.log([gd, 'removed!']);\n",
       "            Plotly.purge(gd);\n",
       "            observer.disconnect();\n",
       "        }}\n",
       "}});\n",
       "\n",
       "// Listen for the removal of the full notebook cells\n",
       "var notebookContainer = gd.closest('#notebook-container');\n",
       "if (notebookContainer) {{\n",
       "    x.observe(notebookContainer, {childList: true});\n",
       "}}\n",
       "\n",
       "// Listen for the clearing of the current output cell\n",
       "var outputEl = gd.closest('.output');\n",
       "if (outputEl) {{\n",
       "    x.observe(outputEl, {childList: true});\n",
       "}}\n",
       "\n",
       "                        })                };                });            </script>        </div>"
      ]
     },
     "metadata": {},
     "output_type": "display_data"
    }
   ],
   "source": [
    "import plotly.graph_objects as go\n",
    "import numpy as np\n",
    "\n",
    "fig = go.Figure()\n",
    "fig.update_layout(yaxis_range=[0.1,0.2])\n",
    "\n",
    "for t in topics:\n",
    "    if t in ['Misc']:\n",
    "        continue\n",
    "    fig.add_trace(go.Scatter(x=df_topics.track_release_year, y=df_topics_smoothed[t], name=t,\n",
    "                    text=[\"tweak line smoothness<br>with 'smoothing' in line object\"],\n",
    "                    hoverinfo='text+name',\n",
    "                    line_shape='spline'))\n",
    "    \n",
    "    \n",
    "fig.update_layout(\n",
    "    title=\"Topics Prevalence through the years (Nas)\",\n",
    "    xaxis_title=\"Year\",\n",
    "    yaxis_title=\"Relative Freq.\")\n",
    "    \n",
    "fig.show()"
   ]
  },
  {
   "cell_type": "code",
   "execution_count": null,
   "id": "74ee4c33",
   "metadata": {},
   "outputs": [],
   "source": []
  }
 ],
 "metadata": {
  "kernelspec": {
   "display_name": "Python 3 (ipykernel)",
   "language": "python",
   "name": "python3"
  },
  "language_info": {
   "codemirror_mode": {
    "name": "ipython",
    "version": 3
   },
   "file_extension": ".py",
   "mimetype": "text/x-python",
   "name": "python",
   "nbconvert_exporter": "python",
   "pygments_lexer": "ipython3",
   "version": "3.8.12"
  }
 },
 "nbformat": 4,
 "nbformat_minor": 5
}
