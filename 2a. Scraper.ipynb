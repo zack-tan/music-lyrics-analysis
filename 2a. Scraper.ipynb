{
 "cells": [
  {
   "cell_type": "code",
   "execution_count": 2,
   "metadata": {},
   "outputs": [],
   "source": [
    "import bs4 as bs\n",
    "from bs4 import BeautifulSoup\n",
    "import requests\n",
    "import csv\n",
    "import pandas as pd\n",
    "import time\n",
    "\n",
    "from selenium import webdriver\n",
    "from selenium.webdriver.chrome.options import Options\n",
    "\n",
    "from selenium.webdriver.common.by import By\n",
    "from selenium.webdriver.support.ui import WebDriverWait\n",
    "\n",
    "from selenium.webdriver.chrome.options import Options\n",
    "from webdriver_manager.chrome import ChromeDriverManager\n",
    "\n",
    "from selenium import webdriver\n",
    "from selenium.webdriver.common.action_chains import ActionChains"
   ]
  },
  {
   "cell_type": "code",
   "execution_count": 12,
   "metadata": {},
   "outputs": [
    {
     "name": "stderr",
     "output_type": "stream",
     "text": [
      "\n",
      "\n",
      "====== WebDriver manager ======\n",
      "Current google-chrome version is 98.0.4758\n",
      "Get LATEST driver version for 98.0.4758\n",
      "Get LATEST driver version for 98.0.4758\n",
      "Trying to download new driver from https://chromedriver.storage.googleapis.com/98.0.4758.80/chromedriver_mac64.zip\n",
      "Driver has been saved in cache [/Users/ananyanair/.wdm/drivers/chromedriver/mac64/98.0.4758.80]\n"
     ]
    }
   ],
   "source": [
    "#Chrome\n",
    "chrome_options = Options()\n",
    "\n",
    "#opens the website\n",
    "driver = webdriver.Chrome(ChromeDriverManager().install()) #gets the new version of chrome \n",
    "driver.maximize_window()\n",
    "\n",
    "url1 = \"https://www.ranker.com/crowdranked-list/best-_90s-rappers\"\n",
    "url2 = \"https://www.ranker.com/list/best-_00s-rappers/whatevayoulike\"\n",
    "driver.get(url2)\n"
   ]
  },
  {
   "cell_type": "code",
   "execution_count": 13,
   "id": "13c2ea81",
   "metadata": {},
   "outputs": [],
   "source": [
    "names_list = []\n",
    "page = driver.page_source\n",
    "soup = BeautifulSoup(page,'lxml')\n",
    "\n",
    "names = soup.find_all('a', class_=\"listItem_name___sTd- listItem_nameLink__2ZdXU\" )\n",
    "\n",
    "for i in names:\n",
    "    names_list.append(i.get_text())"
   ]
  },
  {
   "cell_type": "code",
   "execution_count": 15,
   "id": "4bdcc54b",
   "metadata": {},
   "outputs": [],
   "source": [
    "import pandas\n",
    "df = pandas.DataFrame(data={\"names\": names_list})\n",
    "df.to_csv(\"00srappers.csv\")"
   ]
  },
  {
   "cell_type": "code",
   "execution_count": null,
   "id": "c6a13fad",
   "metadata": {},
   "outputs": [],
   "source": [
    "names_list = []\n",
    "page = driver.page_source\n",
    "soup = BeautifulSoup(page,'lxml')\n",
    "\n",
    "names = soup.find_all('a', class_=\"listItem_name___sTd- listItem_nameLink__2ZdXU\" )\n",
    "\n",
    "for i in names:\n",
    "    names_list.append(i.get_text())\n",
    "\n",
    "df = pandas.DataFrame(data={\"names\": names_list})\n",
    "df.to_csv(\"90srappers.csv\")"
   ]
  }
 ],
 "metadata": {
  "kernelspec": {
   "display_name": "Python 3",
   "language": "python",
   "name": "python3"
  },
  "language_info": {
   "codemirror_mode": {
    "name": "ipython",
    "version": 3
   },
   "file_extension": ".py",
   "mimetype": "text/x-python",
   "name": "python",
   "nbconvert_exporter": "python",
   "pygments_lexer": "ipython3",
   "version": "3.8.5"
  }
 },
 "nbformat": 4,
 "nbformat_minor": 5
}
