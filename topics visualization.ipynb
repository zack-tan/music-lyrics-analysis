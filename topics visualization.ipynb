{
 "cells": [
  {
   "cell_type": "code",
   "execution_count": 159,
   "id": "3e165ae3",
   "metadata": {},
   "outputs": [
    {
     "name": "stdout",
     "output_type": "stream",
     "text": [
      "Requirement already satisfied: bar_chart_race in c:\\users\\carlo\\anaconda3\\lib\\site-packages (0.1.0)\n",
      "Requirement already satisfied: pandas>=0.24 in c:\\users\\carlo\\anaconda3\\lib\\site-packages (from bar_chart_race) (1.3.5)\n",
      "Requirement already satisfied: matplotlib>=3.1 in c:\\users\\carlo\\anaconda3\\lib\\site-packages (from bar_chart_race) (3.3.4)\n",
      "Requirement already satisfied: pillow>=6.2.0 in c:\\users\\carlo\\anaconda3\\lib\\site-packages (from matplotlib>=3.1->bar_chart_race) (8.2.0)\n",
      "Requirement already satisfied: kiwisolver>=1.0.1 in c:\\users\\carlo\\anaconda3\\lib\\site-packages (from matplotlib>=3.1->bar_chart_race) (1.3.1)\n",
      "Requirement already satisfied: numpy>=1.15 in c:\\users\\carlo\\anaconda3\\lib\\site-packages (from matplotlib>=3.1->bar_chart_race) (1.21.2)\n",
      "Requirement already satisfied: python-dateutil>=2.1 in c:\\users\\carlo\\anaconda3\\lib\\site-packages (from matplotlib>=3.1->bar_chart_race) (2.8.1)\n",
      "Requirement already satisfied: pyparsing!=2.0.4,!=2.1.2,!=2.1.6,>=2.0.3 in c:\\users\\carlo\\anaconda3\\lib\\site-packages (from matplotlib>=3.1->bar_chart_race) (2.4.7)\n",
      "Requirement already satisfied: cycler>=0.10 in c:\\users\\carlo\\anaconda3\\lib\\site-packages (from matplotlib>=3.1->bar_chart_race) (0.10.0)\n",
      "Requirement already satisfied: six in c:\\users\\carlo\\anaconda3\\lib\\site-packages (from cycler>=0.10->matplotlib>=3.1->bar_chart_race) (1.15.0)\n",
      "Requirement already satisfied: pytz>=2017.3 in c:\\users\\carlo\\anaconda3\\lib\\site-packages (from pandas>=0.24->bar_chart_race) (2021.1)\n"
     ]
    }
   ],
   "source": [
    "!pip install bar_chart_race\n"
   ]
  },
  {
   "cell_type": "code",
   "execution_count": null,
   "id": "c281fd94",
   "metadata": {},
   "outputs": [],
   "source": []
  },
  {
   "cell_type": "code",
   "execution_count": 1,
   "id": "362a1c4d",
   "metadata": {},
   "outputs": [],
   "source": [
    "import pandas as pd\n",
    "import bar_chart_race as bcr"
   ]
  },
  {
   "cell_type": "code",
   "execution_count": 2,
   "id": "bb39052f",
   "metadata": {},
   "outputs": [],
   "source": [
    "df =  pd.read_pickle('df_lyrics_topics.pickle')"
   ]
  },
  {
   "cell_type": "code",
   "execution_count": 3,
   "id": "28260cfa",
   "metadata": {},
   "outputs": [
    {
     "data": {
      "text/plain": [
       "5498"
      ]
     },
     "execution_count": 3,
     "metadata": {},
     "output_type": "execute_result"
    }
   ],
   "source": [
    "len(df)"
   ]
  },
  {
   "cell_type": "code",
   "execution_count": 4,
   "id": "139053b5",
   "metadata": {},
   "outputs": [],
   "source": [
    "# Every Artist"
   ]
  },
  {
   "cell_type": "code",
   "execution_count": 5,
   "id": "d1d84401",
   "metadata": {},
   "outputs": [],
   "source": [
    "df1 = df.iloc[:,-8:].copy()"
   ]
  },
  {
   "cell_type": "code",
   "execution_count": 6,
   "id": "aa417dd5",
   "metadata": {},
   "outputs": [
    {
     "data": {
      "text/html": [
       "<div>\n",
       "<style scoped>\n",
       "    .dataframe tbody tr th:only-of-type {\n",
       "        vertical-align: middle;\n",
       "    }\n",
       "\n",
       "    .dataframe tbody tr th {\n",
       "        vertical-align: top;\n",
       "    }\n",
       "\n",
       "    .dataframe thead th {\n",
       "        text-align: right;\n",
       "    }\n",
       "</style>\n",
       "<table border=\"1\" class=\"dataframe\">\n",
       "  <thead>\n",
       "    <tr style=\"text-align: right;\">\n",
       "      <th></th>\n",
       "      <th>Musicality/Flow/Lyricism</th>\n",
       "      <th>Flex/Money</th>\n",
       "      <th>Romance/Feelings</th>\n",
       "      <th>Struggle/Grind/Hustle</th>\n",
       "      <th>Trap/Drug</th>\n",
       "      <th>Violence/Gangster</th>\n",
       "      <th>Party/Sexuality</th>\n",
       "      <th>Feats/Artists/Shoutouts</th>\n",
       "    </tr>\n",
       "  </thead>\n",
       "  <tbody>\n",
       "    <tr>\n",
       "      <th>0</th>\n",
       "      <td>0.000000</td>\n",
       "      <td>0.000000</td>\n",
       "      <td>0.000285</td>\n",
       "      <td>0.387158</td>\n",
       "      <td>0.000000</td>\n",
       "      <td>0.042575</td>\n",
       "      <td>0.000000</td>\n",
       "      <td>0.569982</td>\n",
       "    </tr>\n",
       "    <tr>\n",
       "      <th>1</th>\n",
       "      <td>0.000000</td>\n",
       "      <td>0.000000</td>\n",
       "      <td>0.125909</td>\n",
       "      <td>0.269506</td>\n",
       "      <td>0.000000</td>\n",
       "      <td>0.000000</td>\n",
       "      <td>0.042631</td>\n",
       "      <td>0.561954</td>\n",
       "    </tr>\n",
       "    <tr>\n",
       "      <th>2</th>\n",
       "      <td>0.000000</td>\n",
       "      <td>0.000000</td>\n",
       "      <td>0.000000</td>\n",
       "      <td>0.000000</td>\n",
       "      <td>0.284339</td>\n",
       "      <td>0.000000</td>\n",
       "      <td>0.000000</td>\n",
       "      <td>0.715661</td>\n",
       "    </tr>\n",
       "    <tr>\n",
       "      <th>3</th>\n",
       "      <td>0.057499</td>\n",
       "      <td>0.000000</td>\n",
       "      <td>0.000000</td>\n",
       "      <td>0.000000</td>\n",
       "      <td>0.000000</td>\n",
       "      <td>0.318749</td>\n",
       "      <td>0.213625</td>\n",
       "      <td>0.410127</td>\n",
       "    </tr>\n",
       "    <tr>\n",
       "      <th>4</th>\n",
       "      <td>0.443755</td>\n",
       "      <td>0.000000</td>\n",
       "      <td>0.000000</td>\n",
       "      <td>0.442664</td>\n",
       "      <td>0.000000</td>\n",
       "      <td>0.000000</td>\n",
       "      <td>0.113582</td>\n",
       "      <td>0.000000</td>\n",
       "    </tr>\n",
       "    <tr>\n",
       "      <th>...</th>\n",
       "      <td>...</td>\n",
       "      <td>...</td>\n",
       "      <td>...</td>\n",
       "      <td>...</td>\n",
       "      <td>...</td>\n",
       "      <td>...</td>\n",
       "      <td>...</td>\n",
       "      <td>...</td>\n",
       "    </tr>\n",
       "    <tr>\n",
       "      <th>5493</th>\n",
       "      <td>0.000000</td>\n",
       "      <td>0.000000</td>\n",
       "      <td>0.000000</td>\n",
       "      <td>0.751097</td>\n",
       "      <td>0.000000</td>\n",
       "      <td>0.150918</td>\n",
       "      <td>0.097985</td>\n",
       "      <td>0.000000</td>\n",
       "    </tr>\n",
       "    <tr>\n",
       "      <th>5494</th>\n",
       "      <td>0.000000</td>\n",
       "      <td>0.206377</td>\n",
       "      <td>0.161937</td>\n",
       "      <td>0.000000</td>\n",
       "      <td>0.000000</td>\n",
       "      <td>0.631686</td>\n",
       "      <td>0.000000</td>\n",
       "      <td>0.000000</td>\n",
       "    </tr>\n",
       "    <tr>\n",
       "      <th>5495</th>\n",
       "      <td>0.628739</td>\n",
       "      <td>0.102419</td>\n",
       "      <td>0.268842</td>\n",
       "      <td>0.000000</td>\n",
       "      <td>0.000000</td>\n",
       "      <td>0.000000</td>\n",
       "      <td>0.000000</td>\n",
       "      <td>0.000000</td>\n",
       "    </tr>\n",
       "    <tr>\n",
       "      <th>5496</th>\n",
       "      <td>0.000000</td>\n",
       "      <td>0.000000</td>\n",
       "      <td>0.000000</td>\n",
       "      <td>0.693776</td>\n",
       "      <td>0.000000</td>\n",
       "      <td>0.000000</td>\n",
       "      <td>0.306224</td>\n",
       "      <td>0.000000</td>\n",
       "    </tr>\n",
       "    <tr>\n",
       "      <th>5497</th>\n",
       "      <td>0.000000</td>\n",
       "      <td>0.000000</td>\n",
       "      <td>0.288320</td>\n",
       "      <td>0.642941</td>\n",
       "      <td>0.000000</td>\n",
       "      <td>0.068739</td>\n",
       "      <td>0.000000</td>\n",
       "      <td>0.000000</td>\n",
       "    </tr>\n",
       "  </tbody>\n",
       "</table>\n",
       "<p>5498 rows × 8 columns</p>\n",
       "</div>"
      ],
      "text/plain": [
       "      Musicality/Flow/Lyricism  Flex/Money  Romance/Feelings  \\\n",
       "0                     0.000000    0.000000          0.000285   \n",
       "1                     0.000000    0.000000          0.125909   \n",
       "2                     0.000000    0.000000          0.000000   \n",
       "3                     0.057499    0.000000          0.000000   \n",
       "4                     0.443755    0.000000          0.000000   \n",
       "...                        ...         ...               ...   \n",
       "5493                  0.000000    0.000000          0.000000   \n",
       "5494                  0.000000    0.206377          0.161937   \n",
       "5495                  0.628739    0.102419          0.268842   \n",
       "5496                  0.000000    0.000000          0.000000   \n",
       "5497                  0.000000    0.000000          0.288320   \n",
       "\n",
       "      Struggle/Grind/Hustle  Trap/Drug  Violence/Gangster  Party/Sexuality  \\\n",
       "0                  0.387158   0.000000           0.042575         0.000000   \n",
       "1                  0.269506   0.000000           0.000000         0.042631   \n",
       "2                  0.000000   0.284339           0.000000         0.000000   \n",
       "3                  0.000000   0.000000           0.318749         0.213625   \n",
       "4                  0.442664   0.000000           0.000000         0.113582   \n",
       "...                     ...        ...                ...              ...   \n",
       "5493               0.751097   0.000000           0.150918         0.097985   \n",
       "5494               0.000000   0.000000           0.631686         0.000000   \n",
       "5495               0.000000   0.000000           0.000000         0.000000   \n",
       "5496               0.693776   0.000000           0.000000         0.306224   \n",
       "5497               0.642941   0.000000           0.068739         0.000000   \n",
       "\n",
       "      Feats/Artists/Shoutouts  \n",
       "0                    0.569982  \n",
       "1                    0.561954  \n",
       "2                    0.715661  \n",
       "3                    0.410127  \n",
       "4                    0.000000  \n",
       "...                       ...  \n",
       "5493                 0.000000  \n",
       "5494                 0.000000  \n",
       "5495                 0.000000  \n",
       "5496                 0.000000  \n",
       "5497                 0.000000  \n",
       "\n",
       "[5498 rows x 8 columns]"
      ]
     },
     "execution_count": 6,
     "metadata": {},
     "output_type": "execute_result"
    }
   ],
   "source": [
    "df1"
   ]
  },
  {
   "cell_type": "code",
   "execution_count": 18,
   "id": "eb38e3ed",
   "metadata": {},
   "outputs": [
    {
     "data": {
      "text/plain": [
       "0                   Nas\n",
       "1                   Nas\n",
       "2                   Nas\n",
       "3              The Game\n",
       "4                   Nas\n",
       "             ...       \n",
       "5493         De La Soul\n",
       "5494      Bryson Tiller\n",
       "5495    Black Eyed Peas\n",
       "5496          Pete Rock\n",
       "5497        $uicideboy$\n",
       "Name: artist_name, Length: 5498, dtype: object"
      ]
     },
     "execution_count": 18,
     "metadata": {},
     "output_type": "execute_result"
    }
   ],
   "source": [
    "df.artist_name"
   ]
  },
  {
   "cell_type": "code",
   "execution_count": 27,
   "id": "6ccac660",
   "metadata": {},
   "outputs": [],
   "source": [
    "df['Artist_Nas'] = ['Nas' if i == 'Nas' else 'All Artists' for i in df.artist_name]"
   ]
  },
  {
   "cell_type": "code",
   "execution_count": 28,
   "id": "52ea4ca8",
   "metadata": {},
   "outputs": [],
   "source": [
    "df_ranked = df1.rank(axis=1, method='min', ascending=False)\n",
    "df_ranked = (df_ranked <= 2).astype(int)\n",
    "df_topics = df[['track_release_year','Artist_Nas']].join(df_ranked)"
   ]
  },
  {
   "cell_type": "code",
   "execution_count": 29,
   "id": "164a8887",
   "metadata": {},
   "outputs": [],
   "source": [
    "df_topics = df_topics.groupby(['track_release_year','Artist_Nas']).sum()"
   ]
  },
  {
   "cell_type": "code",
   "execution_count": 33,
   "id": "31a4fd53",
   "metadata": {},
   "outputs": [
    {
     "data": {
      "text/html": [
       "<div>\n",
       "<style scoped>\n",
       "    .dataframe tbody tr th:only-of-type {\n",
       "        vertical-align: middle;\n",
       "    }\n",
       "\n",
       "    .dataframe tbody tr th {\n",
       "        vertical-align: top;\n",
       "    }\n",
       "\n",
       "    .dataframe thead th {\n",
       "        text-align: right;\n",
       "    }\n",
       "</style>\n",
       "<table border=\"1\" class=\"dataframe\">\n",
       "  <thead>\n",
       "    <tr style=\"text-align: right;\">\n",
       "      <th></th>\n",
       "      <th>track_release_year</th>\n",
       "      <th>Artist_Nas</th>\n",
       "      <th>Musicality/Flow/Lyricism</th>\n",
       "      <th>Flex/Money</th>\n",
       "      <th>Romance/Feelings</th>\n",
       "      <th>Struggle/Grind/Hustle</th>\n",
       "      <th>Trap/Drug</th>\n",
       "      <th>Violence/Gangster</th>\n",
       "      <th>Party/Sexuality</th>\n",
       "      <th>Feats/Artists/Shoutouts</th>\n",
       "    </tr>\n",
       "  </thead>\n",
       "  <tbody>\n",
       "    <tr>\n",
       "      <th>0</th>\n",
       "      <td>1951</td>\n",
       "      <td>All Artists</td>\n",
       "      <td>0.500000</td>\n",
       "      <td>0.000000</td>\n",
       "      <td>0.000000</td>\n",
       "      <td>0.500000</td>\n",
       "      <td>0.000000</td>\n",
       "      <td>0.000000</td>\n",
       "      <td>0.000000</td>\n",
       "      <td>0.000000</td>\n",
       "    </tr>\n",
       "    <tr>\n",
       "      <th>1</th>\n",
       "      <td>1980</td>\n",
       "      <td>All Artists</td>\n",
       "      <td>0.500000</td>\n",
       "      <td>0.000000</td>\n",
       "      <td>0.000000</td>\n",
       "      <td>0.000000</td>\n",
       "      <td>0.000000</td>\n",
       "      <td>0.000000</td>\n",
       "      <td>0.000000</td>\n",
       "      <td>0.500000</td>\n",
       "    </tr>\n",
       "    <tr>\n",
       "      <th>2</th>\n",
       "      <td>1982</td>\n",
       "      <td>All Artists</td>\n",
       "      <td>0.500000</td>\n",
       "      <td>0.000000</td>\n",
       "      <td>0.000000</td>\n",
       "      <td>0.000000</td>\n",
       "      <td>0.500000</td>\n",
       "      <td>0.000000</td>\n",
       "      <td>0.000000</td>\n",
       "      <td>0.000000</td>\n",
       "    </tr>\n",
       "    <tr>\n",
       "      <th>3</th>\n",
       "      <td>1983</td>\n",
       "      <td>All Artists</td>\n",
       "      <td>0.250000</td>\n",
       "      <td>0.000000</td>\n",
       "      <td>0.000000</td>\n",
       "      <td>0.250000</td>\n",
       "      <td>0.250000</td>\n",
       "      <td>0.000000</td>\n",
       "      <td>0.250000</td>\n",
       "      <td>0.000000</td>\n",
       "    </tr>\n",
       "    <tr>\n",
       "      <th>4</th>\n",
       "      <td>1985</td>\n",
       "      <td>All Artists</td>\n",
       "      <td>0.000000</td>\n",
       "      <td>0.000000</td>\n",
       "      <td>0.000000</td>\n",
       "      <td>0.500000</td>\n",
       "      <td>0.000000</td>\n",
       "      <td>0.000000</td>\n",
       "      <td>0.000000</td>\n",
       "      <td>0.500000</td>\n",
       "    </tr>\n",
       "    <tr>\n",
       "      <th>5</th>\n",
       "      <td>1986</td>\n",
       "      <td>All Artists</td>\n",
       "      <td>0.200000</td>\n",
       "      <td>0.100000</td>\n",
       "      <td>0.100000</td>\n",
       "      <td>0.100000</td>\n",
       "      <td>0.100000</td>\n",
       "      <td>0.100000</td>\n",
       "      <td>0.100000</td>\n",
       "      <td>0.200000</td>\n",
       "    </tr>\n",
       "    <tr>\n",
       "      <th>6</th>\n",
       "      <td>1987</td>\n",
       "      <td>All Artists</td>\n",
       "      <td>0.000000</td>\n",
       "      <td>0.125000</td>\n",
       "      <td>0.000000</td>\n",
       "      <td>0.375000</td>\n",
       "      <td>0.125000</td>\n",
       "      <td>0.000000</td>\n",
       "      <td>0.375000</td>\n",
       "      <td>0.000000</td>\n",
       "    </tr>\n",
       "    <tr>\n",
       "      <th>7</th>\n",
       "      <td>1988</td>\n",
       "      <td>All Artists</td>\n",
       "      <td>0.105263</td>\n",
       "      <td>0.078947</td>\n",
       "      <td>0.105263</td>\n",
       "      <td>0.315789</td>\n",
       "      <td>0.131579</td>\n",
       "      <td>0.052632</td>\n",
       "      <td>0.078947</td>\n",
       "      <td>0.131579</td>\n",
       "    </tr>\n",
       "    <tr>\n",
       "      <th>8</th>\n",
       "      <td>1989</td>\n",
       "      <td>All Artists</td>\n",
       "      <td>0.111111</td>\n",
       "      <td>0.055556</td>\n",
       "      <td>0.000000</td>\n",
       "      <td>0.444444</td>\n",
       "      <td>0.166667</td>\n",
       "      <td>0.000000</td>\n",
       "      <td>0.166667</td>\n",
       "      <td>0.055556</td>\n",
       "    </tr>\n",
       "    <tr>\n",
       "      <th>9</th>\n",
       "      <td>1990</td>\n",
       "      <td>All Artists</td>\n",
       "      <td>0.115385</td>\n",
       "      <td>0.096154</td>\n",
       "      <td>0.115385</td>\n",
       "      <td>0.307692</td>\n",
       "      <td>0.076923</td>\n",
       "      <td>0.096154</td>\n",
       "      <td>0.076923</td>\n",
       "      <td>0.115385</td>\n",
       "    </tr>\n",
       "    <tr>\n",
       "      <th>10</th>\n",
       "      <td>1991</td>\n",
       "      <td>All Artists</td>\n",
       "      <td>0.101124</td>\n",
       "      <td>0.073034</td>\n",
       "      <td>0.089888</td>\n",
       "      <td>0.314607</td>\n",
       "      <td>0.073034</td>\n",
       "      <td>0.078652</td>\n",
       "      <td>0.089888</td>\n",
       "      <td>0.179775</td>\n",
       "    </tr>\n",
       "    <tr>\n",
       "      <th>11</th>\n",
       "      <td>1992</td>\n",
       "      <td>All Artists</td>\n",
       "      <td>0.061856</td>\n",
       "      <td>0.087629</td>\n",
       "      <td>0.103093</td>\n",
       "      <td>0.396907</td>\n",
       "      <td>0.046392</td>\n",
       "      <td>0.051546</td>\n",
       "      <td>0.103093</td>\n",
       "      <td>0.149485</td>\n",
       "    </tr>\n",
       "    <tr>\n",
       "      <th>12</th>\n",
       "      <td>1993</td>\n",
       "      <td>All Artists</td>\n",
       "      <td>0.081169</td>\n",
       "      <td>0.071429</td>\n",
       "      <td>0.152597</td>\n",
       "      <td>0.379870</td>\n",
       "      <td>0.064935</td>\n",
       "      <td>0.100649</td>\n",
       "      <td>0.071429</td>\n",
       "      <td>0.077922</td>\n",
       "    </tr>\n",
       "    <tr>\n",
       "      <th>13</th>\n",
       "      <td>1994</td>\n",
       "      <td>All Artists</td>\n",
       "      <td>0.074586</td>\n",
       "      <td>0.049724</td>\n",
       "      <td>0.154696</td>\n",
       "      <td>0.370166</td>\n",
       "      <td>0.063536</td>\n",
       "      <td>0.060773</td>\n",
       "      <td>0.093923</td>\n",
       "      <td>0.132597</td>\n",
       "    </tr>\n",
       "    <tr>\n",
       "      <th>14</th>\n",
       "      <td>1995</td>\n",
       "      <td>All Artists</td>\n",
       "      <td>0.054217</td>\n",
       "      <td>0.042169</td>\n",
       "      <td>0.168675</td>\n",
       "      <td>0.403614</td>\n",
       "      <td>0.045181</td>\n",
       "      <td>0.081325</td>\n",
       "      <td>0.084337</td>\n",
       "      <td>0.120482</td>\n",
       "    </tr>\n",
       "    <tr>\n",
       "      <th>15</th>\n",
       "      <td>1996</td>\n",
       "      <td>All Artists</td>\n",
       "      <td>0.071429</td>\n",
       "      <td>0.042857</td>\n",
       "      <td>0.171429</td>\n",
       "      <td>0.380000</td>\n",
       "      <td>0.071429</td>\n",
       "      <td>0.071429</td>\n",
       "      <td>0.094286</td>\n",
       "      <td>0.097143</td>\n",
       "    </tr>\n",
       "    <tr>\n",
       "      <th>16</th>\n",
       "      <td>1997</td>\n",
       "      <td>All Artists</td>\n",
       "      <td>0.095000</td>\n",
       "      <td>0.045000</td>\n",
       "      <td>0.115000</td>\n",
       "      <td>0.400000</td>\n",
       "      <td>0.065000</td>\n",
       "      <td>0.075000</td>\n",
       "      <td>0.095000</td>\n",
       "      <td>0.110000</td>\n",
       "    </tr>\n",
       "    <tr>\n",
       "      <th>17</th>\n",
       "      <td>1998</td>\n",
       "      <td>All Artists</td>\n",
       "      <td>0.067308</td>\n",
       "      <td>0.062500</td>\n",
       "      <td>0.129808</td>\n",
       "      <td>0.336538</td>\n",
       "      <td>0.076923</td>\n",
       "      <td>0.091346</td>\n",
       "      <td>0.112981</td>\n",
       "      <td>0.122596</td>\n",
       "    </tr>\n",
       "    <tr>\n",
       "      <th>18</th>\n",
       "      <td>1999</td>\n",
       "      <td>All Artists</td>\n",
       "      <td>0.053571</td>\n",
       "      <td>0.053571</td>\n",
       "      <td>0.151786</td>\n",
       "      <td>0.366071</td>\n",
       "      <td>0.098214</td>\n",
       "      <td>0.089286</td>\n",
       "      <td>0.080357</td>\n",
       "      <td>0.107143</td>\n",
       "    </tr>\n",
       "    <tr>\n",
       "      <th>19</th>\n",
       "      <td>1999</td>\n",
       "      <td>Nas</td>\n",
       "      <td>0.053571</td>\n",
       "      <td>0.017857</td>\n",
       "      <td>0.071429</td>\n",
       "      <td>0.303571</td>\n",
       "      <td>0.089286</td>\n",
       "      <td>0.107143</td>\n",
       "      <td>0.142857</td>\n",
       "      <td>0.214286</td>\n",
       "    </tr>\n",
       "    <tr>\n",
       "      <th>20</th>\n",
       "      <td>2000</td>\n",
       "      <td>All Artists</td>\n",
       "      <td>0.095238</td>\n",
       "      <td>0.035714</td>\n",
       "      <td>0.190476</td>\n",
       "      <td>0.309524</td>\n",
       "      <td>0.035714</td>\n",
       "      <td>0.071429</td>\n",
       "      <td>0.119048</td>\n",
       "      <td>0.142857</td>\n",
       "    </tr>\n",
       "    <tr>\n",
       "      <th>21</th>\n",
       "      <td>2001</td>\n",
       "      <td>All Artists</td>\n",
       "      <td>0.083333</td>\n",
       "      <td>0.101852</td>\n",
       "      <td>0.074074</td>\n",
       "      <td>0.314815</td>\n",
       "      <td>0.074074</td>\n",
       "      <td>0.074074</td>\n",
       "      <td>0.148148</td>\n",
       "      <td>0.129630</td>\n",
       "    </tr>\n",
       "    <tr>\n",
       "      <th>22</th>\n",
       "      <td>2001</td>\n",
       "      <td>Nas</td>\n",
       "      <td>0.000000</td>\n",
       "      <td>0.055556</td>\n",
       "      <td>0.111111</td>\n",
       "      <td>0.500000</td>\n",
       "      <td>0.000000</td>\n",
       "      <td>0.111111</td>\n",
       "      <td>0.055556</td>\n",
       "      <td>0.166667</td>\n",
       "    </tr>\n",
       "    <tr>\n",
       "      <th>23</th>\n",
       "      <td>2002</td>\n",
       "      <td>All Artists</td>\n",
       "      <td>0.118421</td>\n",
       "      <td>0.065789</td>\n",
       "      <td>0.118421</td>\n",
       "      <td>0.302632</td>\n",
       "      <td>0.131579</td>\n",
       "      <td>0.039474</td>\n",
       "      <td>0.052632</td>\n",
       "      <td>0.171053</td>\n",
       "    </tr>\n",
       "    <tr>\n",
       "      <th>24</th>\n",
       "      <td>2002</td>\n",
       "      <td>Nas</td>\n",
       "      <td>0.071429</td>\n",
       "      <td>0.023810</td>\n",
       "      <td>0.000000</td>\n",
       "      <td>0.357143</td>\n",
       "      <td>0.119048</td>\n",
       "      <td>0.000000</td>\n",
       "      <td>0.238095</td>\n",
       "      <td>0.190476</td>\n",
       "    </tr>\n",
       "    <tr>\n",
       "      <th>25</th>\n",
       "      <td>2003</td>\n",
       "      <td>All Artists</td>\n",
       "      <td>0.082090</td>\n",
       "      <td>0.074627</td>\n",
       "      <td>0.141791</td>\n",
       "      <td>0.268657</td>\n",
       "      <td>0.067164</td>\n",
       "      <td>0.126866</td>\n",
       "      <td>0.082090</td>\n",
       "      <td>0.156716</td>\n",
       "    </tr>\n",
       "    <tr>\n",
       "      <th>26</th>\n",
       "      <td>2003</td>\n",
       "      <td>Nas</td>\n",
       "      <td>0.000000</td>\n",
       "      <td>0.071429</td>\n",
       "      <td>0.214286</td>\n",
       "      <td>0.214286</td>\n",
       "      <td>0.142857</td>\n",
       "      <td>0.142857</td>\n",
       "      <td>0.071429</td>\n",
       "      <td>0.142857</td>\n",
       "    </tr>\n",
       "    <tr>\n",
       "      <th>27</th>\n",
       "      <td>2004</td>\n",
       "      <td>All Artists</td>\n",
       "      <td>0.093750</td>\n",
       "      <td>0.062500</td>\n",
       "      <td>0.085938</td>\n",
       "      <td>0.273438</td>\n",
       "      <td>0.070312</td>\n",
       "      <td>0.117188</td>\n",
       "      <td>0.148438</td>\n",
       "      <td>0.148438</td>\n",
       "    </tr>\n",
       "    <tr>\n",
       "      <th>28</th>\n",
       "      <td>2004</td>\n",
       "      <td>Nas</td>\n",
       "      <td>0.083333</td>\n",
       "      <td>0.000000</td>\n",
       "      <td>0.027778</td>\n",
       "      <td>0.388889</td>\n",
       "      <td>0.111111</td>\n",
       "      <td>0.055556</td>\n",
       "      <td>0.055556</td>\n",
       "      <td>0.277778</td>\n",
       "    </tr>\n",
       "    <tr>\n",
       "      <th>29</th>\n",
       "      <td>2005</td>\n",
       "      <td>All Artists</td>\n",
       "      <td>0.220930</td>\n",
       "      <td>0.058140</td>\n",
       "      <td>0.104651</td>\n",
       "      <td>0.232558</td>\n",
       "      <td>0.069767</td>\n",
       "      <td>0.081395</td>\n",
       "      <td>0.069767</td>\n",
       "      <td>0.162791</td>\n",
       "    </tr>\n",
       "    <tr>\n",
       "      <th>30</th>\n",
       "      <td>2006</td>\n",
       "      <td>All Artists</td>\n",
       "      <td>0.136364</td>\n",
       "      <td>0.045455</td>\n",
       "      <td>0.204545</td>\n",
       "      <td>0.227273</td>\n",
       "      <td>0.090909</td>\n",
       "      <td>0.068182</td>\n",
       "      <td>0.113636</td>\n",
       "      <td>0.113636</td>\n",
       "    </tr>\n",
       "    <tr>\n",
       "      <th>31</th>\n",
       "      <td>2007</td>\n",
       "      <td>All Artists</td>\n",
       "      <td>0.162162</td>\n",
       "      <td>0.013514</td>\n",
       "      <td>0.135135</td>\n",
       "      <td>0.337838</td>\n",
       "      <td>0.054054</td>\n",
       "      <td>0.054054</td>\n",
       "      <td>0.081081</td>\n",
       "      <td>0.162162</td>\n",
       "    </tr>\n",
       "    <tr>\n",
       "      <th>32</th>\n",
       "      <td>2007</td>\n",
       "      <td>Nas</td>\n",
       "      <td>0.029412</td>\n",
       "      <td>0.000000</td>\n",
       "      <td>0.088235</td>\n",
       "      <td>0.382353</td>\n",
       "      <td>0.117647</td>\n",
       "      <td>0.058824</td>\n",
       "      <td>0.147059</td>\n",
       "      <td>0.176471</td>\n",
       "    </tr>\n",
       "    <tr>\n",
       "      <th>33</th>\n",
       "      <td>2008</td>\n",
       "      <td>All Artists</td>\n",
       "      <td>0.128205</td>\n",
       "      <td>0.064103</td>\n",
       "      <td>0.089744</td>\n",
       "      <td>0.282051</td>\n",
       "      <td>0.038462</td>\n",
       "      <td>0.102564</td>\n",
       "      <td>0.115385</td>\n",
       "      <td>0.179487</td>\n",
       "    </tr>\n",
       "    <tr>\n",
       "      <th>34</th>\n",
       "      <td>2008</td>\n",
       "      <td>Nas</td>\n",
       "      <td>0.000000</td>\n",
       "      <td>0.071429</td>\n",
       "      <td>0.035714</td>\n",
       "      <td>0.392857</td>\n",
       "      <td>0.071429</td>\n",
       "      <td>0.035714</td>\n",
       "      <td>0.214286</td>\n",
       "      <td>0.178571</td>\n",
       "    </tr>\n",
       "    <tr>\n",
       "      <th>35</th>\n",
       "      <td>2009</td>\n",
       "      <td>All Artists</td>\n",
       "      <td>0.098485</td>\n",
       "      <td>0.075758</td>\n",
       "      <td>0.113636</td>\n",
       "      <td>0.250000</td>\n",
       "      <td>0.098485</td>\n",
       "      <td>0.098485</td>\n",
       "      <td>0.113636</td>\n",
       "      <td>0.151515</td>\n",
       "    </tr>\n",
       "    <tr>\n",
       "      <th>36</th>\n",
       "      <td>2010</td>\n",
       "      <td>All Artists</td>\n",
       "      <td>0.138889</td>\n",
       "      <td>0.027778</td>\n",
       "      <td>0.064815</td>\n",
       "      <td>0.185185</td>\n",
       "      <td>0.083333</td>\n",
       "      <td>0.064815</td>\n",
       "      <td>0.148148</td>\n",
       "      <td>0.287037</td>\n",
       "    </tr>\n",
       "    <tr>\n",
       "      <th>37</th>\n",
       "      <td>2011</td>\n",
       "      <td>All Artists</td>\n",
       "      <td>0.157407</td>\n",
       "      <td>0.046296</td>\n",
       "      <td>0.055556</td>\n",
       "      <td>0.157407</td>\n",
       "      <td>0.064815</td>\n",
       "      <td>0.129630</td>\n",
       "      <td>0.166667</td>\n",
       "      <td>0.222222</td>\n",
       "    </tr>\n",
       "    <tr>\n",
       "      <th>38</th>\n",
       "      <td>2012</td>\n",
       "      <td>All Artists</td>\n",
       "      <td>0.162651</td>\n",
       "      <td>0.060241</td>\n",
       "      <td>0.114458</td>\n",
       "      <td>0.144578</td>\n",
       "      <td>0.072289</td>\n",
       "      <td>0.186747</td>\n",
       "      <td>0.132530</td>\n",
       "      <td>0.126506</td>\n",
       "    </tr>\n",
       "    <tr>\n",
       "      <th>39</th>\n",
       "      <td>2012</td>\n",
       "      <td>Nas</td>\n",
       "      <td>0.055556</td>\n",
       "      <td>0.000000</td>\n",
       "      <td>0.055556</td>\n",
       "      <td>0.361111</td>\n",
       "      <td>0.166667</td>\n",
       "      <td>0.000000</td>\n",
       "      <td>0.138889</td>\n",
       "      <td>0.222222</td>\n",
       "    </tr>\n",
       "    <tr>\n",
       "      <th>40</th>\n",
       "      <td>2013</td>\n",
       "      <td>All Artists</td>\n",
       "      <td>0.106707</td>\n",
       "      <td>0.033537</td>\n",
       "      <td>0.112805</td>\n",
       "      <td>0.146341</td>\n",
       "      <td>0.064024</td>\n",
       "      <td>0.213415</td>\n",
       "      <td>0.176829</td>\n",
       "      <td>0.146341</td>\n",
       "    </tr>\n",
       "    <tr>\n",
       "      <th>41</th>\n",
       "      <td>2014</td>\n",
       "      <td>All Artists</td>\n",
       "      <td>0.100575</td>\n",
       "      <td>0.066092</td>\n",
       "      <td>0.094828</td>\n",
       "      <td>0.155172</td>\n",
       "      <td>0.063218</td>\n",
       "      <td>0.209770</td>\n",
       "      <td>0.163793</td>\n",
       "      <td>0.146552</td>\n",
       "    </tr>\n",
       "    <tr>\n",
       "      <th>42</th>\n",
       "      <td>2014</td>\n",
       "      <td>Nas</td>\n",
       "      <td>0.062500</td>\n",
       "      <td>0.062500</td>\n",
       "      <td>0.156250</td>\n",
       "      <td>0.312500</td>\n",
       "      <td>0.093750</td>\n",
       "      <td>0.093750</td>\n",
       "      <td>0.125000</td>\n",
       "      <td>0.093750</td>\n",
       "    </tr>\n",
       "    <tr>\n",
       "      <th>43</th>\n",
       "      <td>2015</td>\n",
       "      <td>All Artists</td>\n",
       "      <td>0.116379</td>\n",
       "      <td>0.077586</td>\n",
       "      <td>0.109195</td>\n",
       "      <td>0.114943</td>\n",
       "      <td>0.061782</td>\n",
       "      <td>0.193966</td>\n",
       "      <td>0.158046</td>\n",
       "      <td>0.168103</td>\n",
       "    </tr>\n",
       "    <tr>\n",
       "      <th>44</th>\n",
       "      <td>2016</td>\n",
       "      <td>All Artists</td>\n",
       "      <td>0.118844</td>\n",
       "      <td>0.111349</td>\n",
       "      <td>0.099572</td>\n",
       "      <td>0.113490</td>\n",
       "      <td>0.065310</td>\n",
       "      <td>0.192719</td>\n",
       "      <td>0.134904</td>\n",
       "      <td>0.163812</td>\n",
       "    </tr>\n",
       "    <tr>\n",
       "      <th>45</th>\n",
       "      <td>2017</td>\n",
       "      <td>All Artists</td>\n",
       "      <td>0.115071</td>\n",
       "      <td>0.149695</td>\n",
       "      <td>0.097760</td>\n",
       "      <td>0.086558</td>\n",
       "      <td>0.052953</td>\n",
       "      <td>0.201629</td>\n",
       "      <td>0.131365</td>\n",
       "      <td>0.164969</td>\n",
       "    </tr>\n",
       "    <tr>\n",
       "      <th>46</th>\n",
       "      <td>2018</td>\n",
       "      <td>All Artists</td>\n",
       "      <td>0.113936</td>\n",
       "      <td>0.143126</td>\n",
       "      <td>0.103578</td>\n",
       "      <td>0.101695</td>\n",
       "      <td>0.051789</td>\n",
       "      <td>0.186441</td>\n",
       "      <td>0.124294</td>\n",
       "      <td>0.175141</td>\n",
       "    </tr>\n",
       "    <tr>\n",
       "      <th>47</th>\n",
       "      <td>2018</td>\n",
       "      <td>Nas</td>\n",
       "      <td>0.071429</td>\n",
       "      <td>0.000000</td>\n",
       "      <td>0.071429</td>\n",
       "      <td>0.214286</td>\n",
       "      <td>0.142857</td>\n",
       "      <td>0.071429</td>\n",
       "      <td>0.071429</td>\n",
       "      <td>0.357143</td>\n",
       "    </tr>\n",
       "    <tr>\n",
       "      <th>48</th>\n",
       "      <td>2019</td>\n",
       "      <td>All Artists</td>\n",
       "      <td>0.111111</td>\n",
       "      <td>0.160714</td>\n",
       "      <td>0.097222</td>\n",
       "      <td>0.088294</td>\n",
       "      <td>0.041667</td>\n",
       "      <td>0.208333</td>\n",
       "      <td>0.109127</td>\n",
       "      <td>0.183532</td>\n",
       "    </tr>\n",
       "    <tr>\n",
       "      <th>49</th>\n",
       "      <td>2019</td>\n",
       "      <td>Nas</td>\n",
       "      <td>0.033333</td>\n",
       "      <td>0.033333</td>\n",
       "      <td>0.066667</td>\n",
       "      <td>0.233333</td>\n",
       "      <td>0.166667</td>\n",
       "      <td>0.033333</td>\n",
       "      <td>0.133333</td>\n",
       "      <td>0.300000</td>\n",
       "    </tr>\n",
       "    <tr>\n",
       "      <th>50</th>\n",
       "      <td>2020</td>\n",
       "      <td>All Artists</td>\n",
       "      <td>0.096417</td>\n",
       "      <td>0.163857</td>\n",
       "      <td>0.095890</td>\n",
       "      <td>0.074289</td>\n",
       "      <td>0.036354</td>\n",
       "      <td>0.227081</td>\n",
       "      <td>0.106428</td>\n",
       "      <td>0.199684</td>\n",
       "    </tr>\n",
       "    <tr>\n",
       "      <th>51</th>\n",
       "      <td>2020</td>\n",
       "      <td>Nas</td>\n",
       "      <td>0.000000</td>\n",
       "      <td>0.000000</td>\n",
       "      <td>0.000000</td>\n",
       "      <td>0.333333</td>\n",
       "      <td>0.166667</td>\n",
       "      <td>0.166667</td>\n",
       "      <td>0.166667</td>\n",
       "      <td>0.166667</td>\n",
       "    </tr>\n",
       "    <tr>\n",
       "      <th>52</th>\n",
       "      <td>2021</td>\n",
       "      <td>All Artists</td>\n",
       "      <td>0.120968</td>\n",
       "      <td>0.129704</td>\n",
       "      <td>0.102823</td>\n",
       "      <td>0.091398</td>\n",
       "      <td>0.048387</td>\n",
       "      <td>0.188172</td>\n",
       "      <td>0.122312</td>\n",
       "      <td>0.196237</td>\n",
       "    </tr>\n",
       "    <tr>\n",
       "      <th>53</th>\n",
       "      <td>2021</td>\n",
       "      <td>Nas</td>\n",
       "      <td>0.023810</td>\n",
       "      <td>0.023810</td>\n",
       "      <td>0.119048</td>\n",
       "      <td>0.333333</td>\n",
       "      <td>0.023810</td>\n",
       "      <td>0.095238</td>\n",
       "      <td>0.142857</td>\n",
       "      <td>0.238095</td>\n",
       "    </tr>\n",
       "    <tr>\n",
       "      <th>54</th>\n",
       "      <td>2022</td>\n",
       "      <td>All Artists</td>\n",
       "      <td>0.097222</td>\n",
       "      <td>0.125000</td>\n",
       "      <td>0.097222</td>\n",
       "      <td>0.083333</td>\n",
       "      <td>0.069444</td>\n",
       "      <td>0.194444</td>\n",
       "      <td>0.138889</td>\n",
       "      <td>0.194444</td>\n",
       "    </tr>\n",
       "  </tbody>\n",
       "</table>\n",
       "</div>"
      ],
      "text/plain": [
       "    track_release_year   Artist_Nas  Musicality/Flow/Lyricism  Flex/Money  \\\n",
       "0                 1951  All Artists                  0.500000    0.000000   \n",
       "1                 1980  All Artists                  0.500000    0.000000   \n",
       "2                 1982  All Artists                  0.500000    0.000000   \n",
       "3                 1983  All Artists                  0.250000    0.000000   \n",
       "4                 1985  All Artists                  0.000000    0.000000   \n",
       "5                 1986  All Artists                  0.200000    0.100000   \n",
       "6                 1987  All Artists                  0.000000    0.125000   \n",
       "7                 1988  All Artists                  0.105263    0.078947   \n",
       "8                 1989  All Artists                  0.111111    0.055556   \n",
       "9                 1990  All Artists                  0.115385    0.096154   \n",
       "10                1991  All Artists                  0.101124    0.073034   \n",
       "11                1992  All Artists                  0.061856    0.087629   \n",
       "12                1993  All Artists                  0.081169    0.071429   \n",
       "13                1994  All Artists                  0.074586    0.049724   \n",
       "14                1995  All Artists                  0.054217    0.042169   \n",
       "15                1996  All Artists                  0.071429    0.042857   \n",
       "16                1997  All Artists                  0.095000    0.045000   \n",
       "17                1998  All Artists                  0.067308    0.062500   \n",
       "18                1999  All Artists                  0.053571    0.053571   \n",
       "19                1999          Nas                  0.053571    0.017857   \n",
       "20                2000  All Artists                  0.095238    0.035714   \n",
       "21                2001  All Artists                  0.083333    0.101852   \n",
       "22                2001          Nas                  0.000000    0.055556   \n",
       "23                2002  All Artists                  0.118421    0.065789   \n",
       "24                2002          Nas                  0.071429    0.023810   \n",
       "25                2003  All Artists                  0.082090    0.074627   \n",
       "26                2003          Nas                  0.000000    0.071429   \n",
       "27                2004  All Artists                  0.093750    0.062500   \n",
       "28                2004          Nas                  0.083333    0.000000   \n",
       "29                2005  All Artists                  0.220930    0.058140   \n",
       "30                2006  All Artists                  0.136364    0.045455   \n",
       "31                2007  All Artists                  0.162162    0.013514   \n",
       "32                2007          Nas                  0.029412    0.000000   \n",
       "33                2008  All Artists                  0.128205    0.064103   \n",
       "34                2008          Nas                  0.000000    0.071429   \n",
       "35                2009  All Artists                  0.098485    0.075758   \n",
       "36                2010  All Artists                  0.138889    0.027778   \n",
       "37                2011  All Artists                  0.157407    0.046296   \n",
       "38                2012  All Artists                  0.162651    0.060241   \n",
       "39                2012          Nas                  0.055556    0.000000   \n",
       "40                2013  All Artists                  0.106707    0.033537   \n",
       "41                2014  All Artists                  0.100575    0.066092   \n",
       "42                2014          Nas                  0.062500    0.062500   \n",
       "43                2015  All Artists                  0.116379    0.077586   \n",
       "44                2016  All Artists                  0.118844    0.111349   \n",
       "45                2017  All Artists                  0.115071    0.149695   \n",
       "46                2018  All Artists                  0.113936    0.143126   \n",
       "47                2018          Nas                  0.071429    0.000000   \n",
       "48                2019  All Artists                  0.111111    0.160714   \n",
       "49                2019          Nas                  0.033333    0.033333   \n",
       "50                2020  All Artists                  0.096417    0.163857   \n",
       "51                2020          Nas                  0.000000    0.000000   \n",
       "52                2021  All Artists                  0.120968    0.129704   \n",
       "53                2021          Nas                  0.023810    0.023810   \n",
       "54                2022  All Artists                  0.097222    0.125000   \n",
       "\n",
       "    Romance/Feelings  Struggle/Grind/Hustle  Trap/Drug  Violence/Gangster  \\\n",
       "0           0.000000               0.500000   0.000000           0.000000   \n",
       "1           0.000000               0.000000   0.000000           0.000000   \n",
       "2           0.000000               0.000000   0.500000           0.000000   \n",
       "3           0.000000               0.250000   0.250000           0.000000   \n",
       "4           0.000000               0.500000   0.000000           0.000000   \n",
       "5           0.100000               0.100000   0.100000           0.100000   \n",
       "6           0.000000               0.375000   0.125000           0.000000   \n",
       "7           0.105263               0.315789   0.131579           0.052632   \n",
       "8           0.000000               0.444444   0.166667           0.000000   \n",
       "9           0.115385               0.307692   0.076923           0.096154   \n",
       "10          0.089888               0.314607   0.073034           0.078652   \n",
       "11          0.103093               0.396907   0.046392           0.051546   \n",
       "12          0.152597               0.379870   0.064935           0.100649   \n",
       "13          0.154696               0.370166   0.063536           0.060773   \n",
       "14          0.168675               0.403614   0.045181           0.081325   \n",
       "15          0.171429               0.380000   0.071429           0.071429   \n",
       "16          0.115000               0.400000   0.065000           0.075000   \n",
       "17          0.129808               0.336538   0.076923           0.091346   \n",
       "18          0.151786               0.366071   0.098214           0.089286   \n",
       "19          0.071429               0.303571   0.089286           0.107143   \n",
       "20          0.190476               0.309524   0.035714           0.071429   \n",
       "21          0.074074               0.314815   0.074074           0.074074   \n",
       "22          0.111111               0.500000   0.000000           0.111111   \n",
       "23          0.118421               0.302632   0.131579           0.039474   \n",
       "24          0.000000               0.357143   0.119048           0.000000   \n",
       "25          0.141791               0.268657   0.067164           0.126866   \n",
       "26          0.214286               0.214286   0.142857           0.142857   \n",
       "27          0.085938               0.273438   0.070312           0.117188   \n",
       "28          0.027778               0.388889   0.111111           0.055556   \n",
       "29          0.104651               0.232558   0.069767           0.081395   \n",
       "30          0.204545               0.227273   0.090909           0.068182   \n",
       "31          0.135135               0.337838   0.054054           0.054054   \n",
       "32          0.088235               0.382353   0.117647           0.058824   \n",
       "33          0.089744               0.282051   0.038462           0.102564   \n",
       "34          0.035714               0.392857   0.071429           0.035714   \n",
       "35          0.113636               0.250000   0.098485           0.098485   \n",
       "36          0.064815               0.185185   0.083333           0.064815   \n",
       "37          0.055556               0.157407   0.064815           0.129630   \n",
       "38          0.114458               0.144578   0.072289           0.186747   \n",
       "39          0.055556               0.361111   0.166667           0.000000   \n",
       "40          0.112805               0.146341   0.064024           0.213415   \n",
       "41          0.094828               0.155172   0.063218           0.209770   \n",
       "42          0.156250               0.312500   0.093750           0.093750   \n",
       "43          0.109195               0.114943   0.061782           0.193966   \n",
       "44          0.099572               0.113490   0.065310           0.192719   \n",
       "45          0.097760               0.086558   0.052953           0.201629   \n",
       "46          0.103578               0.101695   0.051789           0.186441   \n",
       "47          0.071429               0.214286   0.142857           0.071429   \n",
       "48          0.097222               0.088294   0.041667           0.208333   \n",
       "49          0.066667               0.233333   0.166667           0.033333   \n",
       "50          0.095890               0.074289   0.036354           0.227081   \n",
       "51          0.000000               0.333333   0.166667           0.166667   \n",
       "52          0.102823               0.091398   0.048387           0.188172   \n",
       "53          0.119048               0.333333   0.023810           0.095238   \n",
       "54          0.097222               0.083333   0.069444           0.194444   \n",
       "\n",
       "    Party/Sexuality  Feats/Artists/Shoutouts  \n",
       "0          0.000000                 0.000000  \n",
       "1          0.000000                 0.500000  \n",
       "2          0.000000                 0.000000  \n",
       "3          0.250000                 0.000000  \n",
       "4          0.000000                 0.500000  \n",
       "5          0.100000                 0.200000  \n",
       "6          0.375000                 0.000000  \n",
       "7          0.078947                 0.131579  \n",
       "8          0.166667                 0.055556  \n",
       "9          0.076923                 0.115385  \n",
       "10         0.089888                 0.179775  \n",
       "11         0.103093                 0.149485  \n",
       "12         0.071429                 0.077922  \n",
       "13         0.093923                 0.132597  \n",
       "14         0.084337                 0.120482  \n",
       "15         0.094286                 0.097143  \n",
       "16         0.095000                 0.110000  \n",
       "17         0.112981                 0.122596  \n",
       "18         0.080357                 0.107143  \n",
       "19         0.142857                 0.214286  \n",
       "20         0.119048                 0.142857  \n",
       "21         0.148148                 0.129630  \n",
       "22         0.055556                 0.166667  \n",
       "23         0.052632                 0.171053  \n",
       "24         0.238095                 0.190476  \n",
       "25         0.082090                 0.156716  \n",
       "26         0.071429                 0.142857  \n",
       "27         0.148438                 0.148438  \n",
       "28         0.055556                 0.277778  \n",
       "29         0.069767                 0.162791  \n",
       "30         0.113636                 0.113636  \n",
       "31         0.081081                 0.162162  \n",
       "32         0.147059                 0.176471  \n",
       "33         0.115385                 0.179487  \n",
       "34         0.214286                 0.178571  \n",
       "35         0.113636                 0.151515  \n",
       "36         0.148148                 0.287037  \n",
       "37         0.166667                 0.222222  \n",
       "38         0.132530                 0.126506  \n",
       "39         0.138889                 0.222222  \n",
       "40         0.176829                 0.146341  \n",
       "41         0.163793                 0.146552  \n",
       "42         0.125000                 0.093750  \n",
       "43         0.158046                 0.168103  \n",
       "44         0.134904                 0.163812  \n",
       "45         0.131365                 0.164969  \n",
       "46         0.124294                 0.175141  \n",
       "47         0.071429                 0.357143  \n",
       "48         0.109127                 0.183532  \n",
       "49         0.133333                 0.300000  \n",
       "50         0.106428                 0.199684  \n",
       "51         0.166667                 0.166667  \n",
       "52         0.122312                 0.196237  \n",
       "53         0.142857                 0.238095  \n",
       "54         0.138889                 0.194444  "
      ]
     },
     "execution_count": 33,
     "metadata": {},
     "output_type": "execute_result"
    }
   ],
   "source": [
    "df_topics = df_topics.reset_index()\n",
    "df_topics"
   ]
  },
  {
   "cell_type": "code",
   "execution_count": 31,
   "id": "e71f8546",
   "metadata": {},
   "outputs": [],
   "source": [
    "df_topics = df_topics.div(df_topics.sum(axis=1), axis=0)"
   ]
  },
  {
   "cell_type": "code",
   "execution_count": 34,
   "id": "79904d09",
   "metadata": {},
   "outputs": [],
   "source": [
    "df_topics = df_topics[df_topics.track_release_year > 1989]"
   ]
  },
  {
   "cell_type": "code",
   "execution_count": 38,
   "id": "4030985f",
   "metadata": {},
   "outputs": [],
   "source": [
    "df_topics_all = df_topics[df_topics.Artist_Nas != 'Nas']\n",
    "df_topics_nas = df_topics[df_topics.Artist_Nas == 'Nas']"
   ]
  },
  {
   "cell_type": "code",
   "execution_count": 39,
   "id": "f4cfed88",
   "metadata": {},
   "outputs": [],
   "source": [
    "df_topics_smoothed_all = df_topics_all.rolling(window=5).mean().dropna()"
   ]
  },
  {
   "cell_type": "code",
   "execution_count": 55,
   "id": "e27315df",
   "metadata": {},
   "outputs": [
    {
     "data": {
      "application/vnd.plotly.v1+json": {
       "config": {
        "plotlyServerURL": "https://plot.ly"
       },
       "data": [
        {
         "hoverinfo": "text+name",
         "line": {
          "shape": "spline"
         },
         "name": "Flex/Money",
         "text": [
          "tweak line smoothness<br>with 'smoothing' in line object"
         ],
         "type": "scatter",
         "x": [
          1992,
          1993,
          1994,
          1995,
          1996,
          1997,
          1997.8,
          1998.6,
          1999.4,
          2000,
          2000.6,
          2001.2,
          2001.8,
          2002.2,
          2002.8,
          2003.2,
          2003.8,
          2004.4,
          2005.2,
          2005.8,
          2006.6,
          2007.2,
          2007.8,
          2008.4,
          2009.2,
          2010,
          2010.8,
          2011.6,
          2012.4,
          2013,
          2013.6,
          2014.4,
          2015.2,
          2016,
          2016.8,
          2017.6,
          2018.2,
          2018.8,
          2019.2,
          2019.8,
          2020.2,
          2020.8
         ],
         "y": [
          0.07559374966660898,
          0.06479671537559879,
          0.05876140237399365,
          0.05023562917811736,
          0.04844991489240308,
          0.04921944922547332,
          0.04435714285714285,
          0.04292857142857143,
          0.054298941798941805,
          0.05291005291005291,
          0.0553536619326093,
          0.056544138123085494,
          0.06432665411455671,
          0.05824199802990062,
          0.059630886918789504,
          0.046472992181947406,
          0.05333899439678683,
          0.04750453035336756,
          0.03592151877035598,
          0.023421518770355983,
          0.0362420315908688,
          0.038899838899838904,
          0.044960444960444955,
          0.04781329781329781,
          0.057072557072557074,
          0.056300237023128585,
          0.04201452273741431,
          0.03357032465906988,
          0.04123315990811203,
          0.044473900648852774,
          0.047942949257078774,
          0.07021275653759271,
          0.09344433966808795,
          0.10885118426838666,
          0.09635118426838667,
          0.11297680003193347,
          0.09737365941808622,
          0.10020609746521054,
          0.07158086206031411,
          0.09752172227536789,
          0.0701407698944155,
          0.08847410322774882
         ]
        },
        {
         "hoverinfo": "text+name",
         "line": {
          "shape": "spline"
         },
         "name": "Romance/Feelings",
         "text": [
          "tweak line smoothness<br>with 'smoothing' in line object"
         ],
         "type": "scatter",
         "x": [
          1992,
          1993,
          1994,
          1995,
          1996,
          1997,
          1997.8,
          1998.6,
          1999.4,
          2000,
          2000.6,
          2001.2,
          2001.8,
          2002.2,
          2002.8,
          2003.2,
          2003.8,
          2004.4,
          2005.2,
          2005.8,
          2006.6,
          2007.2,
          2007.8,
          2008.4,
          2009.2,
          2010,
          2010.8,
          2011.6,
          2012.4,
          2013,
          2013.6,
          2014.4,
          2015.2,
          2016,
          2016.8,
          2017.6,
          2018.2,
          2018.8,
          2019.2,
          2019.8,
          2020.2,
          2020.8
         ],
         "y": [
          0.12313171490665917,
          0.13378973158877222,
          0.15009791778459888,
          0.15247936108356797,
          0.1479214190256259,
          0.14733933536343174,
          0.1278901098901099,
          0.1316996336996337,
          0.12351444851444851,
          0.11977513227513228,
          0.11310219994430519,
          0.09881648565859091,
          0.08907945651857671,
          0.11712178456090475,
          0.11208706233868253,
          0.0939584073679223,
          0.11488863992606184,
          0.12743952187992885,
          0.11160940604981302,
          0.11206896487334243,
          0.12446212726650482,
          0.11067475185122244,
          0.09249293366940425,
          0.0784288696053402,
          0.07189292189292189,
          0.07683577020926417,
          0.08080402417751816,
          0.08063772706000152,
          0.08664028133841786,
          0.10677917022730676,
          0.10572668442201665,
          0.11452992020598048,
          0.11152087942310829,
          0.11327099306685137,
          0.09630670735256566,
          0.09391207133724,
          0.08733105777549839,
          0.08695720514039529,
          0.06624157425527288,
          0.07252037609859086,
          0.07688545546367023,
          0.08299656657478134
         ]
        },
        {
         "hoverinfo": "text+name",
         "line": {
          "shape": "spline"
         },
         "name": "Struggle/Grind/Hustle",
         "text": [
          "tweak line smoothness<br>with 'smoothing' in line object"
         ],
         "type": "scatter",
         "x": [
          1992,
          1993,
          1994,
          1995,
          1996,
          1997,
          1997.8,
          1998.6,
          1999.4,
          2000,
          2000.6,
          2001.2,
          2001.8,
          2002.2,
          2002.8,
          2003.2,
          2003.8,
          2004.4,
          2005.2,
          2005.8,
          2006.6,
          2007.2,
          2007.8,
          2008.4,
          2009.2,
          2010,
          2010.8,
          2011.6,
          2012.4,
          2013,
          2013.6,
          2014.4,
          2015.2,
          2016,
          2016.8,
          2017.6,
          2018.2,
          2018.8,
          2019.2,
          2019.8,
          2020.2,
          2020.8
         ],
         "y": [
          0.35384842829733404,
          0.37303285832513755,
          0.3861115100105308,
          0.38673006671156174,
          0.37806373304522806,
          0.3772448695882431,
          0.3572362637362637,
          0.34314102564102567,
          0.3261039886039886,
          0.3587962962962963,
          0.34610832637148425,
          0.35682261208577,
          0.34864919346459017,
          0.32854337335877004,
          0.28323087335877,
          0.30048233534707414,
          0.27556539182547946,
          0.26728859399644284,
          0.29199901870686756,
          0.3137821069421617,
          0.2924145855746403,
          0.3244743862390921,
          0.32901984078454666,
          0.29848931025401615,
          0.2535002035002035,
          0.22600560974054948,
          0.21965640339134315,
          0.19892469607426996,
          0.19292214179585362,
          0.22394066031437215,
          0.21801350341089618,
          0.16848935399381312,
          0.15653267027218978,
          0.14583717056441656,
          0.1261943134215594,
          0.12086453783316313,
          0.14483313169469061,
          0.14237926772811843,
          0.1887069513439376,
          0.16412937837926792,
          0.21313731488720444,
          0.18313731488720442
         ]
        },
        {
         "hoverinfo": "text+name",
         "line": {
          "shape": "spline"
         },
         "name": "Trap/Drug",
         "text": [
          "tweak line smoothness<br>with 'smoothing' in line object"
         ],
         "type": "scatter",
         "x": [
          1992,
          1993,
          1994,
          1995,
          1996,
          1997,
          1997.8,
          1998.6,
          1999.4,
          2000,
          2000.6,
          2001.2,
          2001.8,
          2002.2,
          2002.8,
          2003.2,
          2003.8,
          2004.4,
          2005.2,
          2005.8,
          2006.6,
          2007.2,
          2007.8,
          2008.4,
          2009.2,
          2010,
          2010.8,
          2011.6,
          2012.4,
          2013,
          2013.6,
          2014.4,
          2015.2,
          2016,
          2016.8,
          2017.6,
          2018.2,
          2018.8,
          2019.2,
          2019.8,
          2020.2,
          2020.8
         ],
         "y": [
          0.06496390278056799,
          0.05861543197426585,
          0.058294404686946424,
          0.0620160541714825,
          0.0644136565690849,
          0.07134933139150007,
          0.08017032967032967,
          0.07302747252747253,
          0.07484228734228734,
          0.05945767195767195,
          0.06613060428849901,
          0.07208298524087997,
          0.07837296391891835,
          0.09212957767553212,
          0.10619207767553211,
          0.10209851042407012,
          0.09224247498663932,
          0.096991457347562,
          0.07923083958694424,
          0.08869775135165012,
          0.07416783682173558,
          0.07450006273535684,
          0.07601521425050836,
          0.08187107010636421,
          0.0713046213046213,
          0.07807014493761481,
          0.09711776398523385,
          0.09022567233704465,
          0.08620268383129752,
          0.09198972086833457,
          0.08988821138211381,
          0.06961697654985113,
          0.06740272986563277,
          0.06511686714727444,
          0.074938295718703,
          0.07091530721295589,
          0.09118654204521855,
          0.08786672206105686,
          0.11084223995182899,
          0.09194823073523913,
          0.08837680216381055,
          0.0689323577193661
         ]
        },
        {
         "hoverinfo": "text+name",
         "line": {
          "shape": "spline"
         },
         "name": "Violence/Gangster",
         "text": [
          "tweak line smoothness<br>with 'smoothing' in line object"
         ],
         "type": "scatter",
         "x": [
          1992,
          1993,
          1994,
          1995,
          1996,
          1997,
          1997.8,
          1998.6,
          1999.4,
          2000,
          2000.6,
          2001.2,
          2001.8,
          2002.2,
          2002.8,
          2003.2,
          2003.8,
          2004.4,
          2005.2,
          2005.8,
          2006.6,
          2007.2,
          2007.8,
          2008.4,
          2009.2,
          2010,
          2010.8,
          2011.6,
          2012.4,
          2013,
          2013.6,
          2014.4,
          2015.2,
          2016,
          2016.8,
          2017.6,
          2018.2,
          2018.8,
          2019.2,
          2019.8,
          2020.2,
          2020.8
         ],
         "y": [
          0.07755495092240319,
          0.07458924193259782,
          0.07314461913966042,
          0.07783534078914496,
          0.0759747014285056,
          0.08167714815305176,
          0.08684065934065933,
          0.08684065934065935,
          0.08665547415547414,
          0.09060846560846561,
          0.08064605959342801,
          0.05921748816485658,
          0.0703049082075005,
          0.08406152196411427,
          0.08527679974189203,
          0.08849317401089789,
          0.10477224377833975,
          0.09303547308634519,
          0.07527485532572742,
          0.06360206120808036,
          0.07300377060978977,
          0.06386755798520505,
          0.0699281640458111,
          0.07208031619796326,
          0.08624153624153624,
          0.1030781133190772,
          0.09593525617622004,
          0.11892121330851864,
          0.14791227333406143,
          0.1407363474081355,
          0.1421800532660499,
          0.180723950482324,
          0.1783668892335038,
          0.17370100183821838,
          0.16923671612393268,
          0.17211027934232345,
          0.14023304879271603,
          0.1453234108202764,
          0.1413686085603894,
          0.16471730287682565,
          0.14209825525777803,
          0.17432047748000024
         ]
        },
        {
         "hoverinfo": "text+name",
         "line": {
          "shape": "spline"
         },
         "name": "Feats/Artists/Shoutouts",
         "text": [
          "tweak line smoothness<br>with 'smoothing' in line object"
         ],
         "type": "scatter",
         "x": [
          1992,
          1993,
          1994,
          1995,
          1996,
          1997,
          1997.8,
          1998.6,
          1999.4,
          2000,
          2000.6,
          2001.2,
          2001.8,
          2002.2,
          2002.8,
          2003.2,
          2003.8,
          2004.4,
          2005.2,
          2005.8,
          2006.6,
          2007.2,
          2007.8,
          2008.4,
          2009.2,
          2010,
          2010.8,
          2011.6,
          2012.4,
          2013,
          2013.6,
          2014.4,
          2015.2,
          2016,
          2016.8,
          2017.6,
          2018.2,
          2018.8,
          2019.2,
          2019.8,
          2020.2,
          2020.8
         ],
         "y": [
          0.13103263907418336,
          0.13205210153942898,
          0.11552561678822511,
          0.10762870957173028,
          0.11656352475654545,
          0.1114727591685423,
          0.1302335164835165,
          0.13937637362637362,
          0.14330229955229953,
          0.1521164021164021,
          0.16489835700362016,
          0.1601364522417154,
          0.16290830725237637,
          0.16555380989787902,
          0.1619079765645457,
          0.18325300580431175,
          0.17771590724395742,
          0.16909989638914055,
          0.17296090025014443,
          0.17856751789720327,
          0.15890939823908362,
          0.1620655444184856,
          0.16964130199424318,
          0.19461627696921813,
          0.20376660376660377,
          0.19317037268844497,
          0.2019005314186037,
          0.2008657937985002,
          0.17276873121867903,
          0.1470742867742346,
          0.1553937716101299,
          0.14371163979951843,
          0.1474372371369582,
          0.1531551408969426,
          0.205833712325514,
          0.2089193718766908,
          0.23615705924285785,
          0.24309994477570518,
          0.24140502952146786,
          0.2092237699208534,
          0.22013646833355183,
          0.19902535722244075
         ]
        }
       ],
       "layout": {
        "template": {
         "data": {
          "bar": [
           {
            "error_x": {
             "color": "#2a3f5f"
            },
            "error_y": {
             "color": "#2a3f5f"
            },
            "marker": {
             "line": {
              "color": "#E5ECF6",
              "width": 0.5
             },
             "pattern": {
              "fillmode": "overlay",
              "size": 10,
              "solidity": 0.2
             }
            },
            "type": "bar"
           }
          ],
          "barpolar": [
           {
            "marker": {
             "line": {
              "color": "#E5ECF6",
              "width": 0.5
             },
             "pattern": {
              "fillmode": "overlay",
              "size": 10,
              "solidity": 0.2
             }
            },
            "type": "barpolar"
           }
          ],
          "carpet": [
           {
            "aaxis": {
             "endlinecolor": "#2a3f5f",
             "gridcolor": "white",
             "linecolor": "white",
             "minorgridcolor": "white",
             "startlinecolor": "#2a3f5f"
            },
            "baxis": {
             "endlinecolor": "#2a3f5f",
             "gridcolor": "white",
             "linecolor": "white",
             "minorgridcolor": "white",
             "startlinecolor": "#2a3f5f"
            },
            "type": "carpet"
           }
          ],
          "choropleth": [
           {
            "colorbar": {
             "outlinewidth": 0,
             "ticks": ""
            },
            "type": "choropleth"
           }
          ],
          "contour": [
           {
            "colorbar": {
             "outlinewidth": 0,
             "ticks": ""
            },
            "colorscale": [
             [
              0,
              "#0d0887"
             ],
             [
              0.1111111111111111,
              "#46039f"
             ],
             [
              0.2222222222222222,
              "#7201a8"
             ],
             [
              0.3333333333333333,
              "#9c179e"
             ],
             [
              0.4444444444444444,
              "#bd3786"
             ],
             [
              0.5555555555555556,
              "#d8576b"
             ],
             [
              0.6666666666666666,
              "#ed7953"
             ],
             [
              0.7777777777777778,
              "#fb9f3a"
             ],
             [
              0.8888888888888888,
              "#fdca26"
             ],
             [
              1,
              "#f0f921"
             ]
            ],
            "type": "contour"
           }
          ],
          "contourcarpet": [
           {
            "colorbar": {
             "outlinewidth": 0,
             "ticks": ""
            },
            "type": "contourcarpet"
           }
          ],
          "heatmap": [
           {
            "colorbar": {
             "outlinewidth": 0,
             "ticks": ""
            },
            "colorscale": [
             [
              0,
              "#0d0887"
             ],
             [
              0.1111111111111111,
              "#46039f"
             ],
             [
              0.2222222222222222,
              "#7201a8"
             ],
             [
              0.3333333333333333,
              "#9c179e"
             ],
             [
              0.4444444444444444,
              "#bd3786"
             ],
             [
              0.5555555555555556,
              "#d8576b"
             ],
             [
              0.6666666666666666,
              "#ed7953"
             ],
             [
              0.7777777777777778,
              "#fb9f3a"
             ],
             [
              0.8888888888888888,
              "#fdca26"
             ],
             [
              1,
              "#f0f921"
             ]
            ],
            "type": "heatmap"
           }
          ],
          "heatmapgl": [
           {
            "colorbar": {
             "outlinewidth": 0,
             "ticks": ""
            },
            "colorscale": [
             [
              0,
              "#0d0887"
             ],
             [
              0.1111111111111111,
              "#46039f"
             ],
             [
              0.2222222222222222,
              "#7201a8"
             ],
             [
              0.3333333333333333,
              "#9c179e"
             ],
             [
              0.4444444444444444,
              "#bd3786"
             ],
             [
              0.5555555555555556,
              "#d8576b"
             ],
             [
              0.6666666666666666,
              "#ed7953"
             ],
             [
              0.7777777777777778,
              "#fb9f3a"
             ],
             [
              0.8888888888888888,
              "#fdca26"
             ],
             [
              1,
              "#f0f921"
             ]
            ],
            "type": "heatmapgl"
           }
          ],
          "histogram": [
           {
            "marker": {
             "pattern": {
              "fillmode": "overlay",
              "size": 10,
              "solidity": 0.2
             }
            },
            "type": "histogram"
           }
          ],
          "histogram2d": [
           {
            "colorbar": {
             "outlinewidth": 0,
             "ticks": ""
            },
            "colorscale": [
             [
              0,
              "#0d0887"
             ],
             [
              0.1111111111111111,
              "#46039f"
             ],
             [
              0.2222222222222222,
              "#7201a8"
             ],
             [
              0.3333333333333333,
              "#9c179e"
             ],
             [
              0.4444444444444444,
              "#bd3786"
             ],
             [
              0.5555555555555556,
              "#d8576b"
             ],
             [
              0.6666666666666666,
              "#ed7953"
             ],
             [
              0.7777777777777778,
              "#fb9f3a"
             ],
             [
              0.8888888888888888,
              "#fdca26"
             ],
             [
              1,
              "#f0f921"
             ]
            ],
            "type": "histogram2d"
           }
          ],
          "histogram2dcontour": [
           {
            "colorbar": {
             "outlinewidth": 0,
             "ticks": ""
            },
            "colorscale": [
             [
              0,
              "#0d0887"
             ],
             [
              0.1111111111111111,
              "#46039f"
             ],
             [
              0.2222222222222222,
              "#7201a8"
             ],
             [
              0.3333333333333333,
              "#9c179e"
             ],
             [
              0.4444444444444444,
              "#bd3786"
             ],
             [
              0.5555555555555556,
              "#d8576b"
             ],
             [
              0.6666666666666666,
              "#ed7953"
             ],
             [
              0.7777777777777778,
              "#fb9f3a"
             ],
             [
              0.8888888888888888,
              "#fdca26"
             ],
             [
              1,
              "#f0f921"
             ]
            ],
            "type": "histogram2dcontour"
           }
          ],
          "mesh3d": [
           {
            "colorbar": {
             "outlinewidth": 0,
             "ticks": ""
            },
            "type": "mesh3d"
           }
          ],
          "parcoords": [
           {
            "line": {
             "colorbar": {
              "outlinewidth": 0,
              "ticks": ""
             }
            },
            "type": "parcoords"
           }
          ],
          "pie": [
           {
            "automargin": true,
            "type": "pie"
           }
          ],
          "scatter": [
           {
            "marker": {
             "colorbar": {
              "outlinewidth": 0,
              "ticks": ""
             }
            },
            "type": "scatter"
           }
          ],
          "scatter3d": [
           {
            "line": {
             "colorbar": {
              "outlinewidth": 0,
              "ticks": ""
             }
            },
            "marker": {
             "colorbar": {
              "outlinewidth": 0,
              "ticks": ""
             }
            },
            "type": "scatter3d"
           }
          ],
          "scattercarpet": [
           {
            "marker": {
             "colorbar": {
              "outlinewidth": 0,
              "ticks": ""
             }
            },
            "type": "scattercarpet"
           }
          ],
          "scattergeo": [
           {
            "marker": {
             "colorbar": {
              "outlinewidth": 0,
              "ticks": ""
             }
            },
            "type": "scattergeo"
           }
          ],
          "scattergl": [
           {
            "marker": {
             "colorbar": {
              "outlinewidth": 0,
              "ticks": ""
             }
            },
            "type": "scattergl"
           }
          ],
          "scattermapbox": [
           {
            "marker": {
             "colorbar": {
              "outlinewidth": 0,
              "ticks": ""
             }
            },
            "type": "scattermapbox"
           }
          ],
          "scatterpolar": [
           {
            "marker": {
             "colorbar": {
              "outlinewidth": 0,
              "ticks": ""
             }
            },
            "type": "scatterpolar"
           }
          ],
          "scatterpolargl": [
           {
            "marker": {
             "colorbar": {
              "outlinewidth": 0,
              "ticks": ""
             }
            },
            "type": "scatterpolargl"
           }
          ],
          "scatterternary": [
           {
            "marker": {
             "colorbar": {
              "outlinewidth": 0,
              "ticks": ""
             }
            },
            "type": "scatterternary"
           }
          ],
          "surface": [
           {
            "colorbar": {
             "outlinewidth": 0,
             "ticks": ""
            },
            "colorscale": [
             [
              0,
              "#0d0887"
             ],
             [
              0.1111111111111111,
              "#46039f"
             ],
             [
              0.2222222222222222,
              "#7201a8"
             ],
             [
              0.3333333333333333,
              "#9c179e"
             ],
             [
              0.4444444444444444,
              "#bd3786"
             ],
             [
              0.5555555555555556,
              "#d8576b"
             ],
             [
              0.6666666666666666,
              "#ed7953"
             ],
             [
              0.7777777777777778,
              "#fb9f3a"
             ],
             [
              0.8888888888888888,
              "#fdca26"
             ],
             [
              1,
              "#f0f921"
             ]
            ],
            "type": "surface"
           }
          ],
          "table": [
           {
            "cells": {
             "fill": {
              "color": "#EBF0F8"
             },
             "line": {
              "color": "white"
             }
            },
            "header": {
             "fill": {
              "color": "#C8D4E3"
             },
             "line": {
              "color": "white"
             }
            },
            "type": "table"
           }
          ]
         },
         "layout": {
          "annotationdefaults": {
           "arrowcolor": "#2a3f5f",
           "arrowhead": 0,
           "arrowwidth": 1
          },
          "autotypenumbers": "strict",
          "coloraxis": {
           "colorbar": {
            "outlinewidth": 0,
            "ticks": ""
           }
          },
          "colorscale": {
           "diverging": [
            [
             0,
             "#8e0152"
            ],
            [
             0.1,
             "#c51b7d"
            ],
            [
             0.2,
             "#de77ae"
            ],
            [
             0.3,
             "#f1b6da"
            ],
            [
             0.4,
             "#fde0ef"
            ],
            [
             0.5,
             "#f7f7f7"
            ],
            [
             0.6,
             "#e6f5d0"
            ],
            [
             0.7,
             "#b8e186"
            ],
            [
             0.8,
             "#7fbc41"
            ],
            [
             0.9,
             "#4d9221"
            ],
            [
             1,
             "#276419"
            ]
           ],
           "sequential": [
            [
             0,
             "#0d0887"
            ],
            [
             0.1111111111111111,
             "#46039f"
            ],
            [
             0.2222222222222222,
             "#7201a8"
            ],
            [
             0.3333333333333333,
             "#9c179e"
            ],
            [
             0.4444444444444444,
             "#bd3786"
            ],
            [
             0.5555555555555556,
             "#d8576b"
            ],
            [
             0.6666666666666666,
             "#ed7953"
            ],
            [
             0.7777777777777778,
             "#fb9f3a"
            ],
            [
             0.8888888888888888,
             "#fdca26"
            ],
            [
             1,
             "#f0f921"
            ]
           ],
           "sequentialminus": [
            [
             0,
             "#0d0887"
            ],
            [
             0.1111111111111111,
             "#46039f"
            ],
            [
             0.2222222222222222,
             "#7201a8"
            ],
            [
             0.3333333333333333,
             "#9c179e"
            ],
            [
             0.4444444444444444,
             "#bd3786"
            ],
            [
             0.5555555555555556,
             "#d8576b"
            ],
            [
             0.6666666666666666,
             "#ed7953"
            ],
            [
             0.7777777777777778,
             "#fb9f3a"
            ],
            [
             0.8888888888888888,
             "#fdca26"
            ],
            [
             1,
             "#f0f921"
            ]
           ]
          },
          "colorway": [
           "#636efa",
           "#EF553B",
           "#00cc96",
           "#ab63fa",
           "#FFA15A",
           "#19d3f3",
           "#FF6692",
           "#B6E880",
           "#FF97FF",
           "#FECB52"
          ],
          "font": {
           "color": "#2a3f5f"
          },
          "geo": {
           "bgcolor": "white",
           "lakecolor": "white",
           "landcolor": "#E5ECF6",
           "showlakes": true,
           "showland": true,
           "subunitcolor": "white"
          },
          "hoverlabel": {
           "align": "left"
          },
          "hovermode": "closest",
          "mapbox": {
           "style": "light"
          },
          "paper_bgcolor": "white",
          "plot_bgcolor": "#E5ECF6",
          "polar": {
           "angularaxis": {
            "gridcolor": "white",
            "linecolor": "white",
            "ticks": ""
           },
           "bgcolor": "#E5ECF6",
           "radialaxis": {
            "gridcolor": "white",
            "linecolor": "white",
            "ticks": ""
           }
          },
          "scene": {
           "xaxis": {
            "backgroundcolor": "#E5ECF6",
            "gridcolor": "white",
            "gridwidth": 2,
            "linecolor": "white",
            "showbackground": true,
            "ticks": "",
            "zerolinecolor": "white"
           },
           "yaxis": {
            "backgroundcolor": "#E5ECF6",
            "gridcolor": "white",
            "gridwidth": 2,
            "linecolor": "white",
            "showbackground": true,
            "ticks": "",
            "zerolinecolor": "white"
           },
           "zaxis": {
            "backgroundcolor": "#E5ECF6",
            "gridcolor": "white",
            "gridwidth": 2,
            "linecolor": "white",
            "showbackground": true,
            "ticks": "",
            "zerolinecolor": "white"
           }
          },
          "shapedefaults": {
           "line": {
            "color": "#2a3f5f"
           }
          },
          "ternary": {
           "aaxis": {
            "gridcolor": "white",
            "linecolor": "white",
            "ticks": ""
           },
           "baxis": {
            "gridcolor": "white",
            "linecolor": "white",
            "ticks": ""
           },
           "bgcolor": "#E5ECF6",
           "caxis": {
            "gridcolor": "white",
            "linecolor": "white",
            "ticks": ""
           }
          },
          "title": {
           "x": 0.05
          },
          "xaxis": {
           "automargin": true,
           "gridcolor": "white",
           "linecolor": "white",
           "ticks": "",
           "title": {
            "standoff": 15
           },
           "zerolinecolor": "white",
           "zerolinewidth": 2
          },
          "yaxis": {
           "automargin": true,
           "gridcolor": "white",
           "linecolor": "white",
           "ticks": "",
           "title": {
            "standoff": 15
           },
           "zerolinecolor": "white",
           "zerolinewidth": 2
          }
         }
        },
        "title": {
         "text": "Topics Prevalence through the years (Rap)"
        },
        "xaxis": {
         "title": {
          "text": "Year"
         }
        },
        "yaxis": {
         "range": [
          0,
          0.5
         ],
         "title": {
          "text": "Relative Freq."
         }
        }
       }
      }
     },
     "metadata": {},
     "output_type": "display_data"
    }
   ],
   "source": [
    "import plotly.graph_objects as go\n",
    "import numpy as np\n",
    "\n",
    "fig = go.Figure()\n",
    "fig.update_layout(yaxis_range=[0,0.5])\n",
    "\n",
    "for t in topics:\n",
    "    if t in ['Musicality/Flow/Lyricism','Party/Sexuality','Flex']:\n",
    "        continue\n",
    "    fig.add_trace(go.Scatter(x=df_topics_smoothed.track_release_year, y=df_topics_smoothed[t], name=t,\n",
    "                    text=[\"tweak line smoothness<br>with 'smoothing' in line object\"],\n",
    "                    hoverinfo='text+name',\n",
    "                    line_shape='spline'))\n",
    "    \n",
    "fig.update_layout(\n",
    "    title=\"Topics Prevalence through the years (Rap)\",\n",
    "    xaxis_title=\"Year\",\n",
    "    yaxis_title=\"Relative Freq.\")\n",
    "fig.show()"
   ]
  },
  {
   "cell_type": "code",
   "execution_count": 54,
   "id": "09bf82c3",
   "metadata": {},
   "outputs": [
    {
     "data": {
      "application/vnd.plotly.v1+json": {
       "config": {
        "plotlyServerURL": "https://plot.ly"
       },
       "data": [
        {
         "hoverinfo": "text+name",
         "line": {
          "shape": "spline"
         },
         "name": "Flex/Money",
         "text": [
          "tweak line smoothness<br>with 'smoothing' in line object"
         ],
         "type": "scatter",
         "x": [
          2001.8,
          2003.4,
          2004.8,
          2006.8,
          2009,
          2011.8,
          2014.2,
          2016.6,
          2018.4
         ],
         "y": [
          0.03373015873015873,
          0.030158730158730156,
          0.03333333333333333,
          0.02857142857142857,
          0.026785714285714284,
          0.026785714285714284,
          0.03345238095238095,
          0.019166666666666665,
          0.023928571428571428
         ]
        },
        {
         "hoverinfo": "text+name",
         "line": {
          "shape": "spline"
         },
         "name": "Romance/Feelings",
         "text": [
          "tweak line smoothness<br>with 'smoothing' in line object"
         ],
         "type": "scatter",
         "x": [
          2001.8,
          2003.4,
          2004.8,
          2006.8,
          2009,
          2011.8,
          2014.2,
          2016.6,
          2018.4
         ],
         "y": [
          0.08492063492063492,
          0.08828197945845004,
          0.07320261437908497,
          0.08431372549019608,
          0.07270658263305321,
          0.08143674136321195,
          0.07712301587301587,
          0.06998015873015873,
          0.08267857142857142
         ]
        },
        {
         "hoverinfo": "text+name",
         "line": {
          "shape": "spline"
         },
         "name": "Struggle/Grind/Hustle",
         "text": [
          "tweak line smoothness<br>with 'smoothing' in line object"
         ],
         "type": "scatter",
         "x": [
          2001.8,
          2003.4,
          2004.8,
          2006.8,
          2009,
          2011.8,
          2014.2,
          2016.6,
          2018.4
         ],
         "y": [
          0.35277777777777775,
          0.3685340802987862,
          0.34710550887021474,
          0.34789915966386553,
          0.36754201680672266,
          0.3326213818860878,
          0.3028174603174604,
          0.29091269841269846,
          0.28535714285714286
         ]
        },
        {
         "hoverinfo": "text+name",
         "line": {
          "shape": "spline"
         },
         "name": "Trap/Drug",
         "text": [
          "tweak line smoothness<br>with 'smoothing' in line object"
         ],
         "type": "scatter",
         "x": [
          2001.8,
          2003.4,
          2004.8,
          2006.8,
          2009,
          2011.8,
          2014.2,
          2016.6,
          2018.4
         ],
         "y": [
          0.09246031746031745,
          0.09813258636788047,
          0.11241830065359477,
          0.12194211017740428,
          0.11212068160597573,
          0.11846988795518207,
          0.1282738095238095,
          0.14732142857142855,
          0.11875
         ]
        },
        {
         "hoverinfo": "text+name",
         "line": {
          "shape": "spline"
         },
         "name": "Violence/Gangster",
         "text": [
          "tweak line smoothness<br>with 'smoothing' in line object"
         ],
         "type": "scatter",
         "x": [
          2001.8,
          2003.4,
          2004.8,
          2006.8,
          2009,
          2011.8,
          2014.2,
          2016.6,
          2018.4
         ],
         "y": [
          0.08333333333333333,
          0.07366946778711483,
          0.05859010270774976,
          0.05859010270774976,
          0.048768674136321195,
          0.051943277310924366,
          0.04684523809523809,
          0.07303571428571429,
          0.09208333333333332
         ]
        },
        {
         "hoverinfo": "text+name",
         "line": {
          "shape": "spline"
         },
         "name": "Feats/Artists/Shoutouts",
         "text": [
          "tweak line smoothness<br>with 'smoothing' in line object"
         ],
         "type": "scatter",
         "x": [
          2001.8,
          2003.4,
          2004.8,
          2006.8,
          2009,
          2011.8,
          2014.2,
          2016.6,
          2018.4
         ],
         "y": [
          0.19841269841269843,
          0.19084967320261437,
          0.19323062558356677,
          0.19957983193277312,
          0.18975840336134456,
          0.2056314192343604,
          0.2303373015873016,
          0.22795634920634922,
          0.23113095238095238
         ]
        }
       ],
       "layout": {
        "template": {
         "data": {
          "bar": [
           {
            "error_x": {
             "color": "#2a3f5f"
            },
            "error_y": {
             "color": "#2a3f5f"
            },
            "marker": {
             "line": {
              "color": "#E5ECF6",
              "width": 0.5
             },
             "pattern": {
              "fillmode": "overlay",
              "size": 10,
              "solidity": 0.2
             }
            },
            "type": "bar"
           }
          ],
          "barpolar": [
           {
            "marker": {
             "line": {
              "color": "#E5ECF6",
              "width": 0.5
             },
             "pattern": {
              "fillmode": "overlay",
              "size": 10,
              "solidity": 0.2
             }
            },
            "type": "barpolar"
           }
          ],
          "carpet": [
           {
            "aaxis": {
             "endlinecolor": "#2a3f5f",
             "gridcolor": "white",
             "linecolor": "white",
             "minorgridcolor": "white",
             "startlinecolor": "#2a3f5f"
            },
            "baxis": {
             "endlinecolor": "#2a3f5f",
             "gridcolor": "white",
             "linecolor": "white",
             "minorgridcolor": "white",
             "startlinecolor": "#2a3f5f"
            },
            "type": "carpet"
           }
          ],
          "choropleth": [
           {
            "colorbar": {
             "outlinewidth": 0,
             "ticks": ""
            },
            "type": "choropleth"
           }
          ],
          "contour": [
           {
            "colorbar": {
             "outlinewidth": 0,
             "ticks": ""
            },
            "colorscale": [
             [
              0,
              "#0d0887"
             ],
             [
              0.1111111111111111,
              "#46039f"
             ],
             [
              0.2222222222222222,
              "#7201a8"
             ],
             [
              0.3333333333333333,
              "#9c179e"
             ],
             [
              0.4444444444444444,
              "#bd3786"
             ],
             [
              0.5555555555555556,
              "#d8576b"
             ],
             [
              0.6666666666666666,
              "#ed7953"
             ],
             [
              0.7777777777777778,
              "#fb9f3a"
             ],
             [
              0.8888888888888888,
              "#fdca26"
             ],
             [
              1,
              "#f0f921"
             ]
            ],
            "type": "contour"
           }
          ],
          "contourcarpet": [
           {
            "colorbar": {
             "outlinewidth": 0,
             "ticks": ""
            },
            "type": "contourcarpet"
           }
          ],
          "heatmap": [
           {
            "colorbar": {
             "outlinewidth": 0,
             "ticks": ""
            },
            "colorscale": [
             [
              0,
              "#0d0887"
             ],
             [
              0.1111111111111111,
              "#46039f"
             ],
             [
              0.2222222222222222,
              "#7201a8"
             ],
             [
              0.3333333333333333,
              "#9c179e"
             ],
             [
              0.4444444444444444,
              "#bd3786"
             ],
             [
              0.5555555555555556,
              "#d8576b"
             ],
             [
              0.6666666666666666,
              "#ed7953"
             ],
             [
              0.7777777777777778,
              "#fb9f3a"
             ],
             [
              0.8888888888888888,
              "#fdca26"
             ],
             [
              1,
              "#f0f921"
             ]
            ],
            "type": "heatmap"
           }
          ],
          "heatmapgl": [
           {
            "colorbar": {
             "outlinewidth": 0,
             "ticks": ""
            },
            "colorscale": [
             [
              0,
              "#0d0887"
             ],
             [
              0.1111111111111111,
              "#46039f"
             ],
             [
              0.2222222222222222,
              "#7201a8"
             ],
             [
              0.3333333333333333,
              "#9c179e"
             ],
             [
              0.4444444444444444,
              "#bd3786"
             ],
             [
              0.5555555555555556,
              "#d8576b"
             ],
             [
              0.6666666666666666,
              "#ed7953"
             ],
             [
              0.7777777777777778,
              "#fb9f3a"
             ],
             [
              0.8888888888888888,
              "#fdca26"
             ],
             [
              1,
              "#f0f921"
             ]
            ],
            "type": "heatmapgl"
           }
          ],
          "histogram": [
           {
            "marker": {
             "pattern": {
              "fillmode": "overlay",
              "size": 10,
              "solidity": 0.2
             }
            },
            "type": "histogram"
           }
          ],
          "histogram2d": [
           {
            "colorbar": {
             "outlinewidth": 0,
             "ticks": ""
            },
            "colorscale": [
             [
              0,
              "#0d0887"
             ],
             [
              0.1111111111111111,
              "#46039f"
             ],
             [
              0.2222222222222222,
              "#7201a8"
             ],
             [
              0.3333333333333333,
              "#9c179e"
             ],
             [
              0.4444444444444444,
              "#bd3786"
             ],
             [
              0.5555555555555556,
              "#d8576b"
             ],
             [
              0.6666666666666666,
              "#ed7953"
             ],
             [
              0.7777777777777778,
              "#fb9f3a"
             ],
             [
              0.8888888888888888,
              "#fdca26"
             ],
             [
              1,
              "#f0f921"
             ]
            ],
            "type": "histogram2d"
           }
          ],
          "histogram2dcontour": [
           {
            "colorbar": {
             "outlinewidth": 0,
             "ticks": ""
            },
            "colorscale": [
             [
              0,
              "#0d0887"
             ],
             [
              0.1111111111111111,
              "#46039f"
             ],
             [
              0.2222222222222222,
              "#7201a8"
             ],
             [
              0.3333333333333333,
              "#9c179e"
             ],
             [
              0.4444444444444444,
              "#bd3786"
             ],
             [
              0.5555555555555556,
              "#d8576b"
             ],
             [
              0.6666666666666666,
              "#ed7953"
             ],
             [
              0.7777777777777778,
              "#fb9f3a"
             ],
             [
              0.8888888888888888,
              "#fdca26"
             ],
             [
              1,
              "#f0f921"
             ]
            ],
            "type": "histogram2dcontour"
           }
          ],
          "mesh3d": [
           {
            "colorbar": {
             "outlinewidth": 0,
             "ticks": ""
            },
            "type": "mesh3d"
           }
          ],
          "parcoords": [
           {
            "line": {
             "colorbar": {
              "outlinewidth": 0,
              "ticks": ""
             }
            },
            "type": "parcoords"
           }
          ],
          "pie": [
           {
            "automargin": true,
            "type": "pie"
           }
          ],
          "scatter": [
           {
            "marker": {
             "colorbar": {
              "outlinewidth": 0,
              "ticks": ""
             }
            },
            "type": "scatter"
           }
          ],
          "scatter3d": [
           {
            "line": {
             "colorbar": {
              "outlinewidth": 0,
              "ticks": ""
             }
            },
            "marker": {
             "colorbar": {
              "outlinewidth": 0,
              "ticks": ""
             }
            },
            "type": "scatter3d"
           }
          ],
          "scattercarpet": [
           {
            "marker": {
             "colorbar": {
              "outlinewidth": 0,
              "ticks": ""
             }
            },
            "type": "scattercarpet"
           }
          ],
          "scattergeo": [
           {
            "marker": {
             "colorbar": {
              "outlinewidth": 0,
              "ticks": ""
             }
            },
            "type": "scattergeo"
           }
          ],
          "scattergl": [
           {
            "marker": {
             "colorbar": {
              "outlinewidth": 0,
              "ticks": ""
             }
            },
            "type": "scattergl"
           }
          ],
          "scattermapbox": [
           {
            "marker": {
             "colorbar": {
              "outlinewidth": 0,
              "ticks": ""
             }
            },
            "type": "scattermapbox"
           }
          ],
          "scatterpolar": [
           {
            "marker": {
             "colorbar": {
              "outlinewidth": 0,
              "ticks": ""
             }
            },
            "type": "scatterpolar"
           }
          ],
          "scatterpolargl": [
           {
            "marker": {
             "colorbar": {
              "outlinewidth": 0,
              "ticks": ""
             }
            },
            "type": "scatterpolargl"
           }
          ],
          "scatterternary": [
           {
            "marker": {
             "colorbar": {
              "outlinewidth": 0,
              "ticks": ""
             }
            },
            "type": "scatterternary"
           }
          ],
          "surface": [
           {
            "colorbar": {
             "outlinewidth": 0,
             "ticks": ""
            },
            "colorscale": [
             [
              0,
              "#0d0887"
             ],
             [
              0.1111111111111111,
              "#46039f"
             ],
             [
              0.2222222222222222,
              "#7201a8"
             ],
             [
              0.3333333333333333,
              "#9c179e"
             ],
             [
              0.4444444444444444,
              "#bd3786"
             ],
             [
              0.5555555555555556,
              "#d8576b"
             ],
             [
              0.6666666666666666,
              "#ed7953"
             ],
             [
              0.7777777777777778,
              "#fb9f3a"
             ],
             [
              0.8888888888888888,
              "#fdca26"
             ],
             [
              1,
              "#f0f921"
             ]
            ],
            "type": "surface"
           }
          ],
          "table": [
           {
            "cells": {
             "fill": {
              "color": "#EBF0F8"
             },
             "line": {
              "color": "white"
             }
            },
            "header": {
             "fill": {
              "color": "#C8D4E3"
             },
             "line": {
              "color": "white"
             }
            },
            "type": "table"
           }
          ]
         },
         "layout": {
          "annotationdefaults": {
           "arrowcolor": "#2a3f5f",
           "arrowhead": 0,
           "arrowwidth": 1
          },
          "autotypenumbers": "strict",
          "coloraxis": {
           "colorbar": {
            "outlinewidth": 0,
            "ticks": ""
           }
          },
          "colorscale": {
           "diverging": [
            [
             0,
             "#8e0152"
            ],
            [
             0.1,
             "#c51b7d"
            ],
            [
             0.2,
             "#de77ae"
            ],
            [
             0.3,
             "#f1b6da"
            ],
            [
             0.4,
             "#fde0ef"
            ],
            [
             0.5,
             "#f7f7f7"
            ],
            [
             0.6,
             "#e6f5d0"
            ],
            [
             0.7,
             "#b8e186"
            ],
            [
             0.8,
             "#7fbc41"
            ],
            [
             0.9,
             "#4d9221"
            ],
            [
             1,
             "#276419"
            ]
           ],
           "sequential": [
            [
             0,
             "#0d0887"
            ],
            [
             0.1111111111111111,
             "#46039f"
            ],
            [
             0.2222222222222222,
             "#7201a8"
            ],
            [
             0.3333333333333333,
             "#9c179e"
            ],
            [
             0.4444444444444444,
             "#bd3786"
            ],
            [
             0.5555555555555556,
             "#d8576b"
            ],
            [
             0.6666666666666666,
             "#ed7953"
            ],
            [
             0.7777777777777778,
             "#fb9f3a"
            ],
            [
             0.8888888888888888,
             "#fdca26"
            ],
            [
             1,
             "#f0f921"
            ]
           ],
           "sequentialminus": [
            [
             0,
             "#0d0887"
            ],
            [
             0.1111111111111111,
             "#46039f"
            ],
            [
             0.2222222222222222,
             "#7201a8"
            ],
            [
             0.3333333333333333,
             "#9c179e"
            ],
            [
             0.4444444444444444,
             "#bd3786"
            ],
            [
             0.5555555555555556,
             "#d8576b"
            ],
            [
             0.6666666666666666,
             "#ed7953"
            ],
            [
             0.7777777777777778,
             "#fb9f3a"
            ],
            [
             0.8888888888888888,
             "#fdca26"
            ],
            [
             1,
             "#f0f921"
            ]
           ]
          },
          "colorway": [
           "#636efa",
           "#EF553B",
           "#00cc96",
           "#ab63fa",
           "#FFA15A",
           "#19d3f3",
           "#FF6692",
           "#B6E880",
           "#FF97FF",
           "#FECB52"
          ],
          "font": {
           "color": "#2a3f5f"
          },
          "geo": {
           "bgcolor": "white",
           "lakecolor": "white",
           "landcolor": "#E5ECF6",
           "showlakes": true,
           "showland": true,
           "subunitcolor": "white"
          },
          "hoverlabel": {
           "align": "left"
          },
          "hovermode": "closest",
          "mapbox": {
           "style": "light"
          },
          "paper_bgcolor": "white",
          "plot_bgcolor": "#E5ECF6",
          "polar": {
           "angularaxis": {
            "gridcolor": "white",
            "linecolor": "white",
            "ticks": ""
           },
           "bgcolor": "#E5ECF6",
           "radialaxis": {
            "gridcolor": "white",
            "linecolor": "white",
            "ticks": ""
           }
          },
          "scene": {
           "xaxis": {
            "backgroundcolor": "#E5ECF6",
            "gridcolor": "white",
            "gridwidth": 2,
            "linecolor": "white",
            "showbackground": true,
            "ticks": "",
            "zerolinecolor": "white"
           },
           "yaxis": {
            "backgroundcolor": "#E5ECF6",
            "gridcolor": "white",
            "gridwidth": 2,
            "linecolor": "white",
            "showbackground": true,
            "ticks": "",
            "zerolinecolor": "white"
           },
           "zaxis": {
            "backgroundcolor": "#E5ECF6",
            "gridcolor": "white",
            "gridwidth": 2,
            "linecolor": "white",
            "showbackground": true,
            "ticks": "",
            "zerolinecolor": "white"
           }
          },
          "shapedefaults": {
           "line": {
            "color": "#2a3f5f"
           }
          },
          "ternary": {
           "aaxis": {
            "gridcolor": "white",
            "linecolor": "white",
            "ticks": ""
           },
           "baxis": {
            "gridcolor": "white",
            "linecolor": "white",
            "ticks": ""
           },
           "bgcolor": "#E5ECF6",
           "caxis": {
            "gridcolor": "white",
            "linecolor": "white",
            "ticks": ""
           }
          },
          "title": {
           "x": 0.05
          },
          "xaxis": {
           "automargin": true,
           "gridcolor": "white",
           "linecolor": "white",
           "ticks": "",
           "title": {
            "standoff": 15
           },
           "zerolinecolor": "white",
           "zerolinewidth": 2
          },
          "yaxis": {
           "automargin": true,
           "gridcolor": "white",
           "linecolor": "white",
           "ticks": "",
           "title": {
            "standoff": 15
           },
           "zerolinecolor": "white",
           "zerolinewidth": 2
          }
         }
        },
        "title": {
         "text": "Topics Prevalence through the years (Nas)"
        },
        "xaxis": {
         "title": {
          "text": "Year"
         }
        },
        "yaxis": {
         "range": [
          0,
          0.5
         ],
         "title": {
          "text": "Relative Freq."
         }
        }
       }
      }
     },
     "metadata": {},
     "output_type": "display_data"
    }
   ],
   "source": [
    "df_topics_smoothed_nas = df_topics_nas.rolling(window=5).mean().dropna()\n",
    "\n",
    "import plotly.graph_objects as go\n",
    "import numpy as np\n",
    "\n",
    "fig = go.Figure()\n",
    "fig.update_layout(yaxis_range=[0,0.5])\n",
    "\n",
    "for t in topics:\n",
    "    if t in ['Musicality/Flow/Lyricism','Party/Sexuality','Flex']:\n",
    "        continue\n",
    "    fig.add_trace(go.Scatter(x=df_topics_smoothed_nas.track_release_year, y=df_topics_smoothed_nas[t], name=t,\n",
    "                    text=[\"tweak line smoothness<br>with 'smoothing' in line object\"],\n",
    "                    hoverinfo='text+name',\n",
    "                    line_shape='spline'))\n",
    "    \n",
    "fig.update_layout(\n",
    "    title=\"Topics Prevalence through the years (Nas)\",\n",
    "    xaxis_title=\"Year\",\n",
    "    yaxis_title=\"Relative Freq.\")\n",
    "fig.show()"
   ]
  },
  {
   "cell_type": "code",
   "execution_count": 61,
   "id": "7791237e",
   "metadata": {},
   "outputs": [],
   "source": [
    "df_topics2 = df[['artist_name']].join(df_ranked)"
   ]
  },
  {
   "cell_type": "code",
   "execution_count": 62,
   "id": "3ccd663c",
   "metadata": {},
   "outputs": [],
   "source": [
    "df_topics2['count'] = 1"
   ]
  },
  {
   "cell_type": "code",
   "execution_count": 63,
   "id": "a4143ee7",
   "metadata": {},
   "outputs": [],
   "source": [
    "df_topics2=df_topics2.groupby('artist_name').sum().reset_index()"
   ]
  },
  {
   "cell_type": "code",
   "execution_count": 64,
   "id": "eb4c79c9",
   "metadata": {},
   "outputs": [],
   "source": [
    "df_topics2 = df_topics2.nlargest(10, 'count')"
   ]
  },
  {
   "cell_type": "code",
   "execution_count": 66,
   "id": "d6a387d3",
   "metadata": {},
   "outputs": [
    {
     "data": {
      "text/plain": [
       "<AxesSubplot:ylabel='artist_name'>"
      ]
     },
     "execution_count": 66,
     "metadata": {},
     "output_type": "execute_result"
    },
    {
     "data": {
      "image/png": "[encoded data removed]",
      "text/plain": [
       "<Figure size 720x360 with 1 Axes>"
      ]
     },
     "metadata": {
      "needs_background": "light"
     },
     "output_type": "display_data"
    }
   ],
   "source": [
    "df_topics2.set_index('artist_name').iloc[:,:-1].plot(kind='barh', stacked=True,figsize=(10,5))"
   ]
  },
  {
   "cell_type": "code",
   "execution_count": 67,
   "id": "dc759de5",
   "metadata": {},
   "outputs": [
    {
     "data": {
      "image/png": "[encoded data removed]",
      "text/plain": [
       "<Figure size 720x360 with 1 Axes>"
      ]
     },
     "metadata": {
      "needs_background": "light"
     },
     "output_type": "display_data"
    }
   ],
   "source": [
    "\n",
    "pd.concat([df_topics2.iloc[:,0],\n",
    "df_topics2.iloc[:,1:-1].div(df_topics2.iloc[:,1:-1].sum(axis=1), axis=0) ],\n",
    "          axis=1 ).set_index('artist_name').plot(kind='barh', title='Share of Topics for 10 Popular Artists', stacked=True,figsize=(10,5), ).legend(loc='center left',bbox_to_anchor=(1.0, 0.5));"
   ]
  },
  {
   "cell_type": "code",
   "execution_count": null,
   "id": "02986f1f",
   "metadata": {},
   "outputs": [],
   "source": [
    "# For NAS"
   ]
  },
  {
   "cell_type": "code",
   "execution_count": 82,
   "id": "4c3fadc7",
   "metadata": {},
   "outputs": [],
   "source": [
    "df =  pd.read_pickle('df_nas_topics.pickle')"
   ]
  },
  {
   "cell_type": "code",
   "execution_count": 83,
   "id": "b6b8afd3",
   "metadata": {},
   "outputs": [],
   "source": [
    "df1 = df.iloc[:,-6:].copy()"
   ]
  },
  {
   "cell_type": "code",
   "execution_count": 84,
   "id": "87ab39b0",
   "metadata": {},
   "outputs": [
    {
     "data": {
      "text/html": [
       "<div>\n",
       "<style scoped>\n",
       "    .dataframe tbody tr th:only-of-type {\n",
       "        vertical-align: middle;\n",
       "    }\n",
       "\n",
       "    .dataframe tbody tr th {\n",
       "        vertical-align: top;\n",
       "    }\n",
       "\n",
       "    .dataframe thead th {\n",
       "        text-align: right;\n",
       "    }\n",
       "</style>\n",
       "<table border=\"1\" class=\"dataframe\">\n",
       "  <thead>\n",
       "    <tr style=\"text-align: right;\">\n",
       "      <th></th>\n",
       "      <th>Violence/Gangster</th>\n",
       "      <th>Self-Evolution/Struggle</th>\n",
       "      <th>Politics/Revolution</th>\n",
       "      <th>Misc</th>\n",
       "      <th>Money</th>\n",
       "      <th>Religion/Spirituality</th>\n",
       "    </tr>\n",
       "  </thead>\n",
       "  <tbody>\n",
       "    <tr>\n",
       "      <th>0</th>\n",
       "      <td>0.000025</td>\n",
       "      <td>0.000025</td>\n",
       "      <td>0.000025</td>\n",
       "      <td>0.000025</td>\n",
       "      <td>0.999877</td>\n",
       "      <td>0.000025</td>\n",
       "    </tr>\n",
       "    <tr>\n",
       "      <th>1</th>\n",
       "      <td>0.000036</td>\n",
       "      <td>0.000036</td>\n",
       "      <td>0.000036</td>\n",
       "      <td>0.999818</td>\n",
       "      <td>0.000036</td>\n",
       "      <td>0.000036</td>\n",
       "    </tr>\n",
       "    <tr>\n",
       "      <th>2</th>\n",
       "      <td>0.000068</td>\n",
       "      <td>0.262133</td>\n",
       "      <td>0.000068</td>\n",
       "      <td>0.737593</td>\n",
       "      <td>0.000068</td>\n",
       "      <td>0.000068</td>\n",
       "    </tr>\n",
       "    <tr>\n",
       "      <th>4</th>\n",
       "      <td>0.000075</td>\n",
       "      <td>0.999624</td>\n",
       "      <td>0.000075</td>\n",
       "      <td>0.000075</td>\n",
       "      <td>0.000075</td>\n",
       "      <td>0.000075</td>\n",
       "    </tr>\n",
       "    <tr>\n",
       "      <th>5</th>\n",
       "      <td>0.000033</td>\n",
       "      <td>0.999836</td>\n",
       "      <td>0.000033</td>\n",
       "      <td>0.000033</td>\n",
       "      <td>0.000033</td>\n",
       "      <td>0.000033</td>\n",
       "    </tr>\n",
       "    <tr>\n",
       "      <th>...</th>\n",
       "      <td>...</td>\n",
       "      <td>...</td>\n",
       "      <td>...</td>\n",
       "      <td>...</td>\n",
       "      <td>...</td>\n",
       "      <td>...</td>\n",
       "    </tr>\n",
       "    <tr>\n",
       "      <th>192</th>\n",
       "      <td>0.000041</td>\n",
       "      <td>0.287811</td>\n",
       "      <td>0.000041</td>\n",
       "      <td>0.634054</td>\n",
       "      <td>0.078013</td>\n",
       "      <td>0.000041</td>\n",
       "    </tr>\n",
       "    <tr>\n",
       "      <th>193</th>\n",
       "      <td>0.000042</td>\n",
       "      <td>0.999792</td>\n",
       "      <td>0.000042</td>\n",
       "      <td>0.000042</td>\n",
       "      <td>0.000042</td>\n",
       "      <td>0.000042</td>\n",
       "    </tr>\n",
       "    <tr>\n",
       "      <th>194</th>\n",
       "      <td>0.999792</td>\n",
       "      <td>0.000042</td>\n",
       "      <td>0.000042</td>\n",
       "      <td>0.000042</td>\n",
       "      <td>0.000042</td>\n",
       "      <td>0.000042</td>\n",
       "    </tr>\n",
       "    <tr>\n",
       "      <th>195</th>\n",
       "      <td>0.000023</td>\n",
       "      <td>0.000023</td>\n",
       "      <td>0.000023</td>\n",
       "      <td>0.999885</td>\n",
       "      <td>0.000023</td>\n",
       "      <td>0.000023</td>\n",
       "    </tr>\n",
       "    <tr>\n",
       "      <th>1279</th>\n",
       "      <td>0.000027</td>\n",
       "      <td>0.000027</td>\n",
       "      <td>0.000027</td>\n",
       "      <td>0.000027</td>\n",
       "      <td>0.999865</td>\n",
       "      <td>0.000027</td>\n",
       "    </tr>\n",
       "  </tbody>\n",
       "</table>\n",
       "<p>188 rows × 6 columns</p>\n",
       "</div>"
      ],
      "text/plain": [
       "      Violence/Gangster  Self-Evolution/Struggle  Politics/Revolution  \\\n",
       "0              0.000025                 0.000025             0.000025   \n",
       "1              0.000036                 0.000036             0.000036   \n",
       "2              0.000068                 0.262133             0.000068   \n",
       "4              0.000075                 0.999624             0.000075   \n",
       "5              0.000033                 0.999836             0.000033   \n",
       "...                 ...                      ...                  ...   \n",
       "192            0.000041                 0.287811             0.000041   \n",
       "193            0.000042                 0.999792             0.000042   \n",
       "194            0.999792                 0.000042             0.000042   \n",
       "195            0.000023                 0.000023             0.000023   \n",
       "1279           0.000027                 0.000027             0.000027   \n",
       "\n",
       "          Misc     Money  Religion/Spirituality  \n",
       "0     0.000025  0.999877               0.000025  \n",
       "1     0.999818  0.000036               0.000036  \n",
       "2     0.737593  0.000068               0.000068  \n",
       "4     0.000075  0.000075               0.000075  \n",
       "5     0.000033  0.000033               0.000033  \n",
       "...        ...       ...                    ...  \n",
       "192   0.634054  0.078013               0.000041  \n",
       "193   0.000042  0.000042               0.000042  \n",
       "194   0.000042  0.000042               0.000042  \n",
       "195   0.999885  0.000023               0.000023  \n",
       "1279  0.000027  0.999865               0.000027  \n",
       "\n",
       "[188 rows x 6 columns]"
      ]
     },
     "execution_count": 84,
     "metadata": {},
     "output_type": "execute_result"
    }
   ],
   "source": [
    "df1"
   ]
  },
  {
   "cell_type": "code",
   "execution_count": 85,
   "id": "30d8e35f",
   "metadata": {},
   "outputs": [],
   "source": [
    "df_ranked = df1.rank(axis=1, method='min', ascending=False)\n",
    "df_ranked = (df_ranked <= 2).astype(int)\n",
    "df_topics = df[['track_release_year']].join(df_ranked)"
   ]
  },
  {
   "cell_type": "code",
   "execution_count": 86,
   "id": "7e1ce4eb",
   "metadata": {},
   "outputs": [
    {
     "data": {
      "text/html": [
       "<div>\n",
       "<style scoped>\n",
       "    .dataframe tbody tr th:only-of-type {\n",
       "        vertical-align: middle;\n",
       "    }\n",
       "\n",
       "    .dataframe tbody tr th {\n",
       "        vertical-align: top;\n",
       "    }\n",
       "\n",
       "    .dataframe thead th {\n",
       "        text-align: right;\n",
       "    }\n",
       "</style>\n",
       "<table border=\"1\" class=\"dataframe\">\n",
       "  <thead>\n",
       "    <tr style=\"text-align: right;\">\n",
       "      <th></th>\n",
       "      <th>track_release_year</th>\n",
       "      <th>Violence/Gangster</th>\n",
       "      <th>Self-Evolution/Struggle</th>\n",
       "      <th>Politics/Revolution</th>\n",
       "      <th>Misc</th>\n",
       "      <th>Money</th>\n",
       "      <th>Religion/Spirituality</th>\n",
       "    </tr>\n",
       "  </thead>\n",
       "  <tbody>\n",
       "    <tr>\n",
       "      <th>0</th>\n",
       "      <td>2001</td>\n",
       "      <td>1</td>\n",
       "      <td>1</td>\n",
       "      <td>1</td>\n",
       "      <td>1</td>\n",
       "      <td>1</td>\n",
       "      <td>1</td>\n",
       "    </tr>\n",
       "    <tr>\n",
       "      <th>1</th>\n",
       "      <td>2007</td>\n",
       "      <td>1</td>\n",
       "      <td>1</td>\n",
       "      <td>1</td>\n",
       "      <td>1</td>\n",
       "      <td>1</td>\n",
       "      <td>1</td>\n",
       "    </tr>\n",
       "    <tr>\n",
       "      <th>2</th>\n",
       "      <td>2004</td>\n",
       "      <td>0</td>\n",
       "      <td>1</td>\n",
       "      <td>0</td>\n",
       "      <td>1</td>\n",
       "      <td>0</td>\n",
       "      <td>0</td>\n",
       "    </tr>\n",
       "    <tr>\n",
       "      <th>4</th>\n",
       "      <td>2018</td>\n",
       "      <td>1</td>\n",
       "      <td>1</td>\n",
       "      <td>1</td>\n",
       "      <td>1</td>\n",
       "      <td>1</td>\n",
       "      <td>1</td>\n",
       "    </tr>\n",
       "    <tr>\n",
       "      <th>5</th>\n",
       "      <td>1999</td>\n",
       "      <td>1</td>\n",
       "      <td>1</td>\n",
       "      <td>1</td>\n",
       "      <td>1</td>\n",
       "      <td>1</td>\n",
       "      <td>1</td>\n",
       "    </tr>\n",
       "    <tr>\n",
       "      <th>...</th>\n",
       "      <td>...</td>\n",
       "      <td>...</td>\n",
       "      <td>...</td>\n",
       "      <td>...</td>\n",
       "      <td>...</td>\n",
       "      <td>...</td>\n",
       "      <td>...</td>\n",
       "    </tr>\n",
       "    <tr>\n",
       "      <th>192</th>\n",
       "      <td>2002</td>\n",
       "      <td>0</td>\n",
       "      <td>1</td>\n",
       "      <td>0</td>\n",
       "      <td>1</td>\n",
       "      <td>0</td>\n",
       "      <td>0</td>\n",
       "    </tr>\n",
       "    <tr>\n",
       "      <th>193</th>\n",
       "      <td>2004</td>\n",
       "      <td>1</td>\n",
       "      <td>1</td>\n",
       "      <td>1</td>\n",
       "      <td>1</td>\n",
       "      <td>1</td>\n",
       "      <td>1</td>\n",
       "    </tr>\n",
       "    <tr>\n",
       "      <th>194</th>\n",
       "      <td>2020</td>\n",
       "      <td>1</td>\n",
       "      <td>1</td>\n",
       "      <td>1</td>\n",
       "      <td>1</td>\n",
       "      <td>1</td>\n",
       "      <td>1</td>\n",
       "    </tr>\n",
       "    <tr>\n",
       "      <th>195</th>\n",
       "      <td>2012</td>\n",
       "      <td>1</td>\n",
       "      <td>1</td>\n",
       "      <td>1</td>\n",
       "      <td>1</td>\n",
       "      <td>1</td>\n",
       "      <td>1</td>\n",
       "    </tr>\n",
       "    <tr>\n",
       "      <th>1279</th>\n",
       "      <td>2007</td>\n",
       "      <td>1</td>\n",
       "      <td>1</td>\n",
       "      <td>1</td>\n",
       "      <td>1</td>\n",
       "      <td>1</td>\n",
       "      <td>1</td>\n",
       "    </tr>\n",
       "  </tbody>\n",
       "</table>\n",
       "<p>188 rows × 7 columns</p>\n",
       "</div>"
      ],
      "text/plain": [
       "      track_release_year  Violence/Gangster  Self-Evolution/Struggle  \\\n",
       "0                   2001                  1                        1   \n",
       "1                   2007                  1                        1   \n",
       "2                   2004                  0                        1   \n",
       "4                   2018                  1                        1   \n",
       "5                   1999                  1                        1   \n",
       "...                  ...                ...                      ...   \n",
       "192                 2002                  0                        1   \n",
       "193                 2004                  1                        1   \n",
       "194                 2020                  1                        1   \n",
       "195                 2012                  1                        1   \n",
       "1279                2007                  1                        1   \n",
       "\n",
       "      Politics/Revolution  Misc  Money  Religion/Spirituality  \n",
       "0                       1     1      1                      1  \n",
       "1                       1     1      1                      1  \n",
       "2                       0     1      0                      0  \n",
       "4                       1     1      1                      1  \n",
       "5                       1     1      1                      1  \n",
       "...                   ...   ...    ...                    ...  \n",
       "192                     0     1      0                      0  \n",
       "193                     1     1      1                      1  \n",
       "194                     1     1      1                      1  \n",
       "195                     1     1      1                      1  \n",
       "1279                    1     1      1                      1  \n",
       "\n",
       "[188 rows x 7 columns]"
      ]
     },
     "execution_count": 86,
     "metadata": {},
     "output_type": "execute_result"
    }
   ],
   "source": [
    "df_topics"
   ]
  },
  {
   "cell_type": "code",
   "execution_count": 87,
   "id": "6512f953",
   "metadata": {},
   "outputs": [],
   "source": [
    "df_topics = df_topics.groupby('track_release_year').sum()"
   ]
  },
  {
   "cell_type": "code",
   "execution_count": 88,
   "id": "43a3962b",
   "metadata": {},
   "outputs": [
    {
     "data": {
      "text/html": [
       "<div>\n",
       "<style scoped>\n",
       "    .dataframe tbody tr th:only-of-type {\n",
       "        vertical-align: middle;\n",
       "    }\n",
       "\n",
       "    .dataframe tbody tr th {\n",
       "        vertical-align: top;\n",
       "    }\n",
       "\n",
       "    .dataframe thead th {\n",
       "        text-align: right;\n",
       "    }\n",
       "</style>\n",
       "<table border=\"1\" class=\"dataframe\">\n",
       "  <thead>\n",
       "    <tr style=\"text-align: right;\">\n",
       "      <th></th>\n",
       "      <th>Violence/Gangster</th>\n",
       "      <th>Self-Evolution/Struggle</th>\n",
       "      <th>Politics/Revolution</th>\n",
       "      <th>Misc</th>\n",
       "      <th>Money</th>\n",
       "      <th>Religion/Spirituality</th>\n",
       "    </tr>\n",
       "    <tr>\n",
       "      <th>track_release_year</th>\n",
       "      <th></th>\n",
       "      <th></th>\n",
       "      <th></th>\n",
       "      <th></th>\n",
       "      <th></th>\n",
       "      <th></th>\n",
       "    </tr>\n",
       "  </thead>\n",
       "  <tbody>\n",
       "    <tr>\n",
       "      <th>1999</th>\n",
       "      <td>20</td>\n",
       "      <td>22</td>\n",
       "      <td>21</td>\n",
       "      <td>20</td>\n",
       "      <td>22</td>\n",
       "      <td>21</td>\n",
       "    </tr>\n",
       "    <tr>\n",
       "      <th>2001</th>\n",
       "      <td>6</td>\n",
       "      <td>7</td>\n",
       "      <td>8</td>\n",
       "      <td>7</td>\n",
       "      <td>8</td>\n",
       "      <td>6</td>\n",
       "    </tr>\n",
       "    <tr>\n",
       "      <th>2002</th>\n",
       "      <td>16</td>\n",
       "      <td>19</td>\n",
       "      <td>17</td>\n",
       "      <td>17</td>\n",
       "      <td>19</td>\n",
       "      <td>18</td>\n",
       "    </tr>\n",
       "    <tr>\n",
       "      <th>2003</th>\n",
       "      <td>7</td>\n",
       "      <td>7</td>\n",
       "      <td>7</td>\n",
       "      <td>7</td>\n",
       "      <td>7</td>\n",
       "      <td>7</td>\n",
       "    </tr>\n",
       "    <tr>\n",
       "      <th>2004</th>\n",
       "      <td>14</td>\n",
       "      <td>16</td>\n",
       "      <td>15</td>\n",
       "      <td>16</td>\n",
       "      <td>16</td>\n",
       "      <td>15</td>\n",
       "    </tr>\n",
       "    <tr>\n",
       "      <th>2007</th>\n",
       "      <td>13</td>\n",
       "      <td>15</td>\n",
       "      <td>16</td>\n",
       "      <td>15</td>\n",
       "      <td>14</td>\n",
       "      <td>13</td>\n",
       "    </tr>\n",
       "    <tr>\n",
       "      <th>2008</th>\n",
       "      <td>12</td>\n",
       "      <td>13</td>\n",
       "      <td>13</td>\n",
       "      <td>12</td>\n",
       "      <td>11</td>\n",
       "      <td>11</td>\n",
       "    </tr>\n",
       "    <tr>\n",
       "      <th>2012</th>\n",
       "      <td>15</td>\n",
       "      <td>16</td>\n",
       "      <td>16</td>\n",
       "      <td>16</td>\n",
       "      <td>15</td>\n",
       "      <td>14</td>\n",
       "    </tr>\n",
       "    <tr>\n",
       "      <th>2014</th>\n",
       "      <td>7</td>\n",
       "      <td>7</td>\n",
       "      <td>9</td>\n",
       "      <td>9</td>\n",
       "      <td>9</td>\n",
       "      <td>7</td>\n",
       "    </tr>\n",
       "    <tr>\n",
       "      <th>2018</th>\n",
       "      <td>7</td>\n",
       "      <td>7</td>\n",
       "      <td>7</td>\n",
       "      <td>7</td>\n",
       "      <td>7</td>\n",
       "      <td>7</td>\n",
       "    </tr>\n",
       "    <tr>\n",
       "      <th>2019</th>\n",
       "      <td>14</td>\n",
       "      <td>15</td>\n",
       "      <td>14</td>\n",
       "      <td>15</td>\n",
       "      <td>14</td>\n",
       "      <td>14</td>\n",
       "    </tr>\n",
       "    <tr>\n",
       "      <th>2020</th>\n",
       "      <td>4</td>\n",
       "      <td>5</td>\n",
       "      <td>4</td>\n",
       "      <td>6</td>\n",
       "      <td>5</td>\n",
       "      <td>4</td>\n",
       "    </tr>\n",
       "    <tr>\n",
       "      <th>2021</th>\n",
       "      <td>20</td>\n",
       "      <td>19</td>\n",
       "      <td>21</td>\n",
       "      <td>20</td>\n",
       "      <td>19</td>\n",
       "      <td>19</td>\n",
       "    </tr>\n",
       "  </tbody>\n",
       "</table>\n",
       "</div>"
      ],
      "text/plain": [
       "                    Violence/Gangster  Self-Evolution/Struggle  \\\n",
       "track_release_year                                               \n",
       "1999                               20                       22   \n",
       "2001                                6                        7   \n",
       "2002                               16                       19   \n",
       "2003                                7                        7   \n",
       "2004                               14                       16   \n",
       "2007                               13                       15   \n",
       "2008                               12                       13   \n",
       "2012                               15                       16   \n",
       "2014                                7                        7   \n",
       "2018                                7                        7   \n",
       "2019                               14                       15   \n",
       "2020                                4                        5   \n",
       "2021                               20                       19   \n",
       "\n",
       "                    Politics/Revolution  Misc  Money  Religion/Spirituality  \n",
       "track_release_year                                                           \n",
       "1999                                 21    20     22                     21  \n",
       "2001                                  8     7      8                      6  \n",
       "2002                                 17    17     19                     18  \n",
       "2003                                  7     7      7                      7  \n",
       "2004                                 15    16     16                     15  \n",
       "2007                                 16    15     14                     13  \n",
       "2008                                 13    12     11                     11  \n",
       "2012                                 16    16     15                     14  \n",
       "2014                                  9     9      9                      7  \n",
       "2018                                  7     7      7                      7  \n",
       "2019                                 14    15     14                     14  \n",
       "2020                                  4     6      5                      4  \n",
       "2021                                 21    20     19                     19  "
      ]
     },
     "execution_count": 88,
     "metadata": {},
     "output_type": "execute_result"
    }
   ],
   "source": [
    "df_topics"
   ]
  },
  {
   "cell_type": "code",
   "execution_count": 89,
   "id": "a8a02f5c",
   "metadata": {},
   "outputs": [],
   "source": [
    "df_topics = df_topics.div(df_topics.sum(axis=1), axis=0)"
   ]
  },
  {
   "cell_type": "code",
   "execution_count": 90,
   "id": "fd6e213e",
   "metadata": {},
   "outputs": [
    {
     "data": {
      "text/html": [
       "<div>\n",
       "<style scoped>\n",
       "    .dataframe tbody tr th:only-of-type {\n",
       "        vertical-align: middle;\n",
       "    }\n",
       "\n",
       "    .dataframe tbody tr th {\n",
       "        vertical-align: top;\n",
       "    }\n",
       "\n",
       "    .dataframe thead th {\n",
       "        text-align: right;\n",
       "    }\n",
       "</style>\n",
       "<table border=\"1\" class=\"dataframe\">\n",
       "  <thead>\n",
       "    <tr style=\"text-align: right;\">\n",
       "      <th></th>\n",
       "      <th>Violence/Gangster</th>\n",
       "      <th>Self-Evolution/Struggle</th>\n",
       "      <th>Politics/Revolution</th>\n",
       "      <th>Misc</th>\n",
       "      <th>Money</th>\n",
       "      <th>Religion/Spirituality</th>\n",
       "    </tr>\n",
       "    <tr>\n",
       "      <th>track_release_year</th>\n",
       "      <th></th>\n",
       "      <th></th>\n",
       "      <th></th>\n",
       "      <th></th>\n",
       "      <th></th>\n",
       "      <th></th>\n",
       "    </tr>\n",
       "  </thead>\n",
       "  <tbody>\n",
       "    <tr>\n",
       "      <th>1999</th>\n",
       "      <td>0.158730</td>\n",
       "      <td>0.174603</td>\n",
       "      <td>0.166667</td>\n",
       "      <td>0.158730</td>\n",
       "      <td>0.174603</td>\n",
       "      <td>0.166667</td>\n",
       "    </tr>\n",
       "    <tr>\n",
       "      <th>2001</th>\n",
       "      <td>0.142857</td>\n",
       "      <td>0.166667</td>\n",
       "      <td>0.190476</td>\n",
       "      <td>0.166667</td>\n",
       "      <td>0.190476</td>\n",
       "      <td>0.142857</td>\n",
       "    </tr>\n",
       "    <tr>\n",
       "      <th>2002</th>\n",
       "      <td>0.150943</td>\n",
       "      <td>0.179245</td>\n",
       "      <td>0.160377</td>\n",
       "      <td>0.160377</td>\n",
       "      <td>0.179245</td>\n",
       "      <td>0.169811</td>\n",
       "    </tr>\n",
       "    <tr>\n",
       "      <th>2003</th>\n",
       "      <td>0.166667</td>\n",
       "      <td>0.166667</td>\n",
       "      <td>0.166667</td>\n",
       "      <td>0.166667</td>\n",
       "      <td>0.166667</td>\n",
       "      <td>0.166667</td>\n",
       "    </tr>\n",
       "    <tr>\n",
       "      <th>2004</th>\n",
       "      <td>0.152174</td>\n",
       "      <td>0.173913</td>\n",
       "      <td>0.163043</td>\n",
       "      <td>0.173913</td>\n",
       "      <td>0.173913</td>\n",
       "      <td>0.163043</td>\n",
       "    </tr>\n",
       "    <tr>\n",
       "      <th>2007</th>\n",
       "      <td>0.151163</td>\n",
       "      <td>0.174419</td>\n",
       "      <td>0.186047</td>\n",
       "      <td>0.174419</td>\n",
       "      <td>0.162791</td>\n",
       "      <td>0.151163</td>\n",
       "    </tr>\n",
       "    <tr>\n",
       "      <th>2008</th>\n",
       "      <td>0.166667</td>\n",
       "      <td>0.180556</td>\n",
       "      <td>0.180556</td>\n",
       "      <td>0.166667</td>\n",
       "      <td>0.152778</td>\n",
       "      <td>0.152778</td>\n",
       "    </tr>\n",
       "    <tr>\n",
       "      <th>2012</th>\n",
       "      <td>0.163043</td>\n",
       "      <td>0.173913</td>\n",
       "      <td>0.173913</td>\n",
       "      <td>0.173913</td>\n",
       "      <td>0.163043</td>\n",
       "      <td>0.152174</td>\n",
       "    </tr>\n",
       "    <tr>\n",
       "      <th>2014</th>\n",
       "      <td>0.145833</td>\n",
       "      <td>0.145833</td>\n",
       "      <td>0.187500</td>\n",
       "      <td>0.187500</td>\n",
       "      <td>0.187500</td>\n",
       "      <td>0.145833</td>\n",
       "    </tr>\n",
       "    <tr>\n",
       "      <th>2018</th>\n",
       "      <td>0.166667</td>\n",
       "      <td>0.166667</td>\n",
       "      <td>0.166667</td>\n",
       "      <td>0.166667</td>\n",
       "      <td>0.166667</td>\n",
       "      <td>0.166667</td>\n",
       "    </tr>\n",
       "    <tr>\n",
       "      <th>2019</th>\n",
       "      <td>0.162791</td>\n",
       "      <td>0.174419</td>\n",
       "      <td>0.162791</td>\n",
       "      <td>0.174419</td>\n",
       "      <td>0.162791</td>\n",
       "      <td>0.162791</td>\n",
       "    </tr>\n",
       "    <tr>\n",
       "      <th>2020</th>\n",
       "      <td>0.142857</td>\n",
       "      <td>0.178571</td>\n",
       "      <td>0.142857</td>\n",
       "      <td>0.214286</td>\n",
       "      <td>0.178571</td>\n",
       "      <td>0.142857</td>\n",
       "    </tr>\n",
       "    <tr>\n",
       "      <th>2021</th>\n",
       "      <td>0.169492</td>\n",
       "      <td>0.161017</td>\n",
       "      <td>0.177966</td>\n",
       "      <td>0.169492</td>\n",
       "      <td>0.161017</td>\n",
       "      <td>0.161017</td>\n",
       "    </tr>\n",
       "  </tbody>\n",
       "</table>\n",
       "</div>"
      ],
      "text/plain": [
       "                    Violence/Gangster  Self-Evolution/Struggle  \\\n",
       "track_release_year                                               \n",
       "1999                         0.158730                 0.174603   \n",
       "2001                         0.142857                 0.166667   \n",
       "2002                         0.150943                 0.179245   \n",
       "2003                         0.166667                 0.166667   \n",
       "2004                         0.152174                 0.173913   \n",
       "2007                         0.151163                 0.174419   \n",
       "2008                         0.166667                 0.180556   \n",
       "2012                         0.163043                 0.173913   \n",
       "2014                         0.145833                 0.145833   \n",
       "2018                         0.166667                 0.166667   \n",
       "2019                         0.162791                 0.174419   \n",
       "2020                         0.142857                 0.178571   \n",
       "2021                         0.169492                 0.161017   \n",
       "\n",
       "                    Politics/Revolution      Misc     Money  \\\n",
       "track_release_year                                            \n",
       "1999                           0.166667  0.158730  0.174603   \n",
       "2001                           0.190476  0.166667  0.190476   \n",
       "2002                           0.160377  0.160377  0.179245   \n",
       "2003                           0.166667  0.166667  0.166667   \n",
       "2004                           0.163043  0.173913  0.173913   \n",
       "2007                           0.186047  0.174419  0.162791   \n",
       "2008                           0.180556  0.166667  0.152778   \n",
       "2012                           0.173913  0.173913  0.163043   \n",
       "2014                           0.187500  0.187500  0.187500   \n",
       "2018                           0.166667  0.166667  0.166667   \n",
       "2019                           0.162791  0.174419  0.162791   \n",
       "2020                           0.142857  0.214286  0.178571   \n",
       "2021                           0.177966  0.169492  0.161017   \n",
       "\n",
       "                    Religion/Spirituality  \n",
       "track_release_year                         \n",
       "1999                             0.166667  \n",
       "2001                             0.142857  \n",
       "2002                             0.169811  \n",
       "2003                             0.166667  \n",
       "2004                             0.163043  \n",
       "2007                             0.151163  \n",
       "2008                             0.152778  \n",
       "2012                             0.152174  \n",
       "2014                             0.145833  \n",
       "2018                             0.166667  \n",
       "2019                             0.162791  \n",
       "2020                             0.142857  \n",
       "2021                             0.161017  "
      ]
     },
     "execution_count": 90,
     "metadata": {},
     "output_type": "execute_result"
    }
   ],
   "source": [
    "df_topics"
   ]
  },
  {
   "cell_type": "code",
   "execution_count": 91,
   "id": "1f35bb55",
   "metadata": {},
   "outputs": [
    {
     "data": {
      "text/html": [
       "<div>\n",
       "<style scoped>\n",
       "    .dataframe tbody tr th:only-of-type {\n",
       "        vertical-align: middle;\n",
       "    }\n",
       "\n",
       "    .dataframe tbody tr th {\n",
       "        vertical-align: top;\n",
       "    }\n",
       "\n",
       "    .dataframe thead th {\n",
       "        text-align: right;\n",
       "    }\n",
       "</style>\n",
       "<table border=\"1\" class=\"dataframe\">\n",
       "  <thead>\n",
       "    <tr style=\"text-align: right;\">\n",
       "      <th></th>\n",
       "      <th>Violence/Gangster</th>\n",
       "      <th>Self-Evolution/Struggle</th>\n",
       "      <th>Politics/Revolution</th>\n",
       "      <th>Misc</th>\n",
       "      <th>Money</th>\n",
       "      <th>Religion/Spirituality</th>\n",
       "    </tr>\n",
       "    <tr>\n",
       "      <th>track_release_year</th>\n",
       "      <th></th>\n",
       "      <th></th>\n",
       "      <th></th>\n",
       "      <th></th>\n",
       "      <th></th>\n",
       "      <th></th>\n",
       "    </tr>\n",
       "  </thead>\n",
       "  <tbody>\n",
       "    <tr>\n",
       "      <th>1999</th>\n",
       "      <td>0.158730</td>\n",
       "      <td>0.174603</td>\n",
       "      <td>0.166667</td>\n",
       "      <td>0.158730</td>\n",
       "      <td>0.174603</td>\n",
       "      <td>0.166667</td>\n",
       "    </tr>\n",
       "    <tr>\n",
       "      <th>2001</th>\n",
       "      <td>0.142857</td>\n",
       "      <td>0.166667</td>\n",
       "      <td>0.190476</td>\n",
       "      <td>0.166667</td>\n",
       "      <td>0.190476</td>\n",
       "      <td>0.142857</td>\n",
       "    </tr>\n",
       "    <tr>\n",
       "      <th>2002</th>\n",
       "      <td>0.150943</td>\n",
       "      <td>0.179245</td>\n",
       "      <td>0.160377</td>\n",
       "      <td>0.160377</td>\n",
       "      <td>0.179245</td>\n",
       "      <td>0.169811</td>\n",
       "    </tr>\n",
       "    <tr>\n",
       "      <th>2003</th>\n",
       "      <td>0.166667</td>\n",
       "      <td>0.166667</td>\n",
       "      <td>0.166667</td>\n",
       "      <td>0.166667</td>\n",
       "      <td>0.166667</td>\n",
       "      <td>0.166667</td>\n",
       "    </tr>\n",
       "    <tr>\n",
       "      <th>2004</th>\n",
       "      <td>0.152174</td>\n",
       "      <td>0.173913</td>\n",
       "      <td>0.163043</td>\n",
       "      <td>0.173913</td>\n",
       "      <td>0.173913</td>\n",
       "      <td>0.163043</td>\n",
       "    </tr>\n",
       "    <tr>\n",
       "      <th>2007</th>\n",
       "      <td>0.151163</td>\n",
       "      <td>0.174419</td>\n",
       "      <td>0.186047</td>\n",
       "      <td>0.174419</td>\n",
       "      <td>0.162791</td>\n",
       "      <td>0.151163</td>\n",
       "    </tr>\n",
       "    <tr>\n",
       "      <th>2008</th>\n",
       "      <td>0.166667</td>\n",
       "      <td>0.180556</td>\n",
       "      <td>0.180556</td>\n",
       "      <td>0.166667</td>\n",
       "      <td>0.152778</td>\n",
       "      <td>0.152778</td>\n",
       "    </tr>\n",
       "    <tr>\n",
       "      <th>2012</th>\n",
       "      <td>0.163043</td>\n",
       "      <td>0.173913</td>\n",
       "      <td>0.173913</td>\n",
       "      <td>0.173913</td>\n",
       "      <td>0.163043</td>\n",
       "      <td>0.152174</td>\n",
       "    </tr>\n",
       "    <tr>\n",
       "      <th>2014</th>\n",
       "      <td>0.145833</td>\n",
       "      <td>0.145833</td>\n",
       "      <td>0.187500</td>\n",
       "      <td>0.187500</td>\n",
       "      <td>0.187500</td>\n",
       "      <td>0.145833</td>\n",
       "    </tr>\n",
       "    <tr>\n",
       "      <th>2018</th>\n",
       "      <td>0.166667</td>\n",
       "      <td>0.166667</td>\n",
       "      <td>0.166667</td>\n",
       "      <td>0.166667</td>\n",
       "      <td>0.166667</td>\n",
       "      <td>0.166667</td>\n",
       "    </tr>\n",
       "    <tr>\n",
       "      <th>2019</th>\n",
       "      <td>0.162791</td>\n",
       "      <td>0.174419</td>\n",
       "      <td>0.162791</td>\n",
       "      <td>0.174419</td>\n",
       "      <td>0.162791</td>\n",
       "      <td>0.162791</td>\n",
       "    </tr>\n",
       "    <tr>\n",
       "      <th>2020</th>\n",
       "      <td>0.142857</td>\n",
       "      <td>0.178571</td>\n",
       "      <td>0.142857</td>\n",
       "      <td>0.214286</td>\n",
       "      <td>0.178571</td>\n",
       "      <td>0.142857</td>\n",
       "    </tr>\n",
       "    <tr>\n",
       "      <th>2021</th>\n",
       "      <td>0.169492</td>\n",
       "      <td>0.161017</td>\n",
       "      <td>0.177966</td>\n",
       "      <td>0.169492</td>\n",
       "      <td>0.161017</td>\n",
       "      <td>0.161017</td>\n",
       "    </tr>\n",
       "  </tbody>\n",
       "</table>\n",
       "</div>"
      ],
      "text/plain": [
       "                    Violence/Gangster  Self-Evolution/Struggle  \\\n",
       "track_release_year                                               \n",
       "1999                         0.158730                 0.174603   \n",
       "2001                         0.142857                 0.166667   \n",
       "2002                         0.150943                 0.179245   \n",
       "2003                         0.166667                 0.166667   \n",
       "2004                         0.152174                 0.173913   \n",
       "2007                         0.151163                 0.174419   \n",
       "2008                         0.166667                 0.180556   \n",
       "2012                         0.163043                 0.173913   \n",
       "2014                         0.145833                 0.145833   \n",
       "2018                         0.166667                 0.166667   \n",
       "2019                         0.162791                 0.174419   \n",
       "2020                         0.142857                 0.178571   \n",
       "2021                         0.169492                 0.161017   \n",
       "\n",
       "                    Politics/Revolution      Misc     Money  \\\n",
       "track_release_year                                            \n",
       "1999                           0.166667  0.158730  0.174603   \n",
       "2001                           0.190476  0.166667  0.190476   \n",
       "2002                           0.160377  0.160377  0.179245   \n",
       "2003                           0.166667  0.166667  0.166667   \n",
       "2004                           0.163043  0.173913  0.173913   \n",
       "2007                           0.186047  0.174419  0.162791   \n",
       "2008                           0.180556  0.166667  0.152778   \n",
       "2012                           0.173913  0.173913  0.163043   \n",
       "2014                           0.187500  0.187500  0.187500   \n",
       "2018                           0.166667  0.166667  0.166667   \n",
       "2019                           0.162791  0.174419  0.162791   \n",
       "2020                           0.142857  0.214286  0.178571   \n",
       "2021                           0.177966  0.169492  0.161017   \n",
       "\n",
       "                    Religion/Spirituality  \n",
       "track_release_year                         \n",
       "1999                             0.166667  \n",
       "2001                             0.142857  \n",
       "2002                             0.169811  \n",
       "2003                             0.166667  \n",
       "2004                             0.163043  \n",
       "2007                             0.151163  \n",
       "2008                             0.152778  \n",
       "2012                             0.152174  \n",
       "2014                             0.145833  \n",
       "2018                             0.166667  \n",
       "2019                             0.162791  \n",
       "2020                             0.142857  \n",
       "2021                             0.161017  "
      ]
     },
     "execution_count": 91,
     "metadata": {},
     "output_type": "execute_result"
    }
   ],
   "source": [
    "df_topics"
   ]
  },
  {
   "cell_type": "code",
   "execution_count": 92,
   "id": "3217aa47",
   "metadata": {},
   "outputs": [],
   "source": [
    "df_topics = df_topics[df_topics.index > 1989].reset_index()"
   ]
  },
  {
   "cell_type": "code",
   "execution_count": 100,
   "id": "0ee05990",
   "metadata": {},
   "outputs": [
    {
     "data": {
      "text/html": [
       "<div>\n",
       "<style scoped>\n",
       "    .dataframe tbody tr th:only-of-type {\n",
       "        vertical-align: middle;\n",
       "    }\n",
       "\n",
       "    .dataframe tbody tr th {\n",
       "        vertical-align: top;\n",
       "    }\n",
       "\n",
       "    .dataframe thead th {\n",
       "        text-align: right;\n",
       "    }\n",
       "</style>\n",
       "<table border=\"1\" class=\"dataframe\">\n",
       "  <thead>\n",
       "    <tr style=\"text-align: right;\">\n",
       "      <th></th>\n",
       "      <th>track_release_year</th>\n",
       "      <th>Violence/Gangster</th>\n",
       "      <th>Self-Evolution/Struggle</th>\n",
       "      <th>Politics/Revolution</th>\n",
       "      <th>Misc</th>\n",
       "      <th>Money</th>\n",
       "      <th>Religion/Spirituality</th>\n",
       "    </tr>\n",
       "  </thead>\n",
       "  <tbody>\n",
       "    <tr>\n",
       "      <th>0</th>\n",
       "      <td>1999</td>\n",
       "      <td>0.158730</td>\n",
       "      <td>0.174603</td>\n",
       "      <td>0.166667</td>\n",
       "      <td>0.158730</td>\n",
       "      <td>0.174603</td>\n",
       "      <td>0.166667</td>\n",
       "    </tr>\n",
       "    <tr>\n",
       "      <th>1</th>\n",
       "      <td>2001</td>\n",
       "      <td>0.142857</td>\n",
       "      <td>0.166667</td>\n",
       "      <td>0.190476</td>\n",
       "      <td>0.166667</td>\n",
       "      <td>0.190476</td>\n",
       "      <td>0.142857</td>\n",
       "    </tr>\n",
       "    <tr>\n",
       "      <th>2</th>\n",
       "      <td>2002</td>\n",
       "      <td>0.150943</td>\n",
       "      <td>0.179245</td>\n",
       "      <td>0.160377</td>\n",
       "      <td>0.160377</td>\n",
       "      <td>0.179245</td>\n",
       "      <td>0.169811</td>\n",
       "    </tr>\n",
       "    <tr>\n",
       "      <th>3</th>\n",
       "      <td>2003</td>\n",
       "      <td>0.166667</td>\n",
       "      <td>0.166667</td>\n",
       "      <td>0.166667</td>\n",
       "      <td>0.166667</td>\n",
       "      <td>0.166667</td>\n",
       "      <td>0.166667</td>\n",
       "    </tr>\n",
       "    <tr>\n",
       "      <th>4</th>\n",
       "      <td>2004</td>\n",
       "      <td>0.152174</td>\n",
       "      <td>0.173913</td>\n",
       "      <td>0.163043</td>\n",
       "      <td>0.173913</td>\n",
       "      <td>0.173913</td>\n",
       "      <td>0.163043</td>\n",
       "    </tr>\n",
       "    <tr>\n",
       "      <th>5</th>\n",
       "      <td>2007</td>\n",
       "      <td>0.151163</td>\n",
       "      <td>0.174419</td>\n",
       "      <td>0.186047</td>\n",
       "      <td>0.174419</td>\n",
       "      <td>0.162791</td>\n",
       "      <td>0.151163</td>\n",
       "    </tr>\n",
       "    <tr>\n",
       "      <th>6</th>\n",
       "      <td>2008</td>\n",
       "      <td>0.166667</td>\n",
       "      <td>0.180556</td>\n",
       "      <td>0.180556</td>\n",
       "      <td>0.166667</td>\n",
       "      <td>0.152778</td>\n",
       "      <td>0.152778</td>\n",
       "    </tr>\n",
       "    <tr>\n",
       "      <th>7</th>\n",
       "      <td>2012</td>\n",
       "      <td>0.163043</td>\n",
       "      <td>0.173913</td>\n",
       "      <td>0.173913</td>\n",
       "      <td>0.173913</td>\n",
       "      <td>0.163043</td>\n",
       "      <td>0.152174</td>\n",
       "    </tr>\n",
       "    <tr>\n",
       "      <th>8</th>\n",
       "      <td>2014</td>\n",
       "      <td>0.145833</td>\n",
       "      <td>0.145833</td>\n",
       "      <td>0.187500</td>\n",
       "      <td>0.187500</td>\n",
       "      <td>0.187500</td>\n",
       "      <td>0.145833</td>\n",
       "    </tr>\n",
       "    <tr>\n",
       "      <th>9</th>\n",
       "      <td>2018</td>\n",
       "      <td>0.166667</td>\n",
       "      <td>0.166667</td>\n",
       "      <td>0.166667</td>\n",
       "      <td>0.166667</td>\n",
       "      <td>0.166667</td>\n",
       "      <td>0.166667</td>\n",
       "    </tr>\n",
       "    <tr>\n",
       "      <th>10</th>\n",
       "      <td>2019</td>\n",
       "      <td>0.162791</td>\n",
       "      <td>0.174419</td>\n",
       "      <td>0.162791</td>\n",
       "      <td>0.174419</td>\n",
       "      <td>0.162791</td>\n",
       "      <td>0.162791</td>\n",
       "    </tr>\n",
       "    <tr>\n",
       "      <th>11</th>\n",
       "      <td>2020</td>\n",
       "      <td>0.142857</td>\n",
       "      <td>0.178571</td>\n",
       "      <td>0.142857</td>\n",
       "      <td>0.214286</td>\n",
       "      <td>0.178571</td>\n",
       "      <td>0.142857</td>\n",
       "    </tr>\n",
       "    <tr>\n",
       "      <th>12</th>\n",
       "      <td>2021</td>\n",
       "      <td>0.169492</td>\n",
       "      <td>0.161017</td>\n",
       "      <td>0.177966</td>\n",
       "      <td>0.169492</td>\n",
       "      <td>0.161017</td>\n",
       "      <td>0.161017</td>\n",
       "    </tr>\n",
       "  </tbody>\n",
       "</table>\n",
       "</div>"
      ],
      "text/plain": [
       "    track_release_year  Violence/Gangster  Self-Evolution/Struggle  \\\n",
       "0                 1999           0.158730                 0.174603   \n",
       "1                 2001           0.142857                 0.166667   \n",
       "2                 2002           0.150943                 0.179245   \n",
       "3                 2003           0.166667                 0.166667   \n",
       "4                 2004           0.152174                 0.173913   \n",
       "5                 2007           0.151163                 0.174419   \n",
       "6                 2008           0.166667                 0.180556   \n",
       "7                 2012           0.163043                 0.173913   \n",
       "8                 2014           0.145833                 0.145833   \n",
       "9                 2018           0.166667                 0.166667   \n",
       "10                2019           0.162791                 0.174419   \n",
       "11                2020           0.142857                 0.178571   \n",
       "12                2021           0.169492                 0.161017   \n",
       "\n",
       "    Politics/Revolution      Misc     Money  Religion/Spirituality  \n",
       "0              0.166667  0.158730  0.174603               0.166667  \n",
       "1              0.190476  0.166667  0.190476               0.142857  \n",
       "2              0.160377  0.160377  0.179245               0.169811  \n",
       "3              0.166667  0.166667  0.166667               0.166667  \n",
       "4              0.163043  0.173913  0.173913               0.163043  \n",
       "5              0.186047  0.174419  0.162791               0.151163  \n",
       "6              0.180556  0.166667  0.152778               0.152778  \n",
       "7              0.173913  0.173913  0.163043               0.152174  \n",
       "8              0.187500  0.187500  0.187500               0.145833  \n",
       "9              0.166667  0.166667  0.166667               0.166667  \n",
       "10             0.162791  0.174419  0.162791               0.162791  \n",
       "11             0.142857  0.214286  0.178571               0.142857  \n",
       "12             0.177966  0.169492  0.161017               0.161017  "
      ]
     },
     "execution_count": 100,
     "metadata": {},
     "output_type": "execute_result"
    }
   ],
   "source": [
    "df_topics"
   ]
  },
  {
   "cell_type": "code",
   "execution_count": 101,
   "id": "9670adba",
   "metadata": {},
   "outputs": [
    {
     "data": {
      "text/html": [
       "<div>\n",
       "<style scoped>\n",
       "    .dataframe tbody tr th:only-of-type {\n",
       "        vertical-align: middle;\n",
       "    }\n",
       "\n",
       "    .dataframe tbody tr th {\n",
       "        vertical-align: top;\n",
       "    }\n",
       "\n",
       "    .dataframe thead th {\n",
       "        text-align: right;\n",
       "    }\n",
       "</style>\n",
       "<table border=\"1\" class=\"dataframe\">\n",
       "  <thead>\n",
       "    <tr style=\"text-align: right;\">\n",
       "      <th></th>\n",
       "      <th>track_release_year</th>\n",
       "      <th>Violence/Gangster</th>\n",
       "      <th>Self-Evolution/Struggle</th>\n",
       "      <th>Politics/Revolution</th>\n",
       "      <th>Misc</th>\n",
       "      <th>Money</th>\n",
       "      <th>Religion/Spirituality</th>\n",
       "    </tr>\n",
       "  </thead>\n",
       "  <tbody>\n",
       "    <tr>\n",
       "      <th>2</th>\n",
       "      <td>2000.666667</td>\n",
       "      <td>0.150844</td>\n",
       "      <td>0.173505</td>\n",
       "      <td>0.172507</td>\n",
       "      <td>0.161925</td>\n",
       "      <td>0.181442</td>\n",
       "      <td>0.159778</td>\n",
       "    </tr>\n",
       "    <tr>\n",
       "      <th>3</th>\n",
       "      <td>2002.000000</td>\n",
       "      <td>0.153489</td>\n",
       "      <td>0.170860</td>\n",
       "      <td>0.172507</td>\n",
       "      <td>0.164570</td>\n",
       "      <td>0.178796</td>\n",
       "      <td>0.159778</td>\n",
       "    </tr>\n",
       "    <tr>\n",
       "      <th>4</th>\n",
       "      <td>2003.000000</td>\n",
       "      <td>0.156595</td>\n",
       "      <td>0.173275</td>\n",
       "      <td>0.163363</td>\n",
       "      <td>0.166986</td>\n",
       "      <td>0.173275</td>\n",
       "      <td>0.166507</td>\n",
       "    </tr>\n",
       "    <tr>\n",
       "      <th>5</th>\n",
       "      <td>2004.666667</td>\n",
       "      <td>0.156668</td>\n",
       "      <td>0.171666</td>\n",
       "      <td>0.171919</td>\n",
       "      <td>0.171666</td>\n",
       "      <td>0.167790</td>\n",
       "      <td>0.160291</td>\n",
       "    </tr>\n",
       "    <tr>\n",
       "      <th>6</th>\n",
       "      <td>2006.333333</td>\n",
       "      <td>0.156668</td>\n",
       "      <td>0.176296</td>\n",
       "      <td>0.176549</td>\n",
       "      <td>0.171666</td>\n",
       "      <td>0.163161</td>\n",
       "      <td>0.155661</td>\n",
       "    </tr>\n",
       "    <tr>\n",
       "      <th>7</th>\n",
       "      <td>2009.000000</td>\n",
       "      <td>0.160291</td>\n",
       "      <td>0.176296</td>\n",
       "      <td>0.180172</td>\n",
       "      <td>0.171666</td>\n",
       "      <td>0.159537</td>\n",
       "      <td>0.152038</td>\n",
       "    </tr>\n",
       "    <tr>\n",
       "      <th>8</th>\n",
       "      <td>2011.333333</td>\n",
       "      <td>0.158514</td>\n",
       "      <td>0.166767</td>\n",
       "      <td>0.180656</td>\n",
       "      <td>0.176027</td>\n",
       "      <td>0.167774</td>\n",
       "      <td>0.150262</td>\n",
       "    </tr>\n",
       "    <tr>\n",
       "      <th>9</th>\n",
       "      <td>2014.666667</td>\n",
       "      <td>0.158514</td>\n",
       "      <td>0.162138</td>\n",
       "      <td>0.176027</td>\n",
       "      <td>0.176027</td>\n",
       "      <td>0.172403</td>\n",
       "      <td>0.154891</td>\n",
       "    </tr>\n",
       "    <tr>\n",
       "      <th>10</th>\n",
       "      <td>2017.000000</td>\n",
       "      <td>0.158430</td>\n",
       "      <td>0.162306</td>\n",
       "      <td>0.172319</td>\n",
       "      <td>0.176195</td>\n",
       "      <td>0.172319</td>\n",
       "      <td>0.158430</td>\n",
       "    </tr>\n",
       "    <tr>\n",
       "      <th>11</th>\n",
       "      <td>2019.000000</td>\n",
       "      <td>0.157438</td>\n",
       "      <td>0.173219</td>\n",
       "      <td>0.157438</td>\n",
       "      <td>0.185124</td>\n",
       "      <td>0.169343</td>\n",
       "      <td>0.157438</td>\n",
       "    </tr>\n",
       "    <tr>\n",
       "      <th>12</th>\n",
       "      <td>2020.000000</td>\n",
       "      <td>0.158380</td>\n",
       "      <td>0.171336</td>\n",
       "      <td>0.161205</td>\n",
       "      <td>0.186065</td>\n",
       "      <td>0.167460</td>\n",
       "      <td>0.155555</td>\n",
       "    </tr>\n",
       "  </tbody>\n",
       "</table>\n",
       "</div>"
      ],
      "text/plain": [
       "    track_release_year  Violence/Gangster  Self-Evolution/Struggle  \\\n",
       "2          2000.666667           0.150844                 0.173505   \n",
       "3          2002.000000           0.153489                 0.170860   \n",
       "4          2003.000000           0.156595                 0.173275   \n",
       "5          2004.666667           0.156668                 0.171666   \n",
       "6          2006.333333           0.156668                 0.176296   \n",
       "7          2009.000000           0.160291                 0.176296   \n",
       "8          2011.333333           0.158514                 0.166767   \n",
       "9          2014.666667           0.158514                 0.162138   \n",
       "10         2017.000000           0.158430                 0.162306   \n",
       "11         2019.000000           0.157438                 0.173219   \n",
       "12         2020.000000           0.158380                 0.171336   \n",
       "\n",
       "    Politics/Revolution      Misc     Money  Religion/Spirituality  \n",
       "2              0.172507  0.161925  0.181442               0.159778  \n",
       "3              0.172507  0.164570  0.178796               0.159778  \n",
       "4              0.163363  0.166986  0.173275               0.166507  \n",
       "5              0.171919  0.171666  0.167790               0.160291  \n",
       "6              0.176549  0.171666  0.163161               0.155661  \n",
       "7              0.180172  0.171666  0.159537               0.152038  \n",
       "8              0.180656  0.176027  0.167774               0.150262  \n",
       "9              0.176027  0.176027  0.172403               0.154891  \n",
       "10             0.172319  0.176195  0.172319               0.158430  \n",
       "11             0.157438  0.185124  0.169343               0.157438  \n",
       "12             0.161205  0.186065  0.167460               0.155555  "
      ]
     },
     "execution_count": 101,
     "metadata": {},
     "output_type": "execute_result"
    }
   ],
   "source": [
    "df_topics.rolling(window=3).mean().dropna()"
   ]
  },
  {
   "cell_type": "code",
   "execution_count": 102,
   "id": "54791035",
   "metadata": {},
   "outputs": [],
   "source": [
    "df_topics_smoothed = df_topics.iloc[:,1:].rolling(window=3).mean().dropna()"
   ]
  },
  {
   "cell_type": "code",
   "execution_count": 103,
   "id": "3d495857",
   "metadata": {},
   "outputs": [
    {
     "data": {
      "text/html": [
       "<div>\n",
       "<style scoped>\n",
       "    .dataframe tbody tr th:only-of-type {\n",
       "        vertical-align: middle;\n",
       "    }\n",
       "\n",
       "    .dataframe tbody tr th {\n",
       "        vertical-align: top;\n",
       "    }\n",
       "\n",
       "    .dataframe thead th {\n",
       "        text-align: right;\n",
       "    }\n",
       "</style>\n",
       "<table border=\"1\" class=\"dataframe\">\n",
       "  <thead>\n",
       "    <tr style=\"text-align: right;\">\n",
       "      <th></th>\n",
       "      <th>Violence/Gangster</th>\n",
       "      <th>Self-Evolution/Struggle</th>\n",
       "      <th>Politics/Revolution</th>\n",
       "      <th>Misc</th>\n",
       "      <th>Money</th>\n",
       "      <th>Religion/Spirituality</th>\n",
       "    </tr>\n",
       "  </thead>\n",
       "  <tbody>\n",
       "    <tr>\n",
       "      <th>2</th>\n",
       "      <td>0.150844</td>\n",
       "      <td>0.173505</td>\n",
       "      <td>0.172507</td>\n",
       "      <td>0.161925</td>\n",
       "      <td>0.181442</td>\n",
       "      <td>0.159778</td>\n",
       "    </tr>\n",
       "    <tr>\n",
       "      <th>3</th>\n",
       "      <td>0.153489</td>\n",
       "      <td>0.170860</td>\n",
       "      <td>0.172507</td>\n",
       "      <td>0.164570</td>\n",
       "      <td>0.178796</td>\n",
       "      <td>0.159778</td>\n",
       "    </tr>\n",
       "    <tr>\n",
       "      <th>4</th>\n",
       "      <td>0.156595</td>\n",
       "      <td>0.173275</td>\n",
       "      <td>0.163363</td>\n",
       "      <td>0.166986</td>\n",
       "      <td>0.173275</td>\n",
       "      <td>0.166507</td>\n",
       "    </tr>\n",
       "    <tr>\n",
       "      <th>5</th>\n",
       "      <td>0.156668</td>\n",
       "      <td>0.171666</td>\n",
       "      <td>0.171919</td>\n",
       "      <td>0.171666</td>\n",
       "      <td>0.167790</td>\n",
       "      <td>0.160291</td>\n",
       "    </tr>\n",
       "    <tr>\n",
       "      <th>6</th>\n",
       "      <td>0.156668</td>\n",
       "      <td>0.176296</td>\n",
       "      <td>0.176549</td>\n",
       "      <td>0.171666</td>\n",
       "      <td>0.163161</td>\n",
       "      <td>0.155661</td>\n",
       "    </tr>\n",
       "    <tr>\n",
       "      <th>7</th>\n",
       "      <td>0.160291</td>\n",
       "      <td>0.176296</td>\n",
       "      <td>0.180172</td>\n",
       "      <td>0.171666</td>\n",
       "      <td>0.159537</td>\n",
       "      <td>0.152038</td>\n",
       "    </tr>\n",
       "    <tr>\n",
       "      <th>8</th>\n",
       "      <td>0.158514</td>\n",
       "      <td>0.166767</td>\n",
       "      <td>0.180656</td>\n",
       "      <td>0.176027</td>\n",
       "      <td>0.167774</td>\n",
       "      <td>0.150262</td>\n",
       "    </tr>\n",
       "    <tr>\n",
       "      <th>9</th>\n",
       "      <td>0.158514</td>\n",
       "      <td>0.162138</td>\n",
       "      <td>0.176027</td>\n",
       "      <td>0.176027</td>\n",
       "      <td>0.172403</td>\n",
       "      <td>0.154891</td>\n",
       "    </tr>\n",
       "    <tr>\n",
       "      <th>10</th>\n",
       "      <td>0.158430</td>\n",
       "      <td>0.162306</td>\n",
       "      <td>0.172319</td>\n",
       "      <td>0.176195</td>\n",
       "      <td>0.172319</td>\n",
       "      <td>0.158430</td>\n",
       "    </tr>\n",
       "    <tr>\n",
       "      <th>11</th>\n",
       "      <td>0.157438</td>\n",
       "      <td>0.173219</td>\n",
       "      <td>0.157438</td>\n",
       "      <td>0.185124</td>\n",
       "      <td>0.169343</td>\n",
       "      <td>0.157438</td>\n",
       "    </tr>\n",
       "    <tr>\n",
       "      <th>12</th>\n",
       "      <td>0.158380</td>\n",
       "      <td>0.171336</td>\n",
       "      <td>0.161205</td>\n",
       "      <td>0.186065</td>\n",
       "      <td>0.167460</td>\n",
       "      <td>0.155555</td>\n",
       "    </tr>\n",
       "  </tbody>\n",
       "</table>\n",
       "</div>"
      ],
      "text/plain": [
       "    Violence/Gangster  Self-Evolution/Struggle  Politics/Revolution      Misc  \\\n",
       "2            0.150844                 0.173505             0.172507  0.161925   \n",
       "3            0.153489                 0.170860             0.172507  0.164570   \n",
       "4            0.156595                 0.173275             0.163363  0.166986   \n",
       "5            0.156668                 0.171666             0.171919  0.171666   \n",
       "6            0.156668                 0.176296             0.176549  0.171666   \n",
       "7            0.160291                 0.176296             0.180172  0.171666   \n",
       "8            0.158514                 0.166767             0.180656  0.176027   \n",
       "9            0.158514                 0.162138             0.176027  0.176027   \n",
       "10           0.158430                 0.162306             0.172319  0.176195   \n",
       "11           0.157438                 0.173219             0.157438  0.185124   \n",
       "12           0.158380                 0.171336             0.161205  0.186065   \n",
       "\n",
       "       Money  Religion/Spirituality  \n",
       "2   0.181442               0.159778  \n",
       "3   0.178796               0.159778  \n",
       "4   0.173275               0.166507  \n",
       "5   0.167790               0.160291  \n",
       "6   0.163161               0.155661  \n",
       "7   0.159537               0.152038  \n",
       "8   0.167774               0.150262  \n",
       "9   0.172403               0.154891  \n",
       "10  0.172319               0.158430  \n",
       "11  0.169343               0.157438  \n",
       "12  0.167460               0.155555  "
      ]
     },
     "execution_count": 103,
     "metadata": {},
     "output_type": "execute_result"
    }
   ],
   "source": [
    "df_topics_smoothed"
   ]
  },
  {
   "cell_type": "code",
   "execution_count": 109,
   "id": "03c89f27",
   "metadata": {},
   "outputs": [],
   "source": [
    "topics = df_topics_smoothed.columns.values"
   ]
  },
  {
   "cell_type": "code",
   "execution_count": 116,
   "id": "309d252d",
   "metadata": {},
   "outputs": [
    {
     "data": {
      "application/vnd.plotly.v1+json": {
       "config": {
        "plotlyServerURL": "https://plot.ly"
       },
       "data": [
        {
         "hoverinfo": "text+name",
         "line": {
          "shape": "spline"
         },
         "name": "Violence/Gangster",
         "text": [
          "tweak line smoothness<br>with 'smoothing' in line object"
         ],
         "type": "scatter",
         "x": [
          1999,
          2001,
          2002,
          2003,
          2004,
          2007,
          2008,
          2012,
          2014,
          2018,
          2019,
          2020,
          2021
         ],
         "y": [
          0.15084356593790557,
          0.1534890685834082,
          0.15659465864552,
          0.15666779013593976,
          0.1566677901359398,
          0.16029097854173688,
          0.1585144927536232,
          0.15851449275362317,
          0.15843023255813957,
          0.15743816906607602,
          0.15837978865176341
         ]
        },
        {
         "hoverinfo": "text+name",
         "line": {
          "shape": "spline"
         },
         "name": "Self-Evolution/Struggle",
         "text": [
          "tweak line smoothness<br>with 'smoothing' in line object"
         ],
         "type": "scatter",
         "x": [
          1999,
          2001,
          2002,
          2003,
          2004,
          2007,
          2008,
          2012,
          2014,
          2018,
          2019,
          2020,
          2021
         ],
         "y": [
          0.1735050414295697,
          0.1708595387840671,
          0.17327499772126517,
          0.17166610493203013,
          0.17629573456165973,
          0.17629573456165973,
          0.16676731078904994,
          0.1621376811594203,
          0.16230620155038758,
          0.173218899963086,
          0.17133566079171125
         ]
        },
        {
         "hoverinfo": "text+name",
         "line": {
          "shape": "spline"
         },
         "name": "Politics/Revolution",
         "text": [
          "tweak line smoothness<br>with 'smoothing' in line object"
         ],
         "type": "scatter",
         "x": [
          1999,
          2001,
          2002,
          2003,
          2004,
          2007,
          2008,
          2012,
          2014,
          2018,
          2019,
          2020,
          2021
         ],
         "y": [
          0.17250673854447438,
          0.1725067385444744,
          0.16336250113936743,
          0.17191888551848108,
          0.17654851514811068,
          0.1801717035539078,
          0.18065619967793878,
          0.17602657004830916,
          0.17231912144702843,
          0.15743816906607602,
          0.1612046474088256
         ]
        },
        {
         "hoverinfo": "text+name",
         "line": {
          "shape": "spline"
         },
         "name": "Money",
         "text": [
          "tweak line smoothness<br>with 'smoothing' in line object"
         ],
         "type": "scatter",
         "x": [
          1999,
          2001,
          2002,
          2003,
          2004,
          2007,
          2008,
          2012,
          2014,
          2018,
          2019,
          2020,
          2021
         ],
         "y": [
          0.18144154936607768,
          0.178796046720575,
          0.17327499772126517,
          0.16779013593978206,
          0.16316050631015241,
          0.15953731790435532,
          0.16777375201288244,
          0.1724033816425121,
          0.17231912144702843,
          0.16934293097083794,
          0.16745969179946318
         ]
        },
        {
         "hoverinfo": "text+name",
         "line": {
          "shape": "spline"
         },
         "name": "Religion/Spirituality",
         "text": [
          "tweak line smoothness<br>with 'smoothing' in line object"
         ],
         "type": "scatter",
         "x": [
          1999,
          2001,
          2002,
          2003,
          2004,
          2007,
          2008,
          2012,
          2014,
          2018,
          2019,
          2020,
          2021
         ],
         "y": [
          0.15977837675950882,
          0.15977837675950882,
          0.16650715522741774,
          0.16029097854173688,
          0.15566134891210726,
          0.15203816050631014,
          0.1502616747181965,
          0.15489130434782608,
          0.15843023255813957,
          0.15743816906607602,
          0.1555549298947013
         ]
        }
       ],
       "layout": {
        "template": {
         "data": {
          "bar": [
           {
            "error_x": {
             "color": "#2a3f5f"
            },
            "error_y": {
             "color": "#2a3f5f"
            },
            "marker": {
             "line": {
              "color": "#E5ECF6",
              "width": 0.5
             },
             "pattern": {
              "fillmode": "overlay",
              "size": 10,
              "solidity": 0.2
             }
            },
            "type": "bar"
           }
          ],
          "barpolar": [
           {
            "marker": {
             "line": {
              "color": "#E5ECF6",
              "width": 0.5
             },
             "pattern": {
              "fillmode": "overlay",
              "size": 10,
              "solidity": 0.2
             }
            },
            "type": "barpolar"
           }
          ],
          "carpet": [
           {
            "aaxis": {
             "endlinecolor": "#2a3f5f",
             "gridcolor": "white",
             "linecolor": "white",
             "minorgridcolor": "white",
             "startlinecolor": "#2a3f5f"
            },
            "baxis": {
             "endlinecolor": "#2a3f5f",
             "gridcolor": "white",
             "linecolor": "white",
             "minorgridcolor": "white",
             "startlinecolor": "#2a3f5f"
            },
            "type": "carpet"
           }
          ],
          "choropleth": [
           {
            "colorbar": {
             "outlinewidth": 0,
             "ticks": ""
            },
            "type": "choropleth"
           }
          ],
          "contour": [
           {
            "colorbar": {
             "outlinewidth": 0,
             "ticks": ""
            },
            "colorscale": [
             [
              0,
              "#0d0887"
             ],
             [
              0.1111111111111111,
              "#46039f"
             ],
             [
              0.2222222222222222,
              "#7201a8"
             ],
             [
              0.3333333333333333,
              "#9c179e"
             ],
             [
              0.4444444444444444,
              "#bd3786"
             ],
             [
              0.5555555555555556,
              "#d8576b"
             ],
             [
              0.6666666666666666,
              "#ed7953"
             ],
             [
              0.7777777777777778,
              "#fb9f3a"
             ],
             [
              0.8888888888888888,
              "#fdca26"
             ],
             [
              1,
              "#f0f921"
             ]
            ],
            "type": "contour"
           }
          ],
          "contourcarpet": [
           {
            "colorbar": {
             "outlinewidth": 0,
             "ticks": ""
            },
            "type": "contourcarpet"
           }
          ],
          "heatmap": [
           {
            "colorbar": {
             "outlinewidth": 0,
             "ticks": ""
            },
            "colorscale": [
             [
              0,
              "#0d0887"
             ],
             [
              0.1111111111111111,
              "#46039f"
             ],
             [
              0.2222222222222222,
              "#7201a8"
             ],
             [
              0.3333333333333333,
              "#9c179e"
             ],
             [
              0.4444444444444444,
              "#bd3786"
             ],
             [
              0.5555555555555556,
              "#d8576b"
             ],
             [
              0.6666666666666666,
              "#ed7953"
             ],
             [
              0.7777777777777778,
              "#fb9f3a"
             ],
             [
              0.8888888888888888,
              "#fdca26"
             ],
             [
              1,
              "#f0f921"
             ]
            ],
            "type": "heatmap"
           }
          ],
          "heatmapgl": [
           {
            "colorbar": {
             "outlinewidth": 0,
             "ticks": ""
            },
            "colorscale": [
             [
              0,
              "#0d0887"
             ],
             [
              0.1111111111111111,
              "#46039f"
             ],
             [
              0.2222222222222222,
              "#7201a8"
             ],
             [
              0.3333333333333333,
              "#9c179e"
             ],
             [
              0.4444444444444444,
              "#bd3786"
             ],
             [
              0.5555555555555556,
              "#d8576b"
             ],
             [
              0.6666666666666666,
              "#ed7953"
             ],
             [
              0.7777777777777778,
              "#fb9f3a"
             ],
             [
              0.8888888888888888,
              "#fdca26"
             ],
             [
              1,
              "#f0f921"
             ]
            ],
            "type": "heatmapgl"
           }
          ],
          "histogram": [
           {
            "marker": {
             "pattern": {
              "fillmode": "overlay",
              "size": 10,
              "solidity": 0.2
             }
            },
            "type": "histogram"
           }
          ],
          "histogram2d": [
           {
            "colorbar": {
             "outlinewidth": 0,
             "ticks": ""
            },
            "colorscale": [
             [
              0,
              "#0d0887"
             ],
             [
              0.1111111111111111,
              "#46039f"
             ],
             [
              0.2222222222222222,
              "#7201a8"
             ],
             [
              0.3333333333333333,
              "#9c179e"
             ],
             [
              0.4444444444444444,
              "#bd3786"
             ],
             [
              0.5555555555555556,
              "#d8576b"
             ],
             [
              0.6666666666666666,
              "#ed7953"
             ],
             [
              0.7777777777777778,
              "#fb9f3a"
             ],
             [
              0.8888888888888888,
              "#fdca26"
             ],
             [
              1,
              "#f0f921"
             ]
            ],
            "type": "histogram2d"
           }
          ],
          "histogram2dcontour": [
           {
            "colorbar": {
             "outlinewidth": 0,
             "ticks": ""
            },
            "colorscale": [
             [
              0,
              "#0d0887"
             ],
             [
              0.1111111111111111,
              "#46039f"
             ],
             [
              0.2222222222222222,
              "#7201a8"
             ],
             [
              0.3333333333333333,
              "#9c179e"
             ],
             [
              0.4444444444444444,
              "#bd3786"
             ],
             [
              0.5555555555555556,
              "#d8576b"
             ],
             [
              0.6666666666666666,
              "#ed7953"
             ],
             [
              0.7777777777777778,
              "#fb9f3a"
             ],
             [
              0.8888888888888888,
              "#fdca26"
             ],
             [
              1,
              "#f0f921"
             ]
            ],
            "type": "histogram2dcontour"
           }
          ],
          "mesh3d": [
           {
            "colorbar": {
             "outlinewidth": 0,
             "ticks": ""
            },
            "type": "mesh3d"
           }
          ],
          "parcoords": [
           {
            "line": {
             "colorbar": {
              "outlinewidth": 0,
              "ticks": ""
             }
            },
            "type": "parcoords"
           }
          ],
          "pie": [
           {
            "automargin": true,
            "type": "pie"
           }
          ],
          "scatter": [
           {
            "marker": {
             "colorbar": {
              "outlinewidth": 0,
              "ticks": ""
             }
            },
            "type": "scatter"
           }
          ],
          "scatter3d": [
           {
            "line": {
             "colorbar": {
              "outlinewidth": 0,
              "ticks": ""
             }
            },
            "marker": {
             "colorbar": {
              "outlinewidth": 0,
              "ticks": ""
             }
            },
            "type": "scatter3d"
           }
          ],
          "scattercarpet": [
           {
            "marker": {
             "colorbar": {
              "outlinewidth": 0,
              "ticks": ""
             }
            },
            "type": "scattercarpet"
           }
          ],
          "scattergeo": [
           {
            "marker": {
             "colorbar": {
              "outlinewidth": 0,
              "ticks": ""
             }
            },
            "type": "scattergeo"
           }
          ],
          "scattergl": [
           {
            "marker": {
             "colorbar": {
              "outlinewidth": 0,
              "ticks": ""
             }
            },
            "type": "scattergl"
           }
          ],
          "scattermapbox": [
           {
            "marker": {
             "colorbar": {
              "outlinewidth": 0,
              "ticks": ""
             }
            },
            "type": "scattermapbox"
           }
          ],
          "scatterpolar": [
           {
            "marker": {
             "colorbar": {
              "outlinewidth": 0,
              "ticks": ""
             }
            },
            "type": "scatterpolar"
           }
          ],
          "scatterpolargl": [
           {
            "marker": {
             "colorbar": {
              "outlinewidth": 0,
              "ticks": ""
             }
            },
            "type": "scatterpolargl"
           }
          ],
          "scatterternary": [
           {
            "marker": {
             "colorbar": {
              "outlinewidth": 0,
              "ticks": ""
             }
            },
            "type": "scatterternary"
           }
          ],
          "surface": [
           {
            "colorbar": {
             "outlinewidth": 0,
             "ticks": ""
            },
            "colorscale": [
             [
              0,
              "#0d0887"
             ],
             [
              0.1111111111111111,
              "#46039f"
             ],
             [
              0.2222222222222222,
              "#7201a8"
             ],
             [
              0.3333333333333333,
              "#9c179e"
             ],
             [
              0.4444444444444444,
              "#bd3786"
             ],
             [
              0.5555555555555556,
              "#d8576b"
             ],
             [
              0.6666666666666666,
              "#ed7953"
             ],
             [
              0.7777777777777778,
              "#fb9f3a"
             ],
             [
              0.8888888888888888,
              "#fdca26"
             ],
             [
              1,
              "#f0f921"
             ]
            ],
            "type": "surface"
           }
          ],
          "table": [
           {
            "cells": {
             "fill": {
              "color": "#EBF0F8"
             },
             "line": {
              "color": "white"
             }
            },
            "header": {
             "fill": {
              "color": "#C8D4E3"
             },
             "line": {
              "color": "white"
             }
            },
            "type": "table"
           }
          ]
         },
         "layout": {
          "annotationdefaults": {
           "arrowcolor": "#2a3f5f",
           "arrowhead": 0,
           "arrowwidth": 1
          },
          "autotypenumbers": "strict",
          "coloraxis": {
           "colorbar": {
            "outlinewidth": 0,
            "ticks": ""
           }
          },
          "colorscale": {
           "diverging": [
            [
             0,
             "#8e0152"
            ],
            [
             0.1,
             "#c51b7d"
            ],
            [
             0.2,
             "#de77ae"
            ],
            [
             0.3,
             "#f1b6da"
            ],
            [
             0.4,
             "#fde0ef"
            ],
            [
             0.5,
             "#f7f7f7"
            ],
            [
             0.6,
             "#e6f5d0"
            ],
            [
             0.7,
             "#b8e186"
            ],
            [
             0.8,
             "#7fbc41"
            ],
            [
             0.9,
             "#4d9221"
            ],
            [
             1,
             "#276419"
            ]
           ],
           "sequential": [
            [
             0,
             "#0d0887"
            ],
            [
             0.1111111111111111,
             "#46039f"
            ],
            [
             0.2222222222222222,
             "#7201a8"
            ],
            [
             0.3333333333333333,
             "#9c179e"
            ],
            [
             0.4444444444444444,
             "#bd3786"
            ],
            [
             0.5555555555555556,
             "#d8576b"
            ],
            [
             0.6666666666666666,
             "#ed7953"
            ],
            [
             0.7777777777777778,
             "#fb9f3a"
            ],
            [
             0.8888888888888888,
             "#fdca26"
            ],
            [
             1,
             "#f0f921"
            ]
           ],
           "sequentialminus": [
            [
             0,
             "#0d0887"
            ],
            [
             0.1111111111111111,
             "#46039f"
            ],
            [
             0.2222222222222222,
             "#7201a8"
            ],
            [
             0.3333333333333333,
             "#9c179e"
            ],
            [
             0.4444444444444444,
             "#bd3786"
            ],
            [
             0.5555555555555556,
             "#d8576b"
            ],
            [
             0.6666666666666666,
             "#ed7953"
            ],
            [
             0.7777777777777778,
             "#fb9f3a"
            ],
            [
             0.8888888888888888,
             "#fdca26"
            ],
            [
             1,
             "#f0f921"
            ]
           ]
          },
          "colorway": [
           "#636efa",
           "#EF553B",
           "#00cc96",
           "#ab63fa",
           "#FFA15A",
           "#19d3f3",
           "#FF6692",
           "#B6E880",
           "#FF97FF",
           "#FECB52"
          ],
          "font": {
           "color": "#2a3f5f"
          },
          "geo": {
           "bgcolor": "white",
           "lakecolor": "white",
           "landcolor": "#E5ECF6",
           "showlakes": true,
           "showland": true,
           "subunitcolor": "white"
          },
          "hoverlabel": {
           "align": "left"
          },
          "hovermode": "closest",
          "mapbox": {
           "style": "light"
          },
          "paper_bgcolor": "white",
          "plot_bgcolor": "#E5ECF6",
          "polar": {
           "angularaxis": {
            "gridcolor": "white",
            "linecolor": "white",
            "ticks": ""
           },
           "bgcolor": "#E5ECF6",
           "radialaxis": {
            "gridcolor": "white",
            "linecolor": "white",
            "ticks": ""
           }
          },
          "scene": {
           "xaxis": {
            "backgroundcolor": "#E5ECF6",
            "gridcolor": "white",
            "gridwidth": 2,
            "linecolor": "white",
            "showbackground": true,
            "ticks": "",
            "zerolinecolor": "white"
           },
           "yaxis": {
            "backgroundcolor": "#E5ECF6",
            "gridcolor": "white",
            "gridwidth": 2,
            "linecolor": "white",
            "showbackground": true,
            "ticks": "",
            "zerolinecolor": "white"
           },
           "zaxis": {
            "backgroundcolor": "#E5ECF6",
            "gridcolor": "white",
            "gridwidth": 2,
            "linecolor": "white",
            "showbackground": true,
            "ticks": "",
            "zerolinecolor": "white"
           }
          },
          "shapedefaults": {
           "line": {
            "color": "#2a3f5f"
           }
          },
          "ternary": {
           "aaxis": {
            "gridcolor": "white",
            "linecolor": "white",
            "ticks": ""
           },
           "baxis": {
            "gridcolor": "white",
            "linecolor": "white",
            "ticks": ""
           },
           "bgcolor": "#E5ECF6",
           "caxis": {
            "gridcolor": "white",
            "linecolor": "white",
            "ticks": ""
           }
          },
          "title": {
           "x": 0.05
          },
          "xaxis": {
           "automargin": true,
           "gridcolor": "white",
           "linecolor": "white",
           "ticks": "",
           "title": {
            "standoff": 15
           },
           "zerolinecolor": "white",
           "zerolinewidth": 2
          },
          "yaxis": {
           "automargin": true,
           "gridcolor": "white",
           "linecolor": "white",
           "ticks": "",
           "title": {
            "standoff": 15
           },
           "zerolinecolor": "white",
           "zerolinewidth": 2
          }
         }
        },
        "title": {
         "text": "Topics Prevalence through the years (Nas)"
        },
        "xaxis": {
         "title": {
          "text": "Year"
         }
        },
        "yaxis": {
         "range": [
          0.1,
          0.2
         ],
         "title": {
          "text": "Relative Freq."
         }
        }
       }
      },
      "text/html": [
       "<div>                            <div id=\"b9da3924-7bd2-4cf8-8f31-9180eb04e718\" class=\"plotly-graph-div\" style=\"height:525px; width:100%;\"></div>            <script type=\"text/javascript\">                require([\"plotly\"], function(Plotly) {                    window.PLOTLYENV=window.PLOTLYENV || {};                                    if (document.getElementById(\"b9da3924-7bd2-4cf8-8f31-9180eb04e718\")) {                    Plotly.newPlot(                        \"b9da3924-7bd2-4cf8-8f31-9180eb04e718\",                        [{\"hoverinfo\":\"text+name\",\"line\":{\"shape\":\"spline\"},\"name\":\"Violence/Gangster\",\"text\":[\"tweak line smoothness<br>with 'smoothing' in line object\"],\"x\":[1999,2001,2002,2003,2004,2007,2008,2012,2014,2018,2019,2020,2021],\"y\":[0.15084356593790557,0.1534890685834082,0.15659465864552,0.15666779013593976,0.1566677901359398,0.16029097854173688,0.1585144927536232,0.15851449275362317,0.15843023255813957,0.15743816906607602,0.15837978865176341],\"type\":\"scatter\"},{\"hoverinfo\":\"text+name\",\"line\":{\"shape\":\"spline\"},\"name\":\"Self-Evolution/Struggle\",\"text\":[\"tweak line smoothness<br>with 'smoothing' in line object\"],\"x\":[1999,2001,2002,2003,2004,2007,2008,2012,2014,2018,2019,2020,2021],\"y\":[0.1735050414295697,0.1708595387840671,0.17327499772126517,0.17166610493203013,0.17629573456165973,0.17629573456165973,0.16676731078904994,0.1621376811594203,0.16230620155038758,0.173218899963086,0.17133566079171125],\"type\":\"scatter\"},{\"hoverinfo\":\"text+name\",\"line\":{\"shape\":\"spline\"},\"name\":\"Politics/Revolution\",\"text\":[\"tweak line smoothness<br>with 'smoothing' in line object\"],\"x\":[1999,2001,2002,2003,2004,2007,2008,2012,2014,2018,2019,2020,2021],\"y\":[0.17250673854447438,0.1725067385444744,0.16336250113936743,0.17191888551848108,0.17654851514811068,0.1801717035539078,0.18065619967793878,0.17602657004830916,0.17231912144702843,0.15743816906607602,0.1612046474088256],\"type\":\"scatter\"},{\"hoverinfo\":\"text+name\",\"line\":{\"shape\":\"spline\"},\"name\":\"Money\",\"text\":[\"tweak line smoothness<br>with 'smoothing' in line object\"],\"x\":[1999,2001,2002,2003,2004,2007,2008,2012,2014,2018,2019,2020,2021],\"y\":[0.18144154936607768,0.178796046720575,0.17327499772126517,0.16779013593978206,0.16316050631015241,0.15953731790435532,0.16777375201288244,0.1724033816425121,0.17231912144702843,0.16934293097083794,0.16745969179946318],\"type\":\"scatter\"},{\"hoverinfo\":\"text+name\",\"line\":{\"shape\":\"spline\"},\"name\":\"Religion/Spirituality\",\"text\":[\"tweak line smoothness<br>with 'smoothing' in line object\"],\"x\":[1999,2001,2002,2003,2004,2007,2008,2012,2014,2018,2019,2020,2021],\"y\":[0.15977837675950882,0.15977837675950882,0.16650715522741774,0.16029097854173688,0.15566134891210726,0.15203816050631014,0.1502616747181965,0.15489130434782608,0.15843023255813957,0.15743816906607602,0.1555549298947013],\"type\":\"scatter\"}],                        {\"template\":{\"data\":{\"bar\":[{\"error_x\":{\"color\":\"#2a3f5f\"},\"error_y\":{\"color\":\"#2a3f5f\"},\"marker\":{\"line\":{\"color\":\"#E5ECF6\",\"width\":0.5},\"pattern\":{\"fillmode\":\"overlay\",\"size\":10,\"solidity\":0.2}},\"type\":\"bar\"}],\"barpolar\":[{\"marker\":{\"line\":{\"color\":\"#E5ECF6\",\"width\":0.5},\"pattern\":{\"fillmode\":\"overlay\",\"size\":10,\"solidity\":0.2}},\"type\":\"barpolar\"}],\"carpet\":[{\"aaxis\":{\"endlinecolor\":\"#2a3f5f\",\"gridcolor\":\"white\",\"linecolor\":\"white\",\"minorgridcolor\":\"white\",\"startlinecolor\":\"#2a3f5f\"},\"baxis\":{\"endlinecolor\":\"#2a3f5f\",\"gridcolor\":\"white\",\"linecolor\":\"white\",\"minorgridcolor\":\"white\",\"startlinecolor\":\"#2a3f5f\"},\"type\":\"carpet\"}],\"choropleth\":[{\"colorbar\":{\"outlinewidth\":0,\"ticks\":\"\"},\"type\":\"choropleth\"}],\"contour\":[{\"colorbar\":{\"outlinewidth\":0,\"ticks\":\"\"},\"colorscale\":[[0.0,\"#0d0887\"],[0.1111111111111111,\"#46039f\"],[0.2222222222222222,\"#7201a8\"],[0.3333333333333333,\"#9c179e\"],[0.4444444444444444,\"#bd3786\"],[0.5555555555555556,\"#d8576b\"],[0.6666666666666666,\"#ed7953\"],[0.7777777777777778,\"#fb9f3a\"],[0.8888888888888888,\"#fdca26\"],[1.0,\"#f0f921\"]],\"type\":\"contour\"}],\"contourcarpet\":[{\"colorbar\":{\"outlinewidth\":0,\"ticks\":\"\"},\"type\":\"contourcarpet\"}],\"heatmap\":[{\"colorbar\":{\"outlinewidth\":0,\"ticks\":\"\"},\"colorscale\":[[0.0,\"#0d0887\"],[0.1111111111111111,\"#46039f\"],[0.2222222222222222,\"#7201a8\"],[0.3333333333333333,\"#9c179e\"],[0.4444444444444444,\"#bd3786\"],[0.5555555555555556,\"#d8576b\"],[0.6666666666666666,\"#ed7953\"],[0.7777777777777778,\"#fb9f3a\"],[0.8888888888888888,\"#fdca26\"],[1.0,\"#f0f921\"]],\"type\":\"heatmap\"}],\"heatmapgl\":[{\"colorbar\":{\"outlinewidth\":0,\"ticks\":\"\"},\"colorscale\":[[0.0,\"#0d0887\"],[0.1111111111111111,\"#46039f\"],[0.2222222222222222,\"#7201a8\"],[0.3333333333333333,\"#9c179e\"],[0.4444444444444444,\"#bd3786\"],[0.5555555555555556,\"#d8576b\"],[0.6666666666666666,\"#ed7953\"],[0.7777777777777778,\"#fb9f3a\"],[0.8888888888888888,\"#fdca26\"],[1.0,\"#f0f921\"]],\"type\":\"heatmapgl\"}],\"histogram\":[{\"marker\":{\"pattern\":{\"fillmode\":\"overlay\",\"size\":10,\"solidity\":0.2}},\"type\":\"histogram\"}],\"histogram2d\":[{\"colorbar\":{\"outlinewidth\":0,\"ticks\":\"\"},\"colorscale\":[[0.0,\"#0d0887\"],[0.1111111111111111,\"#46039f\"],[0.2222222222222222,\"#7201a8\"],[0.3333333333333333,\"#9c179e\"],[0.4444444444444444,\"#bd3786\"],[0.5555555555555556,\"#d8576b\"],[0.6666666666666666,\"#ed7953\"],[0.7777777777777778,\"#fb9f3a\"],[0.8888888888888888,\"#fdca26\"],[1.0,\"#f0f921\"]],\"type\":\"histogram2d\"}],\"histogram2dcontour\":[{\"colorbar\":{\"outlinewidth\":0,\"ticks\":\"\"},\"colorscale\":[[0.0,\"#0d0887\"],[0.1111111111111111,\"#46039f\"],[0.2222222222222222,\"#7201a8\"],[0.3333333333333333,\"#9c179e\"],[0.4444444444444444,\"#bd3786\"],[0.5555555555555556,\"#d8576b\"],[0.6666666666666666,\"#ed7953\"],[0.7777777777777778,\"#fb9f3a\"],[0.8888888888888888,\"#fdca26\"],[1.0,\"#f0f921\"]],\"type\":\"histogram2dcontour\"}],\"mesh3d\":[{\"colorbar\":{\"outlinewidth\":0,\"ticks\":\"\"},\"type\":\"mesh3d\"}],\"parcoords\":[{\"line\":{\"colorbar\":{\"outlinewidth\":0,\"ticks\":\"\"}},\"type\":\"parcoords\"}],\"pie\":[{\"automargin\":true,\"type\":\"pie\"}],\"scatter\":[{\"marker\":{\"colorbar\":{\"outlinewidth\":0,\"ticks\":\"\"}},\"type\":\"scatter\"}],\"scatter3d\":[{\"line\":{\"colorbar\":{\"outlinewidth\":0,\"ticks\":\"\"}},\"marker\":{\"colorbar\":{\"outlinewidth\":0,\"ticks\":\"\"}},\"type\":\"scatter3d\"}],\"scattercarpet\":[{\"marker\":{\"colorbar\":{\"outlinewidth\":0,\"ticks\":\"\"}},\"type\":\"scattercarpet\"}],\"scattergeo\":[{\"marker\":{\"colorbar\":{\"outlinewidth\":0,\"ticks\":\"\"}},\"type\":\"scattergeo\"}],\"scattergl\":[{\"marker\":{\"colorbar\":{\"outlinewidth\":0,\"ticks\":\"\"}},\"type\":\"scattergl\"}],\"scattermapbox\":[{\"marker\":{\"colorbar\":{\"outlinewidth\":0,\"ticks\":\"\"}},\"type\":\"scattermapbox\"}],\"scatterpolar\":[{\"marker\":{\"colorbar\":{\"outlinewidth\":0,\"ticks\":\"\"}},\"type\":\"scatterpolar\"}],\"scatterpolargl\":[{\"marker\":{\"colorbar\":{\"outlinewidth\":0,\"ticks\":\"\"}},\"type\":\"scatterpolargl\"}],\"scatterternary\":[{\"marker\":{\"colorbar\":{\"outlinewidth\":0,\"ticks\":\"\"}},\"type\":\"scatterternary\"}],\"surface\":[{\"colorbar\":{\"outlinewidth\":0,\"ticks\":\"\"},\"colorscale\":[[0.0,\"#0d0887\"],[0.1111111111111111,\"#46039f\"],[0.2222222222222222,\"#7201a8\"],[0.3333333333333333,\"#9c179e\"],[0.4444444444444444,\"#bd3786\"],[0.5555555555555556,\"#d8576b\"],[0.6666666666666666,\"#ed7953\"],[0.7777777777777778,\"#fb9f3a\"],[0.8888888888888888,\"#fdca26\"],[1.0,\"#f0f921\"]],\"type\":\"surface\"}],\"table\":[{\"cells\":{\"fill\":{\"color\":\"#EBF0F8\"},\"line\":{\"color\":\"white\"}},\"header\":{\"fill\":{\"color\":\"#C8D4E3\"},\"line\":{\"color\":\"white\"}},\"type\":\"table\"}]},\"layout\":{\"annotationdefaults\":{\"arrowcolor\":\"#2a3f5f\",\"arrowhead\":0,\"arrowwidth\":1},\"autotypenumbers\":\"strict\",\"coloraxis\":{\"colorbar\":{\"outlinewidth\":0,\"ticks\":\"\"}},\"colorscale\":{\"diverging\":[[0,\"#8e0152\"],[0.1,\"#c51b7d\"],[0.2,\"#de77ae\"],[0.3,\"#f1b6da\"],[0.4,\"#fde0ef\"],[0.5,\"#f7f7f7\"],[0.6,\"#e6f5d0\"],[0.7,\"#b8e186\"],[0.8,\"#7fbc41\"],[0.9,\"#4d9221\"],[1,\"#276419\"]],\"sequential\":[[0.0,\"#0d0887\"],[0.1111111111111111,\"#46039f\"],[0.2222222222222222,\"#7201a8\"],[0.3333333333333333,\"#9c179e\"],[0.4444444444444444,\"#bd3786\"],[0.5555555555555556,\"#d8576b\"],[0.6666666666666666,\"#ed7953\"],[0.7777777777777778,\"#fb9f3a\"],[0.8888888888888888,\"#fdca26\"],[1.0,\"#f0f921\"]],\"sequentialminus\":[[0.0,\"#0d0887\"],[0.1111111111111111,\"#46039f\"],[0.2222222222222222,\"#7201a8\"],[0.3333333333333333,\"#9c179e\"],[0.4444444444444444,\"#bd3786\"],[0.5555555555555556,\"#d8576b\"],[0.6666666666666666,\"#ed7953\"],[0.7777777777777778,\"#fb9f3a\"],[0.8888888888888888,\"#fdca26\"],[1.0,\"#f0f921\"]]},\"colorway\":[\"#636efa\",\"#EF553B\",\"#00cc96\",\"#ab63fa\",\"#FFA15A\",\"#19d3f3\",\"#FF6692\",\"#B6E880\",\"#FF97FF\",\"#FECB52\"],\"font\":{\"color\":\"#2a3f5f\"},\"geo\":{\"bgcolor\":\"white\",\"lakecolor\":\"white\",\"landcolor\":\"#E5ECF6\",\"showlakes\":true,\"showland\":true,\"subunitcolor\":\"white\"},\"hoverlabel\":{\"align\":\"left\"},\"hovermode\":\"closest\",\"mapbox\":{\"style\":\"light\"},\"paper_bgcolor\":\"white\",\"plot_bgcolor\":\"#E5ECF6\",\"polar\":{\"angularaxis\":{\"gridcolor\":\"white\",\"linecolor\":\"white\",\"ticks\":\"\"},\"bgcolor\":\"#E5ECF6\",\"radialaxis\":{\"gridcolor\":\"white\",\"linecolor\":\"white\",\"ticks\":\"\"}},\"scene\":{\"xaxis\":{\"backgroundcolor\":\"#E5ECF6\",\"gridcolor\":\"white\",\"gridwidth\":2,\"linecolor\":\"white\",\"showbackground\":true,\"ticks\":\"\",\"zerolinecolor\":\"white\"},\"yaxis\":{\"backgroundcolor\":\"#E5ECF6\",\"gridcolor\":\"white\",\"gridwidth\":2,\"linecolor\":\"white\",\"showbackground\":true,\"ticks\":\"\",\"zerolinecolor\":\"white\"},\"zaxis\":{\"backgroundcolor\":\"#E5ECF6\",\"gridcolor\":\"white\",\"gridwidth\":2,\"linecolor\":\"white\",\"showbackground\":true,\"ticks\":\"\",\"zerolinecolor\":\"white\"}},\"shapedefaults\":{\"line\":{\"color\":\"#2a3f5f\"}},\"ternary\":{\"aaxis\":{\"gridcolor\":\"white\",\"linecolor\":\"white\",\"ticks\":\"\"},\"baxis\":{\"gridcolor\":\"white\",\"linecolor\":\"white\",\"ticks\":\"\"},\"bgcolor\":\"#E5ECF6\",\"caxis\":{\"gridcolor\":\"white\",\"linecolor\":\"white\",\"ticks\":\"\"}},\"title\":{\"x\":0.05},\"xaxis\":{\"automargin\":true,\"gridcolor\":\"white\",\"linecolor\":\"white\",\"ticks\":\"\",\"title\":{\"standoff\":15},\"zerolinecolor\":\"white\",\"zerolinewidth\":2},\"yaxis\":{\"automargin\":true,\"gridcolor\":\"white\",\"linecolor\":\"white\",\"ticks\":\"\",\"title\":{\"standoff\":15},\"zerolinecolor\":\"white\",\"zerolinewidth\":2}}},\"yaxis\":{\"range\":[0.1,0.2],\"title\":{\"text\":\"Relative Freq.\"}},\"title\":{\"text\":\"Topics Prevalence through the years (Nas)\"},\"xaxis\":{\"title\":{\"text\":\"Year\"}}},                        {\"responsive\": true}                    ).then(function(){\n",
       "                            \n",
       "var gd = document.getElementById('b9da3924-7bd2-4cf8-8f31-9180eb04e718');\n",
       "var x = new MutationObserver(function (mutations, observer) {{\n",
       "        var display = window.getComputedStyle(gd).display;\n",
       "        if (!display || display === 'none') {{\n",
       "            console.log([gd, 'removed!']);\n",
       "            Plotly.purge(gd);\n",
       "            observer.disconnect();\n",
       "        }}\n",
       "}});\n",
       "\n",
       "// Listen for the removal of the full notebook cells\n",
       "var notebookContainer = gd.closest('#notebook-container');\n",
       "if (notebookContainer) {{\n",
       "    x.observe(notebookContainer, {childList: true});\n",
       "}}\n",
       "\n",
       "// Listen for the clearing of the current output cell\n",
       "var outputEl = gd.closest('.output');\n",
       "if (outputEl) {{\n",
       "    x.observe(outputEl, {childList: true});\n",
       "}}\n",
       "\n",
       "                        })                };                });            </script>        </div>"
      ]
     },
     "metadata": {},
     "output_type": "display_data"
    }
   ],
   "source": [
    "import plotly.graph_objects as go\n",
    "import numpy as np\n",
    "\n",
    "fig = go.Figure()\n",
    "fig.update_layout(yaxis_range=[0.1,0.2])\n",
    "\n",
    "for t in topics:\n",
    "    if t in ['Misc']:\n",
    "        continue\n",
    "    fig.add_trace(go.Scatter(x=df_topics.track_release_year, y=df_topics_smoothed[t], name=t,\n",
    "                    text=[\"tweak line smoothness<br>with 'smoothing' in line object\"],\n",
    "                    hoverinfo='text+name',\n",
    "                    line_shape='spline'))\n",
    "    \n",
    "    \n",
    "fig.update_layout(\n",
    "    title=\"Topics Prevalence through the years (Nas)\",\n",
    "    xaxis_title=\"Year\",\n",
    "    yaxis_title=\"Relative Freq.\")\n",
    "    \n",
    "fig.show()"
   ]
  },
  {
   "cell_type": "code",
   "execution_count": 28,
   "id": "0237963a",
   "metadata": {},
   "outputs": [
    {
     "data": {
      "text/html": [
       "<div>\n",
       "<style scoped>\n",
       "    .dataframe tbody tr th:only-of-type {\n",
       "        vertical-align: middle;\n",
       "    }\n",
       "\n",
       "    .dataframe tbody tr th {\n",
       "        vertical-align: top;\n",
       "    }\n",
       "\n",
       "    .dataframe thead th {\n",
       "        text-align: right;\n",
       "    }\n",
       "</style>\n",
       "<table border=\"1\" class=\"dataframe\">\n",
       "  <thead>\n",
       "    <tr style=\"text-align: right;\">\n",
       "      <th></th>\n",
       "      <th>track_id</th>\n",
       "      <th>album_id</th>\n",
       "      <th>artist_id</th>\n",
       "      <th>duration_ms</th>\n",
       "      <th>flg_explicit</th>\n",
       "      <th>url</th>\n",
       "      <th>track_name</th>\n",
       "      <th>track_popularity</th>\n",
       "      <th>track_type</th>\n",
       "      <th>track_danceability</th>\n",
       "      <th>...</th>\n",
       "      <th>lyrics_clean_stemmed</th>\n",
       "      <th>lyrics_wordlen</th>\n",
       "      <th>track_release_decade</th>\n",
       "      <th>lyrics_clean_split_lemmed</th>\n",
       "      <th>Violence/Gangster</th>\n",
       "      <th>Self-Evolution/Struggle</th>\n",
       "      <th>Politics/Revolution</th>\n",
       "      <th>Misc</th>\n",
       "      <th>Money</th>\n",
       "      <th>Religion/Spirituality</th>\n",
       "    </tr>\n",
       "  </thead>\n",
       "  <tbody>\n",
       "    <tr>\n",
       "      <th>0</th>\n",
       "      <td>7u3GcvpGFbodFKigTg7s2S</td>\n",
       "      <td>0cLzuJG2UDa0axMQkF7JR6</td>\n",
       "      <td>20qISvAhX20dpIbOOzGK3q</td>\n",
       "      <td>312893</td>\n",
       "      <td>True</td>\n",
       "      <td>https://api.spotify.com/v1/tracks/7u3GcvpGFbod...</td>\n",
       "      <td>My Country (feat. Millennium Thug)</td>\n",
       "      <td>33</td>\n",
       "      <td>track</td>\n",
       "      <td>0.881</td>\n",
       "      <td>...</td>\n",
       "      <td>[countri, american, born, american, rais, amer...</td>\n",
       "      <td>405</td>\n",
       "      <td>00</td>\n",
       "      <td>[country, american, born, american, raised, am...</td>\n",
       "      <td>0.000025</td>\n",
       "      <td>0.000025</td>\n",
       "      <td>0.000025</td>\n",
       "      <td>0.000025</td>\n",
       "      <td>0.999877</td>\n",
       "      <td>0.000025</td>\n",
       "    </tr>\n",
       "    <tr>\n",
       "      <th>1</th>\n",
       "      <td>5ZagzwI4jeOHcy0BPQVOvy</td>\n",
       "      <td>7sHrPadM39466NY7DW3s4r</td>\n",
       "      <td>20qISvAhX20dpIbOOzGK3q</td>\n",
       "      <td>243240</td>\n",
       "      <td>True</td>\n",
       "      <td>https://api.spotify.com/v1/tracks/5ZagzwI4jeOH...</td>\n",
       "      <td>Blunt Ashes</td>\n",
       "      <td>32</td>\n",
       "      <td>track</td>\n",
       "      <td>0.777</td>\n",
       "      <td>...</td>\n",
       "      <td>[blunt, ash, wonder, hugh, haley, got, told, g...</td>\n",
       "      <td>275</td>\n",
       "      <td>00</td>\n",
       "      <td>[blunt, ash, wonder, hughes, haley, got, told,...</td>\n",
       "      <td>0.000036</td>\n",
       "      <td>0.000036</td>\n",
       "      <td>0.000036</td>\n",
       "      <td>0.999818</td>\n",
       "      <td>0.000036</td>\n",
       "      <td>0.000036</td>\n",
       "    </tr>\n",
       "    <tr>\n",
       "      <th>2</th>\n",
       "      <td>1UgmACeNYIaoDcRFBaffs8</td>\n",
       "      <td>0jghcWTsQzux5T9sAfZO13</td>\n",
       "      <td>20qISvAhX20dpIbOOzGK3q</td>\n",
       "      <td>206466</td>\n",
       "      <td>True</td>\n",
       "      <td>https://api.spotify.com/v1/tracks/1UgmACeNYIao...</td>\n",
       "      <td>Me &amp; You (Dedicated To Destiny)</td>\n",
       "      <td>23</td>\n",
       "      <td>track</td>\n",
       "      <td>0.690</td>\n",
       "      <td>...</td>\n",
       "      <td>[dedic, destini, like, dedic, one, star, someo...</td>\n",
       "      <td>146</td>\n",
       "      <td>00</td>\n",
       "      <td>[dedicated, destiny, like, dedicate, one, star...</td>\n",
       "      <td>0.000068</td>\n",
       "      <td>0.262133</td>\n",
       "      <td>0.000068</td>\n",
       "      <td>0.737593</td>\n",
       "      <td>0.000068</td>\n",
       "      <td>0.000068</td>\n",
       "    </tr>\n",
       "    <tr>\n",
       "      <th>4</th>\n",
       "      <td>6w9lmWBgqzPQHNQo5KaORN</td>\n",
       "      <td>66EwBbt2kPgugo8Wz0SKAw</td>\n",
       "      <td>20qISvAhX20dpIbOOzGK3q</td>\n",
       "      <td>201560</td>\n",
       "      <td>True</td>\n",
       "      <td>https://api.spotify.com/v1/tracks/6w9lmWBgqzPQ...</td>\n",
       "      <td>Bonjour</td>\n",
       "      <td>43</td>\n",
       "      <td>track</td>\n",
       "      <td>0.647</td>\n",
       "      <td>...</td>\n",
       "      <td>[matur, sure, spoil, hit, south, franc, tour, ...</td>\n",
       "      <td>133</td>\n",
       "      <td>10</td>\n",
       "      <td>[mature, sure, spoiled, hit, south, france, to...</td>\n",
       "      <td>0.000075</td>\n",
       "      <td>0.999624</td>\n",
       "      <td>0.000075</td>\n",
       "      <td>0.000075</td>\n",
       "      <td>0.000075</td>\n",
       "      <td>0.000075</td>\n",
       "    </tr>\n",
       "    <tr>\n",
       "      <th>5</th>\n",
       "      <td>1rSS6Y3LWd6c7m2DA7c9Um</td>\n",
       "      <td>4UhEjfIRx4tE1XRY21vwNa</td>\n",
       "      <td>20qISvAhX20dpIbOOzGK3q</td>\n",
       "      <td>240600</td>\n",
       "      <td>True</td>\n",
       "      <td>https://api.spotify.com/v1/tracks/1rSS6Y3LWd6c...</td>\n",
       "      <td>Ghetto Prisoners</td>\n",
       "      <td>35</td>\n",
       "      <td>track</td>\n",
       "      <td>0.586</td>\n",
       "      <td>...</td>\n",
       "      <td>[ghetto, regul, nigga, nigga, live, live, get,...</td>\n",
       "      <td>305</td>\n",
       "      <td>90</td>\n",
       "      <td>[ghetto, regulate, nigga, nigga, live, live, g...</td>\n",
       "      <td>0.000033</td>\n",
       "      <td>0.999836</td>\n",
       "      <td>0.000033</td>\n",
       "      <td>0.000033</td>\n",
       "      <td>0.000033</td>\n",
       "      <td>0.000033</td>\n",
       "    </tr>\n",
       "    <tr>\n",
       "      <th>...</th>\n",
       "      <td>...</td>\n",
       "      <td>...</td>\n",
       "      <td>...</td>\n",
       "      <td>...</td>\n",
       "      <td>...</td>\n",
       "      <td>...</td>\n",
       "      <td>...</td>\n",
       "      <td>...</td>\n",
       "      <td>...</td>\n",
       "      <td>...</td>\n",
       "      <td>...</td>\n",
       "      <td>...</td>\n",
       "      <td>...</td>\n",
       "      <td>...</td>\n",
       "      <td>...</td>\n",
       "      <td>...</td>\n",
       "      <td>...</td>\n",
       "      <td>...</td>\n",
       "      <td>...</td>\n",
       "      <td>...</td>\n",
       "      <td>...</td>\n",
       "    </tr>\n",
       "    <tr>\n",
       "      <th>192</th>\n",
       "      <td>1DmqeedLVDy4uuokX8y3S2</td>\n",
       "      <td>2mU2jRMwrsL1tG97xKoiav</td>\n",
       "      <td>20qISvAhX20dpIbOOzGK3q</td>\n",
       "      <td>169626</td>\n",
       "      <td>True</td>\n",
       "      <td>https://api.spotify.com/v1/tracks/1DmqeedLVDy4...</td>\n",
       "      <td>Blaze a 50</td>\n",
       "      <td>35</td>\n",
       "      <td>track</td>\n",
       "      <td>0.716</td>\n",
       "      <td>...</td>\n",
       "      <td>[blaze, blaze, sit, back, drop, top, azur, cou...</td>\n",
       "      <td>245</td>\n",
       "      <td>00</td>\n",
       "      <td>[blaze, blaze, sit, back, drop, top, azure, co...</td>\n",
       "      <td>0.000041</td>\n",
       "      <td>0.287811</td>\n",
       "      <td>0.000041</td>\n",
       "      <td>0.634054</td>\n",
       "      <td>0.078013</td>\n",
       "      <td>0.000041</td>\n",
       "    </tr>\n",
       "    <tr>\n",
       "      <th>193</th>\n",
       "      <td>3SwJ0db9f77wEJ1QUnRs23</td>\n",
       "      <td>0jghcWTsQzux5T9sAfZO13</td>\n",
       "      <td>20qISvAhX20dpIbOOzGK3q</td>\n",
       "      <td>172946</td>\n",
       "      <td>True</td>\n",
       "      <td>https://api.spotify.com/v1/tracks/3SwJ0db9f77w...</td>\n",
       "      <td>You Know My Style</td>\n",
       "      <td>26</td>\n",
       "      <td>track</td>\n",
       "      <td>0.801</td>\n",
       "      <td>...</td>\n",
       "      <td>[know, style, cup, hen, cup, goos, cup, white,...</td>\n",
       "      <td>241</td>\n",
       "      <td>00</td>\n",
       "      <td>[know, style, cup, hen, cup, goose, cup, white...</td>\n",
       "      <td>0.000042</td>\n",
       "      <td>0.999792</td>\n",
       "      <td>0.000042</td>\n",
       "      <td>0.000042</td>\n",
       "      <td>0.000042</td>\n",
       "      <td>0.000042</td>\n",
       "    </tr>\n",
       "    <tr>\n",
       "      <th>194</th>\n",
       "      <td>6Zo2mEmX2k2LhHTdPSqpZq</td>\n",
       "      <td>5ZQjqg9obFzyGuxGj0mjSi</td>\n",
       "      <td>20qISvAhX20dpIbOOzGK3q</td>\n",
       "      <td>184911</td>\n",
       "      <td>True</td>\n",
       "      <td>https://api.spotify.com/v1/tracks/6Zo2mEmX2k2L...</td>\n",
       "      <td>10 Points</td>\n",
       "      <td>43</td>\n",
       "      <td>track</td>\n",
       "      <td>0.476</td>\n",
       "      <td>...</td>\n",
       "      <td>[america, beauti, gangsta, paradis, black, man...</td>\n",
       "      <td>240</td>\n",
       "      <td>20</td>\n",
       "      <td>[america, beautiful, gangsta, paradise, black,...</td>\n",
       "      <td>0.999792</td>\n",
       "      <td>0.000042</td>\n",
       "      <td>0.000042</td>\n",
       "      <td>0.000042</td>\n",
       "      <td>0.000042</td>\n",
       "      <td>0.000042</td>\n",
       "    </tr>\n",
       "    <tr>\n",
       "      <th>195</th>\n",
       "      <td>51by6tqpmWSqNwkRyJFg2B</td>\n",
       "      <td>4tpG2K3nqcrFNGBikX3dc0</td>\n",
       "      <td>20qISvAhX20dpIbOOzGK3q</td>\n",
       "      <td>259813</td>\n",
       "      <td>True</td>\n",
       "      <td>https://api.spotify.com/v1/tracks/51by6tqpmWSq...</td>\n",
       "      <td>Summer On Smash</td>\n",
       "      <td>25</td>\n",
       "      <td>track</td>\n",
       "      <td>0.591</td>\n",
       "      <td>...</td>\n",
       "      <td>[summer, smash, bad, champagn, babi, let, take...</td>\n",
       "      <td>434</td>\n",
       "      <td>10</td>\n",
       "      <td>[summer, smash, bad, champagne, baby, let, tak...</td>\n",
       "      <td>0.000023</td>\n",
       "      <td>0.000023</td>\n",
       "      <td>0.000023</td>\n",
       "      <td>0.999885</td>\n",
       "      <td>0.000023</td>\n",
       "      <td>0.000023</td>\n",
       "    </tr>\n",
       "    <tr>\n",
       "      <th>1279</th>\n",
       "      <td>3KKsUhjkvDrWzPTfwu8ZXp</td>\n",
       "      <td>0z6z8q6Dl18F4exd4MtW1w</td>\n",
       "      <td>20qISvAhX20dpIbOOzGK3q</td>\n",
       "      <td>283053</td>\n",
       "      <td>False</td>\n",
       "      <td>https://api.spotify.com/v1/tracks/3KKsUhjkvDrW...</td>\n",
       "      <td>If I Ruled The World (imagine that)</td>\n",
       "      <td>0</td>\n",
       "      <td>track</td>\n",
       "      <td>0.883</td>\n",
       "      <td>...</td>\n",
       "      <td>[rule, world, imagin, life, wonder, take, know...</td>\n",
       "      <td>370</td>\n",
       "      <td>00</td>\n",
       "      <td>[ruled, world, imagine, life, wonder, take, kn...</td>\n",
       "      <td>0.000027</td>\n",
       "      <td>0.000027</td>\n",
       "      <td>0.000027</td>\n",
       "      <td>0.000027</td>\n",
       "      <td>0.999865</td>\n",
       "      <td>0.000027</td>\n",
       "    </tr>\n",
       "  </tbody>\n",
       "</table>\n",
       "<p>188 rows × 39 columns</p>\n",
       "</div>"
      ],
      "text/plain": [
       "                    track_id                album_id               artist_id  \\\n",
       "0     7u3GcvpGFbodFKigTg7s2S  0cLzuJG2UDa0axMQkF7JR6  20qISvAhX20dpIbOOzGK3q   \n",
       "1     5ZagzwI4jeOHcy0BPQVOvy  7sHrPadM39466NY7DW3s4r  20qISvAhX20dpIbOOzGK3q   \n",
       "2     1UgmACeNYIaoDcRFBaffs8  0jghcWTsQzux5T9sAfZO13  20qISvAhX20dpIbOOzGK3q   \n",
       "4     6w9lmWBgqzPQHNQo5KaORN  66EwBbt2kPgugo8Wz0SKAw  20qISvAhX20dpIbOOzGK3q   \n",
       "5     1rSS6Y3LWd6c7m2DA7c9Um  4UhEjfIRx4tE1XRY21vwNa  20qISvAhX20dpIbOOzGK3q   \n",
       "...                      ...                     ...                     ...   \n",
       "192   1DmqeedLVDy4uuokX8y3S2  2mU2jRMwrsL1tG97xKoiav  20qISvAhX20dpIbOOzGK3q   \n",
       "193   3SwJ0db9f77wEJ1QUnRs23  0jghcWTsQzux5T9sAfZO13  20qISvAhX20dpIbOOzGK3q   \n",
       "194   6Zo2mEmX2k2LhHTdPSqpZq  5ZQjqg9obFzyGuxGj0mjSi  20qISvAhX20dpIbOOzGK3q   \n",
       "195   51by6tqpmWSqNwkRyJFg2B  4tpG2K3nqcrFNGBikX3dc0  20qISvAhX20dpIbOOzGK3q   \n",
       "1279  3KKsUhjkvDrWzPTfwu8ZXp  0z6z8q6Dl18F4exd4MtW1w  20qISvAhX20dpIbOOzGK3q   \n",
       "\n",
       "      duration_ms  flg_explicit  \\\n",
       "0          312893          True   \n",
       "1          243240          True   \n",
       "2          206466          True   \n",
       "4          201560          True   \n",
       "5          240600          True   \n",
       "...           ...           ...   \n",
       "192        169626          True   \n",
       "193        172946          True   \n",
       "194        184911          True   \n",
       "195        259813          True   \n",
       "1279       283053         False   \n",
       "\n",
       "                                                    url  \\\n",
       "0     https://api.spotify.com/v1/tracks/7u3GcvpGFbod...   \n",
       "1     https://api.spotify.com/v1/tracks/5ZagzwI4jeOH...   \n",
       "2     https://api.spotify.com/v1/tracks/1UgmACeNYIao...   \n",
       "4     https://api.spotify.com/v1/tracks/6w9lmWBgqzPQ...   \n",
       "5     https://api.spotify.com/v1/tracks/1rSS6Y3LWd6c...   \n",
       "...                                                 ...   \n",
       "192   https://api.spotify.com/v1/tracks/1DmqeedLVDy4...   \n",
       "193   https://api.spotify.com/v1/tracks/3SwJ0db9f77w...   \n",
       "194   https://api.spotify.com/v1/tracks/6Zo2mEmX2k2L...   \n",
       "195   https://api.spotify.com/v1/tracks/51by6tqpmWSq...   \n",
       "1279  https://api.spotify.com/v1/tracks/3KKsUhjkvDrW...   \n",
       "\n",
       "                               track_name  track_popularity track_type  \\\n",
       "0      My Country (feat. Millennium Thug)                33      track   \n",
       "1                             Blunt Ashes                32      track   \n",
       "2         Me & You (Dedicated To Destiny)                23      track   \n",
       "4                                 Bonjour                43      track   \n",
       "5                        Ghetto Prisoners                35      track   \n",
       "...                                   ...               ...        ...   \n",
       "192                            Blaze a 50                35      track   \n",
       "193                     You Know My Style                26      track   \n",
       "194                             10 Points                43      track   \n",
       "195                       Summer On Smash                25      track   \n",
       "1279  If I Ruled The World (imagine that)                 0      track   \n",
       "\n",
       "      track_danceability  ...  \\\n",
       "0                  0.881  ...   \n",
       "1                  0.777  ...   \n",
       "2                  0.690  ...   \n",
       "4                  0.647  ...   \n",
       "5                  0.586  ...   \n",
       "...                  ...  ...   \n",
       "192                0.716  ...   \n",
       "193                0.801  ...   \n",
       "194                0.476  ...   \n",
       "195                0.591  ...   \n",
       "1279               0.883  ...   \n",
       "\n",
       "                                   lyrics_clean_stemmed  lyrics_wordlen  \\\n",
       "0     [countri, american, born, american, rais, amer...             405   \n",
       "1     [blunt, ash, wonder, hugh, haley, got, told, g...             275   \n",
       "2     [dedic, destini, like, dedic, one, star, someo...             146   \n",
       "4     [matur, sure, spoil, hit, south, franc, tour, ...             133   \n",
       "5     [ghetto, regul, nigga, nigga, live, live, get,...             305   \n",
       "...                                                 ...             ...   \n",
       "192   [blaze, blaze, sit, back, drop, top, azur, cou...             245   \n",
       "193   [know, style, cup, hen, cup, goos, cup, white,...             241   \n",
       "194   [america, beauti, gangsta, paradis, black, man...             240   \n",
       "195   [summer, smash, bad, champagn, babi, let, take...             434   \n",
       "1279  [rule, world, imagin, life, wonder, take, know...             370   \n",
       "\n",
       "      track_release_decade                          lyrics_clean_split_lemmed  \\\n",
       "0                       00  [country, american, born, american, raised, am...   \n",
       "1                       00  [blunt, ash, wonder, hughes, haley, got, told,...   \n",
       "2                       00  [dedicated, destiny, like, dedicate, one, star...   \n",
       "4                       10  [mature, sure, spoiled, hit, south, france, to...   \n",
       "5                       90  [ghetto, regulate, nigga, nigga, live, live, g...   \n",
       "...                    ...                                                ...   \n",
       "192                     00  [blaze, blaze, sit, back, drop, top, azure, co...   \n",
       "193                     00  [know, style, cup, hen, cup, goose, cup, white...   \n",
       "194                     20  [america, beautiful, gangsta, paradise, black,...   \n",
       "195                     10  [summer, smash, bad, champagne, baby, let, tak...   \n",
       "1279                    00  [ruled, world, imagine, life, wonder, take, kn...   \n",
       "\n",
       "      Violence/Gangster  Self-Evolution/Struggle  Politics/Revolution  \\\n",
       "0              0.000025                 0.000025             0.000025   \n",
       "1              0.000036                 0.000036             0.000036   \n",
       "2              0.000068                 0.262133             0.000068   \n",
       "4              0.000075                 0.999624             0.000075   \n",
       "5              0.000033                 0.999836             0.000033   \n",
       "...                 ...                      ...                  ...   \n",
       "192            0.000041                 0.287811             0.000041   \n",
       "193            0.000042                 0.999792             0.000042   \n",
       "194            0.999792                 0.000042             0.000042   \n",
       "195            0.000023                 0.000023             0.000023   \n",
       "1279           0.000027                 0.000027             0.000027   \n",
       "\n",
       "          Misc     Money  Religion/Spirituality  \n",
       "0     0.000025  0.999877               0.000025  \n",
       "1     0.999818  0.000036               0.000036  \n",
       "2     0.737593  0.000068               0.000068  \n",
       "4     0.000075  0.000075               0.000075  \n",
       "5     0.000033  0.000033               0.000033  \n",
       "...        ...       ...                    ...  \n",
       "192   0.634054  0.078013               0.000041  \n",
       "193   0.000042  0.000042               0.000042  \n",
       "194   0.000042  0.000042               0.000042  \n",
       "195   0.999885  0.000023               0.000023  \n",
       "1279  0.000027  0.999865               0.000027  \n",
       "\n",
       "[188 rows x 39 columns]"
      ]
     },
     "execution_count": 28,
     "metadata": {},
     "output_type": "execute_result"
    }
   ],
   "source": [
    "df"
   ]
  },
  {
   "cell_type": "code",
   "execution_count": 208,
   "id": "05d505aa",
   "metadata": {},
   "outputs": [
    {
     "data": {
      "text/html": [
       "<div>\n",
       "<style scoped>\n",
       "    .dataframe tbody tr th:only-of-type {\n",
       "        vertical-align: middle;\n",
       "    }\n",
       "\n",
       "    .dataframe tbody tr th {\n",
       "        vertical-align: top;\n",
       "    }\n",
       "\n",
       "    .dataframe thead th {\n",
       "        text-align: right;\n",
       "    }\n",
       "</style>\n",
       "<table border=\"1\" class=\"dataframe\">\n",
       "  <thead>\n",
       "    <tr style=\"text-align: right;\">\n",
       "      <th></th>\n",
       "      <th>Violence/Gangsta</th>\n",
       "      <th>Musicality</th>\n",
       "      <th>Struggle/Mortality/Spirituality</th>\n",
       "      <th>Flex</th>\n",
       "      <th>Romance/Sexuality</th>\n",
       "      <th>Feats/Artists</th>\n",
       "      <th>Black Excellence?</th>\n",
       "      <th>Party</th>\n",
       "    </tr>\n",
       "  </thead>\n",
       "  <tbody>\n",
       "    <tr>\n",
       "      <th>0</th>\n",
       "      <td>1</td>\n",
       "      <td>0</td>\n",
       "      <td>1</td>\n",
       "      <td>0</td>\n",
       "      <td>1</td>\n",
       "      <td>0</td>\n",
       "      <td>0</td>\n",
       "      <td>0</td>\n",
       "    </tr>\n",
       "    <tr>\n",
       "      <th>1</th>\n",
       "      <td>0</td>\n",
       "      <td>0</td>\n",
       "      <td>0</td>\n",
       "      <td>0</td>\n",
       "      <td>1</td>\n",
       "      <td>1</td>\n",
       "      <td>0</td>\n",
       "      <td>1</td>\n",
       "    </tr>\n",
       "    <tr>\n",
       "      <th>2</th>\n",
       "      <td>1</td>\n",
       "      <td>0</td>\n",
       "      <td>0</td>\n",
       "      <td>0</td>\n",
       "      <td>1</td>\n",
       "      <td>0</td>\n",
       "      <td>0</td>\n",
       "      <td>1</td>\n",
       "    </tr>\n",
       "    <tr>\n",
       "      <th>3</th>\n",
       "      <td>0</td>\n",
       "      <td>0</td>\n",
       "      <td>1</td>\n",
       "      <td>1</td>\n",
       "      <td>0</td>\n",
       "      <td>0</td>\n",
       "      <td>0</td>\n",
       "      <td>1</td>\n",
       "    </tr>\n",
       "    <tr>\n",
       "      <th>4</th>\n",
       "      <td>1</td>\n",
       "      <td>0</td>\n",
       "      <td>0</td>\n",
       "      <td>1</td>\n",
       "      <td>1</td>\n",
       "      <td>0</td>\n",
       "      <td>0</td>\n",
       "      <td>0</td>\n",
       "    </tr>\n",
       "    <tr>\n",
       "      <th>...</th>\n",
       "      <td>...</td>\n",
       "      <td>...</td>\n",
       "      <td>...</td>\n",
       "      <td>...</td>\n",
       "      <td>...</td>\n",
       "      <td>...</td>\n",
       "      <td>...</td>\n",
       "      <td>...</td>\n",
       "    </tr>\n",
       "    <tr>\n",
       "      <th>6778</th>\n",
       "      <td>0</td>\n",
       "      <td>0</td>\n",
       "      <td>0</td>\n",
       "      <td>1</td>\n",
       "      <td>1</td>\n",
       "      <td>1</td>\n",
       "      <td>0</td>\n",
       "      <td>0</td>\n",
       "    </tr>\n",
       "    <tr>\n",
       "      <th>6779</th>\n",
       "      <td>0</td>\n",
       "      <td>0</td>\n",
       "      <td>1</td>\n",
       "      <td>0</td>\n",
       "      <td>1</td>\n",
       "      <td>0</td>\n",
       "      <td>0</td>\n",
       "      <td>1</td>\n",
       "    </tr>\n",
       "    <tr>\n",
       "      <th>6780</th>\n",
       "      <td>1</td>\n",
       "      <td>0</td>\n",
       "      <td>0</td>\n",
       "      <td>1</td>\n",
       "      <td>1</td>\n",
       "      <td>0</td>\n",
       "      <td>0</td>\n",
       "      <td>0</td>\n",
       "    </tr>\n",
       "    <tr>\n",
       "      <th>6781</th>\n",
       "      <td>1</td>\n",
       "      <td>0</td>\n",
       "      <td>1</td>\n",
       "      <td>0</td>\n",
       "      <td>0</td>\n",
       "      <td>0</td>\n",
       "      <td>1</td>\n",
       "      <td>0</td>\n",
       "    </tr>\n",
       "    <tr>\n",
       "      <th>6782</th>\n",
       "      <td>1</td>\n",
       "      <td>0</td>\n",
       "      <td>0</td>\n",
       "      <td>1</td>\n",
       "      <td>1</td>\n",
       "      <td>0</td>\n",
       "      <td>0</td>\n",
       "      <td>0</td>\n",
       "    </tr>\n",
       "  </tbody>\n",
       "</table>\n",
       "<p>6783 rows × 8 columns</p>\n",
       "</div>"
      ],
      "text/plain": [
       "      Violence/Gangsta  Musicality  Struggle/Mortality/Spirituality  Flex  \\\n",
       "0                    1           0                                1     0   \n",
       "1                    0           0                                0     0   \n",
       "2                    1           0                                0     0   \n",
       "3                    0           0                                1     1   \n",
       "4                    1           0                                0     1   \n",
       "...                ...         ...                              ...   ...   \n",
       "6778                 0           0                                0     1   \n",
       "6779                 0           0                                1     0   \n",
       "6780                 1           0                                0     1   \n",
       "6781                 1           0                                1     0   \n",
       "6782                 1           0                                0     1   \n",
       "\n",
       "      Romance/Sexuality  Feats/Artists  Black Excellence?  Party  \n",
       "0                     1              0                  0      0  \n",
       "1                     1              1                  0      1  \n",
       "2                     1              0                  0      1  \n",
       "3                     0              0                  0      1  \n",
       "4                     1              0                  0      0  \n",
       "...                 ...            ...                ...    ...  \n",
       "6778                  1              1                  0      0  \n",
       "6779                  1              0                  0      1  \n",
       "6780                  1              0                  0      0  \n",
       "6781                  0              0                  1      0  \n",
       "6782                  1              0                  0      0  \n",
       "\n",
       "[6783 rows x 8 columns]"
      ]
     },
     "execution_count": 208,
     "metadata": {},
     "output_type": "execute_result"
    }
   ],
   "source": [
    "df_ranked"
   ]
  },
  {
   "cell_type": "code",
   "execution_count": 209,
   "id": "0660750b",
   "metadata": {},
   "outputs": [],
   "source": [
    "df_topics2 = df[['artist_name']].join(df_ranked)"
   ]
  },
  {
   "cell_type": "code",
   "execution_count": 211,
   "id": "6900553d",
   "metadata": {},
   "outputs": [],
   "source": [
    "df_topics2['count'] = 1"
   ]
  },
  {
   "cell_type": "code",
   "execution_count": 214,
   "id": "4615650a",
   "metadata": {},
   "outputs": [],
   "source": [
    "df_topics2=df_topics2.groupby('artist_name').sum().reset_index()"
   ]
  },
  {
   "cell_type": "code",
   "execution_count": 218,
   "id": "b057f0b9",
   "metadata": {},
   "outputs": [],
   "source": [
    "df_topics2 = df_topics2.nlargest(10, 'count')"
   ]
  },
  {
   "cell_type": "code",
   "execution_count": null,
   "id": "f4a0fc42",
   "metadata": {},
   "outputs": [],
   "source": [
    "df_topics2.set_index('App').T.plot(kind='bar', stacked=True)\n"
   ]
  },
  {
   "cell_type": "code",
   "execution_count": 222,
   "id": "72d7553b",
   "metadata": {},
   "outputs": [
    {
     "data": {
      "text/html": [
       "<div>\n",
       "<style scoped>\n",
       "    .dataframe tbody tr th:only-of-type {\n",
       "        vertical-align: middle;\n",
       "    }\n",
       "\n",
       "    .dataframe tbody tr th {\n",
       "        vertical-align: top;\n",
       "    }\n",
       "\n",
       "    .dataframe thead th {\n",
       "        text-align: right;\n",
       "    }\n",
       "</style>\n",
       "<table border=\"1\" class=\"dataframe\">\n",
       "  <thead>\n",
       "    <tr style=\"text-align: right;\">\n",
       "      <th></th>\n",
       "      <th>artist_name</th>\n",
       "      <th>Violence/Gangsta</th>\n",
       "      <th>Musicality</th>\n",
       "      <th>Struggle/Mortality/Spirituality</th>\n",
       "      <th>Flex</th>\n",
       "      <th>Romance/Sexuality</th>\n",
       "      <th>Feats/Artists</th>\n",
       "      <th>Black Excellence?</th>\n",
       "      <th>Party</th>\n",
       "      <th>count</th>\n",
       "    </tr>\n",
       "  </thead>\n",
       "  <tbody>\n",
       "    <tr>\n",
       "      <th>731</th>\n",
       "      <td>Nas</td>\n",
       "      <td>121</td>\n",
       "      <td>19</td>\n",
       "      <td>20</td>\n",
       "      <td>131</td>\n",
       "      <td>95</td>\n",
       "      <td>112</td>\n",
       "      <td>31</td>\n",
       "      <td>38</td>\n",
       "      <td>189</td>\n",
       "    </tr>\n",
       "    <tr>\n",
       "      <th>1</th>\n",
       "      <td>$uicideboy$</td>\n",
       "      <td>127</td>\n",
       "      <td>23</td>\n",
       "      <td>31</td>\n",
       "      <td>113</td>\n",
       "      <td>45</td>\n",
       "      <td>53</td>\n",
       "      <td>6</td>\n",
       "      <td>19</td>\n",
       "      <td>139</td>\n",
       "    </tr>\n",
       "    <tr>\n",
       "      <th>400</th>\n",
       "      <td>Future</td>\n",
       "      <td>93</td>\n",
       "      <td>26</td>\n",
       "      <td>87</td>\n",
       "      <td>68</td>\n",
       "      <td>18</td>\n",
       "      <td>14</td>\n",
       "      <td>12</td>\n",
       "      <td>39</td>\n",
       "      <td>119</td>\n",
       "    </tr>\n",
       "    <tr>\n",
       "      <th>328</th>\n",
       "      <td>Drake</td>\n",
       "      <td>52</td>\n",
       "      <td>28</td>\n",
       "      <td>35</td>\n",
       "      <td>78</td>\n",
       "      <td>20</td>\n",
       "      <td>15</td>\n",
       "      <td>10</td>\n",
       "      <td>68</td>\n",
       "      <td>102</td>\n",
       "    </tr>\n",
       "    <tr>\n",
       "      <th>549</th>\n",
       "      <td>Kanye West</td>\n",
       "      <td>48</td>\n",
       "      <td>22</td>\n",
       "      <td>24</td>\n",
       "      <td>75</td>\n",
       "      <td>21</td>\n",
       "      <td>22</td>\n",
       "      <td>3</td>\n",
       "      <td>64</td>\n",
       "      <td>93</td>\n",
       "    </tr>\n",
       "    <tr>\n",
       "      <th>700</th>\n",
       "      <td>Migos</td>\n",
       "      <td>65</td>\n",
       "      <td>21</td>\n",
       "      <td>42</td>\n",
       "      <td>33</td>\n",
       "      <td>19</td>\n",
       "      <td>12</td>\n",
       "      <td>8</td>\n",
       "      <td>16</td>\n",
       "      <td>72</td>\n",
       "    </tr>\n",
       "    <tr>\n",
       "      <th>796</th>\n",
       "      <td>Pete Rock</td>\n",
       "      <td>29</td>\n",
       "      <td>22</td>\n",
       "      <td>10</td>\n",
       "      <td>46</td>\n",
       "      <td>64</td>\n",
       "      <td>20</td>\n",
       "      <td>4</td>\n",
       "      <td>15</td>\n",
       "      <td>70</td>\n",
       "    </tr>\n",
       "    <tr>\n",
       "      <th>1074</th>\n",
       "      <td>Trippie Redd</td>\n",
       "      <td>53</td>\n",
       "      <td>7</td>\n",
       "      <td>57</td>\n",
       "      <td>28</td>\n",
       "      <td>5</td>\n",
       "      <td>10</td>\n",
       "      <td>7</td>\n",
       "      <td>34</td>\n",
       "      <td>67</td>\n",
       "    </tr>\n",
       "    <tr>\n",
       "      <th>626</th>\n",
       "      <td>Logic</td>\n",
       "      <td>37</td>\n",
       "      <td>10</td>\n",
       "      <td>17</td>\n",
       "      <td>49</td>\n",
       "      <td>28</td>\n",
       "      <td>16</td>\n",
       "      <td>7</td>\n",
       "      <td>28</td>\n",
       "      <td>64</td>\n",
       "    </tr>\n",
       "    <tr>\n",
       "      <th>282</th>\n",
       "      <td>Das EFX</td>\n",
       "      <td>49</td>\n",
       "      <td>10</td>\n",
       "      <td>11</td>\n",
       "      <td>36</td>\n",
       "      <td>60</td>\n",
       "      <td>4</td>\n",
       "      <td>5</td>\n",
       "      <td>5</td>\n",
       "      <td>60</td>\n",
       "    </tr>\n",
       "  </tbody>\n",
       "</table>\n",
       "</div>"
      ],
      "text/plain": [
       "       artist_name  Violence/Gangsta  Musicality  \\\n",
       "731            Nas               121          19   \n",
       "1      $uicideboy$               127          23   \n",
       "400         Future                93          26   \n",
       "328          Drake                52          28   \n",
       "549     Kanye West                48          22   \n",
       "700          Migos                65          21   \n",
       "796      Pete Rock                29          22   \n",
       "1074  Trippie Redd                53           7   \n",
       "626          Logic                37          10   \n",
       "282        Das EFX                49          10   \n",
       "\n",
       "      Struggle/Mortality/Spirituality  Flex  Romance/Sexuality  Feats/Artists  \\\n",
       "731                                20   131                 95            112   \n",
       "1                                  31   113                 45             53   \n",
       "400                                87    68                 18             14   \n",
       "328                                35    78                 20             15   \n",
       "549                                24    75                 21             22   \n",
       "700                                42    33                 19             12   \n",
       "796                                10    46                 64             20   \n",
       "1074                               57    28                  5             10   \n",
       "626                                17    49                 28             16   \n",
       "282                                11    36                 60              4   \n",
       "\n",
       "      Black Excellence?  Party  count  \n",
       "731                  31     38    189  \n",
       "1                     6     19    139  \n",
       "400                  12     39    119  \n",
       "328                  10     68    102  \n",
       "549                   3     64     93  \n",
       "700                   8     16     72  \n",
       "796                   4     15     70  \n",
       "1074                  7     34     67  \n",
       "626                   7     28     64  \n",
       "282                   5      5     60  "
      ]
     },
     "execution_count": 222,
     "metadata": {},
     "output_type": "execute_result"
    }
   ],
   "source": [
    "df_topics2"
   ]
  },
  {
   "cell_type": "code",
   "execution_count": 228,
   "id": "75a9b62e",
   "metadata": {},
   "outputs": [
    {
     "data": {
      "text/plain": [
       "<AxesSubplot:ylabel='artist_name'>"
      ]
     },
     "execution_count": 228,
     "metadata": {},
     "output_type": "execute_result"
    },
    {
     "data": {
      "image/png": "[encoded data removed]",
      "text/plain": [
       "<Figure size 720x360 with 1 Axes>"
      ]
     },
     "metadata": {
      "needs_background": "light"
     },
     "output_type": "display_data"
    }
   ],
   "source": [
    "df_topics2.set_index('artist_name').iloc[:,:-1].plot(kind='barh', stacked=True,figsize=(10,5))"
   ]
  },
  {
   "cell_type": "code",
   "execution_count": 245,
   "id": "af264a9d",
   "metadata": {},
   "outputs": [
    {
     "data": {
      "image/png": "[encoded data removed]",
      "text/plain": [
       "<Figure size 720x360 with 1 Axes>"
      ]
     },
     "metadata": {
      "needs_background": "light"
     },
     "output_type": "display_data"
    }
   ],
   "source": [
    "\n",
    "pd.concat([df_topics2.iloc[:,0],\n",
    "df_topics2.iloc[:,1:-1].div(df_topics2.iloc[:,1:-1].sum(axis=1), axis=0) ],\n",
    "          axis=1 ).set_index('artist_name').plot(kind='barh', title='Share of Topics for 10 Popular Artists', stacked=True,figsize=(10,5), ).legend(loc='center left',bbox_to_anchor=(1.0, 0.5));"
   ]
  },
  {
   "cell_type": "code",
   "execution_count": null,
   "id": "74ee4c33",
   "metadata": {},
   "outputs": [],
   "source": []
  }
 ],
 "metadata": {
  "kernelspec": {
   "display_name": "Python 3",
   "language": "python",
   "name": "python3"
  },
  "language_info": {
   "codemirror_mode": {
    "name": "ipython",
    "version": 3
   },
   "file_extension": ".py",
   "mimetype": "text/x-python",
   "name": "python",
   "nbconvert_exporter": "python",
   "pygments_lexer": "ipython3",
   "version": "3.8.8"
  }
 },
 "nbformat": 4,
 "nbformat_minor": 5
}
