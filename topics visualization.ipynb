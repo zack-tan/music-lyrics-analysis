{
 "cells": [
  {
   "cell_type": "code",
   "execution_count": 159,
   "id": "3e165ae3",
   "metadata": {},
   "outputs": [
    {
     "name": "stdout",
     "output_type": "stream",
     "text": [
      "Requirement already satisfied: bar_chart_race in c:\\users\\carlo\\anaconda3\\lib\\site-packages (0.1.0)\n",
      "Requirement already satisfied: pandas>=0.24 in c:\\users\\carlo\\anaconda3\\lib\\site-packages (from bar_chart_race) (1.3.5)\n",
      "Requirement already satisfied: matplotlib>=3.1 in c:\\users\\carlo\\anaconda3\\lib\\site-packages (from bar_chart_race) (3.3.4)\n",
      "Requirement already satisfied: pillow>=6.2.0 in c:\\users\\carlo\\anaconda3\\lib\\site-packages (from matplotlib>=3.1->bar_chart_race) (8.2.0)\n",
      "Requirement already satisfied: kiwisolver>=1.0.1 in c:\\users\\carlo\\anaconda3\\lib\\site-packages (from matplotlib>=3.1->bar_chart_race) (1.3.1)\n",
      "Requirement already satisfied: numpy>=1.15 in c:\\users\\carlo\\anaconda3\\lib\\site-packages (from matplotlib>=3.1->bar_chart_race) (1.21.2)\n",
      "Requirement already satisfied: python-dateutil>=2.1 in c:\\users\\carlo\\anaconda3\\lib\\site-packages (from matplotlib>=3.1->bar_chart_race) (2.8.1)\n",
      "Requirement already satisfied: pyparsing!=2.0.4,!=2.1.2,!=2.1.6,>=2.0.3 in c:\\users\\carlo\\anaconda3\\lib\\site-packages (from matplotlib>=3.1->bar_chart_race) (2.4.7)\n",
      "Requirement already satisfied: cycler>=0.10 in c:\\users\\carlo\\anaconda3\\lib\\site-packages (from matplotlib>=3.1->bar_chart_race) (0.10.0)\n",
      "Requirement already satisfied: six in c:\\users\\carlo\\anaconda3\\lib\\site-packages (from cycler>=0.10->matplotlib>=3.1->bar_chart_race) (1.15.0)\n",
      "Requirement already satisfied: pytz>=2017.3 in c:\\users\\carlo\\anaconda3\\lib\\site-packages (from pandas>=0.24->bar_chart_race) (2021.1)\n"
     ]
    }
   ],
   "source": [
    "!pip install bar_chart_race\n"
   ]
  },
  {
   "cell_type": "code",
   "execution_count": 160,
   "id": "362a1c4d",
   "metadata": {},
   "outputs": [],
   "source": [
    "import pandas as pd\n",
    "import bar_chart_race as bcr\n"
   ]
  },
  {
   "cell_type": "code",
   "execution_count": 176,
   "id": "7b06eef2",
   "metadata": {},
   "outputs": [],
   "source": [
    "df = pd.read_pickle('df_lyrics_topics.pickle')"
   ]
  },
  {
   "cell_type": "code",
   "execution_count": 177,
   "id": "d1d84401",
   "metadata": {},
   "outputs": [],
   "source": [
    "df1 = df.iloc[:,-8:].copy()"
   ]
  },
  {
   "cell_type": "code",
   "execution_count": 178,
   "id": "52ea4ca8",
   "metadata": {},
   "outputs": [],
   "source": [
    "df_ranked = df1.rank(axis=1, method='min', ascending=False)\n",
    "df_ranked = (df_ranked <= 3).astype(int)\n",
    "df_topics = df[['track_release_year']].join(df_ranked)"
   ]
  },
  {
   "cell_type": "code",
   "execution_count": 179,
   "id": "d723c827",
   "metadata": {},
   "outputs": [
    {
     "data": {
      "text/html": [
       "<div>\n",
       "<style scoped>\n",
       "    .dataframe tbody tr th:only-of-type {\n",
       "        vertical-align: middle;\n",
       "    }\n",
       "\n",
       "    .dataframe tbody tr th {\n",
       "        vertical-align: top;\n",
       "    }\n",
       "\n",
       "    .dataframe thead th {\n",
       "        text-align: right;\n",
       "    }\n",
       "</style>\n",
       "<table border=\"1\" class=\"dataframe\">\n",
       "  <thead>\n",
       "    <tr style=\"text-align: right;\">\n",
       "      <th></th>\n",
       "      <th>track_release_year</th>\n",
       "      <th>Violence/Gangsta</th>\n",
       "      <th>Musicality</th>\n",
       "      <th>Struggle/Mortality/Spirituality</th>\n",
       "      <th>Flex</th>\n",
       "      <th>Romance/Sexuality</th>\n",
       "      <th>Feats/Artists</th>\n",
       "      <th>Black Excellence?</th>\n",
       "      <th>Party</th>\n",
       "    </tr>\n",
       "  </thead>\n",
       "  <tbody>\n",
       "    <tr>\n",
       "      <th>0</th>\n",
       "      <td>2020</td>\n",
       "      <td>1</td>\n",
       "      <td>0</td>\n",
       "      <td>1</td>\n",
       "      <td>0</td>\n",
       "      <td>1</td>\n",
       "      <td>0</td>\n",
       "      <td>0</td>\n",
       "      <td>0</td>\n",
       "    </tr>\n",
       "    <tr>\n",
       "      <th>1</th>\n",
       "      <td>2018</td>\n",
       "      <td>0</td>\n",
       "      <td>0</td>\n",
       "      <td>0</td>\n",
       "      <td>0</td>\n",
       "      <td>1</td>\n",
       "      <td>1</td>\n",
       "      <td>0</td>\n",
       "      <td>1</td>\n",
       "    </tr>\n",
       "    <tr>\n",
       "      <th>2</th>\n",
       "      <td>2021</td>\n",
       "      <td>1</td>\n",
       "      <td>0</td>\n",
       "      <td>0</td>\n",
       "      <td>0</td>\n",
       "      <td>1</td>\n",
       "      <td>0</td>\n",
       "      <td>0</td>\n",
       "      <td>1</td>\n",
       "    </tr>\n",
       "    <tr>\n",
       "      <th>3</th>\n",
       "      <td>2017</td>\n",
       "      <td>0</td>\n",
       "      <td>0</td>\n",
       "      <td>1</td>\n",
       "      <td>1</td>\n",
       "      <td>0</td>\n",
       "      <td>0</td>\n",
       "      <td>0</td>\n",
       "      <td>1</td>\n",
       "    </tr>\n",
       "    <tr>\n",
       "      <th>4</th>\n",
       "      <td>1995</td>\n",
       "      <td>1</td>\n",
       "      <td>0</td>\n",
       "      <td>0</td>\n",
       "      <td>1</td>\n",
       "      <td>1</td>\n",
       "      <td>0</td>\n",
       "      <td>0</td>\n",
       "      <td>0</td>\n",
       "    </tr>\n",
       "    <tr>\n",
       "      <th>...</th>\n",
       "      <td>...</td>\n",
       "      <td>...</td>\n",
       "      <td>...</td>\n",
       "      <td>...</td>\n",
       "      <td>...</td>\n",
       "      <td>...</td>\n",
       "      <td>...</td>\n",
       "      <td>...</td>\n",
       "      <td>...</td>\n",
       "    </tr>\n",
       "    <tr>\n",
       "      <th>6778</th>\n",
       "      <td>2021</td>\n",
       "      <td>0</td>\n",
       "      <td>0</td>\n",
       "      <td>0</td>\n",
       "      <td>1</td>\n",
       "      <td>1</td>\n",
       "      <td>1</td>\n",
       "      <td>0</td>\n",
       "      <td>0</td>\n",
       "    </tr>\n",
       "    <tr>\n",
       "      <th>6779</th>\n",
       "      <td>2005</td>\n",
       "      <td>0</td>\n",
       "      <td>0</td>\n",
       "      <td>1</td>\n",
       "      <td>0</td>\n",
       "      <td>1</td>\n",
       "      <td>0</td>\n",
       "      <td>0</td>\n",
       "      <td>1</td>\n",
       "    </tr>\n",
       "    <tr>\n",
       "      <th>6780</th>\n",
       "      <td>2008</td>\n",
       "      <td>1</td>\n",
       "      <td>0</td>\n",
       "      <td>0</td>\n",
       "      <td>1</td>\n",
       "      <td>1</td>\n",
       "      <td>0</td>\n",
       "      <td>0</td>\n",
       "      <td>0</td>\n",
       "    </tr>\n",
       "    <tr>\n",
       "      <th>6781</th>\n",
       "      <td>2019</td>\n",
       "      <td>1</td>\n",
       "      <td>0</td>\n",
       "      <td>1</td>\n",
       "      <td>0</td>\n",
       "      <td>0</td>\n",
       "      <td>0</td>\n",
       "      <td>1</td>\n",
       "      <td>0</td>\n",
       "    </tr>\n",
       "    <tr>\n",
       "      <th>6782</th>\n",
       "      <td>2014</td>\n",
       "      <td>1</td>\n",
       "      <td>0</td>\n",
       "      <td>0</td>\n",
       "      <td>1</td>\n",
       "      <td>1</td>\n",
       "      <td>0</td>\n",
       "      <td>0</td>\n",
       "      <td>0</td>\n",
       "    </tr>\n",
       "  </tbody>\n",
       "</table>\n",
       "<p>6783 rows × 9 columns</p>\n",
       "</div>"
      ],
      "text/plain": [
       "      track_release_year  Violence/Gangsta  Musicality  \\\n",
       "0                   2020                 1           0   \n",
       "1                   2018                 0           0   \n",
       "2                   2021                 1           0   \n",
       "3                   2017                 0           0   \n",
       "4                   1995                 1           0   \n",
       "...                  ...               ...         ...   \n",
       "6778                2021                 0           0   \n",
       "6779                2005                 0           0   \n",
       "6780                2008                 1           0   \n",
       "6781                2019                 1           0   \n",
       "6782                2014                 1           0   \n",
       "\n",
       "      Struggle/Mortality/Spirituality  Flex  Romance/Sexuality  Feats/Artists  \\\n",
       "0                                   1     0                  1              0   \n",
       "1                                   0     0                  1              1   \n",
       "2                                   0     0                  1              0   \n",
       "3                                   1     1                  0              0   \n",
       "4                                   0     1                  1              0   \n",
       "...                               ...   ...                ...            ...   \n",
       "6778                                0     1                  1              1   \n",
       "6779                                1     0                  1              0   \n",
       "6780                                0     1                  1              0   \n",
       "6781                                1     0                  0              0   \n",
       "6782                                0     1                  1              0   \n",
       "\n",
       "      Black Excellence?  Party  \n",
       "0                     0      0  \n",
       "1                     0      1  \n",
       "2                     0      1  \n",
       "3                     0      1  \n",
       "4                     0      0  \n",
       "...                 ...    ...  \n",
       "6778                  0      0  \n",
       "6779                  0      1  \n",
       "6780                  0      0  \n",
       "6781                  1      0  \n",
       "6782                  0      0  \n",
       "\n",
       "[6783 rows x 9 columns]"
      ]
     },
     "execution_count": 179,
     "metadata": {},
     "output_type": "execute_result"
    }
   ],
   "source": [
    "df_topics"
   ]
  },
  {
   "cell_type": "code",
   "execution_count": 180,
   "id": "164a8887",
   "metadata": {},
   "outputs": [],
   "source": [
    "df_topics = df_topics.groupby('track_release_year').sum()"
   ]
  },
  {
   "cell_type": "code",
   "execution_count": 181,
   "id": "31a4fd53",
   "metadata": {},
   "outputs": [
    {
     "data": {
      "text/html": [
       "<div>\n",
       "<style scoped>\n",
       "    .dataframe tbody tr th:only-of-type {\n",
       "        vertical-align: middle;\n",
       "    }\n",
       "\n",
       "    .dataframe tbody tr th {\n",
       "        vertical-align: top;\n",
       "    }\n",
       "\n",
       "    .dataframe thead th {\n",
       "        text-align: right;\n",
       "    }\n",
       "</style>\n",
       "<table border=\"1\" class=\"dataframe\">\n",
       "  <thead>\n",
       "    <tr style=\"text-align: right;\">\n",
       "      <th></th>\n",
       "      <th>Violence/Gangsta</th>\n",
       "      <th>Musicality</th>\n",
       "      <th>Struggle/Mortality/Spirituality</th>\n",
       "      <th>Flex</th>\n",
       "      <th>Romance/Sexuality</th>\n",
       "      <th>Feats/Artists</th>\n",
       "      <th>Black Excellence?</th>\n",
       "      <th>Party</th>\n",
       "    </tr>\n",
       "    <tr>\n",
       "      <th>track_release_year</th>\n",
       "      <th></th>\n",
       "      <th></th>\n",
       "      <th></th>\n",
       "      <th></th>\n",
       "      <th></th>\n",
       "      <th></th>\n",
       "      <th></th>\n",
       "      <th></th>\n",
       "    </tr>\n",
       "  </thead>\n",
       "  <tbody>\n",
       "    <tr>\n",
       "      <th>1951</th>\n",
       "      <td>1</td>\n",
       "      <td>0</td>\n",
       "      <td>0</td>\n",
       "      <td>1</td>\n",
       "      <td>1</td>\n",
       "      <td>0</td>\n",
       "      <td>0</td>\n",
       "      <td>0</td>\n",
       "    </tr>\n",
       "    <tr>\n",
       "      <th>1980</th>\n",
       "      <td>1</td>\n",
       "      <td>0</td>\n",
       "      <td>0</td>\n",
       "      <td>1</td>\n",
       "      <td>0</td>\n",
       "      <td>0</td>\n",
       "      <td>0</td>\n",
       "      <td>1</td>\n",
       "    </tr>\n",
       "    <tr>\n",
       "      <th>1982</th>\n",
       "      <td>0</td>\n",
       "      <td>1</td>\n",
       "      <td>0</td>\n",
       "      <td>0</td>\n",
       "      <td>0</td>\n",
       "      <td>0</td>\n",
       "      <td>1</td>\n",
       "      <td>1</td>\n",
       "    </tr>\n",
       "    <tr>\n",
       "      <th>1983</th>\n",
       "      <td>1</td>\n",
       "      <td>2</td>\n",
       "      <td>0</td>\n",
       "      <td>2</td>\n",
       "      <td>0</td>\n",
       "      <td>0</td>\n",
       "      <td>0</td>\n",
       "      <td>1</td>\n",
       "    </tr>\n",
       "    <tr>\n",
       "      <th>1985</th>\n",
       "      <td>0</td>\n",
       "      <td>0</td>\n",
       "      <td>0</td>\n",
       "      <td>1</td>\n",
       "      <td>1</td>\n",
       "      <td>1</td>\n",
       "      <td>0</td>\n",
       "      <td>0</td>\n",
       "    </tr>\n",
       "    <tr>\n",
       "      <th>1986</th>\n",
       "      <td>2</td>\n",
       "      <td>2</td>\n",
       "      <td>0</td>\n",
       "      <td>0</td>\n",
       "      <td>0</td>\n",
       "      <td>0</td>\n",
       "      <td>0</td>\n",
       "      <td>2</td>\n",
       "    </tr>\n",
       "    <tr>\n",
       "      <th>1987</th>\n",
       "      <td>0</td>\n",
       "      <td>4</td>\n",
       "      <td>1</td>\n",
       "      <td>2</td>\n",
       "      <td>3</td>\n",
       "      <td>1</td>\n",
       "      <td>0</td>\n",
       "      <td>1</td>\n",
       "    </tr>\n",
       "    <tr>\n",
       "      <th>1988</th>\n",
       "      <td>5</td>\n",
       "      <td>7</td>\n",
       "      <td>1</td>\n",
       "      <td>8</td>\n",
       "      <td>13</td>\n",
       "      <td>3</td>\n",
       "      <td>0</td>\n",
       "      <td>5</td>\n",
       "    </tr>\n",
       "    <tr>\n",
       "      <th>1989</th>\n",
       "      <td>2</td>\n",
       "      <td>3</td>\n",
       "      <td>1</td>\n",
       "      <td>4</td>\n",
       "      <td>9</td>\n",
       "      <td>6</td>\n",
       "      <td>1</td>\n",
       "      <td>4</td>\n",
       "    </tr>\n",
       "    <tr>\n",
       "      <th>1990</th>\n",
       "      <td>10</td>\n",
       "      <td>4</td>\n",
       "      <td>2</td>\n",
       "      <td>9</td>\n",
       "      <td>20</td>\n",
       "      <td>7</td>\n",
       "      <td>0</td>\n",
       "      <td>8</td>\n",
       "    </tr>\n",
       "    <tr>\n",
       "      <th>1991</th>\n",
       "      <td>32</td>\n",
       "      <td>15</td>\n",
       "      <td>7</td>\n",
       "      <td>44</td>\n",
       "      <td>64</td>\n",
       "      <td>17</td>\n",
       "      <td>2</td>\n",
       "      <td>26</td>\n",
       "    </tr>\n",
       "    <tr>\n",
       "      <th>1992</th>\n",
       "      <td>55</td>\n",
       "      <td>21</td>\n",
       "      <td>18</td>\n",
       "      <td>65</td>\n",
       "      <td>93</td>\n",
       "      <td>20</td>\n",
       "      <td>1</td>\n",
       "      <td>21</td>\n",
       "    </tr>\n",
       "    <tr>\n",
       "      <th>1993</th>\n",
       "      <td>92</td>\n",
       "      <td>28</td>\n",
       "      <td>36</td>\n",
       "      <td>81</td>\n",
       "      <td>146</td>\n",
       "      <td>38</td>\n",
       "      <td>5</td>\n",
       "      <td>48</td>\n",
       "    </tr>\n",
       "    <tr>\n",
       "      <th>1994</th>\n",
       "      <td>97</td>\n",
       "      <td>24</td>\n",
       "      <td>16</td>\n",
       "      <td>113</td>\n",
       "      <td>164</td>\n",
       "      <td>52</td>\n",
       "      <td>6</td>\n",
       "      <td>44</td>\n",
       "    </tr>\n",
       "    <tr>\n",
       "      <th>1995</th>\n",
       "      <td>107</td>\n",
       "      <td>34</td>\n",
       "      <td>31</td>\n",
       "      <td>127</td>\n",
       "      <td>181</td>\n",
       "      <td>75</td>\n",
       "      <td>8</td>\n",
       "      <td>28</td>\n",
       "    </tr>\n",
       "    <tr>\n",
       "      <th>1996</th>\n",
       "      <td>98</td>\n",
       "      <td>32</td>\n",
       "      <td>20</td>\n",
       "      <td>119</td>\n",
       "      <td>166</td>\n",
       "      <td>62</td>\n",
       "      <td>10</td>\n",
       "      <td>39</td>\n",
       "    </tr>\n",
       "    <tr>\n",
       "      <th>1997</th>\n",
       "      <td>50</td>\n",
       "      <td>22</td>\n",
       "      <td>12</td>\n",
       "      <td>63</td>\n",
       "      <td>96</td>\n",
       "      <td>33</td>\n",
       "      <td>6</td>\n",
       "      <td>30</td>\n",
       "    </tr>\n",
       "    <tr>\n",
       "      <th>1998</th>\n",
       "      <td>94</td>\n",
       "      <td>38</td>\n",
       "      <td>19</td>\n",
       "      <td>136</td>\n",
       "      <td>179</td>\n",
       "      <td>58</td>\n",
       "      <td>5</td>\n",
       "      <td>44</td>\n",
       "    </tr>\n",
       "    <tr>\n",
       "      <th>1999</th>\n",
       "      <td>45</td>\n",
       "      <td>13</td>\n",
       "      <td>8</td>\n",
       "      <td>53</td>\n",
       "      <td>63</td>\n",
       "      <td>40</td>\n",
       "      <td>10</td>\n",
       "      <td>26</td>\n",
       "    </tr>\n",
       "    <tr>\n",
       "      <th>2000</th>\n",
       "      <td>24</td>\n",
       "      <td>10</td>\n",
       "      <td>4</td>\n",
       "      <td>32</td>\n",
       "      <td>34</td>\n",
       "      <td>3</td>\n",
       "      <td>0</td>\n",
       "      <td>13</td>\n",
       "    </tr>\n",
       "    <tr>\n",
       "      <th>2001</th>\n",
       "      <td>34</td>\n",
       "      <td>18</td>\n",
       "      <td>12</td>\n",
       "      <td>37</td>\n",
       "      <td>51</td>\n",
       "      <td>15</td>\n",
       "      <td>4</td>\n",
       "      <td>24</td>\n",
       "    </tr>\n",
       "    <tr>\n",
       "      <th>2002</th>\n",
       "      <td>30</td>\n",
       "      <td>13</td>\n",
       "      <td>7</td>\n",
       "      <td>30</td>\n",
       "      <td>38</td>\n",
       "      <td>16</td>\n",
       "      <td>3</td>\n",
       "      <td>25</td>\n",
       "    </tr>\n",
       "    <tr>\n",
       "      <th>2003</th>\n",
       "      <td>43</td>\n",
       "      <td>10</td>\n",
       "      <td>15</td>\n",
       "      <td>35</td>\n",
       "      <td>52</td>\n",
       "      <td>19</td>\n",
       "      <td>4</td>\n",
       "      <td>23</td>\n",
       "    </tr>\n",
       "    <tr>\n",
       "      <th>2004</th>\n",
       "      <td>38</td>\n",
       "      <td>19</td>\n",
       "      <td>13</td>\n",
       "      <td>42</td>\n",
       "      <td>50</td>\n",
       "      <td>28</td>\n",
       "      <td>9</td>\n",
       "      <td>29</td>\n",
       "    </tr>\n",
       "    <tr>\n",
       "      <th>2005</th>\n",
       "      <td>23</td>\n",
       "      <td>14</td>\n",
       "      <td>8</td>\n",
       "      <td>31</td>\n",
       "      <td>29</td>\n",
       "      <td>12</td>\n",
       "      <td>1</td>\n",
       "      <td>26</td>\n",
       "    </tr>\n",
       "    <tr>\n",
       "      <th>2006</th>\n",
       "      <td>17</td>\n",
       "      <td>7</td>\n",
       "      <td>5</td>\n",
       "      <td>8</td>\n",
       "      <td>23</td>\n",
       "      <td>6</td>\n",
       "      <td>1</td>\n",
       "      <td>14</td>\n",
       "    </tr>\n",
       "    <tr>\n",
       "      <th>2007</th>\n",
       "      <td>40</td>\n",
       "      <td>13</td>\n",
       "      <td>8</td>\n",
       "      <td>56</td>\n",
       "      <td>60</td>\n",
       "      <td>34</td>\n",
       "      <td>6</td>\n",
       "      <td>32</td>\n",
       "    </tr>\n",
       "    <tr>\n",
       "      <th>2008</th>\n",
       "      <td>30</td>\n",
       "      <td>11</td>\n",
       "      <td>9</td>\n",
       "      <td>37</td>\n",
       "      <td>32</td>\n",
       "      <td>18</td>\n",
       "      <td>2</td>\n",
       "      <td>26</td>\n",
       "    </tr>\n",
       "    <tr>\n",
       "      <th>2009</th>\n",
       "      <td>26</td>\n",
       "      <td>13</td>\n",
       "      <td>10</td>\n",
       "      <td>28</td>\n",
       "      <td>33</td>\n",
       "      <td>17</td>\n",
       "      <td>3</td>\n",
       "      <td>14</td>\n",
       "    </tr>\n",
       "    <tr>\n",
       "      <th>2010</th>\n",
       "      <td>36</td>\n",
       "      <td>19</td>\n",
       "      <td>12</td>\n",
       "      <td>37</td>\n",
       "      <td>42</td>\n",
       "      <td>17</td>\n",
       "      <td>4</td>\n",
       "      <td>31</td>\n",
       "    </tr>\n",
       "    <tr>\n",
       "      <th>2011</th>\n",
       "      <td>44</td>\n",
       "      <td>16</td>\n",
       "      <td>17</td>\n",
       "      <td>44</td>\n",
       "      <td>23</td>\n",
       "      <td>15</td>\n",
       "      <td>4</td>\n",
       "      <td>32</td>\n",
       "    </tr>\n",
       "    <tr>\n",
       "      <th>2012</th>\n",
       "      <td>67</td>\n",
       "      <td>26</td>\n",
       "      <td>31</td>\n",
       "      <td>60</td>\n",
       "      <td>27</td>\n",
       "      <td>28</td>\n",
       "      <td>10</td>\n",
       "      <td>42</td>\n",
       "    </tr>\n",
       "    <tr>\n",
       "      <th>2013</th>\n",
       "      <td>148</td>\n",
       "      <td>46</td>\n",
       "      <td>40</td>\n",
       "      <td>109</td>\n",
       "      <td>74</td>\n",
       "      <td>48</td>\n",
       "      <td>20</td>\n",
       "      <td>79</td>\n",
       "    </tr>\n",
       "    <tr>\n",
       "      <th>2014</th>\n",
       "      <td>149</td>\n",
       "      <td>39</td>\n",
       "      <td>45</td>\n",
       "      <td>107</td>\n",
       "      <td>88</td>\n",
       "      <td>53</td>\n",
       "      <td>16</td>\n",
       "      <td>64</td>\n",
       "    </tr>\n",
       "    <tr>\n",
       "      <th>2015</th>\n",
       "      <td>230</td>\n",
       "      <td>73</td>\n",
       "      <td>86</td>\n",
       "      <td>198</td>\n",
       "      <td>107</td>\n",
       "      <td>83</td>\n",
       "      <td>38</td>\n",
       "      <td>121</td>\n",
       "    </tr>\n",
       "    <tr>\n",
       "      <th>2016</th>\n",
       "      <td>291</td>\n",
       "      <td>90</td>\n",
       "      <td>147</td>\n",
       "      <td>223</td>\n",
       "      <td>92</td>\n",
       "      <td>95</td>\n",
       "      <td>61</td>\n",
       "      <td>174</td>\n",
       "    </tr>\n",
       "    <tr>\n",
       "      <th>2017</th>\n",
       "      <td>340</td>\n",
       "      <td>68</td>\n",
       "      <td>217</td>\n",
       "      <td>299</td>\n",
       "      <td>120</td>\n",
       "      <td>117</td>\n",
       "      <td>94</td>\n",
       "      <td>179</td>\n",
       "    </tr>\n",
       "    <tr>\n",
       "      <th>2018</th>\n",
       "      <td>342</td>\n",
       "      <td>106</td>\n",
       "      <td>259</td>\n",
       "      <td>290</td>\n",
       "      <td>135</td>\n",
       "      <td>131</td>\n",
       "      <td>121</td>\n",
       "      <td>221</td>\n",
       "    </tr>\n",
       "    <tr>\n",
       "      <th>2019</th>\n",
       "      <td>405</td>\n",
       "      <td>77</td>\n",
       "      <td>288</td>\n",
       "      <td>323</td>\n",
       "      <td>151</td>\n",
       "      <td>128</td>\n",
       "      <td>136</td>\n",
       "      <td>244</td>\n",
       "    </tr>\n",
       "    <tr>\n",
       "      <th>2020</th>\n",
       "      <td>789</td>\n",
       "      <td>198</td>\n",
       "      <td>575</td>\n",
       "      <td>608</td>\n",
       "      <td>212</td>\n",
       "      <td>297</td>\n",
       "      <td>297</td>\n",
       "      <td>525</td>\n",
       "    </tr>\n",
       "    <tr>\n",
       "      <th>2021</th>\n",
       "      <td>525</td>\n",
       "      <td>129</td>\n",
       "      <td>352</td>\n",
       "      <td>441</td>\n",
       "      <td>148</td>\n",
       "      <td>233</td>\n",
       "      <td>223</td>\n",
       "      <td>361</td>\n",
       "    </tr>\n",
       "    <tr>\n",
       "      <th>2022</th>\n",
       "      <td>23</td>\n",
       "      <td>5</td>\n",
       "      <td>14</td>\n",
       "      <td>21</td>\n",
       "      <td>7</td>\n",
       "      <td>9</td>\n",
       "      <td>10</td>\n",
       "      <td>10</td>\n",
       "    </tr>\n",
       "  </tbody>\n",
       "</table>\n",
       "</div>"
      ],
      "text/plain": [
       "                    Violence/Gangsta  Musicality  \\\n",
       "track_release_year                                 \n",
       "1951                               1           0   \n",
       "1980                               1           0   \n",
       "1982                               0           1   \n",
       "1983                               1           2   \n",
       "1985                               0           0   \n",
       "1986                               2           2   \n",
       "1987                               0           4   \n",
       "1988                               5           7   \n",
       "1989                               2           3   \n",
       "1990                              10           4   \n",
       "1991                              32          15   \n",
       "1992                              55          21   \n",
       "1993                              92          28   \n",
       "1994                              97          24   \n",
       "1995                             107          34   \n",
       "1996                              98          32   \n",
       "1997                              50          22   \n",
       "1998                              94          38   \n",
       "1999                              45          13   \n",
       "2000                              24          10   \n",
       "2001                              34          18   \n",
       "2002                              30          13   \n",
       "2003                              43          10   \n",
       "2004                              38          19   \n",
       "2005                              23          14   \n",
       "2006                              17           7   \n",
       "2007                              40          13   \n",
       "2008                              30          11   \n",
       "2009                              26          13   \n",
       "2010                              36          19   \n",
       "2011                              44          16   \n",
       "2012                              67          26   \n",
       "2013                             148          46   \n",
       "2014                             149          39   \n",
       "2015                             230          73   \n",
       "2016                             291          90   \n",
       "2017                             340          68   \n",
       "2018                             342         106   \n",
       "2019                             405          77   \n",
       "2020                             789         198   \n",
       "2021                             525         129   \n",
       "2022                              23           5   \n",
       "\n",
       "                    Struggle/Mortality/Spirituality  Flex  Romance/Sexuality  \\\n",
       "track_release_year                                                             \n",
       "1951                                              0     1                  1   \n",
       "1980                                              0     1                  0   \n",
       "1982                                              0     0                  0   \n",
       "1983                                              0     2                  0   \n",
       "1985                                              0     1                  1   \n",
       "1986                                              0     0                  0   \n",
       "1987                                              1     2                  3   \n",
       "1988                                              1     8                 13   \n",
       "1989                                              1     4                  9   \n",
       "1990                                              2     9                 20   \n",
       "1991                                              7    44                 64   \n",
       "1992                                             18    65                 93   \n",
       "1993                                             36    81                146   \n",
       "1994                                             16   113                164   \n",
       "1995                                             31   127                181   \n",
       "1996                                             20   119                166   \n",
       "1997                                             12    63                 96   \n",
       "1998                                             19   136                179   \n",
       "1999                                              8    53                 63   \n",
       "2000                                              4    32                 34   \n",
       "2001                                             12    37                 51   \n",
       "2002                                              7    30                 38   \n",
       "2003                                             15    35                 52   \n",
       "2004                                             13    42                 50   \n",
       "2005                                              8    31                 29   \n",
       "2006                                              5     8                 23   \n",
       "2007                                              8    56                 60   \n",
       "2008                                              9    37                 32   \n",
       "2009                                             10    28                 33   \n",
       "2010                                             12    37                 42   \n",
       "2011                                             17    44                 23   \n",
       "2012                                             31    60                 27   \n",
       "2013                                             40   109                 74   \n",
       "2014                                             45   107                 88   \n",
       "2015                                             86   198                107   \n",
       "2016                                            147   223                 92   \n",
       "2017                                            217   299                120   \n",
       "2018                                            259   290                135   \n",
       "2019                                            288   323                151   \n",
       "2020                                            575   608                212   \n",
       "2021                                            352   441                148   \n",
       "2022                                             14    21                  7   \n",
       "\n",
       "                    Feats/Artists  Black Excellence?  Party  \n",
       "track_release_year                                           \n",
       "1951                            0                  0      0  \n",
       "1980                            0                  0      1  \n",
       "1982                            0                  1      1  \n",
       "1983                            0                  0      1  \n",
       "1985                            1                  0      0  \n",
       "1986                            0                  0      2  \n",
       "1987                            1                  0      1  \n",
       "1988                            3                  0      5  \n",
       "1989                            6                  1      4  \n",
       "1990                            7                  0      8  \n",
       "1991                           17                  2     26  \n",
       "1992                           20                  1     21  \n",
       "1993                           38                  5     48  \n",
       "1994                           52                  6     44  \n",
       "1995                           75                  8     28  \n",
       "1996                           62                 10     39  \n",
       "1997                           33                  6     30  \n",
       "1998                           58                  5     44  \n",
       "1999                           40                 10     26  \n",
       "2000                            3                  0     13  \n",
       "2001                           15                  4     24  \n",
       "2002                           16                  3     25  \n",
       "2003                           19                  4     23  \n",
       "2004                           28                  9     29  \n",
       "2005                           12                  1     26  \n",
       "2006                            6                  1     14  \n",
       "2007                           34                  6     32  \n",
       "2008                           18                  2     26  \n",
       "2009                           17                  3     14  \n",
       "2010                           17                  4     31  \n",
       "2011                           15                  4     32  \n",
       "2012                           28                 10     42  \n",
       "2013                           48                 20     79  \n",
       "2014                           53                 16     64  \n",
       "2015                           83                 38    121  \n",
       "2016                           95                 61    174  \n",
       "2017                          117                 94    179  \n",
       "2018                          131                121    221  \n",
       "2019                          128                136    244  \n",
       "2020                          297                297    525  \n",
       "2021                          233                223    361  \n",
       "2022                            9                 10     10  "
      ]
     },
     "execution_count": 181,
     "metadata": {},
     "output_type": "execute_result"
    }
   ],
   "source": [
    "df_topics"
   ]
  },
  {
   "cell_type": "code",
   "execution_count": 182,
   "id": "e71f8546",
   "metadata": {},
   "outputs": [],
   "source": [
    "df_topics = df_topics.div(df_topics.sum(axis=1), axis=0)"
   ]
  },
  {
   "cell_type": "code",
   "execution_count": 183,
   "id": "36941299",
   "metadata": {},
   "outputs": [
    {
     "data": {
      "text/html": [
       "<div>\n",
       "<style scoped>\n",
       "    .dataframe tbody tr th:only-of-type {\n",
       "        vertical-align: middle;\n",
       "    }\n",
       "\n",
       "    .dataframe tbody tr th {\n",
       "        vertical-align: top;\n",
       "    }\n",
       "\n",
       "    .dataframe thead th {\n",
       "        text-align: right;\n",
       "    }\n",
       "</style>\n",
       "<table border=\"1\" class=\"dataframe\">\n",
       "  <thead>\n",
       "    <tr style=\"text-align: right;\">\n",
       "      <th></th>\n",
       "      <th>Violence/Gangsta</th>\n",
       "      <th>Musicality</th>\n",
       "      <th>Struggle/Mortality/Spirituality</th>\n",
       "      <th>Flex</th>\n",
       "      <th>Romance/Sexuality</th>\n",
       "      <th>Feats/Artists</th>\n",
       "      <th>Black Excellence?</th>\n",
       "      <th>Party</th>\n",
       "    </tr>\n",
       "    <tr>\n",
       "      <th>track_release_year</th>\n",
       "      <th></th>\n",
       "      <th></th>\n",
       "      <th></th>\n",
       "      <th></th>\n",
       "      <th></th>\n",
       "      <th></th>\n",
       "      <th></th>\n",
       "      <th></th>\n",
       "    </tr>\n",
       "  </thead>\n",
       "  <tbody>\n",
       "    <tr>\n",
       "      <th>1951</th>\n",
       "      <td>0.333333</td>\n",
       "      <td>0.000000</td>\n",
       "      <td>0.000000</td>\n",
       "      <td>0.333333</td>\n",
       "      <td>0.333333</td>\n",
       "      <td>0.000000</td>\n",
       "      <td>0.000000</td>\n",
       "      <td>0.000000</td>\n",
       "    </tr>\n",
       "    <tr>\n",
       "      <th>1980</th>\n",
       "      <td>0.333333</td>\n",
       "      <td>0.000000</td>\n",
       "      <td>0.000000</td>\n",
       "      <td>0.333333</td>\n",
       "      <td>0.000000</td>\n",
       "      <td>0.000000</td>\n",
       "      <td>0.000000</td>\n",
       "      <td>0.333333</td>\n",
       "    </tr>\n",
       "    <tr>\n",
       "      <th>1982</th>\n",
       "      <td>0.000000</td>\n",
       "      <td>0.333333</td>\n",
       "      <td>0.000000</td>\n",
       "      <td>0.000000</td>\n",
       "      <td>0.000000</td>\n",
       "      <td>0.000000</td>\n",
       "      <td>0.333333</td>\n",
       "      <td>0.333333</td>\n",
       "    </tr>\n",
       "    <tr>\n",
       "      <th>1983</th>\n",
       "      <td>0.166667</td>\n",
       "      <td>0.333333</td>\n",
       "      <td>0.000000</td>\n",
       "      <td>0.333333</td>\n",
       "      <td>0.000000</td>\n",
       "      <td>0.000000</td>\n",
       "      <td>0.000000</td>\n",
       "      <td>0.166667</td>\n",
       "    </tr>\n",
       "    <tr>\n",
       "      <th>1985</th>\n",
       "      <td>0.000000</td>\n",
       "      <td>0.000000</td>\n",
       "      <td>0.000000</td>\n",
       "      <td>0.333333</td>\n",
       "      <td>0.333333</td>\n",
       "      <td>0.333333</td>\n",
       "      <td>0.000000</td>\n",
       "      <td>0.000000</td>\n",
       "    </tr>\n",
       "    <tr>\n",
       "      <th>1986</th>\n",
       "      <td>0.333333</td>\n",
       "      <td>0.333333</td>\n",
       "      <td>0.000000</td>\n",
       "      <td>0.000000</td>\n",
       "      <td>0.000000</td>\n",
       "      <td>0.000000</td>\n",
       "      <td>0.000000</td>\n",
       "      <td>0.333333</td>\n",
       "    </tr>\n",
       "    <tr>\n",
       "      <th>1987</th>\n",
       "      <td>0.000000</td>\n",
       "      <td>0.333333</td>\n",
       "      <td>0.083333</td>\n",
       "      <td>0.166667</td>\n",
       "      <td>0.250000</td>\n",
       "      <td>0.083333</td>\n",
       "      <td>0.000000</td>\n",
       "      <td>0.083333</td>\n",
       "    </tr>\n",
       "    <tr>\n",
       "      <th>1988</th>\n",
       "      <td>0.119048</td>\n",
       "      <td>0.166667</td>\n",
       "      <td>0.023810</td>\n",
       "      <td>0.190476</td>\n",
       "      <td>0.309524</td>\n",
       "      <td>0.071429</td>\n",
       "      <td>0.000000</td>\n",
       "      <td>0.119048</td>\n",
       "    </tr>\n",
       "    <tr>\n",
       "      <th>1989</th>\n",
       "      <td>0.066667</td>\n",
       "      <td>0.100000</td>\n",
       "      <td>0.033333</td>\n",
       "      <td>0.133333</td>\n",
       "      <td>0.300000</td>\n",
       "      <td>0.200000</td>\n",
       "      <td>0.033333</td>\n",
       "      <td>0.133333</td>\n",
       "    </tr>\n",
       "    <tr>\n",
       "      <th>1990</th>\n",
       "      <td>0.166667</td>\n",
       "      <td>0.066667</td>\n",
       "      <td>0.033333</td>\n",
       "      <td>0.150000</td>\n",
       "      <td>0.333333</td>\n",
       "      <td>0.116667</td>\n",
       "      <td>0.000000</td>\n",
       "      <td>0.133333</td>\n",
       "    </tr>\n",
       "    <tr>\n",
       "      <th>1991</th>\n",
       "      <td>0.154589</td>\n",
       "      <td>0.072464</td>\n",
       "      <td>0.033816</td>\n",
       "      <td>0.212560</td>\n",
       "      <td>0.309179</td>\n",
       "      <td>0.082126</td>\n",
       "      <td>0.009662</td>\n",
       "      <td>0.125604</td>\n",
       "    </tr>\n",
       "    <tr>\n",
       "      <th>1992</th>\n",
       "      <td>0.187075</td>\n",
       "      <td>0.071429</td>\n",
       "      <td>0.061224</td>\n",
       "      <td>0.221088</td>\n",
       "      <td>0.316327</td>\n",
       "      <td>0.068027</td>\n",
       "      <td>0.003401</td>\n",
       "      <td>0.071429</td>\n",
       "    </tr>\n",
       "    <tr>\n",
       "      <th>1993</th>\n",
       "      <td>0.194093</td>\n",
       "      <td>0.059072</td>\n",
       "      <td>0.075949</td>\n",
       "      <td>0.170886</td>\n",
       "      <td>0.308017</td>\n",
       "      <td>0.080169</td>\n",
       "      <td>0.010549</td>\n",
       "      <td>0.101266</td>\n",
       "    </tr>\n",
       "    <tr>\n",
       "      <th>1994</th>\n",
       "      <td>0.187984</td>\n",
       "      <td>0.046512</td>\n",
       "      <td>0.031008</td>\n",
       "      <td>0.218992</td>\n",
       "      <td>0.317829</td>\n",
       "      <td>0.100775</td>\n",
       "      <td>0.011628</td>\n",
       "      <td>0.085271</td>\n",
       "    </tr>\n",
       "    <tr>\n",
       "      <th>1995</th>\n",
       "      <td>0.181049</td>\n",
       "      <td>0.057530</td>\n",
       "      <td>0.052453</td>\n",
       "      <td>0.214890</td>\n",
       "      <td>0.306261</td>\n",
       "      <td>0.126904</td>\n",
       "      <td>0.013536</td>\n",
       "      <td>0.047377</td>\n",
       "    </tr>\n",
       "    <tr>\n",
       "      <th>1996</th>\n",
       "      <td>0.179487</td>\n",
       "      <td>0.058608</td>\n",
       "      <td>0.036630</td>\n",
       "      <td>0.217949</td>\n",
       "      <td>0.304029</td>\n",
       "      <td>0.113553</td>\n",
       "      <td>0.018315</td>\n",
       "      <td>0.071429</td>\n",
       "    </tr>\n",
       "    <tr>\n",
       "      <th>1997</th>\n",
       "      <td>0.160256</td>\n",
       "      <td>0.070513</td>\n",
       "      <td>0.038462</td>\n",
       "      <td>0.201923</td>\n",
       "      <td>0.307692</td>\n",
       "      <td>0.105769</td>\n",
       "      <td>0.019231</td>\n",
       "      <td>0.096154</td>\n",
       "    </tr>\n",
       "    <tr>\n",
       "      <th>1998</th>\n",
       "      <td>0.164049</td>\n",
       "      <td>0.066318</td>\n",
       "      <td>0.033159</td>\n",
       "      <td>0.237347</td>\n",
       "      <td>0.312391</td>\n",
       "      <td>0.101222</td>\n",
       "      <td>0.008726</td>\n",
       "      <td>0.076789</td>\n",
       "    </tr>\n",
       "    <tr>\n",
       "      <th>1999</th>\n",
       "      <td>0.174419</td>\n",
       "      <td>0.050388</td>\n",
       "      <td>0.031008</td>\n",
       "      <td>0.205426</td>\n",
       "      <td>0.244186</td>\n",
       "      <td>0.155039</td>\n",
       "      <td>0.038760</td>\n",
       "      <td>0.100775</td>\n",
       "    </tr>\n",
       "    <tr>\n",
       "      <th>2000</th>\n",
       "      <td>0.200000</td>\n",
       "      <td>0.083333</td>\n",
       "      <td>0.033333</td>\n",
       "      <td>0.266667</td>\n",
       "      <td>0.283333</td>\n",
       "      <td>0.025000</td>\n",
       "      <td>0.000000</td>\n",
       "      <td>0.108333</td>\n",
       "    </tr>\n",
       "    <tr>\n",
       "      <th>2001</th>\n",
       "      <td>0.174359</td>\n",
       "      <td>0.092308</td>\n",
       "      <td>0.061538</td>\n",
       "      <td>0.189744</td>\n",
       "      <td>0.261538</td>\n",
       "      <td>0.076923</td>\n",
       "      <td>0.020513</td>\n",
       "      <td>0.123077</td>\n",
       "    </tr>\n",
       "    <tr>\n",
       "      <th>2002</th>\n",
       "      <td>0.185185</td>\n",
       "      <td>0.080247</td>\n",
       "      <td>0.043210</td>\n",
       "      <td>0.185185</td>\n",
       "      <td>0.234568</td>\n",
       "      <td>0.098765</td>\n",
       "      <td>0.018519</td>\n",
       "      <td>0.154321</td>\n",
       "    </tr>\n",
       "    <tr>\n",
       "      <th>2003</th>\n",
       "      <td>0.213930</td>\n",
       "      <td>0.049751</td>\n",
       "      <td>0.074627</td>\n",
       "      <td>0.174129</td>\n",
       "      <td>0.258706</td>\n",
       "      <td>0.094527</td>\n",
       "      <td>0.019900</td>\n",
       "      <td>0.114428</td>\n",
       "    </tr>\n",
       "    <tr>\n",
       "      <th>2004</th>\n",
       "      <td>0.166667</td>\n",
       "      <td>0.083333</td>\n",
       "      <td>0.057018</td>\n",
       "      <td>0.184211</td>\n",
       "      <td>0.219298</td>\n",
       "      <td>0.122807</td>\n",
       "      <td>0.039474</td>\n",
       "      <td>0.127193</td>\n",
       "    </tr>\n",
       "    <tr>\n",
       "      <th>2005</th>\n",
       "      <td>0.159722</td>\n",
       "      <td>0.097222</td>\n",
       "      <td>0.055556</td>\n",
       "      <td>0.215278</td>\n",
       "      <td>0.201389</td>\n",
       "      <td>0.083333</td>\n",
       "      <td>0.006944</td>\n",
       "      <td>0.180556</td>\n",
       "    </tr>\n",
       "    <tr>\n",
       "      <th>2006</th>\n",
       "      <td>0.209877</td>\n",
       "      <td>0.086420</td>\n",
       "      <td>0.061728</td>\n",
       "      <td>0.098765</td>\n",
       "      <td>0.283951</td>\n",
       "      <td>0.074074</td>\n",
       "      <td>0.012346</td>\n",
       "      <td>0.172840</td>\n",
       "    </tr>\n",
       "    <tr>\n",
       "      <th>2007</th>\n",
       "      <td>0.160643</td>\n",
       "      <td>0.052209</td>\n",
       "      <td>0.032129</td>\n",
       "      <td>0.224900</td>\n",
       "      <td>0.240964</td>\n",
       "      <td>0.136546</td>\n",
       "      <td>0.024096</td>\n",
       "      <td>0.128514</td>\n",
       "    </tr>\n",
       "    <tr>\n",
       "      <th>2008</th>\n",
       "      <td>0.181818</td>\n",
       "      <td>0.066667</td>\n",
       "      <td>0.054545</td>\n",
       "      <td>0.224242</td>\n",
       "      <td>0.193939</td>\n",
       "      <td>0.109091</td>\n",
       "      <td>0.012121</td>\n",
       "      <td>0.157576</td>\n",
       "    </tr>\n",
       "    <tr>\n",
       "      <th>2009</th>\n",
       "      <td>0.180556</td>\n",
       "      <td>0.090278</td>\n",
       "      <td>0.069444</td>\n",
       "      <td>0.194444</td>\n",
       "      <td>0.229167</td>\n",
       "      <td>0.118056</td>\n",
       "      <td>0.020833</td>\n",
       "      <td>0.097222</td>\n",
       "    </tr>\n",
       "    <tr>\n",
       "      <th>2010</th>\n",
       "      <td>0.181818</td>\n",
       "      <td>0.095960</td>\n",
       "      <td>0.060606</td>\n",
       "      <td>0.186869</td>\n",
       "      <td>0.212121</td>\n",
       "      <td>0.085859</td>\n",
       "      <td>0.020202</td>\n",
       "      <td>0.156566</td>\n",
       "    </tr>\n",
       "    <tr>\n",
       "      <th>2011</th>\n",
       "      <td>0.225641</td>\n",
       "      <td>0.082051</td>\n",
       "      <td>0.087179</td>\n",
       "      <td>0.225641</td>\n",
       "      <td>0.117949</td>\n",
       "      <td>0.076923</td>\n",
       "      <td>0.020513</td>\n",
       "      <td>0.164103</td>\n",
       "    </tr>\n",
       "    <tr>\n",
       "      <th>2012</th>\n",
       "      <td>0.230241</td>\n",
       "      <td>0.089347</td>\n",
       "      <td>0.106529</td>\n",
       "      <td>0.206186</td>\n",
       "      <td>0.092784</td>\n",
       "      <td>0.096220</td>\n",
       "      <td>0.034364</td>\n",
       "      <td>0.144330</td>\n",
       "    </tr>\n",
       "    <tr>\n",
       "      <th>2013</th>\n",
       "      <td>0.262411</td>\n",
       "      <td>0.081560</td>\n",
       "      <td>0.070922</td>\n",
       "      <td>0.193262</td>\n",
       "      <td>0.131206</td>\n",
       "      <td>0.085106</td>\n",
       "      <td>0.035461</td>\n",
       "      <td>0.140071</td>\n",
       "    </tr>\n",
       "    <tr>\n",
       "      <th>2014</th>\n",
       "      <td>0.265597</td>\n",
       "      <td>0.069519</td>\n",
       "      <td>0.080214</td>\n",
       "      <td>0.190731</td>\n",
       "      <td>0.156863</td>\n",
       "      <td>0.094474</td>\n",
       "      <td>0.028520</td>\n",
       "      <td>0.114082</td>\n",
       "    </tr>\n",
       "    <tr>\n",
       "      <th>2015</th>\n",
       "      <td>0.245726</td>\n",
       "      <td>0.077991</td>\n",
       "      <td>0.091880</td>\n",
       "      <td>0.211538</td>\n",
       "      <td>0.114316</td>\n",
       "      <td>0.088675</td>\n",
       "      <td>0.040598</td>\n",
       "      <td>0.129274</td>\n",
       "    </tr>\n",
       "    <tr>\n",
       "      <th>2016</th>\n",
       "      <td>0.248082</td>\n",
       "      <td>0.076726</td>\n",
       "      <td>0.125320</td>\n",
       "      <td>0.190111</td>\n",
       "      <td>0.078431</td>\n",
       "      <td>0.080989</td>\n",
       "      <td>0.052003</td>\n",
       "      <td>0.148338</td>\n",
       "    </tr>\n",
       "    <tr>\n",
       "      <th>2017</th>\n",
       "      <td>0.237099</td>\n",
       "      <td>0.047420</td>\n",
       "      <td>0.151325</td>\n",
       "      <td>0.208508</td>\n",
       "      <td>0.083682</td>\n",
       "      <td>0.081590</td>\n",
       "      <td>0.065551</td>\n",
       "      <td>0.124826</td>\n",
       "    </tr>\n",
       "    <tr>\n",
       "      <th>2018</th>\n",
       "      <td>0.213084</td>\n",
       "      <td>0.066044</td>\n",
       "      <td>0.161371</td>\n",
       "      <td>0.180685</td>\n",
       "      <td>0.084112</td>\n",
       "      <td>0.081620</td>\n",
       "      <td>0.075389</td>\n",
       "      <td>0.137695</td>\n",
       "    </tr>\n",
       "    <tr>\n",
       "      <th>2019</th>\n",
       "      <td>0.231164</td>\n",
       "      <td>0.043950</td>\n",
       "      <td>0.164384</td>\n",
       "      <td>0.184361</td>\n",
       "      <td>0.086187</td>\n",
       "      <td>0.073059</td>\n",
       "      <td>0.077626</td>\n",
       "      <td>0.139269</td>\n",
       "    </tr>\n",
       "    <tr>\n",
       "      <th>2020</th>\n",
       "      <td>0.225364</td>\n",
       "      <td>0.056555</td>\n",
       "      <td>0.164239</td>\n",
       "      <td>0.173665</td>\n",
       "      <td>0.060554</td>\n",
       "      <td>0.084833</td>\n",
       "      <td>0.084833</td>\n",
       "      <td>0.149957</td>\n",
       "    </tr>\n",
       "    <tr>\n",
       "      <th>2021</th>\n",
       "      <td>0.217662</td>\n",
       "      <td>0.053483</td>\n",
       "      <td>0.145937</td>\n",
       "      <td>0.182836</td>\n",
       "      <td>0.061360</td>\n",
       "      <td>0.096600</td>\n",
       "      <td>0.092454</td>\n",
       "      <td>0.149668</td>\n",
       "    </tr>\n",
       "    <tr>\n",
       "      <th>2022</th>\n",
       "      <td>0.232323</td>\n",
       "      <td>0.050505</td>\n",
       "      <td>0.141414</td>\n",
       "      <td>0.212121</td>\n",
       "      <td>0.070707</td>\n",
       "      <td>0.090909</td>\n",
       "      <td>0.101010</td>\n",
       "      <td>0.101010</td>\n",
       "    </tr>\n",
       "  </tbody>\n",
       "</table>\n",
       "</div>"
      ],
      "text/plain": [
       "                    Violence/Gangsta  Musicality  \\\n",
       "track_release_year                                 \n",
       "1951                        0.333333    0.000000   \n",
       "1980                        0.333333    0.000000   \n",
       "1982                        0.000000    0.333333   \n",
       "1983                        0.166667    0.333333   \n",
       "1985                        0.000000    0.000000   \n",
       "1986                        0.333333    0.333333   \n",
       "1987                        0.000000    0.333333   \n",
       "1988                        0.119048    0.166667   \n",
       "1989                        0.066667    0.100000   \n",
       "1990                        0.166667    0.066667   \n",
       "1991                        0.154589    0.072464   \n",
       "1992                        0.187075    0.071429   \n",
       "1993                        0.194093    0.059072   \n",
       "1994                        0.187984    0.046512   \n",
       "1995                        0.181049    0.057530   \n",
       "1996                        0.179487    0.058608   \n",
       "1997                        0.160256    0.070513   \n",
       "1998                        0.164049    0.066318   \n",
       "1999                        0.174419    0.050388   \n",
       "2000                        0.200000    0.083333   \n",
       "2001                        0.174359    0.092308   \n",
       "2002                        0.185185    0.080247   \n",
       "2003                        0.213930    0.049751   \n",
       "2004                        0.166667    0.083333   \n",
       "2005                        0.159722    0.097222   \n",
       "2006                        0.209877    0.086420   \n",
       "2007                        0.160643    0.052209   \n",
       "2008                        0.181818    0.066667   \n",
       "2009                        0.180556    0.090278   \n",
       "2010                        0.181818    0.095960   \n",
       "2011                        0.225641    0.082051   \n",
       "2012                        0.230241    0.089347   \n",
       "2013                        0.262411    0.081560   \n",
       "2014                        0.265597    0.069519   \n",
       "2015                        0.245726    0.077991   \n",
       "2016                        0.248082    0.076726   \n",
       "2017                        0.237099    0.047420   \n",
       "2018                        0.213084    0.066044   \n",
       "2019                        0.231164    0.043950   \n",
       "2020                        0.225364    0.056555   \n",
       "2021                        0.217662    0.053483   \n",
       "2022                        0.232323    0.050505   \n",
       "\n",
       "                    Struggle/Mortality/Spirituality      Flex  \\\n",
       "track_release_year                                              \n",
       "1951                                       0.000000  0.333333   \n",
       "1980                                       0.000000  0.333333   \n",
       "1982                                       0.000000  0.000000   \n",
       "1983                                       0.000000  0.333333   \n",
       "1985                                       0.000000  0.333333   \n",
       "1986                                       0.000000  0.000000   \n",
       "1987                                       0.083333  0.166667   \n",
       "1988                                       0.023810  0.190476   \n",
       "1989                                       0.033333  0.133333   \n",
       "1990                                       0.033333  0.150000   \n",
       "1991                                       0.033816  0.212560   \n",
       "1992                                       0.061224  0.221088   \n",
       "1993                                       0.075949  0.170886   \n",
       "1994                                       0.031008  0.218992   \n",
       "1995                                       0.052453  0.214890   \n",
       "1996                                       0.036630  0.217949   \n",
       "1997                                       0.038462  0.201923   \n",
       "1998                                       0.033159  0.237347   \n",
       "1999                                       0.031008  0.205426   \n",
       "2000                                       0.033333  0.266667   \n",
       "2001                                       0.061538  0.189744   \n",
       "2002                                       0.043210  0.185185   \n",
       "2003                                       0.074627  0.174129   \n",
       "2004                                       0.057018  0.184211   \n",
       "2005                                       0.055556  0.215278   \n",
       "2006                                       0.061728  0.098765   \n",
       "2007                                       0.032129  0.224900   \n",
       "2008                                       0.054545  0.224242   \n",
       "2009                                       0.069444  0.194444   \n",
       "2010                                       0.060606  0.186869   \n",
       "2011                                       0.087179  0.225641   \n",
       "2012                                       0.106529  0.206186   \n",
       "2013                                       0.070922  0.193262   \n",
       "2014                                       0.080214  0.190731   \n",
       "2015                                       0.091880  0.211538   \n",
       "2016                                       0.125320  0.190111   \n",
       "2017                                       0.151325  0.208508   \n",
       "2018                                       0.161371  0.180685   \n",
       "2019                                       0.164384  0.184361   \n",
       "2020                                       0.164239  0.173665   \n",
       "2021                                       0.145937  0.182836   \n",
       "2022                                       0.141414  0.212121   \n",
       "\n",
       "                    Romance/Sexuality  Feats/Artists  Black Excellence?  \\\n",
       "track_release_year                                                        \n",
       "1951                         0.333333       0.000000           0.000000   \n",
       "1980                         0.000000       0.000000           0.000000   \n",
       "1982                         0.000000       0.000000           0.333333   \n",
       "1983                         0.000000       0.000000           0.000000   \n",
       "1985                         0.333333       0.333333           0.000000   \n",
       "1986                         0.000000       0.000000           0.000000   \n",
       "1987                         0.250000       0.083333           0.000000   \n",
       "1988                         0.309524       0.071429           0.000000   \n",
       "1989                         0.300000       0.200000           0.033333   \n",
       "1990                         0.333333       0.116667           0.000000   \n",
       "1991                         0.309179       0.082126           0.009662   \n",
       "1992                         0.316327       0.068027           0.003401   \n",
       "1993                         0.308017       0.080169           0.010549   \n",
       "1994                         0.317829       0.100775           0.011628   \n",
       "1995                         0.306261       0.126904           0.013536   \n",
       "1996                         0.304029       0.113553           0.018315   \n",
       "1997                         0.307692       0.105769           0.019231   \n",
       "1998                         0.312391       0.101222           0.008726   \n",
       "1999                         0.244186       0.155039           0.038760   \n",
       "2000                         0.283333       0.025000           0.000000   \n",
       "2001                         0.261538       0.076923           0.020513   \n",
       "2002                         0.234568       0.098765           0.018519   \n",
       "2003                         0.258706       0.094527           0.019900   \n",
       "2004                         0.219298       0.122807           0.039474   \n",
       "2005                         0.201389       0.083333           0.006944   \n",
       "2006                         0.283951       0.074074           0.012346   \n",
       "2007                         0.240964       0.136546           0.024096   \n",
       "2008                         0.193939       0.109091           0.012121   \n",
       "2009                         0.229167       0.118056           0.020833   \n",
       "2010                         0.212121       0.085859           0.020202   \n",
       "2011                         0.117949       0.076923           0.020513   \n",
       "2012                         0.092784       0.096220           0.034364   \n",
       "2013                         0.131206       0.085106           0.035461   \n",
       "2014                         0.156863       0.094474           0.028520   \n",
       "2015                         0.114316       0.088675           0.040598   \n",
       "2016                         0.078431       0.080989           0.052003   \n",
       "2017                         0.083682       0.081590           0.065551   \n",
       "2018                         0.084112       0.081620           0.075389   \n",
       "2019                         0.086187       0.073059           0.077626   \n",
       "2020                         0.060554       0.084833           0.084833   \n",
       "2021                         0.061360       0.096600           0.092454   \n",
       "2022                         0.070707       0.090909           0.101010   \n",
       "\n",
       "                       Party  \n",
       "track_release_year            \n",
       "1951                0.000000  \n",
       "1980                0.333333  \n",
       "1982                0.333333  \n",
       "1983                0.166667  \n",
       "1985                0.000000  \n",
       "1986                0.333333  \n",
       "1987                0.083333  \n",
       "1988                0.119048  \n",
       "1989                0.133333  \n",
       "1990                0.133333  \n",
       "1991                0.125604  \n",
       "1992                0.071429  \n",
       "1993                0.101266  \n",
       "1994                0.085271  \n",
       "1995                0.047377  \n",
       "1996                0.071429  \n",
       "1997                0.096154  \n",
       "1998                0.076789  \n",
       "1999                0.100775  \n",
       "2000                0.108333  \n",
       "2001                0.123077  \n",
       "2002                0.154321  \n",
       "2003                0.114428  \n",
       "2004                0.127193  \n",
       "2005                0.180556  \n",
       "2006                0.172840  \n",
       "2007                0.128514  \n",
       "2008                0.157576  \n",
       "2009                0.097222  \n",
       "2010                0.156566  \n",
       "2011                0.164103  \n",
       "2012                0.144330  \n",
       "2013                0.140071  \n",
       "2014                0.114082  \n",
       "2015                0.129274  \n",
       "2016                0.148338  \n",
       "2017                0.124826  \n",
       "2018                0.137695  \n",
       "2019                0.139269  \n",
       "2020                0.149957  \n",
       "2021                0.149668  \n",
       "2022                0.101010  "
      ]
     },
     "execution_count": 183,
     "metadata": {},
     "output_type": "execute_result"
    }
   ],
   "source": [
    "df_topics"
   ]
  },
  {
   "cell_type": "code",
   "execution_count": 187,
   "id": "79904d09",
   "metadata": {},
   "outputs": [],
   "source": [
    "df_topics = df_topics[df_topics.index > 1989].reset_index()"
   ]
  },
  {
   "cell_type": "code",
   "execution_count": 189,
   "id": "ad4a592b",
   "metadata": {
    "scrolled": false
   },
   "outputs": [
    {
     "data": {
      "application/vnd.plotly.v1+json": {
       "config": {
        "plotlyServerURL": "https://plot.ly"
       },
       "data": [
        {
         "hovertemplate": "variable=Violence/Gangsta<br>track_release_year=%{x}<br>value=%{y}<extra></extra>",
         "legendgroup": "Violence/Gangsta",
         "line": {
          "color": "#636efa",
          "dash": "solid"
         },
         "marker": {
          "symbol": "circle"
         },
         "mode": "lines",
         "name": "Violence/Gangsta",
         "orientation": "v",
         "showlegend": true,
         "type": "scatter",
         "x": [
          1990,
          1991,
          1992,
          1993,
          1994,
          1995,
          1996,
          1997,
          1998,
          1999,
          2000,
          2001,
          2002,
          2003,
          2004,
          2005,
          2006,
          2007,
          2008,
          2009,
          2010,
          2011,
          2012,
          2013,
          2014,
          2015,
          2016,
          2017,
          2018,
          2019,
          2020,
          2021,
          2022
         ],
         "xaxis": "x",
         "y": [
          0.16666666666666666,
          0.15458937198067632,
          0.1870748299319728,
          0.1940928270042194,
          0.187984496124031,
          0.18104906937394247,
          0.1794871794871795,
          0.16025641025641027,
          0.16404886561954624,
          0.1744186046511628,
          0.2,
          0.17435897435897435,
          0.18518518518518517,
          0.21393034825870647,
          0.16666666666666666,
          0.1597222222222222,
          0.20987654320987653,
          0.1606425702811245,
          0.18181818181818182,
          0.18055555555555555,
          0.18181818181818182,
          0.22564102564102564,
          0.23024054982817868,
          0.2624113475177305,
          0.26559714795008915,
          0.24572649572649571,
          0.24808184143222506,
          0.23709902370990238,
          0.2130841121495327,
          0.23116438356164384,
          0.22536418166238217,
          0.21766169154228857,
          0.23232323232323232
         ],
         "yaxis": "y"
        },
        {
         "hovertemplate": "variable=Musicality<br>track_release_year=%{x}<br>value=%{y}<extra></extra>",
         "legendgroup": "Musicality",
         "line": {
          "color": "#EF553B",
          "dash": "solid"
         },
         "marker": {
          "symbol": "circle"
         },
         "mode": "lines",
         "name": "Musicality",
         "orientation": "v",
         "showlegend": true,
         "type": "scatter",
         "x": [
          1990,
          1991,
          1992,
          1993,
          1994,
          1995,
          1996,
          1997,
          1998,
          1999,
          2000,
          2001,
          2002,
          2003,
          2004,
          2005,
          2006,
          2007,
          2008,
          2009,
          2010,
          2011,
          2012,
          2013,
          2014,
          2015,
          2016,
          2017,
          2018,
          2019,
          2020,
          2021,
          2022
         ],
         "xaxis": "x",
         "y": [
          0.06666666666666667,
          0.07246376811594203,
          0.07142857142857142,
          0.05907172995780591,
          0.046511627906976744,
          0.05752961082910321,
          0.05860805860805861,
          0.07051282051282051,
          0.06631762652705062,
          0.050387596899224806,
          0.08333333333333333,
          0.09230769230769231,
          0.08024691358024691,
          0.04975124378109453,
          0.08333333333333333,
          0.09722222222222222,
          0.08641975308641975,
          0.05220883534136546,
          0.06666666666666667,
          0.09027777777777778,
          0.09595959595959595,
          0.08205128205128205,
          0.08934707903780069,
          0.08156028368794327,
          0.06951871657754011,
          0.07799145299145299,
          0.07672634271099744,
          0.04741980474198047,
          0.0660436137071651,
          0.043949771689497714,
          0.056555269922879174,
          0.053482587064676616,
          0.050505050505050504
         ],
         "yaxis": "y"
        },
        {
         "hovertemplate": "variable=Struggle/Mortality/Spirituality<br>track_release_year=%{x}<br>value=%{y}<extra></extra>",
         "legendgroup": "Struggle/Mortality/Spirituality",
         "line": {
          "color": "#00cc96",
          "dash": "solid"
         },
         "marker": {
          "symbol": "circle"
         },
         "mode": "lines",
         "name": "Struggle/Mortality/Spirituality",
         "orientation": "v",
         "showlegend": true,
         "type": "scatter",
         "x": [
          1990,
          1991,
          1992,
          1993,
          1994,
          1995,
          1996,
          1997,
          1998,
          1999,
          2000,
          2001,
          2002,
          2003,
          2004,
          2005,
          2006,
          2007,
          2008,
          2009,
          2010,
          2011,
          2012,
          2013,
          2014,
          2015,
          2016,
          2017,
          2018,
          2019,
          2020,
          2021,
          2022
         ],
         "xaxis": "x",
         "y": [
          0.03333333333333333,
          0.033816425120772944,
          0.061224489795918366,
          0.0759493670886076,
          0.031007751937984496,
          0.05245346869712352,
          0.03663003663003663,
          0.038461538461538464,
          0.03315881326352531,
          0.031007751937984496,
          0.03333333333333333,
          0.06153846153846154,
          0.043209876543209874,
          0.07462686567164178,
          0.05701754385964912,
          0.05555555555555555,
          0.06172839506172839,
          0.0321285140562249,
          0.05454545454545454,
          0.06944444444444445,
          0.06060606060606061,
          0.08717948717948718,
          0.10652920962199312,
          0.07092198581560284,
          0.08021390374331551,
          0.09188034188034189,
          0.12531969309462915,
          0.15132496513249652,
          0.16137071651090343,
          0.1643835616438356,
          0.16423878891745217,
          0.14593698175787728,
          0.1414141414141414
         ],
         "yaxis": "y"
        },
        {
         "hovertemplate": "variable=Flex<br>track_release_year=%{x}<br>value=%{y}<extra></extra>",
         "legendgroup": "Flex",
         "line": {
          "color": "#ab63fa",
          "dash": "solid"
         },
         "marker": {
          "symbol": "circle"
         },
         "mode": "lines",
         "name": "Flex",
         "orientation": "v",
         "showlegend": true,
         "type": "scatter",
         "x": [
          1990,
          1991,
          1992,
          1993,
          1994,
          1995,
          1996,
          1997,
          1998,
          1999,
          2000,
          2001,
          2002,
          2003,
          2004,
          2005,
          2006,
          2007,
          2008,
          2009,
          2010,
          2011,
          2012,
          2013,
          2014,
          2015,
          2016,
          2017,
          2018,
          2019,
          2020,
          2021,
          2022
         ],
         "xaxis": "x",
         "y": [
          0.15,
          0.21256038647342995,
          0.22108843537414966,
          0.17088607594936708,
          0.2189922480620155,
          0.21489001692047377,
          0.21794871794871795,
          0.20192307692307693,
          0.23734729493891799,
          0.2054263565891473,
          0.26666666666666666,
          0.18974358974358974,
          0.18518518518518517,
          0.17412935323383086,
          0.18421052631578946,
          0.2152777777777778,
          0.09876543209876543,
          0.2248995983935743,
          0.22424242424242424,
          0.19444444444444445,
          0.18686868686868688,
          0.22564102564102564,
          0.20618556701030927,
          0.19326241134751773,
          0.19073083778966132,
          0.21153846153846154,
          0.19011082693947143,
          0.20850767085076707,
          0.1806853582554517,
          0.1843607305936073,
          0.17366466723793203,
          0.1828358208955224,
          0.21212121212121213
         ],
         "yaxis": "y"
        },
        {
         "hovertemplate": "variable=Romance/Sexuality<br>track_release_year=%{x}<br>value=%{y}<extra></extra>",
         "legendgroup": "Romance/Sexuality",
         "line": {
          "color": "#FFA15A",
          "dash": "solid"
         },
         "marker": {
          "symbol": "circle"
         },
         "mode": "lines",
         "name": "Romance/Sexuality",
         "orientation": "v",
         "showlegend": true,
         "type": "scatter",
         "x": [
          1990,
          1991,
          1992,
          1993,
          1994,
          1995,
          1996,
          1997,
          1998,
          1999,
          2000,
          2001,
          2002,
          2003,
          2004,
          2005,
          2006,
          2007,
          2008,
          2009,
          2010,
          2011,
          2012,
          2013,
          2014,
          2015,
          2016,
          2017,
          2018,
          2019,
          2020,
          2021,
          2022
         ],
         "xaxis": "x",
         "y": [
          0.3333333333333333,
          0.30917874396135264,
          0.3163265306122449,
          0.3080168776371308,
          0.3178294573643411,
          0.3062605752961083,
          0.304029304029304,
          0.3076923076923077,
          0.31239092495637,
          0.2441860465116279,
          0.2833333333333333,
          0.26153846153846155,
          0.2345679012345679,
          0.25870646766169153,
          0.21929824561403508,
          0.2013888888888889,
          0.2839506172839506,
          0.24096385542168675,
          0.19393939393939394,
          0.22916666666666666,
          0.21212121212121213,
          0.11794871794871795,
          0.09278350515463918,
          0.13120567375886524,
          0.1568627450980392,
          0.11431623931623931,
          0.0784313725490196,
          0.08368200836820083,
          0.08411214953271028,
          0.08618721461187215,
          0.06055412739217367,
          0.06135986733001658,
          0.0707070707070707
         ],
         "yaxis": "y"
        },
        {
         "hovertemplate": "variable=Feats/Artists<br>track_release_year=%{x}<br>value=%{y}<extra></extra>",
         "legendgroup": "Feats/Artists",
         "line": {
          "color": "#19d3f3",
          "dash": "solid"
         },
         "marker": {
          "symbol": "circle"
         },
         "mode": "lines",
         "name": "Feats/Artists",
         "orientation": "v",
         "showlegend": true,
         "type": "scatter",
         "x": [
          1990,
          1991,
          1992,
          1993,
          1994,
          1995,
          1996,
          1997,
          1998,
          1999,
          2000,
          2001,
          2002,
          2003,
          2004,
          2005,
          2006,
          2007,
          2008,
          2009,
          2010,
          2011,
          2012,
          2013,
          2014,
          2015,
          2016,
          2017,
          2018,
          2019,
          2020,
          2021,
          2022
         ],
         "xaxis": "x",
         "y": [
          0.11666666666666667,
          0.0821256038647343,
          0.06802721088435375,
          0.08016877637130802,
          0.10077519379844961,
          0.12690355329949238,
          0.11355311355311355,
          0.10576923076923077,
          0.1012216404886562,
          0.15503875968992248,
          0.025,
          0.07692307692307693,
          0.09876543209876543,
          0.0945273631840796,
          0.12280701754385964,
          0.08333333333333333,
          0.07407407407407407,
          0.13654618473895583,
          0.10909090909090909,
          0.11805555555555555,
          0.08585858585858586,
          0.07692307692307693,
          0.09621993127147767,
          0.0851063829787234,
          0.0944741532976827,
          0.08867521367521368,
          0.08098891730605286,
          0.08158995815899582,
          0.08161993769470405,
          0.0730593607305936,
          0.08483290488431877,
          0.09660033167495855,
          0.09090909090909091
         ],
         "yaxis": "y"
        },
        {
         "hovertemplate": "variable=Black Excellence?<br>track_release_year=%{x}<br>value=%{y}<extra></extra>",
         "legendgroup": "Black Excellence?",
         "line": {
          "color": "#FF6692",
          "dash": "solid"
         },
         "marker": {
          "symbol": "circle"
         },
         "mode": "lines",
         "name": "Black Excellence?",
         "orientation": "v",
         "showlegend": true,
         "type": "scatter",
         "x": [
          1990,
          1991,
          1992,
          1993,
          1994,
          1995,
          1996,
          1997,
          1998,
          1999,
          2000,
          2001,
          2002,
          2003,
          2004,
          2005,
          2006,
          2007,
          2008,
          2009,
          2010,
          2011,
          2012,
          2013,
          2014,
          2015,
          2016,
          2017,
          2018,
          2019,
          2020,
          2021,
          2022
         ],
         "xaxis": "x",
         "y": [
          0,
          0.00966183574879227,
          0.003401360544217687,
          0.010548523206751054,
          0.011627906976744186,
          0.01353637901861252,
          0.018315018315018316,
          0.019230769230769232,
          0.008726003490401396,
          0.03875968992248062,
          0,
          0.020512820512820513,
          0.018518518518518517,
          0.01990049751243781,
          0.039473684210526314,
          0.006944444444444444,
          0.012345679012345678,
          0.024096385542168676,
          0.012121212121212121,
          0.020833333333333332,
          0.020202020202020204,
          0.020512820512820513,
          0.03436426116838488,
          0.03546099290780142,
          0.0285204991087344,
          0.0405982905982906,
          0.05200341005967604,
          0.06555090655509066,
          0.07538940809968847,
          0.0776255707762557,
          0.08483290488431877,
          0.09245439469320066,
          0.10101010101010101
         ],
         "yaxis": "y"
        },
        {
         "hovertemplate": "variable=Party<br>track_release_year=%{x}<br>value=%{y}<extra></extra>",
         "legendgroup": "Party",
         "line": {
          "color": "#B6E880",
          "dash": "solid"
         },
         "marker": {
          "symbol": "circle"
         },
         "mode": "lines",
         "name": "Party",
         "orientation": "v",
         "showlegend": true,
         "type": "scatter",
         "x": [
          1990,
          1991,
          1992,
          1993,
          1994,
          1995,
          1996,
          1997,
          1998,
          1999,
          2000,
          2001,
          2002,
          2003,
          2004,
          2005,
          2006,
          2007,
          2008,
          2009,
          2010,
          2011,
          2012,
          2013,
          2014,
          2015,
          2016,
          2017,
          2018,
          2019,
          2020,
          2021,
          2022
         ],
         "xaxis": "x",
         "y": [
          0.13333333333333333,
          0.12560386473429952,
          0.07142857142857142,
          0.10126582278481013,
          0.08527131782945736,
          0.047377326565143825,
          0.07142857142857142,
          0.09615384615384616,
          0.07678883071553229,
          0.10077519379844961,
          0.10833333333333334,
          0.12307692307692308,
          0.15432098765432098,
          0.11442786069651742,
          0.12719298245614036,
          0.18055555555555555,
          0.1728395061728395,
          0.1285140562248996,
          0.15757575757575756,
          0.09722222222222222,
          0.15656565656565657,
          0.1641025641025641,
          0.14432989690721648,
          0.1400709219858156,
          0.1140819964349376,
          0.12927350427350429,
          0.1483375959079284,
          0.12482566248256625,
          0.13769470404984424,
          0.13926940639269406,
          0.14995715509854327,
          0.14966832504145938,
          0.10101010101010101
         ],
         "yaxis": "y"
        }
       ],
       "layout": {
        "legend": {
         "title": {
          "text": "variable"
         },
         "tracegroupgap": 0
        },
        "margin": {
         "t": 60
        },
        "template": {
         "data": {
          "bar": [
           {
            "error_x": {
             "color": "#2a3f5f"
            },
            "error_y": {
             "color": "#2a3f5f"
            },
            "marker": {
             "line": {
              "color": "#E5ECF6",
              "width": 0.5
             },
             "pattern": {
              "fillmode": "overlay",
              "size": 10,
              "solidity": 0.2
             }
            },
            "type": "bar"
           }
          ],
          "barpolar": [
           {
            "marker": {
             "line": {
              "color": "#E5ECF6",
              "width": 0.5
             },
             "pattern": {
              "fillmode": "overlay",
              "size": 10,
              "solidity": 0.2
             }
            },
            "type": "barpolar"
           }
          ],
          "carpet": [
           {
            "aaxis": {
             "endlinecolor": "#2a3f5f",
             "gridcolor": "white",
             "linecolor": "white",
             "minorgridcolor": "white",
             "startlinecolor": "#2a3f5f"
            },
            "baxis": {
             "endlinecolor": "#2a3f5f",
             "gridcolor": "white",
             "linecolor": "white",
             "minorgridcolor": "white",
             "startlinecolor": "#2a3f5f"
            },
            "type": "carpet"
           }
          ],
          "choropleth": [
           {
            "colorbar": {
             "outlinewidth": 0,
             "ticks": ""
            },
            "type": "choropleth"
           }
          ],
          "contour": [
           {
            "colorbar": {
             "outlinewidth": 0,
             "ticks": ""
            },
            "colorscale": [
             [
              0,
              "#0d0887"
             ],
             [
              0.1111111111111111,
              "#46039f"
             ],
             [
              0.2222222222222222,
              "#7201a8"
             ],
             [
              0.3333333333333333,
              "#9c179e"
             ],
             [
              0.4444444444444444,
              "#bd3786"
             ],
             [
              0.5555555555555556,
              "#d8576b"
             ],
             [
              0.6666666666666666,
              "#ed7953"
             ],
             [
              0.7777777777777778,
              "#fb9f3a"
             ],
             [
              0.8888888888888888,
              "#fdca26"
             ],
             [
              1,
              "#f0f921"
             ]
            ],
            "type": "contour"
           }
          ],
          "contourcarpet": [
           {
            "colorbar": {
             "outlinewidth": 0,
             "ticks": ""
            },
            "type": "contourcarpet"
           }
          ],
          "heatmap": [
           {
            "colorbar": {
             "outlinewidth": 0,
             "ticks": ""
            },
            "colorscale": [
             [
              0,
              "#0d0887"
             ],
             [
              0.1111111111111111,
              "#46039f"
             ],
             [
              0.2222222222222222,
              "#7201a8"
             ],
             [
              0.3333333333333333,
              "#9c179e"
             ],
             [
              0.4444444444444444,
              "#bd3786"
             ],
             [
              0.5555555555555556,
              "#d8576b"
             ],
             [
              0.6666666666666666,
              "#ed7953"
             ],
             [
              0.7777777777777778,
              "#fb9f3a"
             ],
             [
              0.8888888888888888,
              "#fdca26"
             ],
             [
              1,
              "#f0f921"
             ]
            ],
            "type": "heatmap"
           }
          ],
          "heatmapgl": [
           {
            "colorbar": {
             "outlinewidth": 0,
             "ticks": ""
            },
            "colorscale": [
             [
              0,
              "#0d0887"
             ],
             [
              0.1111111111111111,
              "#46039f"
             ],
             [
              0.2222222222222222,
              "#7201a8"
             ],
             [
              0.3333333333333333,
              "#9c179e"
             ],
             [
              0.4444444444444444,
              "#bd3786"
             ],
             [
              0.5555555555555556,
              "#d8576b"
             ],
             [
              0.6666666666666666,
              "#ed7953"
             ],
             [
              0.7777777777777778,
              "#fb9f3a"
             ],
             [
              0.8888888888888888,
              "#fdca26"
             ],
             [
              1,
              "#f0f921"
             ]
            ],
            "type": "heatmapgl"
           }
          ],
          "histogram": [
           {
            "marker": {
             "pattern": {
              "fillmode": "overlay",
              "size": 10,
              "solidity": 0.2
             }
            },
            "type": "histogram"
           }
          ],
          "histogram2d": [
           {
            "colorbar": {
             "outlinewidth": 0,
             "ticks": ""
            },
            "colorscale": [
             [
              0,
              "#0d0887"
             ],
             [
              0.1111111111111111,
              "#46039f"
             ],
             [
              0.2222222222222222,
              "#7201a8"
             ],
             [
              0.3333333333333333,
              "#9c179e"
             ],
             [
              0.4444444444444444,
              "#bd3786"
             ],
             [
              0.5555555555555556,
              "#d8576b"
             ],
             [
              0.6666666666666666,
              "#ed7953"
             ],
             [
              0.7777777777777778,
              "#fb9f3a"
             ],
             [
              0.8888888888888888,
              "#fdca26"
             ],
             [
              1,
              "#f0f921"
             ]
            ],
            "type": "histogram2d"
           }
          ],
          "histogram2dcontour": [
           {
            "colorbar": {
             "outlinewidth": 0,
             "ticks": ""
            },
            "colorscale": [
             [
              0,
              "#0d0887"
             ],
             [
              0.1111111111111111,
              "#46039f"
             ],
             [
              0.2222222222222222,
              "#7201a8"
             ],
             [
              0.3333333333333333,
              "#9c179e"
             ],
             [
              0.4444444444444444,
              "#bd3786"
             ],
             [
              0.5555555555555556,
              "#d8576b"
             ],
             [
              0.6666666666666666,
              "#ed7953"
             ],
             [
              0.7777777777777778,
              "#fb9f3a"
             ],
             [
              0.8888888888888888,
              "#fdca26"
             ],
             [
              1,
              "#f0f921"
             ]
            ],
            "type": "histogram2dcontour"
           }
          ],
          "mesh3d": [
           {
            "colorbar": {
             "outlinewidth": 0,
             "ticks": ""
            },
            "type": "mesh3d"
           }
          ],
          "parcoords": [
           {
            "line": {
             "colorbar": {
              "outlinewidth": 0,
              "ticks": ""
             }
            },
            "type": "parcoords"
           }
          ],
          "pie": [
           {
            "automargin": true,
            "type": "pie"
           }
          ],
          "scatter": [
           {
            "marker": {
             "colorbar": {
              "outlinewidth": 0,
              "ticks": ""
             }
            },
            "type": "scatter"
           }
          ],
          "scatter3d": [
           {
            "line": {
             "colorbar": {
              "outlinewidth": 0,
              "ticks": ""
             }
            },
            "marker": {
             "colorbar": {
              "outlinewidth": 0,
              "ticks": ""
             }
            },
            "type": "scatter3d"
           }
          ],
          "scattercarpet": [
           {
            "marker": {
             "colorbar": {
              "outlinewidth": 0,
              "ticks": ""
             }
            },
            "type": "scattercarpet"
           }
          ],
          "scattergeo": [
           {
            "marker": {
             "colorbar": {
              "outlinewidth": 0,
              "ticks": ""
             }
            },
            "type": "scattergeo"
           }
          ],
          "scattergl": [
           {
            "marker": {
             "colorbar": {
              "outlinewidth": 0,
              "ticks": ""
             }
            },
            "type": "scattergl"
           }
          ],
          "scattermapbox": [
           {
            "marker": {
             "colorbar": {
              "outlinewidth": 0,
              "ticks": ""
             }
            },
            "type": "scattermapbox"
           }
          ],
          "scatterpolar": [
           {
            "marker": {
             "colorbar": {
              "outlinewidth": 0,
              "ticks": ""
             }
            },
            "type": "scatterpolar"
           }
          ],
          "scatterpolargl": [
           {
            "marker": {
             "colorbar": {
              "outlinewidth": 0,
              "ticks": ""
             }
            },
            "type": "scatterpolargl"
           }
          ],
          "scatterternary": [
           {
            "marker": {
             "colorbar": {
              "outlinewidth": 0,
              "ticks": ""
             }
            },
            "type": "scatterternary"
           }
          ],
          "surface": [
           {
            "colorbar": {
             "outlinewidth": 0,
             "ticks": ""
            },
            "colorscale": [
             [
              0,
              "#0d0887"
             ],
             [
              0.1111111111111111,
              "#46039f"
             ],
             [
              0.2222222222222222,
              "#7201a8"
             ],
             [
              0.3333333333333333,
              "#9c179e"
             ],
             [
              0.4444444444444444,
              "#bd3786"
             ],
             [
              0.5555555555555556,
              "#d8576b"
             ],
             [
              0.6666666666666666,
              "#ed7953"
             ],
             [
              0.7777777777777778,
              "#fb9f3a"
             ],
             [
              0.8888888888888888,
              "#fdca26"
             ],
             [
              1,
              "#f0f921"
             ]
            ],
            "type": "surface"
           }
          ],
          "table": [
           {
            "cells": {
             "fill": {
              "color": "#EBF0F8"
             },
             "line": {
              "color": "white"
             }
            },
            "header": {
             "fill": {
              "color": "#C8D4E3"
             },
             "line": {
              "color": "white"
             }
            },
            "type": "table"
           }
          ]
         },
         "layout": {
          "annotationdefaults": {
           "arrowcolor": "#2a3f5f",
           "arrowhead": 0,
           "arrowwidth": 1
          },
          "autotypenumbers": "strict",
          "coloraxis": {
           "colorbar": {
            "outlinewidth": 0,
            "ticks": ""
           }
          },
          "colorscale": {
           "diverging": [
            [
             0,
             "#8e0152"
            ],
            [
             0.1,
             "#c51b7d"
            ],
            [
             0.2,
             "#de77ae"
            ],
            [
             0.3,
             "#f1b6da"
            ],
            [
             0.4,
             "#fde0ef"
            ],
            [
             0.5,
             "#f7f7f7"
            ],
            [
             0.6,
             "#e6f5d0"
            ],
            [
             0.7,
             "#b8e186"
            ],
            [
             0.8,
             "#7fbc41"
            ],
            [
             0.9,
             "#4d9221"
            ],
            [
             1,
             "#276419"
            ]
           ],
           "sequential": [
            [
             0,
             "#0d0887"
            ],
            [
             0.1111111111111111,
             "#46039f"
            ],
            [
             0.2222222222222222,
             "#7201a8"
            ],
            [
             0.3333333333333333,
             "#9c179e"
            ],
            [
             0.4444444444444444,
             "#bd3786"
            ],
            [
             0.5555555555555556,
             "#d8576b"
            ],
            [
             0.6666666666666666,
             "#ed7953"
            ],
            [
             0.7777777777777778,
             "#fb9f3a"
            ],
            [
             0.8888888888888888,
             "#fdca26"
            ],
            [
             1,
             "#f0f921"
            ]
           ],
           "sequentialminus": [
            [
             0,
             "#0d0887"
            ],
            [
             0.1111111111111111,
             "#46039f"
            ],
            [
             0.2222222222222222,
             "#7201a8"
            ],
            [
             0.3333333333333333,
             "#9c179e"
            ],
            [
             0.4444444444444444,
             "#bd3786"
            ],
            [
             0.5555555555555556,
             "#d8576b"
            ],
            [
             0.6666666666666666,
             "#ed7953"
            ],
            [
             0.7777777777777778,
             "#fb9f3a"
            ],
            [
             0.8888888888888888,
             "#fdca26"
            ],
            [
             1,
             "#f0f921"
            ]
           ]
          },
          "colorway": [
           "#636efa",
           "#EF553B",
           "#00cc96",
           "#ab63fa",
           "#FFA15A",
           "#19d3f3",
           "#FF6692",
           "#B6E880",
           "#FF97FF",
           "#FECB52"
          ],
          "font": {
           "color": "#2a3f5f"
          },
          "geo": {
           "bgcolor": "white",
           "lakecolor": "white",
           "landcolor": "#E5ECF6",
           "showlakes": true,
           "showland": true,
           "subunitcolor": "white"
          },
          "hoverlabel": {
           "align": "left"
          },
          "hovermode": "closest",
          "mapbox": {
           "style": "light"
          },
          "paper_bgcolor": "white",
          "plot_bgcolor": "#E5ECF6",
          "polar": {
           "angularaxis": {
            "gridcolor": "white",
            "linecolor": "white",
            "ticks": ""
           },
           "bgcolor": "#E5ECF6",
           "radialaxis": {
            "gridcolor": "white",
            "linecolor": "white",
            "ticks": ""
           }
          },
          "scene": {
           "xaxis": {
            "backgroundcolor": "#E5ECF6",
            "gridcolor": "white",
            "gridwidth": 2,
            "linecolor": "white",
            "showbackground": true,
            "ticks": "",
            "zerolinecolor": "white"
           },
           "yaxis": {
            "backgroundcolor": "#E5ECF6",
            "gridcolor": "white",
            "gridwidth": 2,
            "linecolor": "white",
            "showbackground": true,
            "ticks": "",
            "zerolinecolor": "white"
           },
           "zaxis": {
            "backgroundcolor": "#E5ECF6",
            "gridcolor": "white",
            "gridwidth": 2,
            "linecolor": "white",
            "showbackground": true,
            "ticks": "",
            "zerolinecolor": "white"
           }
          },
          "shapedefaults": {
           "line": {
            "color": "#2a3f5f"
           }
          },
          "ternary": {
           "aaxis": {
            "gridcolor": "white",
            "linecolor": "white",
            "ticks": ""
           },
           "baxis": {
            "gridcolor": "white",
            "linecolor": "white",
            "ticks": ""
           },
           "bgcolor": "#E5ECF6",
           "caxis": {
            "gridcolor": "white",
            "linecolor": "white",
            "ticks": ""
           }
          },
          "title": {
           "x": 0.05
          },
          "xaxis": {
           "automargin": true,
           "gridcolor": "white",
           "linecolor": "white",
           "ticks": "",
           "title": {
            "standoff": 15
           },
           "zerolinecolor": "white",
           "zerolinewidth": 2
          },
          "yaxis": {
           "automargin": true,
           "gridcolor": "white",
           "linecolor": "white",
           "ticks": "",
           "title": {
            "standoff": 15
           },
           "zerolinecolor": "white",
           "zerolinewidth": 2
          }
         }
        },
        "xaxis": {
         "anchor": "y",
         "domain": [
          0,
          1
         ],
         "title": {
          "text": "track_release_year"
         }
        },
        "yaxis": {
         "anchor": "x",
         "domain": [
          0,
          1
         ],
         "title": {
          "text": "value"
         }
        }
       }
      },
      "text/html": [
       "<div>                            <div id=\"6819c18b-568b-4974-a021-ff38aba29596\" class=\"plotly-graph-div\" style=\"height:525px; width:100%;\"></div>            <script type=\"text/javascript\">                require([\"plotly\"], function(Plotly) {                    window.PLOTLYENV=window.PLOTLYENV || {};                                    if (document.getElementById(\"6819c18b-568b-4974-a021-ff38aba29596\")) {                    Plotly.newPlot(                        \"6819c18b-568b-4974-a021-ff38aba29596\",                        [{\"hovertemplate\":\"variable=Violence/Gangsta<br>track_release_year=%{x}<br>value=%{y}<extra></extra>\",\"legendgroup\":\"Violence/Gangsta\",\"line\":{\"color\":\"#636efa\",\"dash\":\"solid\"},\"marker\":{\"symbol\":\"circle\"},\"mode\":\"lines\",\"name\":\"Violence/Gangsta\",\"orientation\":\"v\",\"showlegend\":true,\"x\":[1990,1991,1992,1993,1994,1995,1996,1997,1998,1999,2000,2001,2002,2003,2004,2005,2006,2007,2008,2009,2010,2011,2012,2013,2014,2015,2016,2017,2018,2019,2020,2021,2022],\"xaxis\":\"x\",\"y\":[0.16666666666666666,0.15458937198067632,0.1870748299319728,0.1940928270042194,0.187984496124031,0.18104906937394247,0.1794871794871795,0.16025641025641027,0.16404886561954624,0.1744186046511628,0.2,0.17435897435897435,0.18518518518518517,0.21393034825870647,0.16666666666666666,0.1597222222222222,0.20987654320987653,0.1606425702811245,0.18181818181818182,0.18055555555555555,0.18181818181818182,0.22564102564102564,0.23024054982817868,0.2624113475177305,0.26559714795008915,0.24572649572649571,0.24808184143222506,0.23709902370990238,0.2130841121495327,0.23116438356164384,0.22536418166238217,0.21766169154228857,0.23232323232323232],\"yaxis\":\"y\",\"type\":\"scatter\"},{\"hovertemplate\":\"variable=Musicality<br>track_release_year=%{x}<br>value=%{y}<extra></extra>\",\"legendgroup\":\"Musicality\",\"line\":{\"color\":\"#EF553B\",\"dash\":\"solid\"},\"marker\":{\"symbol\":\"circle\"},\"mode\":\"lines\",\"name\":\"Musicality\",\"orientation\":\"v\",\"showlegend\":true,\"x\":[1990,1991,1992,1993,1994,1995,1996,1997,1998,1999,2000,2001,2002,2003,2004,2005,2006,2007,2008,2009,2010,2011,2012,2013,2014,2015,2016,2017,2018,2019,2020,2021,2022],\"xaxis\":\"x\",\"y\":[0.06666666666666667,0.07246376811594203,0.07142857142857142,0.05907172995780591,0.046511627906976744,0.05752961082910321,0.05860805860805861,0.07051282051282051,0.06631762652705062,0.050387596899224806,0.08333333333333333,0.09230769230769231,0.08024691358024691,0.04975124378109453,0.08333333333333333,0.09722222222222222,0.08641975308641975,0.05220883534136546,0.06666666666666667,0.09027777777777778,0.09595959595959595,0.08205128205128205,0.08934707903780069,0.08156028368794327,0.06951871657754011,0.07799145299145299,0.07672634271099744,0.04741980474198047,0.0660436137071651,0.043949771689497714,0.056555269922879174,0.053482587064676616,0.050505050505050504],\"yaxis\":\"y\",\"type\":\"scatter\"},{\"hovertemplate\":\"variable=Struggle/Mortality/Spirituality<br>track_release_year=%{x}<br>value=%{y}<extra></extra>\",\"legendgroup\":\"Struggle/Mortality/Spirituality\",\"line\":{\"color\":\"#00cc96\",\"dash\":\"solid\"},\"marker\":{\"symbol\":\"circle\"},\"mode\":\"lines\",\"name\":\"Struggle/Mortality/Spirituality\",\"orientation\":\"v\",\"showlegend\":true,\"x\":[1990,1991,1992,1993,1994,1995,1996,1997,1998,1999,2000,2001,2002,2003,2004,2005,2006,2007,2008,2009,2010,2011,2012,2013,2014,2015,2016,2017,2018,2019,2020,2021,2022],\"xaxis\":\"x\",\"y\":[0.03333333333333333,0.033816425120772944,0.061224489795918366,0.0759493670886076,0.031007751937984496,0.05245346869712352,0.03663003663003663,0.038461538461538464,0.03315881326352531,0.031007751937984496,0.03333333333333333,0.06153846153846154,0.043209876543209874,0.07462686567164178,0.05701754385964912,0.05555555555555555,0.06172839506172839,0.0321285140562249,0.05454545454545454,0.06944444444444445,0.06060606060606061,0.08717948717948718,0.10652920962199312,0.07092198581560284,0.08021390374331551,0.09188034188034189,0.12531969309462915,0.15132496513249652,0.16137071651090343,0.1643835616438356,0.16423878891745217,0.14593698175787728,0.1414141414141414],\"yaxis\":\"y\",\"type\":\"scatter\"},{\"hovertemplate\":\"variable=Flex<br>track_release_year=%{x}<br>value=%{y}<extra></extra>\",\"legendgroup\":\"Flex\",\"line\":{\"color\":\"#ab63fa\",\"dash\":\"solid\"},\"marker\":{\"symbol\":\"circle\"},\"mode\":\"lines\",\"name\":\"Flex\",\"orientation\":\"v\",\"showlegend\":true,\"x\":[1990,1991,1992,1993,1994,1995,1996,1997,1998,1999,2000,2001,2002,2003,2004,2005,2006,2007,2008,2009,2010,2011,2012,2013,2014,2015,2016,2017,2018,2019,2020,2021,2022],\"xaxis\":\"x\",\"y\":[0.15,0.21256038647342995,0.22108843537414966,0.17088607594936708,0.2189922480620155,0.21489001692047377,0.21794871794871795,0.20192307692307693,0.23734729493891799,0.2054263565891473,0.26666666666666666,0.18974358974358974,0.18518518518518517,0.17412935323383086,0.18421052631578946,0.2152777777777778,0.09876543209876543,0.2248995983935743,0.22424242424242424,0.19444444444444445,0.18686868686868688,0.22564102564102564,0.20618556701030927,0.19326241134751773,0.19073083778966132,0.21153846153846154,0.19011082693947143,0.20850767085076707,0.1806853582554517,0.1843607305936073,0.17366466723793203,0.1828358208955224,0.21212121212121213],\"yaxis\":\"y\",\"type\":\"scatter\"},{\"hovertemplate\":\"variable=Romance/Sexuality<br>track_release_year=%{x}<br>value=%{y}<extra></extra>\",\"legendgroup\":\"Romance/Sexuality\",\"line\":{\"color\":\"#FFA15A\",\"dash\":\"solid\"},\"marker\":{\"symbol\":\"circle\"},\"mode\":\"lines\",\"name\":\"Romance/Sexuality\",\"orientation\":\"v\",\"showlegend\":true,\"x\":[1990,1991,1992,1993,1994,1995,1996,1997,1998,1999,2000,2001,2002,2003,2004,2005,2006,2007,2008,2009,2010,2011,2012,2013,2014,2015,2016,2017,2018,2019,2020,2021,2022],\"xaxis\":\"x\",\"y\":[0.3333333333333333,0.30917874396135264,0.3163265306122449,0.3080168776371308,0.3178294573643411,0.3062605752961083,0.304029304029304,0.3076923076923077,0.31239092495637,0.2441860465116279,0.2833333333333333,0.26153846153846155,0.2345679012345679,0.25870646766169153,0.21929824561403508,0.2013888888888889,0.2839506172839506,0.24096385542168675,0.19393939393939394,0.22916666666666666,0.21212121212121213,0.11794871794871795,0.09278350515463918,0.13120567375886524,0.1568627450980392,0.11431623931623931,0.0784313725490196,0.08368200836820083,0.08411214953271028,0.08618721461187215,0.06055412739217367,0.06135986733001658,0.0707070707070707],\"yaxis\":\"y\",\"type\":\"scatter\"},{\"hovertemplate\":\"variable=Feats/Artists<br>track_release_year=%{x}<br>value=%{y}<extra></extra>\",\"legendgroup\":\"Feats/Artists\",\"line\":{\"color\":\"#19d3f3\",\"dash\":\"solid\"},\"marker\":{\"symbol\":\"circle\"},\"mode\":\"lines\",\"name\":\"Feats/Artists\",\"orientation\":\"v\",\"showlegend\":true,\"x\":[1990,1991,1992,1993,1994,1995,1996,1997,1998,1999,2000,2001,2002,2003,2004,2005,2006,2007,2008,2009,2010,2011,2012,2013,2014,2015,2016,2017,2018,2019,2020,2021,2022],\"xaxis\":\"x\",\"y\":[0.11666666666666667,0.0821256038647343,0.06802721088435375,0.08016877637130802,0.10077519379844961,0.12690355329949238,0.11355311355311355,0.10576923076923077,0.1012216404886562,0.15503875968992248,0.025,0.07692307692307693,0.09876543209876543,0.0945273631840796,0.12280701754385964,0.08333333333333333,0.07407407407407407,0.13654618473895583,0.10909090909090909,0.11805555555555555,0.08585858585858586,0.07692307692307693,0.09621993127147767,0.0851063829787234,0.0944741532976827,0.08867521367521368,0.08098891730605286,0.08158995815899582,0.08161993769470405,0.0730593607305936,0.08483290488431877,0.09660033167495855,0.09090909090909091],\"yaxis\":\"y\",\"type\":\"scatter\"},{\"hovertemplate\":\"variable=Black Excellence?<br>track_release_year=%{x}<br>value=%{y}<extra></extra>\",\"legendgroup\":\"Black Excellence?\",\"line\":{\"color\":\"#FF6692\",\"dash\":\"solid\"},\"marker\":{\"symbol\":\"circle\"},\"mode\":\"lines\",\"name\":\"Black Excellence?\",\"orientation\":\"v\",\"showlegend\":true,\"x\":[1990,1991,1992,1993,1994,1995,1996,1997,1998,1999,2000,2001,2002,2003,2004,2005,2006,2007,2008,2009,2010,2011,2012,2013,2014,2015,2016,2017,2018,2019,2020,2021,2022],\"xaxis\":\"x\",\"y\":[0.0,0.00966183574879227,0.003401360544217687,0.010548523206751054,0.011627906976744186,0.01353637901861252,0.018315018315018316,0.019230769230769232,0.008726003490401396,0.03875968992248062,0.0,0.020512820512820513,0.018518518518518517,0.01990049751243781,0.039473684210526314,0.006944444444444444,0.012345679012345678,0.024096385542168676,0.012121212121212121,0.020833333333333332,0.020202020202020204,0.020512820512820513,0.03436426116838488,0.03546099290780142,0.0285204991087344,0.0405982905982906,0.05200341005967604,0.06555090655509066,0.07538940809968847,0.0776255707762557,0.08483290488431877,0.09245439469320066,0.10101010101010101],\"yaxis\":\"y\",\"type\":\"scatter\"},{\"hovertemplate\":\"variable=Party<br>track_release_year=%{x}<br>value=%{y}<extra></extra>\",\"legendgroup\":\"Party\",\"line\":{\"color\":\"#B6E880\",\"dash\":\"solid\"},\"marker\":{\"symbol\":\"circle\"},\"mode\":\"lines\",\"name\":\"Party\",\"orientation\":\"v\",\"showlegend\":true,\"x\":[1990,1991,1992,1993,1994,1995,1996,1997,1998,1999,2000,2001,2002,2003,2004,2005,2006,2007,2008,2009,2010,2011,2012,2013,2014,2015,2016,2017,2018,2019,2020,2021,2022],\"xaxis\":\"x\",\"y\":[0.13333333333333333,0.12560386473429952,0.07142857142857142,0.10126582278481013,0.08527131782945736,0.047377326565143825,0.07142857142857142,0.09615384615384616,0.07678883071553229,0.10077519379844961,0.10833333333333334,0.12307692307692308,0.15432098765432098,0.11442786069651742,0.12719298245614036,0.18055555555555555,0.1728395061728395,0.1285140562248996,0.15757575757575756,0.09722222222222222,0.15656565656565657,0.1641025641025641,0.14432989690721648,0.1400709219858156,0.1140819964349376,0.12927350427350429,0.1483375959079284,0.12482566248256625,0.13769470404984424,0.13926940639269406,0.14995715509854327,0.14966832504145938,0.10101010101010101],\"yaxis\":\"y\",\"type\":\"scatter\"}],                        {\"template\":{\"data\":{\"bar\":[{\"error_x\":{\"color\":\"#2a3f5f\"},\"error_y\":{\"color\":\"#2a3f5f\"},\"marker\":{\"line\":{\"color\":\"#E5ECF6\",\"width\":0.5},\"pattern\":{\"fillmode\":\"overlay\",\"size\":10,\"solidity\":0.2}},\"type\":\"bar\"}],\"barpolar\":[{\"marker\":{\"line\":{\"color\":\"#E5ECF6\",\"width\":0.5},\"pattern\":{\"fillmode\":\"overlay\",\"size\":10,\"solidity\":0.2}},\"type\":\"barpolar\"}],\"carpet\":[{\"aaxis\":{\"endlinecolor\":\"#2a3f5f\",\"gridcolor\":\"white\",\"linecolor\":\"white\",\"minorgridcolor\":\"white\",\"startlinecolor\":\"#2a3f5f\"},\"baxis\":{\"endlinecolor\":\"#2a3f5f\",\"gridcolor\":\"white\",\"linecolor\":\"white\",\"minorgridcolor\":\"white\",\"startlinecolor\":\"#2a3f5f\"},\"type\":\"carpet\"}],\"choropleth\":[{\"colorbar\":{\"outlinewidth\":0,\"ticks\":\"\"},\"type\":\"choropleth\"}],\"contour\":[{\"colorbar\":{\"outlinewidth\":0,\"ticks\":\"\"},\"colorscale\":[[0.0,\"#0d0887\"],[0.1111111111111111,\"#46039f\"],[0.2222222222222222,\"#7201a8\"],[0.3333333333333333,\"#9c179e\"],[0.4444444444444444,\"#bd3786\"],[0.5555555555555556,\"#d8576b\"],[0.6666666666666666,\"#ed7953\"],[0.7777777777777778,\"#fb9f3a\"],[0.8888888888888888,\"#fdca26\"],[1.0,\"#f0f921\"]],\"type\":\"contour\"}],\"contourcarpet\":[{\"colorbar\":{\"outlinewidth\":0,\"ticks\":\"\"},\"type\":\"contourcarpet\"}],\"heatmap\":[{\"colorbar\":{\"outlinewidth\":0,\"ticks\":\"\"},\"colorscale\":[[0.0,\"#0d0887\"],[0.1111111111111111,\"#46039f\"],[0.2222222222222222,\"#7201a8\"],[0.3333333333333333,\"#9c179e\"],[0.4444444444444444,\"#bd3786\"],[0.5555555555555556,\"#d8576b\"],[0.6666666666666666,\"#ed7953\"],[0.7777777777777778,\"#fb9f3a\"],[0.8888888888888888,\"#fdca26\"],[1.0,\"#f0f921\"]],\"type\":\"heatmap\"}],\"heatmapgl\":[{\"colorbar\":{\"outlinewidth\":0,\"ticks\":\"\"},\"colorscale\":[[0.0,\"#0d0887\"],[0.1111111111111111,\"#46039f\"],[0.2222222222222222,\"#7201a8\"],[0.3333333333333333,\"#9c179e\"],[0.4444444444444444,\"#bd3786\"],[0.5555555555555556,\"#d8576b\"],[0.6666666666666666,\"#ed7953\"],[0.7777777777777778,\"#fb9f3a\"],[0.8888888888888888,\"#fdca26\"],[1.0,\"#f0f921\"]],\"type\":\"heatmapgl\"}],\"histogram\":[{\"marker\":{\"pattern\":{\"fillmode\":\"overlay\",\"size\":10,\"solidity\":0.2}},\"type\":\"histogram\"}],\"histogram2d\":[{\"colorbar\":{\"outlinewidth\":0,\"ticks\":\"\"},\"colorscale\":[[0.0,\"#0d0887\"],[0.1111111111111111,\"#46039f\"],[0.2222222222222222,\"#7201a8\"],[0.3333333333333333,\"#9c179e\"],[0.4444444444444444,\"#bd3786\"],[0.5555555555555556,\"#d8576b\"],[0.6666666666666666,\"#ed7953\"],[0.7777777777777778,\"#fb9f3a\"],[0.8888888888888888,\"#fdca26\"],[1.0,\"#f0f921\"]],\"type\":\"histogram2d\"}],\"histogram2dcontour\":[{\"colorbar\":{\"outlinewidth\":0,\"ticks\":\"\"},\"colorscale\":[[0.0,\"#0d0887\"],[0.1111111111111111,\"#46039f\"],[0.2222222222222222,\"#7201a8\"],[0.3333333333333333,\"#9c179e\"],[0.4444444444444444,\"#bd3786\"],[0.5555555555555556,\"#d8576b\"],[0.6666666666666666,\"#ed7953\"],[0.7777777777777778,\"#fb9f3a\"],[0.8888888888888888,\"#fdca26\"],[1.0,\"#f0f921\"]],\"type\":\"histogram2dcontour\"}],\"mesh3d\":[{\"colorbar\":{\"outlinewidth\":0,\"ticks\":\"\"},\"type\":\"mesh3d\"}],\"parcoords\":[{\"line\":{\"colorbar\":{\"outlinewidth\":0,\"ticks\":\"\"}},\"type\":\"parcoords\"}],\"pie\":[{\"automargin\":true,\"type\":\"pie\"}],\"scatter\":[{\"marker\":{\"colorbar\":{\"outlinewidth\":0,\"ticks\":\"\"}},\"type\":\"scatter\"}],\"scatter3d\":[{\"line\":{\"colorbar\":{\"outlinewidth\":0,\"ticks\":\"\"}},\"marker\":{\"colorbar\":{\"outlinewidth\":0,\"ticks\":\"\"}},\"type\":\"scatter3d\"}],\"scattercarpet\":[{\"marker\":{\"colorbar\":{\"outlinewidth\":0,\"ticks\":\"\"}},\"type\":\"scattercarpet\"}],\"scattergeo\":[{\"marker\":{\"colorbar\":{\"outlinewidth\":0,\"ticks\":\"\"}},\"type\":\"scattergeo\"}],\"scattergl\":[{\"marker\":{\"colorbar\":{\"outlinewidth\":0,\"ticks\":\"\"}},\"type\":\"scattergl\"}],\"scattermapbox\":[{\"marker\":{\"colorbar\":{\"outlinewidth\":0,\"ticks\":\"\"}},\"type\":\"scattermapbox\"}],\"scatterpolar\":[{\"marker\":{\"colorbar\":{\"outlinewidth\":0,\"ticks\":\"\"}},\"type\":\"scatterpolar\"}],\"scatterpolargl\":[{\"marker\":{\"colorbar\":{\"outlinewidth\":0,\"ticks\":\"\"}},\"type\":\"scatterpolargl\"}],\"scatterternary\":[{\"marker\":{\"colorbar\":{\"outlinewidth\":0,\"ticks\":\"\"}},\"type\":\"scatterternary\"}],\"surface\":[{\"colorbar\":{\"outlinewidth\":0,\"ticks\":\"\"},\"colorscale\":[[0.0,\"#0d0887\"],[0.1111111111111111,\"#46039f\"],[0.2222222222222222,\"#7201a8\"],[0.3333333333333333,\"#9c179e\"],[0.4444444444444444,\"#bd3786\"],[0.5555555555555556,\"#d8576b\"],[0.6666666666666666,\"#ed7953\"],[0.7777777777777778,\"#fb9f3a\"],[0.8888888888888888,\"#fdca26\"],[1.0,\"#f0f921\"]],\"type\":\"surface\"}],\"table\":[{\"cells\":{\"fill\":{\"color\":\"#EBF0F8\"},\"line\":{\"color\":\"white\"}},\"header\":{\"fill\":{\"color\":\"#C8D4E3\"},\"line\":{\"color\":\"white\"}},\"type\":\"table\"}]},\"layout\":{\"annotationdefaults\":{\"arrowcolor\":\"#2a3f5f\",\"arrowhead\":0,\"arrowwidth\":1},\"autotypenumbers\":\"strict\",\"coloraxis\":{\"colorbar\":{\"outlinewidth\":0,\"ticks\":\"\"}},\"colorscale\":{\"diverging\":[[0,\"#8e0152\"],[0.1,\"#c51b7d\"],[0.2,\"#de77ae\"],[0.3,\"#f1b6da\"],[0.4,\"#fde0ef\"],[0.5,\"#f7f7f7\"],[0.6,\"#e6f5d0\"],[0.7,\"#b8e186\"],[0.8,\"#7fbc41\"],[0.9,\"#4d9221\"],[1,\"#276419\"]],\"sequential\":[[0.0,\"#0d0887\"],[0.1111111111111111,\"#46039f\"],[0.2222222222222222,\"#7201a8\"],[0.3333333333333333,\"#9c179e\"],[0.4444444444444444,\"#bd3786\"],[0.5555555555555556,\"#d8576b\"],[0.6666666666666666,\"#ed7953\"],[0.7777777777777778,\"#fb9f3a\"],[0.8888888888888888,\"#fdca26\"],[1.0,\"#f0f921\"]],\"sequentialminus\":[[0.0,\"#0d0887\"],[0.1111111111111111,\"#46039f\"],[0.2222222222222222,\"#7201a8\"],[0.3333333333333333,\"#9c179e\"],[0.4444444444444444,\"#bd3786\"],[0.5555555555555556,\"#d8576b\"],[0.6666666666666666,\"#ed7953\"],[0.7777777777777778,\"#fb9f3a\"],[0.8888888888888888,\"#fdca26\"],[1.0,\"#f0f921\"]]},\"colorway\":[\"#636efa\",\"#EF553B\",\"#00cc96\",\"#ab63fa\",\"#FFA15A\",\"#19d3f3\",\"#FF6692\",\"#B6E880\",\"#FF97FF\",\"#FECB52\"],\"font\":{\"color\":\"#2a3f5f\"},\"geo\":{\"bgcolor\":\"white\",\"lakecolor\":\"white\",\"landcolor\":\"#E5ECF6\",\"showlakes\":true,\"showland\":true,\"subunitcolor\":\"white\"},\"hoverlabel\":{\"align\":\"left\"},\"hovermode\":\"closest\",\"mapbox\":{\"style\":\"light\"},\"paper_bgcolor\":\"white\",\"plot_bgcolor\":\"#E5ECF6\",\"polar\":{\"angularaxis\":{\"gridcolor\":\"white\",\"linecolor\":\"white\",\"ticks\":\"\"},\"bgcolor\":\"#E5ECF6\",\"radialaxis\":{\"gridcolor\":\"white\",\"linecolor\":\"white\",\"ticks\":\"\"}},\"scene\":{\"xaxis\":{\"backgroundcolor\":\"#E5ECF6\",\"gridcolor\":\"white\",\"gridwidth\":2,\"linecolor\":\"white\",\"showbackground\":true,\"ticks\":\"\",\"zerolinecolor\":\"white\"},\"yaxis\":{\"backgroundcolor\":\"#E5ECF6\",\"gridcolor\":\"white\",\"gridwidth\":2,\"linecolor\":\"white\",\"showbackground\":true,\"ticks\":\"\",\"zerolinecolor\":\"white\"},\"zaxis\":{\"backgroundcolor\":\"#E5ECF6\",\"gridcolor\":\"white\",\"gridwidth\":2,\"linecolor\":\"white\",\"showbackground\":true,\"ticks\":\"\",\"zerolinecolor\":\"white\"}},\"shapedefaults\":{\"line\":{\"color\":\"#2a3f5f\"}},\"ternary\":{\"aaxis\":{\"gridcolor\":\"white\",\"linecolor\":\"white\",\"ticks\":\"\"},\"baxis\":{\"gridcolor\":\"white\",\"linecolor\":\"white\",\"ticks\":\"\"},\"bgcolor\":\"#E5ECF6\",\"caxis\":{\"gridcolor\":\"white\",\"linecolor\":\"white\",\"ticks\":\"\"}},\"title\":{\"x\":0.05},\"xaxis\":{\"automargin\":true,\"gridcolor\":\"white\",\"linecolor\":\"white\",\"ticks\":\"\",\"title\":{\"standoff\":15},\"zerolinecolor\":\"white\",\"zerolinewidth\":2},\"yaxis\":{\"automargin\":true,\"gridcolor\":\"white\",\"linecolor\":\"white\",\"ticks\":\"\",\"title\":{\"standoff\":15},\"zerolinecolor\":\"white\",\"zerolinewidth\":2}}},\"xaxis\":{\"anchor\":\"y\",\"domain\":[0.0,1.0],\"title\":{\"text\":\"track_release_year\"}},\"yaxis\":{\"anchor\":\"x\",\"domain\":[0.0,1.0],\"title\":{\"text\":\"value\"}},\"legend\":{\"title\":{\"text\":\"variable\"},\"tracegroupgap\":0},\"margin\":{\"t\":60}},                        {\"responsive\": true}                    ).then(function(){\n",
       "                            \n",
       "var gd = document.getElementById('6819c18b-568b-4974-a021-ff38aba29596');\n",
       "var x = new MutationObserver(function (mutations, observer) {{\n",
       "        var display = window.getComputedStyle(gd).display;\n",
       "        if (!display || display === 'none') {{\n",
       "            console.log([gd, 'removed!']);\n",
       "            Plotly.purge(gd);\n",
       "            observer.disconnect();\n",
       "        }}\n",
       "}});\n",
       "\n",
       "// Listen for the removal of the full notebook cells\n",
       "var notebookContainer = gd.closest('#notebook-container');\n",
       "if (notebookContainer) {{\n",
       "    x.observe(notebookContainer, {childList: true});\n",
       "}}\n",
       "\n",
       "// Listen for the clearing of the current output cell\n",
       "var outputEl = gd.closest('.output');\n",
       "if (outputEl) {{\n",
       "    x.observe(outputEl, {childList: true});\n",
       "}}\n",
       "\n",
       "                        })                };                });            </script>        </div>"
      ]
     },
     "metadata": {},
     "output_type": "display_data"
    }
   ],
   "source": [
    "import plotly.express as px\n",
    "\n",
    "#df = px.data.gapminder().query(\"country=='Canada'\")\n",
    "fig = px.line(df_topics, x=\"track_release_year\", y=df_topics.columns[1:])\n",
    "             \n",
    "              #animation_frame='track_release_year')\n",
    "#fig = px.line(df_topics, x=\"track_release_year\", y=\"t2\")\n",
    "\n",
    "\n",
    "fig.show()"
   ]
  },
  {
   "cell_type": "code",
   "execution_count": 200,
   "id": "88b87ae6",
   "metadata": {},
   "outputs": [],
   "source": [
    "topics = df_topics.columns[-8:].to_list()"
   ]
  },
  {
   "cell_type": "code",
   "execution_count": 206,
   "id": "e27315df",
   "metadata": {},
   "outputs": [
    {
     "data": {
      "application/vnd.plotly.v1+json": {
       "config": {
        "plotlyServerURL": "https://plot.ly"
       },
       "data": [
        {
         "hoverinfo": "text+name",
         "line": {
          "shape": "spline"
         },
         "name": "Violence/Gangsta",
         "text": [
          "tweak line smoothness<br>with 'smoothing' in line object"
         ],
         "type": "scatter",
         "x": [
          1990,
          1991,
          1992,
          1993,
          1994,
          1995,
          1996,
          1997,
          1998,
          1999,
          2000,
          2001,
          2002,
          2003,
          2004,
          2005,
          2006,
          2007,
          2008,
          2009,
          2010,
          2011,
          2012,
          2013,
          2014,
          2015,
          2016,
          2017,
          2018,
          2019,
          2020,
          2021,
          2022
         ],
         "y": [
          0.16666666666666666,
          0.15458937198067632,
          0.1870748299319728,
          0.1940928270042194,
          0.187984496124031,
          0.18104906937394247,
          0.1794871794871795,
          0.16025641025641027,
          0.16404886561954624,
          0.1744186046511628,
          0.2,
          0.17435897435897435,
          0.18518518518518517,
          0.21393034825870647,
          0.16666666666666666,
          0.1597222222222222,
          0.20987654320987653,
          0.1606425702811245,
          0.18181818181818182,
          0.18055555555555555,
          0.18181818181818182,
          0.22564102564102564,
          0.23024054982817868,
          0.2624113475177305,
          0.26559714795008915,
          0.24572649572649571,
          0.24808184143222506,
          0.23709902370990238,
          0.2130841121495327,
          0.23116438356164384,
          0.22536418166238217,
          0.21766169154228857,
          0.23232323232323232
         ]
        },
        {
         "hoverinfo": "text+name",
         "line": {
          "shape": "spline"
         },
         "name": "Struggle/Mortality/Spirituality",
         "text": [
          "tweak line smoothness<br>with 'smoothing' in line object"
         ],
         "type": "scatter",
         "x": [
          1990,
          1991,
          1992,
          1993,
          1994,
          1995,
          1996,
          1997,
          1998,
          1999,
          2000,
          2001,
          2002,
          2003,
          2004,
          2005,
          2006,
          2007,
          2008,
          2009,
          2010,
          2011,
          2012,
          2013,
          2014,
          2015,
          2016,
          2017,
          2018,
          2019,
          2020,
          2021,
          2022
         ],
         "y": [
          0.03333333333333333,
          0.033816425120772944,
          0.061224489795918366,
          0.0759493670886076,
          0.031007751937984496,
          0.05245346869712352,
          0.03663003663003663,
          0.038461538461538464,
          0.03315881326352531,
          0.031007751937984496,
          0.03333333333333333,
          0.06153846153846154,
          0.043209876543209874,
          0.07462686567164178,
          0.05701754385964912,
          0.05555555555555555,
          0.06172839506172839,
          0.0321285140562249,
          0.05454545454545454,
          0.06944444444444445,
          0.06060606060606061,
          0.08717948717948718,
          0.10652920962199312,
          0.07092198581560284,
          0.08021390374331551,
          0.09188034188034189,
          0.12531969309462915,
          0.15132496513249652,
          0.16137071651090343,
          0.1643835616438356,
          0.16423878891745217,
          0.14593698175787728,
          0.1414141414141414
         ]
        },
        {
         "hoverinfo": "text+name",
         "line": {
          "shape": "spline"
         },
         "name": "Romance/Sexuality",
         "text": [
          "tweak line smoothness<br>with 'smoothing' in line object"
         ],
         "type": "scatter",
         "x": [
          1990,
          1991,
          1992,
          1993,
          1994,
          1995,
          1996,
          1997,
          1998,
          1999,
          2000,
          2001,
          2002,
          2003,
          2004,
          2005,
          2006,
          2007,
          2008,
          2009,
          2010,
          2011,
          2012,
          2013,
          2014,
          2015,
          2016,
          2017,
          2018,
          2019,
          2020,
          2021,
          2022
         ],
         "y": [
          0.3333333333333333,
          0.30917874396135264,
          0.3163265306122449,
          0.3080168776371308,
          0.3178294573643411,
          0.3062605752961083,
          0.304029304029304,
          0.3076923076923077,
          0.31239092495637,
          0.2441860465116279,
          0.2833333333333333,
          0.26153846153846155,
          0.2345679012345679,
          0.25870646766169153,
          0.21929824561403508,
          0.2013888888888889,
          0.2839506172839506,
          0.24096385542168675,
          0.19393939393939394,
          0.22916666666666666,
          0.21212121212121213,
          0.11794871794871795,
          0.09278350515463918,
          0.13120567375886524,
          0.1568627450980392,
          0.11431623931623931,
          0.0784313725490196,
          0.08368200836820083,
          0.08411214953271028,
          0.08618721461187215,
          0.06055412739217367,
          0.06135986733001658,
          0.0707070707070707
         ]
        },
        {
         "hoverinfo": "text+name",
         "line": {
          "shape": "spline"
         },
         "name": "Feats/Artists",
         "text": [
          "tweak line smoothness<br>with 'smoothing' in line object"
         ],
         "type": "scatter",
         "x": [
          1990,
          1991,
          1992,
          1993,
          1994,
          1995,
          1996,
          1997,
          1998,
          1999,
          2000,
          2001,
          2002,
          2003,
          2004,
          2005,
          2006,
          2007,
          2008,
          2009,
          2010,
          2011,
          2012,
          2013,
          2014,
          2015,
          2016,
          2017,
          2018,
          2019,
          2020,
          2021,
          2022
         ],
         "y": [
          0.11666666666666667,
          0.0821256038647343,
          0.06802721088435375,
          0.08016877637130802,
          0.10077519379844961,
          0.12690355329949238,
          0.11355311355311355,
          0.10576923076923077,
          0.1012216404886562,
          0.15503875968992248,
          0.025,
          0.07692307692307693,
          0.09876543209876543,
          0.0945273631840796,
          0.12280701754385964,
          0.08333333333333333,
          0.07407407407407407,
          0.13654618473895583,
          0.10909090909090909,
          0.11805555555555555,
          0.08585858585858586,
          0.07692307692307693,
          0.09621993127147767,
          0.0851063829787234,
          0.0944741532976827,
          0.08867521367521368,
          0.08098891730605286,
          0.08158995815899582,
          0.08161993769470405,
          0.0730593607305936,
          0.08483290488431877,
          0.09660033167495855,
          0.09090909090909091
         ]
        },
        {
         "hoverinfo": "text+name",
         "line": {
          "shape": "spline"
         },
         "name": "Black Excellence?",
         "text": [
          "tweak line smoothness<br>with 'smoothing' in line object"
         ],
         "type": "scatter",
         "x": [
          1990,
          1991,
          1992,
          1993,
          1994,
          1995,
          1996,
          1997,
          1998,
          1999,
          2000,
          2001,
          2002,
          2003,
          2004,
          2005,
          2006,
          2007,
          2008,
          2009,
          2010,
          2011,
          2012,
          2013,
          2014,
          2015,
          2016,
          2017,
          2018,
          2019,
          2020,
          2021,
          2022
         ],
         "y": [
          0,
          0.00966183574879227,
          0.003401360544217687,
          0.010548523206751054,
          0.011627906976744186,
          0.01353637901861252,
          0.018315018315018316,
          0.019230769230769232,
          0.008726003490401396,
          0.03875968992248062,
          0,
          0.020512820512820513,
          0.018518518518518517,
          0.01990049751243781,
          0.039473684210526314,
          0.006944444444444444,
          0.012345679012345678,
          0.024096385542168676,
          0.012121212121212121,
          0.020833333333333332,
          0.020202020202020204,
          0.020512820512820513,
          0.03436426116838488,
          0.03546099290780142,
          0.0285204991087344,
          0.0405982905982906,
          0.05200341005967604,
          0.06555090655509066,
          0.07538940809968847,
          0.0776255707762557,
          0.08483290488431877,
          0.09245439469320066,
          0.10101010101010101
         ]
        }
       ],
       "layout": {
        "template": {
         "data": {
          "bar": [
           {
            "error_x": {
             "color": "#2a3f5f"
            },
            "error_y": {
             "color": "#2a3f5f"
            },
            "marker": {
             "line": {
              "color": "#E5ECF6",
              "width": 0.5
             },
             "pattern": {
              "fillmode": "overlay",
              "size": 10,
              "solidity": 0.2
             }
            },
            "type": "bar"
           }
          ],
          "barpolar": [
           {
            "marker": {
             "line": {
              "color": "#E5ECF6",
              "width": 0.5
             },
             "pattern": {
              "fillmode": "overlay",
              "size": 10,
              "solidity": 0.2
             }
            },
            "type": "barpolar"
           }
          ],
          "carpet": [
           {
            "aaxis": {
             "endlinecolor": "#2a3f5f",
             "gridcolor": "white",
             "linecolor": "white",
             "minorgridcolor": "white",
             "startlinecolor": "#2a3f5f"
            },
            "baxis": {
             "endlinecolor": "#2a3f5f",
             "gridcolor": "white",
             "linecolor": "white",
             "minorgridcolor": "white",
             "startlinecolor": "#2a3f5f"
            },
            "type": "carpet"
           }
          ],
          "choropleth": [
           {
            "colorbar": {
             "outlinewidth": 0,
             "ticks": ""
            },
            "type": "choropleth"
           }
          ],
          "contour": [
           {
            "colorbar": {
             "outlinewidth": 0,
             "ticks": ""
            },
            "colorscale": [
             [
              0,
              "#0d0887"
             ],
             [
              0.1111111111111111,
              "#46039f"
             ],
             [
              0.2222222222222222,
              "#7201a8"
             ],
             [
              0.3333333333333333,
              "#9c179e"
             ],
             [
              0.4444444444444444,
              "#bd3786"
             ],
             [
              0.5555555555555556,
              "#d8576b"
             ],
             [
              0.6666666666666666,
              "#ed7953"
             ],
             [
              0.7777777777777778,
              "#fb9f3a"
             ],
             [
              0.8888888888888888,
              "#fdca26"
             ],
             [
              1,
              "#f0f921"
             ]
            ],
            "type": "contour"
           }
          ],
          "contourcarpet": [
           {
            "colorbar": {
             "outlinewidth": 0,
             "ticks": ""
            },
            "type": "contourcarpet"
           }
          ],
          "heatmap": [
           {
            "colorbar": {
             "outlinewidth": 0,
             "ticks": ""
            },
            "colorscale": [
             [
              0,
              "#0d0887"
             ],
             [
              0.1111111111111111,
              "#46039f"
             ],
             [
              0.2222222222222222,
              "#7201a8"
             ],
             [
              0.3333333333333333,
              "#9c179e"
             ],
             [
              0.4444444444444444,
              "#bd3786"
             ],
             [
              0.5555555555555556,
              "#d8576b"
             ],
             [
              0.6666666666666666,
              "#ed7953"
             ],
             [
              0.7777777777777778,
              "#fb9f3a"
             ],
             [
              0.8888888888888888,
              "#fdca26"
             ],
             [
              1,
              "#f0f921"
             ]
            ],
            "type": "heatmap"
           }
          ],
          "heatmapgl": [
           {
            "colorbar": {
             "outlinewidth": 0,
             "ticks": ""
            },
            "colorscale": [
             [
              0,
              "#0d0887"
             ],
             [
              0.1111111111111111,
              "#46039f"
             ],
             [
              0.2222222222222222,
              "#7201a8"
             ],
             [
              0.3333333333333333,
              "#9c179e"
             ],
             [
              0.4444444444444444,
              "#bd3786"
             ],
             [
              0.5555555555555556,
              "#d8576b"
             ],
             [
              0.6666666666666666,
              "#ed7953"
             ],
             [
              0.7777777777777778,
              "#fb9f3a"
             ],
             [
              0.8888888888888888,
              "#fdca26"
             ],
             [
              1,
              "#f0f921"
             ]
            ],
            "type": "heatmapgl"
           }
          ],
          "histogram": [
           {
            "marker": {
             "pattern": {
              "fillmode": "overlay",
              "size": 10,
              "solidity": 0.2
             }
            },
            "type": "histogram"
           }
          ],
          "histogram2d": [
           {
            "colorbar": {
             "outlinewidth": 0,
             "ticks": ""
            },
            "colorscale": [
             [
              0,
              "#0d0887"
             ],
             [
              0.1111111111111111,
              "#46039f"
             ],
             [
              0.2222222222222222,
              "#7201a8"
             ],
             [
              0.3333333333333333,
              "#9c179e"
             ],
             [
              0.4444444444444444,
              "#bd3786"
             ],
             [
              0.5555555555555556,
              "#d8576b"
             ],
             [
              0.6666666666666666,
              "#ed7953"
             ],
             [
              0.7777777777777778,
              "#fb9f3a"
             ],
             [
              0.8888888888888888,
              "#fdca26"
             ],
             [
              1,
              "#f0f921"
             ]
            ],
            "type": "histogram2d"
           }
          ],
          "histogram2dcontour": [
           {
            "colorbar": {
             "outlinewidth": 0,
             "ticks": ""
            },
            "colorscale": [
             [
              0,
              "#0d0887"
             ],
             [
              0.1111111111111111,
              "#46039f"
             ],
             [
              0.2222222222222222,
              "#7201a8"
             ],
             [
              0.3333333333333333,
              "#9c179e"
             ],
             [
              0.4444444444444444,
              "#bd3786"
             ],
             [
              0.5555555555555556,
              "#d8576b"
             ],
             [
              0.6666666666666666,
              "#ed7953"
             ],
             [
              0.7777777777777778,
              "#fb9f3a"
             ],
             [
              0.8888888888888888,
              "#fdca26"
             ],
             [
              1,
              "#f0f921"
             ]
            ],
            "type": "histogram2dcontour"
           }
          ],
          "mesh3d": [
           {
            "colorbar": {
             "outlinewidth": 0,
             "ticks": ""
            },
            "type": "mesh3d"
           }
          ],
          "parcoords": [
           {
            "line": {
             "colorbar": {
              "outlinewidth": 0,
              "ticks": ""
             }
            },
            "type": "parcoords"
           }
          ],
          "pie": [
           {
            "automargin": true,
            "type": "pie"
           }
          ],
          "scatter": [
           {
            "marker": {
             "colorbar": {
              "outlinewidth": 0,
              "ticks": ""
             }
            },
            "type": "scatter"
           }
          ],
          "scatter3d": [
           {
            "line": {
             "colorbar": {
              "outlinewidth": 0,
              "ticks": ""
             }
            },
            "marker": {
             "colorbar": {
              "outlinewidth": 0,
              "ticks": ""
             }
            },
            "type": "scatter3d"
           }
          ],
          "scattercarpet": [
           {
            "marker": {
             "colorbar": {
              "outlinewidth": 0,
              "ticks": ""
             }
            },
            "type": "scattercarpet"
           }
          ],
          "scattergeo": [
           {
            "marker": {
             "colorbar": {
              "outlinewidth": 0,
              "ticks": ""
             }
            },
            "type": "scattergeo"
           }
          ],
          "scattergl": [
           {
            "marker": {
             "colorbar": {
              "outlinewidth": 0,
              "ticks": ""
             }
            },
            "type": "scattergl"
           }
          ],
          "scattermapbox": [
           {
            "marker": {
             "colorbar": {
              "outlinewidth": 0,
              "ticks": ""
             }
            },
            "type": "scattermapbox"
           }
          ],
          "scatterpolar": [
           {
            "marker": {
             "colorbar": {
              "outlinewidth": 0,
              "ticks": ""
             }
            },
            "type": "scatterpolar"
           }
          ],
          "scatterpolargl": [
           {
            "marker": {
             "colorbar": {
              "outlinewidth": 0,
              "ticks": ""
             }
            },
            "type": "scatterpolargl"
           }
          ],
          "scatterternary": [
           {
            "marker": {
             "colorbar": {
              "outlinewidth": 0,
              "ticks": ""
             }
            },
            "type": "scatterternary"
           }
          ],
          "surface": [
           {
            "colorbar": {
             "outlinewidth": 0,
             "ticks": ""
            },
            "colorscale": [
             [
              0,
              "#0d0887"
             ],
             [
              0.1111111111111111,
              "#46039f"
             ],
             [
              0.2222222222222222,
              "#7201a8"
             ],
             [
              0.3333333333333333,
              "#9c179e"
             ],
             [
              0.4444444444444444,
              "#bd3786"
             ],
             [
              0.5555555555555556,
              "#d8576b"
             ],
             [
              0.6666666666666666,
              "#ed7953"
             ],
             [
              0.7777777777777778,
              "#fb9f3a"
             ],
             [
              0.8888888888888888,
              "#fdca26"
             ],
             [
              1,
              "#f0f921"
             ]
            ],
            "type": "surface"
           }
          ],
          "table": [
           {
            "cells": {
             "fill": {
              "color": "#EBF0F8"
             },
             "line": {
              "color": "white"
             }
            },
            "header": {
             "fill": {
              "color": "#C8D4E3"
             },
             "line": {
              "color": "white"
             }
            },
            "type": "table"
           }
          ]
         },
         "layout": {
          "annotationdefaults": {
           "arrowcolor": "#2a3f5f",
           "arrowhead": 0,
           "arrowwidth": 1
          },
          "autotypenumbers": "strict",
          "coloraxis": {
           "colorbar": {
            "outlinewidth": 0,
            "ticks": ""
           }
          },
          "colorscale": {
           "diverging": [
            [
             0,
             "#8e0152"
            ],
            [
             0.1,
             "#c51b7d"
            ],
            [
             0.2,
             "#de77ae"
            ],
            [
             0.3,
             "#f1b6da"
            ],
            [
             0.4,
             "#fde0ef"
            ],
            [
             0.5,
             "#f7f7f7"
            ],
            [
             0.6,
             "#e6f5d0"
            ],
            [
             0.7,
             "#b8e186"
            ],
            [
             0.8,
             "#7fbc41"
            ],
            [
             0.9,
             "#4d9221"
            ],
            [
             1,
             "#276419"
            ]
           ],
           "sequential": [
            [
             0,
             "#0d0887"
            ],
            [
             0.1111111111111111,
             "#46039f"
            ],
            [
             0.2222222222222222,
             "#7201a8"
            ],
            [
             0.3333333333333333,
             "#9c179e"
            ],
            [
             0.4444444444444444,
             "#bd3786"
            ],
            [
             0.5555555555555556,
             "#d8576b"
            ],
            [
             0.6666666666666666,
             "#ed7953"
            ],
            [
             0.7777777777777778,
             "#fb9f3a"
            ],
            [
             0.8888888888888888,
             "#fdca26"
            ],
            [
             1,
             "#f0f921"
            ]
           ],
           "sequentialminus": [
            [
             0,
             "#0d0887"
            ],
            [
             0.1111111111111111,
             "#46039f"
            ],
            [
             0.2222222222222222,
             "#7201a8"
            ],
            [
             0.3333333333333333,
             "#9c179e"
            ],
            [
             0.4444444444444444,
             "#bd3786"
            ],
            [
             0.5555555555555556,
             "#d8576b"
            ],
            [
             0.6666666666666666,
             "#ed7953"
            ],
            [
             0.7777777777777778,
             "#fb9f3a"
            ],
            [
             0.8888888888888888,
             "#fdca26"
            ],
            [
             1,
             "#f0f921"
            ]
           ]
          },
          "colorway": [
           "#636efa",
           "#EF553B",
           "#00cc96",
           "#ab63fa",
           "#FFA15A",
           "#19d3f3",
           "#FF6692",
           "#B6E880",
           "#FF97FF",
           "#FECB52"
          ],
          "font": {
           "color": "#2a3f5f"
          },
          "geo": {
           "bgcolor": "white",
           "lakecolor": "white",
           "landcolor": "#E5ECF6",
           "showlakes": true,
           "showland": true,
           "subunitcolor": "white"
          },
          "hoverlabel": {
           "align": "left"
          },
          "hovermode": "closest",
          "mapbox": {
           "style": "light"
          },
          "paper_bgcolor": "white",
          "plot_bgcolor": "#E5ECF6",
          "polar": {
           "angularaxis": {
            "gridcolor": "white",
            "linecolor": "white",
            "ticks": ""
           },
           "bgcolor": "#E5ECF6",
           "radialaxis": {
            "gridcolor": "white",
            "linecolor": "white",
            "ticks": ""
           }
          },
          "scene": {
           "xaxis": {
            "backgroundcolor": "#E5ECF6",
            "gridcolor": "white",
            "gridwidth": 2,
            "linecolor": "white",
            "showbackground": true,
            "ticks": "",
            "zerolinecolor": "white"
           },
           "yaxis": {
            "backgroundcolor": "#E5ECF6",
            "gridcolor": "white",
            "gridwidth": 2,
            "linecolor": "white",
            "showbackground": true,
            "ticks": "",
            "zerolinecolor": "white"
           },
           "zaxis": {
            "backgroundcolor": "#E5ECF6",
            "gridcolor": "white",
            "gridwidth": 2,
            "linecolor": "white",
            "showbackground": true,
            "ticks": "",
            "zerolinecolor": "white"
           }
          },
          "shapedefaults": {
           "line": {
            "color": "#2a3f5f"
           }
          },
          "ternary": {
           "aaxis": {
            "gridcolor": "white",
            "linecolor": "white",
            "ticks": ""
           },
           "baxis": {
            "gridcolor": "white",
            "linecolor": "white",
            "ticks": ""
           },
           "bgcolor": "#E5ECF6",
           "caxis": {
            "gridcolor": "white",
            "linecolor": "white",
            "ticks": ""
           }
          },
          "title": {
           "x": 0.05
          },
          "xaxis": {
           "automargin": true,
           "gridcolor": "white",
           "linecolor": "white",
           "ticks": "",
           "title": {
            "standoff": 15
           },
           "zerolinecolor": "white",
           "zerolinewidth": 2
          },
          "yaxis": {
           "automargin": true,
           "gridcolor": "white",
           "linecolor": "white",
           "ticks": "",
           "title": {
            "standoff": 15
           },
           "zerolinecolor": "white",
           "zerolinewidth": 2
          }
         }
        },
        "yaxis": {
         "range": [
          0,
          0.4
         ]
        }
       }
      },
      "text/html": [
       "<div>                            <div id=\"c93d307d-b1c8-4129-a741-fdd91fa5b4bd\" class=\"plotly-graph-div\" style=\"height:525px; width:100%;\"></div>            <script type=\"text/javascript\">                require([\"plotly\"], function(Plotly) {                    window.PLOTLYENV=window.PLOTLYENV || {};                                    if (document.getElementById(\"c93d307d-b1c8-4129-a741-fdd91fa5b4bd\")) {                    Plotly.newPlot(                        \"c93d307d-b1c8-4129-a741-fdd91fa5b4bd\",                        [{\"hoverinfo\":\"text+name\",\"line\":{\"shape\":\"spline\"},\"name\":\"Violence/Gangsta\",\"text\":[\"tweak line smoothness<br>with 'smoothing' in line object\"],\"x\":[1990,1991,1992,1993,1994,1995,1996,1997,1998,1999,2000,2001,2002,2003,2004,2005,2006,2007,2008,2009,2010,2011,2012,2013,2014,2015,2016,2017,2018,2019,2020,2021,2022],\"y\":[0.16666666666666666,0.15458937198067632,0.1870748299319728,0.1940928270042194,0.187984496124031,0.18104906937394247,0.1794871794871795,0.16025641025641027,0.16404886561954624,0.1744186046511628,0.2,0.17435897435897435,0.18518518518518517,0.21393034825870647,0.16666666666666666,0.1597222222222222,0.20987654320987653,0.1606425702811245,0.18181818181818182,0.18055555555555555,0.18181818181818182,0.22564102564102564,0.23024054982817868,0.2624113475177305,0.26559714795008915,0.24572649572649571,0.24808184143222506,0.23709902370990238,0.2130841121495327,0.23116438356164384,0.22536418166238217,0.21766169154228857,0.23232323232323232],\"type\":\"scatter\"},{\"hoverinfo\":\"text+name\",\"line\":{\"shape\":\"spline\"},\"name\":\"Struggle/Mortality/Spirituality\",\"text\":[\"tweak line smoothness<br>with 'smoothing' in line object\"],\"x\":[1990,1991,1992,1993,1994,1995,1996,1997,1998,1999,2000,2001,2002,2003,2004,2005,2006,2007,2008,2009,2010,2011,2012,2013,2014,2015,2016,2017,2018,2019,2020,2021,2022],\"y\":[0.03333333333333333,0.033816425120772944,0.061224489795918366,0.0759493670886076,0.031007751937984496,0.05245346869712352,0.03663003663003663,0.038461538461538464,0.03315881326352531,0.031007751937984496,0.03333333333333333,0.06153846153846154,0.043209876543209874,0.07462686567164178,0.05701754385964912,0.05555555555555555,0.06172839506172839,0.0321285140562249,0.05454545454545454,0.06944444444444445,0.06060606060606061,0.08717948717948718,0.10652920962199312,0.07092198581560284,0.08021390374331551,0.09188034188034189,0.12531969309462915,0.15132496513249652,0.16137071651090343,0.1643835616438356,0.16423878891745217,0.14593698175787728,0.1414141414141414],\"type\":\"scatter\"},{\"hoverinfo\":\"text+name\",\"line\":{\"shape\":\"spline\"},\"name\":\"Romance/Sexuality\",\"text\":[\"tweak line smoothness<br>with 'smoothing' in line object\"],\"x\":[1990,1991,1992,1993,1994,1995,1996,1997,1998,1999,2000,2001,2002,2003,2004,2005,2006,2007,2008,2009,2010,2011,2012,2013,2014,2015,2016,2017,2018,2019,2020,2021,2022],\"y\":[0.3333333333333333,0.30917874396135264,0.3163265306122449,0.3080168776371308,0.3178294573643411,0.3062605752961083,0.304029304029304,0.3076923076923077,0.31239092495637,0.2441860465116279,0.2833333333333333,0.26153846153846155,0.2345679012345679,0.25870646766169153,0.21929824561403508,0.2013888888888889,0.2839506172839506,0.24096385542168675,0.19393939393939394,0.22916666666666666,0.21212121212121213,0.11794871794871795,0.09278350515463918,0.13120567375886524,0.1568627450980392,0.11431623931623931,0.0784313725490196,0.08368200836820083,0.08411214953271028,0.08618721461187215,0.06055412739217367,0.06135986733001658,0.0707070707070707],\"type\":\"scatter\"},{\"hoverinfo\":\"text+name\",\"line\":{\"shape\":\"spline\"},\"name\":\"Feats/Artists\",\"text\":[\"tweak line smoothness<br>with 'smoothing' in line object\"],\"x\":[1990,1991,1992,1993,1994,1995,1996,1997,1998,1999,2000,2001,2002,2003,2004,2005,2006,2007,2008,2009,2010,2011,2012,2013,2014,2015,2016,2017,2018,2019,2020,2021,2022],\"y\":[0.11666666666666667,0.0821256038647343,0.06802721088435375,0.08016877637130802,0.10077519379844961,0.12690355329949238,0.11355311355311355,0.10576923076923077,0.1012216404886562,0.15503875968992248,0.025,0.07692307692307693,0.09876543209876543,0.0945273631840796,0.12280701754385964,0.08333333333333333,0.07407407407407407,0.13654618473895583,0.10909090909090909,0.11805555555555555,0.08585858585858586,0.07692307692307693,0.09621993127147767,0.0851063829787234,0.0944741532976827,0.08867521367521368,0.08098891730605286,0.08158995815899582,0.08161993769470405,0.0730593607305936,0.08483290488431877,0.09660033167495855,0.09090909090909091],\"type\":\"scatter\"},{\"hoverinfo\":\"text+name\",\"line\":{\"shape\":\"spline\"},\"name\":\"Black Excellence?\",\"text\":[\"tweak line smoothness<br>with 'smoothing' in line object\"],\"x\":[1990,1991,1992,1993,1994,1995,1996,1997,1998,1999,2000,2001,2002,2003,2004,2005,2006,2007,2008,2009,2010,2011,2012,2013,2014,2015,2016,2017,2018,2019,2020,2021,2022],\"y\":[0.0,0.00966183574879227,0.003401360544217687,0.010548523206751054,0.011627906976744186,0.01353637901861252,0.018315018315018316,0.019230769230769232,0.008726003490401396,0.03875968992248062,0.0,0.020512820512820513,0.018518518518518517,0.01990049751243781,0.039473684210526314,0.006944444444444444,0.012345679012345678,0.024096385542168676,0.012121212121212121,0.020833333333333332,0.020202020202020204,0.020512820512820513,0.03436426116838488,0.03546099290780142,0.0285204991087344,0.0405982905982906,0.05200341005967604,0.06555090655509066,0.07538940809968847,0.0776255707762557,0.08483290488431877,0.09245439469320066,0.10101010101010101],\"type\":\"scatter\"}],                        {\"template\":{\"data\":{\"bar\":[{\"error_x\":{\"color\":\"#2a3f5f\"},\"error_y\":{\"color\":\"#2a3f5f\"},\"marker\":{\"line\":{\"color\":\"#E5ECF6\",\"width\":0.5},\"pattern\":{\"fillmode\":\"overlay\",\"size\":10,\"solidity\":0.2}},\"type\":\"bar\"}],\"barpolar\":[{\"marker\":{\"line\":{\"color\":\"#E5ECF6\",\"width\":0.5},\"pattern\":{\"fillmode\":\"overlay\",\"size\":10,\"solidity\":0.2}},\"type\":\"barpolar\"}],\"carpet\":[{\"aaxis\":{\"endlinecolor\":\"#2a3f5f\",\"gridcolor\":\"white\",\"linecolor\":\"white\",\"minorgridcolor\":\"white\",\"startlinecolor\":\"#2a3f5f\"},\"baxis\":{\"endlinecolor\":\"#2a3f5f\",\"gridcolor\":\"white\",\"linecolor\":\"white\",\"minorgridcolor\":\"white\",\"startlinecolor\":\"#2a3f5f\"},\"type\":\"carpet\"}],\"choropleth\":[{\"colorbar\":{\"outlinewidth\":0,\"ticks\":\"\"},\"type\":\"choropleth\"}],\"contour\":[{\"colorbar\":{\"outlinewidth\":0,\"ticks\":\"\"},\"colorscale\":[[0.0,\"#0d0887\"],[0.1111111111111111,\"#46039f\"],[0.2222222222222222,\"#7201a8\"],[0.3333333333333333,\"#9c179e\"],[0.4444444444444444,\"#bd3786\"],[0.5555555555555556,\"#d8576b\"],[0.6666666666666666,\"#ed7953\"],[0.7777777777777778,\"#fb9f3a\"],[0.8888888888888888,\"#fdca26\"],[1.0,\"#f0f921\"]],\"type\":\"contour\"}],\"contourcarpet\":[{\"colorbar\":{\"outlinewidth\":0,\"ticks\":\"\"},\"type\":\"contourcarpet\"}],\"heatmap\":[{\"colorbar\":{\"outlinewidth\":0,\"ticks\":\"\"},\"colorscale\":[[0.0,\"#0d0887\"],[0.1111111111111111,\"#46039f\"],[0.2222222222222222,\"#7201a8\"],[0.3333333333333333,\"#9c179e\"],[0.4444444444444444,\"#bd3786\"],[0.5555555555555556,\"#d8576b\"],[0.6666666666666666,\"#ed7953\"],[0.7777777777777778,\"#fb9f3a\"],[0.8888888888888888,\"#fdca26\"],[1.0,\"#f0f921\"]],\"type\":\"heatmap\"}],\"heatmapgl\":[{\"colorbar\":{\"outlinewidth\":0,\"ticks\":\"\"},\"colorscale\":[[0.0,\"#0d0887\"],[0.1111111111111111,\"#46039f\"],[0.2222222222222222,\"#7201a8\"],[0.3333333333333333,\"#9c179e\"],[0.4444444444444444,\"#bd3786\"],[0.5555555555555556,\"#d8576b\"],[0.6666666666666666,\"#ed7953\"],[0.7777777777777778,\"#fb9f3a\"],[0.8888888888888888,\"#fdca26\"],[1.0,\"#f0f921\"]],\"type\":\"heatmapgl\"}],\"histogram\":[{\"marker\":{\"pattern\":{\"fillmode\":\"overlay\",\"size\":10,\"solidity\":0.2}},\"type\":\"histogram\"}],\"histogram2d\":[{\"colorbar\":{\"outlinewidth\":0,\"ticks\":\"\"},\"colorscale\":[[0.0,\"#0d0887\"],[0.1111111111111111,\"#46039f\"],[0.2222222222222222,\"#7201a8\"],[0.3333333333333333,\"#9c179e\"],[0.4444444444444444,\"#bd3786\"],[0.5555555555555556,\"#d8576b\"],[0.6666666666666666,\"#ed7953\"],[0.7777777777777778,\"#fb9f3a\"],[0.8888888888888888,\"#fdca26\"],[1.0,\"#f0f921\"]],\"type\":\"histogram2d\"}],\"histogram2dcontour\":[{\"colorbar\":{\"outlinewidth\":0,\"ticks\":\"\"},\"colorscale\":[[0.0,\"#0d0887\"],[0.1111111111111111,\"#46039f\"],[0.2222222222222222,\"#7201a8\"],[0.3333333333333333,\"#9c179e\"],[0.4444444444444444,\"#bd3786\"],[0.5555555555555556,\"#d8576b\"],[0.6666666666666666,\"#ed7953\"],[0.7777777777777778,\"#fb9f3a\"],[0.8888888888888888,\"#fdca26\"],[1.0,\"#f0f921\"]],\"type\":\"histogram2dcontour\"}],\"mesh3d\":[{\"colorbar\":{\"outlinewidth\":0,\"ticks\":\"\"},\"type\":\"mesh3d\"}],\"parcoords\":[{\"line\":{\"colorbar\":{\"outlinewidth\":0,\"ticks\":\"\"}},\"type\":\"parcoords\"}],\"pie\":[{\"automargin\":true,\"type\":\"pie\"}],\"scatter\":[{\"marker\":{\"colorbar\":{\"outlinewidth\":0,\"ticks\":\"\"}},\"type\":\"scatter\"}],\"scatter3d\":[{\"line\":{\"colorbar\":{\"outlinewidth\":0,\"ticks\":\"\"}},\"marker\":{\"colorbar\":{\"outlinewidth\":0,\"ticks\":\"\"}},\"type\":\"scatter3d\"}],\"scattercarpet\":[{\"marker\":{\"colorbar\":{\"outlinewidth\":0,\"ticks\":\"\"}},\"type\":\"scattercarpet\"}],\"scattergeo\":[{\"marker\":{\"colorbar\":{\"outlinewidth\":0,\"ticks\":\"\"}},\"type\":\"scattergeo\"}],\"scattergl\":[{\"marker\":{\"colorbar\":{\"outlinewidth\":0,\"ticks\":\"\"}},\"type\":\"scattergl\"}],\"scattermapbox\":[{\"marker\":{\"colorbar\":{\"outlinewidth\":0,\"ticks\":\"\"}},\"type\":\"scattermapbox\"}],\"scatterpolar\":[{\"marker\":{\"colorbar\":{\"outlinewidth\":0,\"ticks\":\"\"}},\"type\":\"scatterpolar\"}],\"scatterpolargl\":[{\"marker\":{\"colorbar\":{\"outlinewidth\":0,\"ticks\":\"\"}},\"type\":\"scatterpolargl\"}],\"scatterternary\":[{\"marker\":{\"colorbar\":{\"outlinewidth\":0,\"ticks\":\"\"}},\"type\":\"scatterternary\"}],\"surface\":[{\"colorbar\":{\"outlinewidth\":0,\"ticks\":\"\"},\"colorscale\":[[0.0,\"#0d0887\"],[0.1111111111111111,\"#46039f\"],[0.2222222222222222,\"#7201a8\"],[0.3333333333333333,\"#9c179e\"],[0.4444444444444444,\"#bd3786\"],[0.5555555555555556,\"#d8576b\"],[0.6666666666666666,\"#ed7953\"],[0.7777777777777778,\"#fb9f3a\"],[0.8888888888888888,\"#fdca26\"],[1.0,\"#f0f921\"]],\"type\":\"surface\"}],\"table\":[{\"cells\":{\"fill\":{\"color\":\"#EBF0F8\"},\"line\":{\"color\":\"white\"}},\"header\":{\"fill\":{\"color\":\"#C8D4E3\"},\"line\":{\"color\":\"white\"}},\"type\":\"table\"}]},\"layout\":{\"annotationdefaults\":{\"arrowcolor\":\"#2a3f5f\",\"arrowhead\":0,\"arrowwidth\":1},\"autotypenumbers\":\"strict\",\"coloraxis\":{\"colorbar\":{\"outlinewidth\":0,\"ticks\":\"\"}},\"colorscale\":{\"diverging\":[[0,\"#8e0152\"],[0.1,\"#c51b7d\"],[0.2,\"#de77ae\"],[0.3,\"#f1b6da\"],[0.4,\"#fde0ef\"],[0.5,\"#f7f7f7\"],[0.6,\"#e6f5d0\"],[0.7,\"#b8e186\"],[0.8,\"#7fbc41\"],[0.9,\"#4d9221\"],[1,\"#276419\"]],\"sequential\":[[0.0,\"#0d0887\"],[0.1111111111111111,\"#46039f\"],[0.2222222222222222,\"#7201a8\"],[0.3333333333333333,\"#9c179e\"],[0.4444444444444444,\"#bd3786\"],[0.5555555555555556,\"#d8576b\"],[0.6666666666666666,\"#ed7953\"],[0.7777777777777778,\"#fb9f3a\"],[0.8888888888888888,\"#fdca26\"],[1.0,\"#f0f921\"]],\"sequentialminus\":[[0.0,\"#0d0887\"],[0.1111111111111111,\"#46039f\"],[0.2222222222222222,\"#7201a8\"],[0.3333333333333333,\"#9c179e\"],[0.4444444444444444,\"#bd3786\"],[0.5555555555555556,\"#d8576b\"],[0.6666666666666666,\"#ed7953\"],[0.7777777777777778,\"#fb9f3a\"],[0.8888888888888888,\"#fdca26\"],[1.0,\"#f0f921\"]]},\"colorway\":[\"#636efa\",\"#EF553B\",\"#00cc96\",\"#ab63fa\",\"#FFA15A\",\"#19d3f3\",\"#FF6692\",\"#B6E880\",\"#FF97FF\",\"#FECB52\"],\"font\":{\"color\":\"#2a3f5f\"},\"geo\":{\"bgcolor\":\"white\",\"lakecolor\":\"white\",\"landcolor\":\"#E5ECF6\",\"showlakes\":true,\"showland\":true,\"subunitcolor\":\"white\"},\"hoverlabel\":{\"align\":\"left\"},\"hovermode\":\"closest\",\"mapbox\":{\"style\":\"light\"},\"paper_bgcolor\":\"white\",\"plot_bgcolor\":\"#E5ECF6\",\"polar\":{\"angularaxis\":{\"gridcolor\":\"white\",\"linecolor\":\"white\",\"ticks\":\"\"},\"bgcolor\":\"#E5ECF6\",\"radialaxis\":{\"gridcolor\":\"white\",\"linecolor\":\"white\",\"ticks\":\"\"}},\"scene\":{\"xaxis\":{\"backgroundcolor\":\"#E5ECF6\",\"gridcolor\":\"white\",\"gridwidth\":2,\"linecolor\":\"white\",\"showbackground\":true,\"ticks\":\"\",\"zerolinecolor\":\"white\"},\"yaxis\":{\"backgroundcolor\":\"#E5ECF6\",\"gridcolor\":\"white\",\"gridwidth\":2,\"linecolor\":\"white\",\"showbackground\":true,\"ticks\":\"\",\"zerolinecolor\":\"white\"},\"zaxis\":{\"backgroundcolor\":\"#E5ECF6\",\"gridcolor\":\"white\",\"gridwidth\":2,\"linecolor\":\"white\",\"showbackground\":true,\"ticks\":\"\",\"zerolinecolor\":\"white\"}},\"shapedefaults\":{\"line\":{\"color\":\"#2a3f5f\"}},\"ternary\":{\"aaxis\":{\"gridcolor\":\"white\",\"linecolor\":\"white\",\"ticks\":\"\"},\"baxis\":{\"gridcolor\":\"white\",\"linecolor\":\"white\",\"ticks\":\"\"},\"bgcolor\":\"#E5ECF6\",\"caxis\":{\"gridcolor\":\"white\",\"linecolor\":\"white\",\"ticks\":\"\"}},\"title\":{\"x\":0.05},\"xaxis\":{\"automargin\":true,\"gridcolor\":\"white\",\"linecolor\":\"white\",\"ticks\":\"\",\"title\":{\"standoff\":15},\"zerolinecolor\":\"white\",\"zerolinewidth\":2},\"yaxis\":{\"automargin\":true,\"gridcolor\":\"white\",\"linecolor\":\"white\",\"ticks\":\"\",\"title\":{\"standoff\":15},\"zerolinecolor\":\"white\",\"zerolinewidth\":2}}},\"yaxis\":{\"range\":[0,0.4]}},                        {\"responsive\": true}                    ).then(function(){\n",
       "                            \n",
       "var gd = document.getElementById('c93d307d-b1c8-4129-a741-fdd91fa5b4bd');\n",
       "var x = new MutationObserver(function (mutations, observer) {{\n",
       "        var display = window.getComputedStyle(gd).display;\n",
       "        if (!display || display === 'none') {{\n",
       "            console.log([gd, 'removed!']);\n",
       "            Plotly.purge(gd);\n",
       "            observer.disconnect();\n",
       "        }}\n",
       "}});\n",
       "\n",
       "// Listen for the removal of the full notebook cells\n",
       "var notebookContainer = gd.closest('#notebook-container');\n",
       "if (notebookContainer) {{\n",
       "    x.observe(notebookContainer, {childList: true});\n",
       "}}\n",
       "\n",
       "// Listen for the clearing of the current output cell\n",
       "var outputEl = gd.closest('.output');\n",
       "if (outputEl) {{\n",
       "    x.observe(outputEl, {childList: true});\n",
       "}}\n",
       "\n",
       "                        })                };                });            </script>        </div>"
      ]
     },
     "metadata": {},
     "output_type": "display_data"
    }
   ],
   "source": [
    "import plotly.graph_objects as go\n",
    "import numpy as np\n",
    "\n",
    "fig = go.Figure()\n",
    "fig.update_layout(yaxis_range=[0,0.4])\n",
    "\n",
    "for t in topics:\n",
    "    if t in ['Musicality','Party','Flex']:\n",
    "        continue\n",
    "    fig.add_trace(go.Scatter(x=df_topics.track_release_year, y=df_topics[t], name=t,\n",
    "                    text=[\"tweak line smoothness<br>with 'smoothing' in line object\"],\n",
    "                    hoverinfo='text+name',\n",
    "                    line_shape='spline'))\n",
    "    \n",
    "fig.show()"
   ]
  },
  {
   "cell_type": "code",
   "execution_count": 207,
   "id": "35e09fd1",
   "metadata": {},
   "outputs": [
    {
     "data": {
      "text/html": [
       "<div>\n",
       "<style scoped>\n",
       "    .dataframe tbody tr th:only-of-type {\n",
       "        vertical-align: middle;\n",
       "    }\n",
       "\n",
       "    .dataframe tbody tr th {\n",
       "        vertical-align: top;\n",
       "    }\n",
       "\n",
       "    .dataframe thead th {\n",
       "        text-align: right;\n",
       "    }\n",
       "</style>\n",
       "<table border=\"1\" class=\"dataframe\">\n",
       "  <thead>\n",
       "    <tr style=\"text-align: right;\">\n",
       "      <th></th>\n",
       "      <th>track_id</th>\n",
       "      <th>album_id</th>\n",
       "      <th>artist_id</th>\n",
       "      <th>duration_ms</th>\n",
       "      <th>flg_explicit</th>\n",
       "      <th>url</th>\n",
       "      <th>track_name</th>\n",
       "      <th>track_popularity</th>\n",
       "      <th>track_type</th>\n",
       "      <th>track_danceability</th>\n",
       "      <th>...</th>\n",
       "      <th>lyrics_wordlen</th>\n",
       "      <th>lyrics_clean_split_lemmed</th>\n",
       "      <th>Violence/Gangsta</th>\n",
       "      <th>Musicality</th>\n",
       "      <th>Struggle/Mortality/Spirituality</th>\n",
       "      <th>Flex</th>\n",
       "      <th>Romance/Sexuality</th>\n",
       "      <th>Feats/Artists</th>\n",
       "      <th>Black Excellence?</th>\n",
       "      <th>Party</th>\n",
       "    </tr>\n",
       "  </thead>\n",
       "  <tbody>\n",
       "    <tr>\n",
       "      <th>0</th>\n",
       "      <td>3SUiKUnZlKYliid0ZlCmUY</td>\n",
       "      <td>0uYanB3WWNU2lT9AYxCstH</td>\n",
       "      <td>3M1quhETLChtt9NHKVaajX</td>\n",
       "      <td>189405</td>\n",
       "      <td>True</td>\n",
       "      <td>https://api.spotify.com/v1/tracks/3SUiKUnZlKYl...</td>\n",
       "      <td>Detroit Flow</td>\n",
       "      <td>44</td>\n",
       "      <td>track</td>\n",
       "      <td>0.793</td>\n",
       "      <td>...</td>\n",
       "      <td>244</td>\n",
       "      <td>[detroit, flow, fuck, hold, really, like, soun...</td>\n",
       "      <td>0.817765</td>\n",
       "      <td>0.030092</td>\n",
       "      <td>0.030849</td>\n",
       "      <td>0.027382</td>\n",
       "      <td>0.092798</td>\n",
       "      <td>0.000375</td>\n",
       "      <td>0.000226</td>\n",
       "      <td>0.000513</td>\n",
       "    </tr>\n",
       "    <tr>\n",
       "      <th>1</th>\n",
       "      <td>2jdWfnwHSZLuBFzsA6axWt</td>\n",
       "      <td>0iNKw3iqIEy2dh7RUdKzjY</td>\n",
       "      <td>0nQlnRkAhiWnSjTmB4JkfK</td>\n",
       "      <td>273099</td>\n",
       "      <td>True</td>\n",
       "      <td>https://api.spotify.com/v1/tracks/2jdWfnwHSZLu...</td>\n",
       "      <td>Handz in da Air</td>\n",
       "      <td>8</td>\n",
       "      <td>track</td>\n",
       "      <td>0.826</td>\n",
       "      <td>...</td>\n",
       "      <td>209</td>\n",
       "      <td>[pet, sound, yes, turbid, like, reclaim, freel...</td>\n",
       "      <td>0.001125</td>\n",
       "      <td>0.051909</td>\n",
       "      <td>0.045602</td>\n",
       "      <td>0.001074</td>\n",
       "      <td>0.511833</td>\n",
       "      <td>0.243586</td>\n",
       "      <td>0.000362</td>\n",
       "      <td>0.144509</td>\n",
       "    </tr>\n",
       "    <tr>\n",
       "      <th>2</th>\n",
       "      <td>2vcLUuRT3sqXnPJaIX5w5c</td>\n",
       "      <td>0VptfDjz26NkJS4b7bjmNK</td>\n",
       "      <td>0FtsMKmZEq8fBWqdSOWtqp</td>\n",
       "      <td>236619</td>\n",
       "      <td>True</td>\n",
       "      <td>https://api.spotify.com/v1/tracks/2vcLUuRT3sqX...</td>\n",
       "      <td>Substance (We Woke Up)</td>\n",
       "      <td>20</td>\n",
       "      <td>track</td>\n",
       "      <td>0.731</td>\n",
       "      <td>...</td>\n",
       "      <td>269</td>\n",
       "      <td>[substance, woke, yeah, yeah, yeah, yeah, beat...</td>\n",
       "      <td>0.441166</td>\n",
       "      <td>0.000270</td>\n",
       "      <td>0.006256</td>\n",
       "      <td>0.000606</td>\n",
       "      <td>0.108906</td>\n",
       "      <td>0.000340</td>\n",
       "      <td>0.015233</td>\n",
       "      <td>0.427222</td>\n",
       "    </tr>\n",
       "    <tr>\n",
       "      <th>3</th>\n",
       "      <td>1r0faljjM2b876iNoaDUh5</td>\n",
       "      <td>0XAIjjN5qxViVS0Y5fYkar</td>\n",
       "      <td>0c173mlxpT3dSFRgMO8XPh</td>\n",
       "      <td>287320</td>\n",
       "      <td>True</td>\n",
       "      <td>https://api.spotify.com/v1/tracks/1r0faljjM2b8...</td>\n",
       "      <td>Sacrifices</td>\n",
       "      <td>56</td>\n",
       "      <td>track</td>\n",
       "      <td>0.779</td>\n",
       "      <td>...</td>\n",
       "      <td>421</td>\n",
       "      <td>[look, many, shit, many, young, metro, trust, ...</td>\n",
       "      <td>0.150260</td>\n",
       "      <td>0.065209</td>\n",
       "      <td>0.327326</td>\n",
       "      <td>0.272139</td>\n",
       "      <td>0.000339</td>\n",
       "      <td>0.025327</td>\n",
       "      <td>0.000129</td>\n",
       "      <td>0.159270</td>\n",
       "    </tr>\n",
       "    <tr>\n",
       "      <th>4</th>\n",
       "      <td>3yhatBRYsMwuozCdQsGiTS</td>\n",
       "      <td>2t70lfxoIbKZHKFKN9ZnqE</td>\n",
       "      <td>0auu2itHTxEdAMRHvx7CyG</td>\n",
       "      <td>283200</td>\n",
       "      <td>False</td>\n",
       "      <td>https://api.spotify.com/v1/tracks/3yhatBRYsMwu...</td>\n",
       "      <td>Hard Core Rap Act</td>\n",
       "      <td>28</td>\n",
       "      <td>track</td>\n",
       "      <td>0.813</td>\n",
       "      <td>...</td>\n",
       "      <td>267</td>\n",
       "      <td>[hardcore, rap, act, hook, hardcore, rap, act,...</td>\n",
       "      <td>0.241211</td>\n",
       "      <td>0.000290</td>\n",
       "      <td>0.000498</td>\n",
       "      <td>0.000652</td>\n",
       "      <td>0.756262</td>\n",
       "      <td>0.000366</td>\n",
       "      <td>0.000220</td>\n",
       "      <td>0.000500</td>\n",
       "    </tr>\n",
       "    <tr>\n",
       "      <th>...</th>\n",
       "      <td>...</td>\n",
       "      <td>...</td>\n",
       "      <td>...</td>\n",
       "      <td>...</td>\n",
       "      <td>...</td>\n",
       "      <td>...</td>\n",
       "      <td>...</td>\n",
       "      <td>...</td>\n",
       "      <td>...</td>\n",
       "      <td>...</td>\n",
       "      <td>...</td>\n",
       "      <td>...</td>\n",
       "      <td>...</td>\n",
       "      <td>...</td>\n",
       "      <td>...</td>\n",
       "      <td>...</td>\n",
       "      <td>...</td>\n",
       "      <td>...</td>\n",
       "      <td>...</td>\n",
       "      <td>...</td>\n",
       "      <td>...</td>\n",
       "    </tr>\n",
       "    <tr>\n",
       "      <th>6778</th>\n",
       "      <td>3YzxXVNHGZF09eGqhsYuHI</td>\n",
       "      <td>6CM5qhYBvpgYNek5kYwuOJ</td>\n",
       "      <td>20qISvAhX20dpIbOOzGK3q</td>\n",
       "      <td>187175</td>\n",
       "      <td>True</td>\n",
       "      <td>https://api.spotify.com/v1/tracks/3YzxXVNHGZF0...</td>\n",
       "      <td>The Pressure</td>\n",
       "      <td>56</td>\n",
       "      <td>track</td>\n",
       "      <td>0.573</td>\n",
       "      <td>...</td>\n",
       "      <td>192</td>\n",
       "      <td>[pressure, pressure, pressure, feel, pressure,...</td>\n",
       "      <td>0.001175</td>\n",
       "      <td>0.000498</td>\n",
       "      <td>0.000856</td>\n",
       "      <td>0.534472</td>\n",
       "      <td>0.299510</td>\n",
       "      <td>0.162253</td>\n",
       "      <td>0.000378</td>\n",
       "      <td>0.000858</td>\n",
       "    </tr>\n",
       "    <tr>\n",
       "      <th>6779</th>\n",
       "      <td>7KIbDUwumrpG5f30kEYW1v</td>\n",
       "      <td>6Gdt5ogiuJ9knp8Q5148ea</td>\n",
       "      <td>1yxSLGMDHlW21z4YXirZDS</td>\n",
       "      <td>213066</td>\n",
       "      <td>False</td>\n",
       "      <td>https://api.spotify.com/v1/tracks/7KIbDUwumrpG...</td>\n",
       "      <td>Pump It</td>\n",
       "      <td>0</td>\n",
       "      <td>track</td>\n",
       "      <td>0.648</td>\n",
       "      <td>...</td>\n",
       "      <td>179</td>\n",
       "      <td>[pump, pump, pump, pump, pump, pump, turn, rad...</td>\n",
       "      <td>0.000902</td>\n",
       "      <td>0.000382</td>\n",
       "      <td>0.051137</td>\n",
       "      <td>0.000860</td>\n",
       "      <td>0.771955</td>\n",
       "      <td>0.000482</td>\n",
       "      <td>0.000290</td>\n",
       "      <td>0.173992</td>\n",
       "    </tr>\n",
       "    <tr>\n",
       "      <th>6780</th>\n",
       "      <td>4a4dFaA4NfXU5A3snq2ZMa</td>\n",
       "      <td>4MloRVOQvX5YAfu2ik7OA9</td>\n",
       "      <td>3BeQqzKdlARoOd6y30kCO2</td>\n",
       "      <td>263773</td>\n",
       "      <td>True</td>\n",
       "      <td>https://api.spotify.com/v1/tracks/4a4dFaA4NfXU...</td>\n",
       "      <td>Made Man</td>\n",
       "      <td>12</td>\n",
       "      <td>track</td>\n",
       "      <td>0.647</td>\n",
       "      <td>...</td>\n",
       "      <td>184</td>\n",
       "      <td>[made, man, singing, background, blessing, liv...</td>\n",
       "      <td>0.076475</td>\n",
       "      <td>0.000448</td>\n",
       "      <td>0.000770</td>\n",
       "      <td>0.358176</td>\n",
       "      <td>0.514829</td>\n",
       "      <td>0.048191</td>\n",
       "      <td>0.000340</td>\n",
       "      <td>0.000772</td>\n",
       "    </tr>\n",
       "    <tr>\n",
       "      <th>6781</th>\n",
       "      <td>2HIjQZsmscClqRGbfzwAgK</td>\n",
       "      <td>24jAbLMFzCTlIv3kQ94HwK</td>\n",
       "      <td>50co4Is1HCEo8bhOyUWKpn</td>\n",
       "      <td>210733</td>\n",
       "      <td>True</td>\n",
       "      <td>https://api.spotify.com/v1/tracks/2HIjQZsmscCl...</td>\n",
       "      <td>Diamonds (feat. Gunna)</td>\n",
       "      <td>55</td>\n",
       "      <td>track</td>\n",
       "      <td>0.919</td>\n",
       "      <td>...</td>\n",
       "      <td>256</td>\n",
       "      <td>[highest, lowest, young, stoner, life, stoner,...</td>\n",
       "      <td>0.000760</td>\n",
       "      <td>0.000323</td>\n",
       "      <td>0.010286</td>\n",
       "      <td>0.000725</td>\n",
       "      <td>0.000643</td>\n",
       "      <td>0.000407</td>\n",
       "      <td>0.986301</td>\n",
       "      <td>0.000556</td>\n",
       "    </tr>\n",
       "    <tr>\n",
       "      <th>6782</th>\n",
       "      <td>32ecNaEiumRe5ax5aVwumS</td>\n",
       "      <td>1WzLBBVd6kIhI9DHHxm6Kz</td>\n",
       "      <td>1VPmR4DJC1PlOtd0IADAO0</td>\n",
       "      <td>312058</td>\n",
       "      <td>True</td>\n",
       "      <td>https://api.spotify.com/v1/tracks/32ecNaEiumRe...</td>\n",
       "      <td>VIVIVI</td>\n",
       "      <td>0</td>\n",
       "      <td>track</td>\n",
       "      <td>0.787</td>\n",
       "      <td>...</td>\n",
       "      <td>433</td>\n",
       "      <td>[see, worship, see, worship, see, worship, dev...</td>\n",
       "      <td>0.209612</td>\n",
       "      <td>0.000200</td>\n",
       "      <td>0.000343</td>\n",
       "      <td>0.788700</td>\n",
       "      <td>0.000398</td>\n",
       "      <td>0.000252</td>\n",
       "      <td>0.000151</td>\n",
       "      <td>0.000344</td>\n",
       "    </tr>\n",
       "  </tbody>\n",
       "</table>\n",
       "<p>6783 rows × 40 columns</p>\n",
       "</div>"
      ],
      "text/plain": [
       "                    track_id                album_id               artist_id  \\\n",
       "0     3SUiKUnZlKYliid0ZlCmUY  0uYanB3WWNU2lT9AYxCstH  3M1quhETLChtt9NHKVaajX   \n",
       "1     2jdWfnwHSZLuBFzsA6axWt  0iNKw3iqIEy2dh7RUdKzjY  0nQlnRkAhiWnSjTmB4JkfK   \n",
       "2     2vcLUuRT3sqXnPJaIX5w5c  0VptfDjz26NkJS4b7bjmNK  0FtsMKmZEq8fBWqdSOWtqp   \n",
       "3     1r0faljjM2b876iNoaDUh5  0XAIjjN5qxViVS0Y5fYkar  0c173mlxpT3dSFRgMO8XPh   \n",
       "4     3yhatBRYsMwuozCdQsGiTS  2t70lfxoIbKZHKFKN9ZnqE  0auu2itHTxEdAMRHvx7CyG   \n",
       "...                      ...                     ...                     ...   \n",
       "6778  3YzxXVNHGZF09eGqhsYuHI  6CM5qhYBvpgYNek5kYwuOJ  20qISvAhX20dpIbOOzGK3q   \n",
       "6779  7KIbDUwumrpG5f30kEYW1v  6Gdt5ogiuJ9knp8Q5148ea  1yxSLGMDHlW21z4YXirZDS   \n",
       "6780  4a4dFaA4NfXU5A3snq2ZMa  4MloRVOQvX5YAfu2ik7OA9  3BeQqzKdlARoOd6y30kCO2   \n",
       "6781  2HIjQZsmscClqRGbfzwAgK  24jAbLMFzCTlIv3kQ94HwK  50co4Is1HCEo8bhOyUWKpn   \n",
       "6782  32ecNaEiumRe5ax5aVwumS  1WzLBBVd6kIhI9DHHxm6Kz  1VPmR4DJC1PlOtd0IADAO0   \n",
       "\n",
       "      duration_ms  flg_explicit  \\\n",
       "0          189405          True   \n",
       "1          273099          True   \n",
       "2          236619          True   \n",
       "3          287320          True   \n",
       "4          283200         False   \n",
       "...           ...           ...   \n",
       "6778       187175          True   \n",
       "6779       213066         False   \n",
       "6780       263773          True   \n",
       "6781       210733          True   \n",
       "6782       312058          True   \n",
       "\n",
       "                                                    url  \\\n",
       "0     https://api.spotify.com/v1/tracks/3SUiKUnZlKYl...   \n",
       "1     https://api.spotify.com/v1/tracks/2jdWfnwHSZLu...   \n",
       "2     https://api.spotify.com/v1/tracks/2vcLUuRT3sqX...   \n",
       "3     https://api.spotify.com/v1/tracks/1r0faljjM2b8...   \n",
       "4     https://api.spotify.com/v1/tracks/3yhatBRYsMwu...   \n",
       "...                                                 ...   \n",
       "6778  https://api.spotify.com/v1/tracks/3YzxXVNHGZF0...   \n",
       "6779  https://api.spotify.com/v1/tracks/7KIbDUwumrpG...   \n",
       "6780  https://api.spotify.com/v1/tracks/4a4dFaA4NfXU...   \n",
       "6781  https://api.spotify.com/v1/tracks/2HIjQZsmscCl...   \n",
       "6782  https://api.spotify.com/v1/tracks/32ecNaEiumRe...   \n",
       "\n",
       "                  track_name  track_popularity track_type  track_danceability  \\\n",
       "0               Detroit Flow                44      track               0.793   \n",
       "1            Handz in da Air                 8      track               0.826   \n",
       "2     Substance (We Woke Up)                20      track               0.731   \n",
       "3                 Sacrifices                56      track               0.779   \n",
       "4          Hard Core Rap Act                28      track               0.813   \n",
       "...                      ...               ...        ...                 ...   \n",
       "6778            The Pressure                56      track               0.573   \n",
       "6779                 Pump It                 0      track               0.648   \n",
       "6780                Made Man                12      track               0.647   \n",
       "6781  Diamonds (feat. Gunna)                55      track               0.919   \n",
       "6782                  VIVIVI                 0      track               0.787   \n",
       "\n",
       "      ...  lyrics_wordlen                          lyrics_clean_split_lemmed  \\\n",
       "0     ...             244  [detroit, flow, fuck, hold, really, like, soun...   \n",
       "1     ...             209  [pet, sound, yes, turbid, like, reclaim, freel...   \n",
       "2     ...             269  [substance, woke, yeah, yeah, yeah, yeah, beat...   \n",
       "3     ...             421  [look, many, shit, many, young, metro, trust, ...   \n",
       "4     ...             267  [hardcore, rap, act, hook, hardcore, rap, act,...   \n",
       "...   ...             ...                                                ...   \n",
       "6778  ...             192  [pressure, pressure, pressure, feel, pressure,...   \n",
       "6779  ...             179  [pump, pump, pump, pump, pump, pump, turn, rad...   \n",
       "6780  ...             184  [made, man, singing, background, blessing, liv...   \n",
       "6781  ...             256  [highest, lowest, young, stoner, life, stoner,...   \n",
       "6782  ...             433  [see, worship, see, worship, see, worship, dev...   \n",
       "\n",
       "      Violence/Gangsta  Musicality  Struggle/Mortality/Spirituality      Flex  \\\n",
       "0             0.817765    0.030092                         0.030849  0.027382   \n",
       "1             0.001125    0.051909                         0.045602  0.001074   \n",
       "2             0.441166    0.000270                         0.006256  0.000606   \n",
       "3             0.150260    0.065209                         0.327326  0.272139   \n",
       "4             0.241211    0.000290                         0.000498  0.000652   \n",
       "...                ...         ...                              ...       ...   \n",
       "6778          0.001175    0.000498                         0.000856  0.534472   \n",
       "6779          0.000902    0.000382                         0.051137  0.000860   \n",
       "6780          0.076475    0.000448                         0.000770  0.358176   \n",
       "6781          0.000760    0.000323                         0.010286  0.000725   \n",
       "6782          0.209612    0.000200                         0.000343  0.788700   \n",
       "\n",
       "      Romance/Sexuality  Feats/Artists  Black Excellence?     Party  \n",
       "0              0.092798       0.000375           0.000226  0.000513  \n",
       "1              0.511833       0.243586           0.000362  0.144509  \n",
       "2              0.108906       0.000340           0.015233  0.427222  \n",
       "3              0.000339       0.025327           0.000129  0.159270  \n",
       "4              0.756262       0.000366           0.000220  0.000500  \n",
       "...                 ...            ...                ...       ...  \n",
       "6778           0.299510       0.162253           0.000378  0.000858  \n",
       "6779           0.771955       0.000482           0.000290  0.173992  \n",
       "6780           0.514829       0.048191           0.000340  0.000772  \n",
       "6781           0.000643       0.000407           0.986301  0.000556  \n",
       "6782           0.000398       0.000252           0.000151  0.000344  \n",
       "\n",
       "[6783 rows x 40 columns]"
      ]
     },
     "execution_count": 207,
     "metadata": {},
     "output_type": "execute_result"
    }
   ],
   "source": [
    "df"
   ]
  },
  {
   "cell_type": "code",
   "execution_count": 208,
   "id": "a78840e8",
   "metadata": {},
   "outputs": [
    {
     "data": {
      "text/html": [
       "<div>\n",
       "<style scoped>\n",
       "    .dataframe tbody tr th:only-of-type {\n",
       "        vertical-align: middle;\n",
       "    }\n",
       "\n",
       "    .dataframe tbody tr th {\n",
       "        vertical-align: top;\n",
       "    }\n",
       "\n",
       "    .dataframe thead th {\n",
       "        text-align: right;\n",
       "    }\n",
       "</style>\n",
       "<table border=\"1\" class=\"dataframe\">\n",
       "  <thead>\n",
       "    <tr style=\"text-align: right;\">\n",
       "      <th></th>\n",
       "      <th>Violence/Gangsta</th>\n",
       "      <th>Musicality</th>\n",
       "      <th>Struggle/Mortality/Spirituality</th>\n",
       "      <th>Flex</th>\n",
       "      <th>Romance/Sexuality</th>\n",
       "      <th>Feats/Artists</th>\n",
       "      <th>Black Excellence?</th>\n",
       "      <th>Party</th>\n",
       "    </tr>\n",
       "  </thead>\n",
       "  <tbody>\n",
       "    <tr>\n",
       "      <th>0</th>\n",
       "      <td>1</td>\n",
       "      <td>0</td>\n",
       "      <td>1</td>\n",
       "      <td>0</td>\n",
       "      <td>1</td>\n",
       "      <td>0</td>\n",
       "      <td>0</td>\n",
       "      <td>0</td>\n",
       "    </tr>\n",
       "    <tr>\n",
       "      <th>1</th>\n",
       "      <td>0</td>\n",
       "      <td>0</td>\n",
       "      <td>0</td>\n",
       "      <td>0</td>\n",
       "      <td>1</td>\n",
       "      <td>1</td>\n",
       "      <td>0</td>\n",
       "      <td>1</td>\n",
       "    </tr>\n",
       "    <tr>\n",
       "      <th>2</th>\n",
       "      <td>1</td>\n",
       "      <td>0</td>\n",
       "      <td>0</td>\n",
       "      <td>0</td>\n",
       "      <td>1</td>\n",
       "      <td>0</td>\n",
       "      <td>0</td>\n",
       "      <td>1</td>\n",
       "    </tr>\n",
       "    <tr>\n",
       "      <th>3</th>\n",
       "      <td>0</td>\n",
       "      <td>0</td>\n",
       "      <td>1</td>\n",
       "      <td>1</td>\n",
       "      <td>0</td>\n",
       "      <td>0</td>\n",
       "      <td>0</td>\n",
       "      <td>1</td>\n",
       "    </tr>\n",
       "    <tr>\n",
       "      <th>4</th>\n",
       "      <td>1</td>\n",
       "      <td>0</td>\n",
       "      <td>0</td>\n",
       "      <td>1</td>\n",
       "      <td>1</td>\n",
       "      <td>0</td>\n",
       "      <td>0</td>\n",
       "      <td>0</td>\n",
       "    </tr>\n",
       "    <tr>\n",
       "      <th>...</th>\n",
       "      <td>...</td>\n",
       "      <td>...</td>\n",
       "      <td>...</td>\n",
       "      <td>...</td>\n",
       "      <td>...</td>\n",
       "      <td>...</td>\n",
       "      <td>...</td>\n",
       "      <td>...</td>\n",
       "    </tr>\n",
       "    <tr>\n",
       "      <th>6778</th>\n",
       "      <td>0</td>\n",
       "      <td>0</td>\n",
       "      <td>0</td>\n",
       "      <td>1</td>\n",
       "      <td>1</td>\n",
       "      <td>1</td>\n",
       "      <td>0</td>\n",
       "      <td>0</td>\n",
       "    </tr>\n",
       "    <tr>\n",
       "      <th>6779</th>\n",
       "      <td>0</td>\n",
       "      <td>0</td>\n",
       "      <td>1</td>\n",
       "      <td>0</td>\n",
       "      <td>1</td>\n",
       "      <td>0</td>\n",
       "      <td>0</td>\n",
       "      <td>1</td>\n",
       "    </tr>\n",
       "    <tr>\n",
       "      <th>6780</th>\n",
       "      <td>1</td>\n",
       "      <td>0</td>\n",
       "      <td>0</td>\n",
       "      <td>1</td>\n",
       "      <td>1</td>\n",
       "      <td>0</td>\n",
       "      <td>0</td>\n",
       "      <td>0</td>\n",
       "    </tr>\n",
       "    <tr>\n",
       "      <th>6781</th>\n",
       "      <td>1</td>\n",
       "      <td>0</td>\n",
       "      <td>1</td>\n",
       "      <td>0</td>\n",
       "      <td>0</td>\n",
       "      <td>0</td>\n",
       "      <td>1</td>\n",
       "      <td>0</td>\n",
       "    </tr>\n",
       "    <tr>\n",
       "      <th>6782</th>\n",
       "      <td>1</td>\n",
       "      <td>0</td>\n",
       "      <td>0</td>\n",
       "      <td>1</td>\n",
       "      <td>1</td>\n",
       "      <td>0</td>\n",
       "      <td>0</td>\n",
       "      <td>0</td>\n",
       "    </tr>\n",
       "  </tbody>\n",
       "</table>\n",
       "<p>6783 rows × 8 columns</p>\n",
       "</div>"
      ],
      "text/plain": [
       "      Violence/Gangsta  Musicality  Struggle/Mortality/Spirituality  Flex  \\\n",
       "0                    1           0                                1     0   \n",
       "1                    0           0                                0     0   \n",
       "2                    1           0                                0     0   \n",
       "3                    0           0                                1     1   \n",
       "4                    1           0                                0     1   \n",
       "...                ...         ...                              ...   ...   \n",
       "6778                 0           0                                0     1   \n",
       "6779                 0           0                                1     0   \n",
       "6780                 1           0                                0     1   \n",
       "6781                 1           0                                1     0   \n",
       "6782                 1           0                                0     1   \n",
       "\n",
       "      Romance/Sexuality  Feats/Artists  Black Excellence?  Party  \n",
       "0                     1              0                  0      0  \n",
       "1                     1              1                  0      1  \n",
       "2                     1              0                  0      1  \n",
       "3                     0              0                  0      1  \n",
       "4                     1              0                  0      0  \n",
       "...                 ...            ...                ...    ...  \n",
       "6778                  1              1                  0      0  \n",
       "6779                  1              0                  0      1  \n",
       "6780                  1              0                  0      0  \n",
       "6781                  0              0                  1      0  \n",
       "6782                  1              0                  0      0  \n",
       "\n",
       "[6783 rows x 8 columns]"
      ]
     },
     "execution_count": 208,
     "metadata": {},
     "output_type": "execute_result"
    }
   ],
   "source": [
    "df_ranked"
   ]
  },
  {
   "cell_type": "code",
   "execution_count": 209,
   "id": "7791237e",
   "metadata": {},
   "outputs": [],
   "source": [
    "df_topics2 = df[['artist_name']].join(df_ranked)"
   ]
  },
  {
   "cell_type": "code",
   "execution_count": 211,
   "id": "3ccd663c",
   "metadata": {},
   "outputs": [],
   "source": [
    "df_topics2['count'] = 1"
   ]
  },
  {
   "cell_type": "code",
   "execution_count": 214,
   "id": "a4143ee7",
   "metadata": {},
   "outputs": [],
   "source": [
    "df_topics2=df_topics2.groupby('artist_name').sum().reset_index()"
   ]
  },
  {
   "cell_type": "code",
   "execution_count": 218,
   "id": "eb4c79c9",
   "metadata": {},
   "outputs": [],
   "source": [
    "df_topics2 = df_topics2.nlargest(10, 'count')"
   ]
  },
  {
   "cell_type": "code",
   "execution_count": null,
   "id": "61f2e38e",
   "metadata": {},
   "outputs": [],
   "source": [
    "df_topics2.set_index('App').T.plot(kind='bar', stacked=True)\n"
   ]
  },
  {
   "cell_type": "code",
   "execution_count": 222,
   "id": "091699fa",
   "metadata": {},
   "outputs": [
    {
     "data": {
      "text/html": [
       "<div>\n",
       "<style scoped>\n",
       "    .dataframe tbody tr th:only-of-type {\n",
       "        vertical-align: middle;\n",
       "    }\n",
       "\n",
       "    .dataframe tbody tr th {\n",
       "        vertical-align: top;\n",
       "    }\n",
       "\n",
       "    .dataframe thead th {\n",
       "        text-align: right;\n",
       "    }\n",
       "</style>\n",
       "<table border=\"1\" class=\"dataframe\">\n",
       "  <thead>\n",
       "    <tr style=\"text-align: right;\">\n",
       "      <th></th>\n",
       "      <th>artist_name</th>\n",
       "      <th>Violence/Gangsta</th>\n",
       "      <th>Musicality</th>\n",
       "      <th>Struggle/Mortality/Spirituality</th>\n",
       "      <th>Flex</th>\n",
       "      <th>Romance/Sexuality</th>\n",
       "      <th>Feats/Artists</th>\n",
       "      <th>Black Excellence?</th>\n",
       "      <th>Party</th>\n",
       "      <th>count</th>\n",
       "    </tr>\n",
       "  </thead>\n",
       "  <tbody>\n",
       "    <tr>\n",
       "      <th>731</th>\n",
       "      <td>Nas</td>\n",
       "      <td>121</td>\n",
       "      <td>19</td>\n",
       "      <td>20</td>\n",
       "      <td>131</td>\n",
       "      <td>95</td>\n",
       "      <td>112</td>\n",
       "      <td>31</td>\n",
       "      <td>38</td>\n",
       "      <td>189</td>\n",
       "    </tr>\n",
       "    <tr>\n",
       "      <th>1</th>\n",
       "      <td>$uicideboy$</td>\n",
       "      <td>127</td>\n",
       "      <td>23</td>\n",
       "      <td>31</td>\n",
       "      <td>113</td>\n",
       "      <td>45</td>\n",
       "      <td>53</td>\n",
       "      <td>6</td>\n",
       "      <td>19</td>\n",
       "      <td>139</td>\n",
       "    </tr>\n",
       "    <tr>\n",
       "      <th>400</th>\n",
       "      <td>Future</td>\n",
       "      <td>93</td>\n",
       "      <td>26</td>\n",
       "      <td>87</td>\n",
       "      <td>68</td>\n",
       "      <td>18</td>\n",
       "      <td>14</td>\n",
       "      <td>12</td>\n",
       "      <td>39</td>\n",
       "      <td>119</td>\n",
       "    </tr>\n",
       "    <tr>\n",
       "      <th>328</th>\n",
       "      <td>Drake</td>\n",
       "      <td>52</td>\n",
       "      <td>28</td>\n",
       "      <td>35</td>\n",
       "      <td>78</td>\n",
       "      <td>20</td>\n",
       "      <td>15</td>\n",
       "      <td>10</td>\n",
       "      <td>68</td>\n",
       "      <td>102</td>\n",
       "    </tr>\n",
       "    <tr>\n",
       "      <th>549</th>\n",
       "      <td>Kanye West</td>\n",
       "      <td>48</td>\n",
       "      <td>22</td>\n",
       "      <td>24</td>\n",
       "      <td>75</td>\n",
       "      <td>21</td>\n",
       "      <td>22</td>\n",
       "      <td>3</td>\n",
       "      <td>64</td>\n",
       "      <td>93</td>\n",
       "    </tr>\n",
       "    <tr>\n",
       "      <th>700</th>\n",
       "      <td>Migos</td>\n",
       "      <td>65</td>\n",
       "      <td>21</td>\n",
       "      <td>42</td>\n",
       "      <td>33</td>\n",
       "      <td>19</td>\n",
       "      <td>12</td>\n",
       "      <td>8</td>\n",
       "      <td>16</td>\n",
       "      <td>72</td>\n",
       "    </tr>\n",
       "    <tr>\n",
       "      <th>796</th>\n",
       "      <td>Pete Rock</td>\n",
       "      <td>29</td>\n",
       "      <td>22</td>\n",
       "      <td>10</td>\n",
       "      <td>46</td>\n",
       "      <td>64</td>\n",
       "      <td>20</td>\n",
       "      <td>4</td>\n",
       "      <td>15</td>\n",
       "      <td>70</td>\n",
       "    </tr>\n",
       "    <tr>\n",
       "      <th>1074</th>\n",
       "      <td>Trippie Redd</td>\n",
       "      <td>53</td>\n",
       "      <td>7</td>\n",
       "      <td>57</td>\n",
       "      <td>28</td>\n",
       "      <td>5</td>\n",
       "      <td>10</td>\n",
       "      <td>7</td>\n",
       "      <td>34</td>\n",
       "      <td>67</td>\n",
       "    </tr>\n",
       "    <tr>\n",
       "      <th>626</th>\n",
       "      <td>Logic</td>\n",
       "      <td>37</td>\n",
       "      <td>10</td>\n",
       "      <td>17</td>\n",
       "      <td>49</td>\n",
       "      <td>28</td>\n",
       "      <td>16</td>\n",
       "      <td>7</td>\n",
       "      <td>28</td>\n",
       "      <td>64</td>\n",
       "    </tr>\n",
       "    <tr>\n",
       "      <th>282</th>\n",
       "      <td>Das EFX</td>\n",
       "      <td>49</td>\n",
       "      <td>10</td>\n",
       "      <td>11</td>\n",
       "      <td>36</td>\n",
       "      <td>60</td>\n",
       "      <td>4</td>\n",
       "      <td>5</td>\n",
       "      <td>5</td>\n",
       "      <td>60</td>\n",
       "    </tr>\n",
       "  </tbody>\n",
       "</table>\n",
       "</div>"
      ],
      "text/plain": [
       "       artist_name  Violence/Gangsta  Musicality  \\\n",
       "731            Nas               121          19   \n",
       "1      $uicideboy$               127          23   \n",
       "400         Future                93          26   \n",
       "328          Drake                52          28   \n",
       "549     Kanye West                48          22   \n",
       "700          Migos                65          21   \n",
       "796      Pete Rock                29          22   \n",
       "1074  Trippie Redd                53           7   \n",
       "626          Logic                37          10   \n",
       "282        Das EFX                49          10   \n",
       "\n",
       "      Struggle/Mortality/Spirituality  Flex  Romance/Sexuality  Feats/Artists  \\\n",
       "731                                20   131                 95            112   \n",
       "1                                  31   113                 45             53   \n",
       "400                                87    68                 18             14   \n",
       "328                                35    78                 20             15   \n",
       "549                                24    75                 21             22   \n",
       "700                                42    33                 19             12   \n",
       "796                                10    46                 64             20   \n",
       "1074                               57    28                  5             10   \n",
       "626                                17    49                 28             16   \n",
       "282                                11    36                 60              4   \n",
       "\n",
       "      Black Excellence?  Party  count  \n",
       "731                  31     38    189  \n",
       "1                     6     19    139  \n",
       "400                  12     39    119  \n",
       "328                  10     68    102  \n",
       "549                   3     64     93  \n",
       "700                   8     16     72  \n",
       "796                   4     15     70  \n",
       "1074                  7     34     67  \n",
       "626                   7     28     64  \n",
       "282                   5      5     60  "
      ]
     },
     "execution_count": 222,
     "metadata": {},
     "output_type": "execute_result"
    }
   ],
   "source": [
    "df_topics2"
   ]
  },
  {
   "cell_type": "code",
   "execution_count": 228,
   "id": "d6a387d3",
   "metadata": {},
   "outputs": [
    {
     "data": {
      "text/plain": [
       "<AxesSubplot:ylabel='artist_name'>"
      ]
     },
     "execution_count": 228,
     "metadata": {},
     "output_type": "execute_result"
    },
    {
     "data": {
      "image/png": "[encoded data removed]",
      "text/plain": [
       "<Figure size 720x360 with 1 Axes>"
      ]
     },
     "metadata": {
      "needs_background": "light"
     },
     "output_type": "display_data"
    }
   ],
   "source": [
    "df_topics2.set_index('artist_name').iloc[:,:-1].plot(kind='barh', stacked=True,figsize=(10,5))"
   ]
  },
  {
   "cell_type": "code",
   "execution_count": 245,
   "id": "dc759de5",
   "metadata": {},
   "outputs": [
    {
     "data": {
      "image/png": "[encoded data removed]",
      "text/plain": [
       "<Figure size 720x360 with 1 Axes>"
      ]
     },
     "metadata": {
      "needs_background": "light"
     },
     "output_type": "display_data"
    }
   ],
   "source": [
    "\n",
    "pd.concat([df_topics2.iloc[:,0],\n",
    "df_topics2.iloc[:,1:-1].div(df_topics2.iloc[:,1:-1].sum(axis=1), axis=0) ],\n",
    "          axis=1 ).set_index('artist_name').plot(kind='barh', title='Share of Topics for 10 Popular Artists', stacked=True,figsize=(10,5), ).legend(loc='center left',bbox_to_anchor=(1.0, 0.5));"
   ]
  },
  {
   "cell_type": "code",
   "execution_count": null,
   "id": "7d2588e4",
   "metadata": {},
   "outputs": [],
   "source": []
  }
 ],
 "metadata": {
  "kernelspec": {
   "display_name": "Python 3",
   "language": "python",
   "name": "python3"
  },
  "language_info": {
   "codemirror_mode": {
    "name": "ipython",
    "version": 3
   },
   "file_extension": ".py",
   "mimetype": "text/x-python",
   "name": "python",
   "nbconvert_exporter": "python",
   "pygments_lexer": "ipython3",
   "version": "3.8.8"
  }
 },
 "nbformat": 4,
 "nbformat_minor": 5
}
